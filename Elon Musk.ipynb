{
 "cells": [
  {
   "cell_type": "code",
   "execution_count": 1,
   "metadata": {},
   "outputs": [],
   "source": [
    "import warnings\n",
    "warnings.filterwarnings(\"ignore\")"
   ]
  },
  {
   "cell_type": "code",
   "execution_count": 2,
   "metadata": {},
   "outputs": [
    {
     "name": "stderr",
     "output_type": "stream",
     "text": [
      "2023-02-04 16:47:23.077708: I tensorflow/core/platform/cpu_feature_guard.cc:193] This TensorFlow binary is optimized with oneAPI Deep Neural Network Library (oneDNN) to use the following CPU instructions in performance-critical operations:  AVX2 AVX512F AVX512_VNNI FMA\n",
      "To enable them in other operations, rebuild TensorFlow with the appropriate compiler flags.\n",
      "2023-02-04 16:47:23.232163: I tensorflow/core/util/port.cc:104] oneDNN custom operations are on. You may see slightly different numerical results due to floating-point round-off errors from different computation orders. To turn them off, set the environment variable `TF_ENABLE_ONEDNN_OPTS=0`.\n",
      "2023-02-04 16:47:23.808189: W tensorflow/compiler/xla/stream_executor/platform/default/dso_loader.cc:64] Could not load dynamic library 'libnvinfer.so.7'; dlerror: libnvinfer.so.7: cannot open shared object file: No such file or directory\n",
      "2023-02-04 16:47:23.808240: W tensorflow/compiler/xla/stream_executor/platform/default/dso_loader.cc:64] Could not load dynamic library 'libnvinfer_plugin.so.7'; dlerror: libnvinfer_plugin.so.7: cannot open shared object file: No such file or directory\n",
      "2023-02-04 16:47:23.808244: W tensorflow/compiler/tf2tensorrt/utils/py_utils.cc:38] TF-TRT Warning: Cannot dlopen some TensorRT libraries. If you would like to use Nvidia GPU with TensorRT, please make sure the missing libraries mentioned above are installed properly.\n",
      "2023-02-04 16:47:24.598559: W tensorflow/compiler/xla/stream_executor/platform/default/dso_loader.cc:64] Could not load dynamic library 'libcuda.so.1'; dlerror: libcuda.so.1: cannot open shared object file: No such file or directory\n",
      "2023-02-04 16:47:24.598581: W tensorflow/compiler/xla/stream_executor/cuda/cuda_driver.cc:265] failed call to cuInit: UNKNOWN ERROR (303)\n",
      "2023-02-04 16:47:24.598595: I tensorflow/compiler/xla/stream_executor/cuda/cuda_diagnostics.cc:156] kernel driver does not appear to be running on this host (kamal): /proc/driver/nvidia/version does not exist\n"
     ]
    }
   ],
   "source": [
    "import re\n",
    "import nltk\n",
    "import spacy\n",
    "import string\n",
    "import numpy as np\n",
    "import pandas as pd\n",
    "import seaborn as sn\n",
    "from textblob import TextBlob\n",
    "import matplotlib.pyplot as plt\n",
    "import plotly.graph_objects as go\n",
    "from nltk.corpus import stopwords\n",
    "from mysutils.text import remove_urls\n",
    "from nltk.stem import WordNetLemmatizer\n",
    "from nltk.tokenize import sent_tokenize             \n",
    "from nltk.tokenize import TweetTokenizer\n",
    "from sklearn.naive_bayes import MultinomialNB\n",
    "from sklearn.tree import DecisionTreeClassifier\n",
    "from sklearn.neural_network import MLPClassifier\n",
    "from sklearn.neighbors import KNeighborsClassifier\n",
    "from sklearn.linear_model import LogisticRegression\n",
    "from nltk.sentiment import SentimentIntensityAnalyzer\n",
    "from sklearn.ensemble import RandomForestClassifier, AdaBoostClassifier\n",
    "from sklearn.discriminant_analysis import QuadraticDiscriminantAnalysis\n",
    "from sklearn.feature_extraction.text import CountVectorizer,TfidfVectorizer\n",
    "from sklearn.metrics import accuracy_score,classification_report,confusion_matrix\n",
    "from sklearn.model_selection import train_test_split,RepeatedStratifiedKFold,GridSearchCV,RandomizedSearchCV\n",
    "# nltk.download('all')\n",
    "# !python3 -m spacy download en_core_web_sm\n",
    "\n"
   ]
  },
  {
   "cell_type": "code",
   "execution_count": 3,
   "metadata": {},
   "outputs": [
    {
     "data": {
      "text/html": [
       "<div>\n",
       "<style scoped>\n",
       "    .dataframe tbody tr th:only-of-type {\n",
       "        vertical-align: middle;\n",
       "    }\n",
       "\n",
       "    .dataframe tbody tr th {\n",
       "        vertical-align: top;\n",
       "    }\n",
       "\n",
       "    .dataframe thead th {\n",
       "        text-align: right;\n",
       "    }\n",
       "</style>\n",
       "<table border=\"1\" class=\"dataframe\">\n",
       "  <thead>\n",
       "    <tr style=\"text-align: right;\">\n",
       "      <th></th>\n",
       "      <th>Text</th>\n",
       "    </tr>\n",
       "  </thead>\n",
       "  <tbody>\n",
       "    <tr>\n",
       "      <th>0</th>\n",
       "      <td>@kunalb11 I’m an alien</td>\n",
       "    </tr>\n",
       "    <tr>\n",
       "      <th>1</th>\n",
       "      <td>@ID_AA_Carmack Ray tracing on Cyberpunk with H...</td>\n",
       "    </tr>\n",
       "    <tr>\n",
       "      <th>2</th>\n",
       "      <td>@joerogan @Spotify Great interview!</td>\n",
       "    </tr>\n",
       "    <tr>\n",
       "      <th>3</th>\n",
       "      <td>@gtera27 Doge is underestimated</td>\n",
       "    </tr>\n",
       "    <tr>\n",
       "      <th>4</th>\n",
       "      <td>@teslacn Congratulations Tesla China for amazi...</td>\n",
       "    </tr>\n",
       "  </tbody>\n",
       "</table>\n",
       "</div>"
      ],
      "text/plain": [
       "                                                Text\n",
       "0                             @kunalb11 I’m an alien\n",
       "1  @ID_AA_Carmack Ray tracing on Cyberpunk with H...\n",
       "2                @joerogan @Spotify Great interview!\n",
       "3                    @gtera27 Doge is underestimated\n",
       "4  @teslacn Congratulations Tesla China for amazi..."
      ]
     },
     "execution_count": 3,
     "metadata": {},
     "output_type": "execute_result"
    }
   ],
   "source": [
    "df=pd.read_csv('Elon_musk.csv',encoding='cp1252',usecols=['Text'])\n",
    "df.head()"
   ]
  },
  {
   "cell_type": "code",
   "execution_count": 4,
   "metadata": {},
   "outputs": [],
   "source": [
    "# Lets see most used words\n",
    "\n",
    "words=[]\n",
    "for i in df['Text']:\n",
    "    words.extend(i.split())\n",
    "\n",
    "words,count=np.unique(words,return_counts=True)\n",
    "\n",
    "most_used_words=sorted(zip(words,count), key=lambda item: item[1])[::-1]"
   ]
  },
  {
   "cell_type": "code",
   "execution_count": 5,
   "metadata": {},
   "outputs": [],
   "source": [
    "limit=40\n",
    "x=[]\n",
    "y=[]\n",
    "count=0\n",
    "for i,j in most_used_words:\n",
    "    if i[0].isalpha():\n",
    "        count+=1\n",
    "        x.append(i)\n",
    "        y.append(j)\n",
    "    if count==limit:\n",
    "        break"
   ]
  },
  {
   "cell_type": "code",
   "execution_count": 6,
   "metadata": {},
   "outputs": [
    {
     "data": {
      "application/vnd.plotly.v1+json": {
       "config": {
        "plotlyServerURL": "https://plot.ly"
       },
       "data": [
        {
         "marker": {
          "color": [
           403,
           390,
           347,
           324,
           301,
           203,
           177,
           154,
           136,
           127,
           124,
           114,
           109,
           104,
           99,
           95,
           89,
           85,
           85,
           79,
           77,
           72,
           72,
           70,
           69,
           68,
           63,
           60,
           58,
           58,
           55,
           54,
           50,
           48,
           48,
           47,
           44,
           43,
           39,
           39
          ],
          "colorscale": [
           [
            0,
            "rgb(150,0,90)"
           ],
           [
            0.125,
            "rgb(0,0,200)"
           ],
           [
            0.25,
            "rgb(0,25,255)"
           ],
           [
            0.375,
            "rgb(0,152,255)"
           ],
           [
            0.5,
            "rgb(44,255,150)"
           ],
           [
            0.625,
            "rgb(151,255,0)"
           ],
           [
            0.75,
            "rgb(255,234,0)"
           ],
           [
            0.875,
            "rgb(255,111,0)"
           ],
           [
            1,
            "rgb(255,0,0)"
           ]
          ]
         },
         "text": [
          "403",
          "390",
          "347",
          "324",
          "301",
          "203",
          "177",
          "154",
          "136",
          "127",
          "124",
          "114",
          "109",
          "104",
          "99",
          "95",
          "89",
          "85",
          "85",
          "79",
          "77",
          "72",
          "72",
          "70",
          "69",
          "68",
          "63",
          "60",
          "58",
          "58",
          "55",
          "54",
          "50",
          "48",
          "48",
          "47",
          "44",
          "43",
          "39",
          "39"
         ],
         "type": "bar",
         "x": [
          "the",
          "to",
          "is",
          "a",
          "of",
          "in",
          "for",
          "be",
          "will",
          "RT",
          "on",
          "I",
          "but",
          "that",
          "with",
          "are",
          "it",
          "at",
          "Tesla",
          "The",
          "we",
          "this",
          "and",
          "from",
          "have",
          "was",
          "as",
          "This",
          "you",
          "We",
          "has",
          "not",
          "Yes",
          "so",
          "more",
          "just",
          "than",
          "should",
          "can",
          "an"
         ],
         "y": [
          403,
          390,
          347,
          324,
          301,
          203,
          177,
          154,
          136,
          127,
          124,
          114,
          109,
          104,
          99,
          95,
          89,
          85,
          85,
          79,
          77,
          72,
          72,
          70,
          69,
          68,
          63,
          60,
          58,
          58,
          55,
          54,
          50,
          48,
          48,
          47,
          44,
          43,
          39,
          39
         ]
        }
       ],
       "layout": {
        "plot_bgcolor": "white",
        "showlegend": false,
        "template": {
         "data": {
          "bar": [
           {
            "error_x": {
             "color": "#2a3f5f"
            },
            "error_y": {
             "color": "#2a3f5f"
            },
            "marker": {
             "line": {
              "color": "#E5ECF6",
              "width": 0.5
             },
             "pattern": {
              "fillmode": "overlay",
              "size": 10,
              "solidity": 0.2
             }
            },
            "type": "bar"
           }
          ],
          "barpolar": [
           {
            "marker": {
             "line": {
              "color": "#E5ECF6",
              "width": 0.5
             },
             "pattern": {
              "fillmode": "overlay",
              "size": 10,
              "solidity": 0.2
             }
            },
            "type": "barpolar"
           }
          ],
          "carpet": [
           {
            "aaxis": {
             "endlinecolor": "#2a3f5f",
             "gridcolor": "white",
             "linecolor": "white",
             "minorgridcolor": "white",
             "startlinecolor": "#2a3f5f"
            },
            "baxis": {
             "endlinecolor": "#2a3f5f",
             "gridcolor": "white",
             "linecolor": "white",
             "minorgridcolor": "white",
             "startlinecolor": "#2a3f5f"
            },
            "type": "carpet"
           }
          ],
          "choropleth": [
           {
            "colorbar": {
             "outlinewidth": 0,
             "ticks": ""
            },
            "type": "choropleth"
           }
          ],
          "contour": [
           {
            "colorbar": {
             "outlinewidth": 0,
             "ticks": ""
            },
            "colorscale": [
             [
              0,
              "#0d0887"
             ],
             [
              0.1111111111111111,
              "#46039f"
             ],
             [
              0.2222222222222222,
              "#7201a8"
             ],
             [
              0.3333333333333333,
              "#9c179e"
             ],
             [
              0.4444444444444444,
              "#bd3786"
             ],
             [
              0.5555555555555556,
              "#d8576b"
             ],
             [
              0.6666666666666666,
              "#ed7953"
             ],
             [
              0.7777777777777778,
              "#fb9f3a"
             ],
             [
              0.8888888888888888,
              "#fdca26"
             ],
             [
              1,
              "#f0f921"
             ]
            ],
            "type": "contour"
           }
          ],
          "contourcarpet": [
           {
            "colorbar": {
             "outlinewidth": 0,
             "ticks": ""
            },
            "type": "contourcarpet"
           }
          ],
          "heatmap": [
           {
            "colorbar": {
             "outlinewidth": 0,
             "ticks": ""
            },
            "colorscale": [
             [
              0,
              "#0d0887"
             ],
             [
              0.1111111111111111,
              "#46039f"
             ],
             [
              0.2222222222222222,
              "#7201a8"
             ],
             [
              0.3333333333333333,
              "#9c179e"
             ],
             [
              0.4444444444444444,
              "#bd3786"
             ],
             [
              0.5555555555555556,
              "#d8576b"
             ],
             [
              0.6666666666666666,
              "#ed7953"
             ],
             [
              0.7777777777777778,
              "#fb9f3a"
             ],
             [
              0.8888888888888888,
              "#fdca26"
             ],
             [
              1,
              "#f0f921"
             ]
            ],
            "type": "heatmap"
           }
          ],
          "heatmapgl": [
           {
            "colorbar": {
             "outlinewidth": 0,
             "ticks": ""
            },
            "colorscale": [
             [
              0,
              "#0d0887"
             ],
             [
              0.1111111111111111,
              "#46039f"
             ],
             [
              0.2222222222222222,
              "#7201a8"
             ],
             [
              0.3333333333333333,
              "#9c179e"
             ],
             [
              0.4444444444444444,
              "#bd3786"
             ],
             [
              0.5555555555555556,
              "#d8576b"
             ],
             [
              0.6666666666666666,
              "#ed7953"
             ],
             [
              0.7777777777777778,
              "#fb9f3a"
             ],
             [
              0.8888888888888888,
              "#fdca26"
             ],
             [
              1,
              "#f0f921"
             ]
            ],
            "type": "heatmapgl"
           }
          ],
          "histogram": [
           {
            "marker": {
             "pattern": {
              "fillmode": "overlay",
              "size": 10,
              "solidity": 0.2
             }
            },
            "type": "histogram"
           }
          ],
          "histogram2d": [
           {
            "colorbar": {
             "outlinewidth": 0,
             "ticks": ""
            },
            "colorscale": [
             [
              0,
              "#0d0887"
             ],
             [
              0.1111111111111111,
              "#46039f"
             ],
             [
              0.2222222222222222,
              "#7201a8"
             ],
             [
              0.3333333333333333,
              "#9c179e"
             ],
             [
              0.4444444444444444,
              "#bd3786"
             ],
             [
              0.5555555555555556,
              "#d8576b"
             ],
             [
              0.6666666666666666,
              "#ed7953"
             ],
             [
              0.7777777777777778,
              "#fb9f3a"
             ],
             [
              0.8888888888888888,
              "#fdca26"
             ],
             [
              1,
              "#f0f921"
             ]
            ],
            "type": "histogram2d"
           }
          ],
          "histogram2dcontour": [
           {
            "colorbar": {
             "outlinewidth": 0,
             "ticks": ""
            },
            "colorscale": [
             [
              0,
              "#0d0887"
             ],
             [
              0.1111111111111111,
              "#46039f"
             ],
             [
              0.2222222222222222,
              "#7201a8"
             ],
             [
              0.3333333333333333,
              "#9c179e"
             ],
             [
              0.4444444444444444,
              "#bd3786"
             ],
             [
              0.5555555555555556,
              "#d8576b"
             ],
             [
              0.6666666666666666,
              "#ed7953"
             ],
             [
              0.7777777777777778,
              "#fb9f3a"
             ],
             [
              0.8888888888888888,
              "#fdca26"
             ],
             [
              1,
              "#f0f921"
             ]
            ],
            "type": "histogram2dcontour"
           }
          ],
          "mesh3d": [
           {
            "colorbar": {
             "outlinewidth": 0,
             "ticks": ""
            },
            "type": "mesh3d"
           }
          ],
          "parcoords": [
           {
            "line": {
             "colorbar": {
              "outlinewidth": 0,
              "ticks": ""
             }
            },
            "type": "parcoords"
           }
          ],
          "pie": [
           {
            "automargin": true,
            "type": "pie"
           }
          ],
          "scatter": [
           {
            "fillpattern": {
             "fillmode": "overlay",
             "size": 10,
             "solidity": 0.2
            },
            "type": "scatter"
           }
          ],
          "scatter3d": [
           {
            "line": {
             "colorbar": {
              "outlinewidth": 0,
              "ticks": ""
             }
            },
            "marker": {
             "colorbar": {
              "outlinewidth": 0,
              "ticks": ""
             }
            },
            "type": "scatter3d"
           }
          ],
          "scattercarpet": [
           {
            "marker": {
             "colorbar": {
              "outlinewidth": 0,
              "ticks": ""
             }
            },
            "type": "scattercarpet"
           }
          ],
          "scattergeo": [
           {
            "marker": {
             "colorbar": {
              "outlinewidth": 0,
              "ticks": ""
             }
            },
            "type": "scattergeo"
           }
          ],
          "scattergl": [
           {
            "marker": {
             "colorbar": {
              "outlinewidth": 0,
              "ticks": ""
             }
            },
            "type": "scattergl"
           }
          ],
          "scattermapbox": [
           {
            "marker": {
             "colorbar": {
              "outlinewidth": 0,
              "ticks": ""
             }
            },
            "type": "scattermapbox"
           }
          ],
          "scatterpolar": [
           {
            "marker": {
             "colorbar": {
              "outlinewidth": 0,
              "ticks": ""
             }
            },
            "type": "scatterpolar"
           }
          ],
          "scatterpolargl": [
           {
            "marker": {
             "colorbar": {
              "outlinewidth": 0,
              "ticks": ""
             }
            },
            "type": "scatterpolargl"
           }
          ],
          "scatterternary": [
           {
            "marker": {
             "colorbar": {
              "outlinewidth": 0,
              "ticks": ""
             }
            },
            "type": "scatterternary"
           }
          ],
          "surface": [
           {
            "colorbar": {
             "outlinewidth": 0,
             "ticks": ""
            },
            "colorscale": [
             [
              0,
              "#0d0887"
             ],
             [
              0.1111111111111111,
              "#46039f"
             ],
             [
              0.2222222222222222,
              "#7201a8"
             ],
             [
              0.3333333333333333,
              "#9c179e"
             ],
             [
              0.4444444444444444,
              "#bd3786"
             ],
             [
              0.5555555555555556,
              "#d8576b"
             ],
             [
              0.6666666666666666,
              "#ed7953"
             ],
             [
              0.7777777777777778,
              "#fb9f3a"
             ],
             [
              0.8888888888888888,
              "#fdca26"
             ],
             [
              1,
              "#f0f921"
             ]
            ],
            "type": "surface"
           }
          ],
          "table": [
           {
            "cells": {
             "fill": {
              "color": "#EBF0F8"
             },
             "line": {
              "color": "white"
             }
            },
            "header": {
             "fill": {
              "color": "#C8D4E3"
             },
             "line": {
              "color": "white"
             }
            },
            "type": "table"
           }
          ]
         },
         "layout": {
          "annotationdefaults": {
           "arrowcolor": "#2a3f5f",
           "arrowhead": 0,
           "arrowwidth": 1
          },
          "autotypenumbers": "strict",
          "coloraxis": {
           "colorbar": {
            "outlinewidth": 0,
            "ticks": ""
           }
          },
          "colorscale": {
           "diverging": [
            [
             0,
             "#8e0152"
            ],
            [
             0.1,
             "#c51b7d"
            ],
            [
             0.2,
             "#de77ae"
            ],
            [
             0.3,
             "#f1b6da"
            ],
            [
             0.4,
             "#fde0ef"
            ],
            [
             0.5,
             "#f7f7f7"
            ],
            [
             0.6,
             "#e6f5d0"
            ],
            [
             0.7,
             "#b8e186"
            ],
            [
             0.8,
             "#7fbc41"
            ],
            [
             0.9,
             "#4d9221"
            ],
            [
             1,
             "#276419"
            ]
           ],
           "sequential": [
            [
             0,
             "#0d0887"
            ],
            [
             0.1111111111111111,
             "#46039f"
            ],
            [
             0.2222222222222222,
             "#7201a8"
            ],
            [
             0.3333333333333333,
             "#9c179e"
            ],
            [
             0.4444444444444444,
             "#bd3786"
            ],
            [
             0.5555555555555556,
             "#d8576b"
            ],
            [
             0.6666666666666666,
             "#ed7953"
            ],
            [
             0.7777777777777778,
             "#fb9f3a"
            ],
            [
             0.8888888888888888,
             "#fdca26"
            ],
            [
             1,
             "#f0f921"
            ]
           ],
           "sequentialminus": [
            [
             0,
             "#0d0887"
            ],
            [
             0.1111111111111111,
             "#46039f"
            ],
            [
             0.2222222222222222,
             "#7201a8"
            ],
            [
             0.3333333333333333,
             "#9c179e"
            ],
            [
             0.4444444444444444,
             "#bd3786"
            ],
            [
             0.5555555555555556,
             "#d8576b"
            ],
            [
             0.6666666666666666,
             "#ed7953"
            ],
            [
             0.7777777777777778,
             "#fb9f3a"
            ],
            [
             0.8888888888888888,
             "#fdca26"
            ],
            [
             1,
             "#f0f921"
            ]
           ]
          },
          "colorway": [
           "#636efa",
           "#EF553B",
           "#00cc96",
           "#ab63fa",
           "#FFA15A",
           "#19d3f3",
           "#FF6692",
           "#B6E880",
           "#FF97FF",
           "#FECB52"
          ],
          "font": {
           "color": "#2a3f5f"
          },
          "geo": {
           "bgcolor": "white",
           "lakecolor": "white",
           "landcolor": "#E5ECF6",
           "showlakes": true,
           "showland": true,
           "subunitcolor": "white"
          },
          "hoverlabel": {
           "align": "left"
          },
          "hovermode": "closest",
          "mapbox": {
           "style": "light"
          },
          "paper_bgcolor": "white",
          "plot_bgcolor": "#E5ECF6",
          "polar": {
           "angularaxis": {
            "gridcolor": "white",
            "linecolor": "white",
            "ticks": ""
           },
           "bgcolor": "#E5ECF6",
           "radialaxis": {
            "gridcolor": "white",
            "linecolor": "white",
            "ticks": ""
           }
          },
          "scene": {
           "xaxis": {
            "backgroundcolor": "#E5ECF6",
            "gridcolor": "white",
            "gridwidth": 2,
            "linecolor": "white",
            "showbackground": true,
            "ticks": "",
            "zerolinecolor": "white"
           },
           "yaxis": {
            "backgroundcolor": "#E5ECF6",
            "gridcolor": "white",
            "gridwidth": 2,
            "linecolor": "white",
            "showbackground": true,
            "ticks": "",
            "zerolinecolor": "white"
           },
           "zaxis": {
            "backgroundcolor": "#E5ECF6",
            "gridcolor": "white",
            "gridwidth": 2,
            "linecolor": "white",
            "showbackground": true,
            "ticks": "",
            "zerolinecolor": "white"
           }
          },
          "shapedefaults": {
           "line": {
            "color": "#2a3f5f"
           }
          },
          "ternary": {
           "aaxis": {
            "gridcolor": "white",
            "linecolor": "white",
            "ticks": ""
           },
           "baxis": {
            "gridcolor": "white",
            "linecolor": "white",
            "ticks": ""
           },
           "bgcolor": "#E5ECF6",
           "caxis": {
            "gridcolor": "white",
            "linecolor": "white",
            "ticks": ""
           }
          },
          "title": {
           "x": 0.05
          },
          "xaxis": {
           "automargin": true,
           "gridcolor": "white",
           "linecolor": "white",
           "ticks": "",
           "title": {
            "standoff": 15
           },
           "zerolinecolor": "white",
           "zerolinewidth": 2
          },
          "yaxis": {
           "automargin": true,
           "gridcolor": "white",
           "linecolor": "white",
           "ticks": "",
           "title": {
            "standoff": 15
           },
           "zerolinecolor": "white",
           "zerolinewidth": 2
          }
         }
        },
        "title": {
         "text": "Most frequent words"
        },
        "xaxis": {
         "linecolor": "#05050f",
         "showgrid": false,
         "showline": true,
         "showticklabels": true,
         "title": {
          "text": "words"
         }
        },
        "yaxis": {
         "linecolor": "#05050f",
         "showgrid": false,
         "showline": true,
         "showticklabels": true,
         "title": {
          "text": "counts"
         }
        }
       }
      }
     },
     "metadata": {},
     "output_type": "display_data"
    }
   ],
   "source": [
    "fig=go.Figure(go.Bar(x=x,\n",
    "                     y=y,\n",
    "                     text=y,\n",
    "                     marker=dict(color = y,\n",
    "                                 colorscale='rainbow')))\n",
    "fig.update_layout(showlegend=False,\n",
    "                #   margin=dict(l=5, r=1, t=20, b=5),\n",
    "                  xaxis=dict(\n",
    "                            title='words',\n",
    "                            showline=True,\n",
    "                            showgrid=False,\n",
    "                            showticklabels=True,\n",
    "                            linecolor='#05050f'),\n",
    "                  yaxis=dict(\n",
    "                            title='counts',\n",
    "                            showline=True,\n",
    "                            showgrid=False,\n",
    "                            showticklabels=True,\n",
    "                            linecolor='#05050f'),\n",
    "                  plot_bgcolor='white',\n",
    "                  title='Most frequent words'\n",
    "                 )\n",
    "fig.show()"
   ]
  },
  {
   "cell_type": "code",
   "execution_count": 7,
   "metadata": {},
   "outputs": [
    {
     "data": {
      "application/vnd.plotly.v1+json": {
       "config": {
        "plotlyServerURL": "https://plot.ly"
       },
       "data": [
        {
         "marker": {
          "color": [
           140,
           138,
           123,
           114,
           71,
           68,
           64,
           62,
           56,
           54,
           39,
           35,
           33,
           31,
           31,
           30,
           28,
           27,
           25,
           23,
           23,
           22,
           21,
           21,
           21,
           19,
           18,
           18,
           17,
           16,
           15,
           14,
           14,
           14,
           14,
           14,
           13,
           13,
           12,
           12
          ],
          "colorscale": [
           [
            0,
            "rgb(150,0,90)"
           ],
           [
            0.125,
            "rgb(0,0,200)"
           ],
           [
            0.25,
            "rgb(0,25,255)"
           ],
           [
            0.375,
            "rgb(0,152,255)"
           ],
           [
            0.5,
            "rgb(44,255,150)"
           ],
           [
            0.625,
            "rgb(151,255,0)"
           ],
           [
            0.75,
            "rgb(255,234,0)"
           ],
           [
            0.875,
            "rgb(255,111,0)"
           ],
           [
            1,
            "rgb(255,0,0)"
           ]
          ]
         },
         "text": [
          "140",
          "138",
          "123",
          "114",
          "71",
          "68",
          "64",
          "62",
          "56",
          "54",
          "39",
          "35",
          "33",
          "31",
          "31",
          "30",
          "28",
          "27",
          "25",
          "23",
          "23",
          "22",
          "21",
          "21",
          "21",
          "19",
          "18",
          "18",
          "17",
          "16",
          "15",
          "14",
          "14",
          "14",
          "14",
          "14",
          "13",
          "13",
          "12",
          "12"
         ],
         "type": "bar",
         "x": [
          "@Erdayastronaut",
          "@SpaceX",
          "@PPathole",
          "@flcnhvy",
          "@SpaceX:",
          "@WholeMarsBlog",
          "@Tesla",
          "@teslaownersSV",
          "@Teslarati",
          "@NASASpaceflight",
          "@cleantechnica",
          "@Kristennetten",
          "@RationalEtienne",
          "@MarcusHouseGame",
          "@ID_AA_Carmack",
          "@engineers_feed",
          "@ErcXspace",
          "@EvaFoxU",
          "@ajtourville",
          "@thesheetztweetz",
          "@lexfridman",
          "@Tesmanian_com",
          "@tobyliiiiiiiiii",
          "@austinbarnard45",
          "@FelixSchlang",
          "@TashaARK",
          "@ICannot_Enough",
          "@BernieSanders",
          "@Space_Station",
          "@DJSnM",
          "@pcgamer",
          "@jgrano305",
          "@SamTalksTesla",
          "@Neopork85",
          "@BocaChicaGal",
          "@AstroBehnken",
          "@NASA",
          "@AstroJordy",
          "@waitbutwhy",
          "@NASA:"
         ],
         "y": [
          140,
          138,
          123,
          114,
          71,
          68,
          64,
          62,
          56,
          54,
          39,
          35,
          33,
          31,
          31,
          30,
          28,
          27,
          25,
          23,
          23,
          22,
          21,
          21,
          21,
          19,
          18,
          18,
          17,
          16,
          15,
          14,
          14,
          14,
          14,
          14,
          13,
          13,
          12,
          12
         ]
        }
       ],
       "layout": {
        "plot_bgcolor": "white",
        "showlegend": false,
        "template": {
         "data": {
          "bar": [
           {
            "error_x": {
             "color": "#2a3f5f"
            },
            "error_y": {
             "color": "#2a3f5f"
            },
            "marker": {
             "line": {
              "color": "#E5ECF6",
              "width": 0.5
             },
             "pattern": {
              "fillmode": "overlay",
              "size": 10,
              "solidity": 0.2
             }
            },
            "type": "bar"
           }
          ],
          "barpolar": [
           {
            "marker": {
             "line": {
              "color": "#E5ECF6",
              "width": 0.5
             },
             "pattern": {
              "fillmode": "overlay",
              "size": 10,
              "solidity": 0.2
             }
            },
            "type": "barpolar"
           }
          ],
          "carpet": [
           {
            "aaxis": {
             "endlinecolor": "#2a3f5f",
             "gridcolor": "white",
             "linecolor": "white",
             "minorgridcolor": "white",
             "startlinecolor": "#2a3f5f"
            },
            "baxis": {
             "endlinecolor": "#2a3f5f",
             "gridcolor": "white",
             "linecolor": "white",
             "minorgridcolor": "white",
             "startlinecolor": "#2a3f5f"
            },
            "type": "carpet"
           }
          ],
          "choropleth": [
           {
            "colorbar": {
             "outlinewidth": 0,
             "ticks": ""
            },
            "type": "choropleth"
           }
          ],
          "contour": [
           {
            "colorbar": {
             "outlinewidth": 0,
             "ticks": ""
            },
            "colorscale": [
             [
              0,
              "#0d0887"
             ],
             [
              0.1111111111111111,
              "#46039f"
             ],
             [
              0.2222222222222222,
              "#7201a8"
             ],
             [
              0.3333333333333333,
              "#9c179e"
             ],
             [
              0.4444444444444444,
              "#bd3786"
             ],
             [
              0.5555555555555556,
              "#d8576b"
             ],
             [
              0.6666666666666666,
              "#ed7953"
             ],
             [
              0.7777777777777778,
              "#fb9f3a"
             ],
             [
              0.8888888888888888,
              "#fdca26"
             ],
             [
              1,
              "#f0f921"
             ]
            ],
            "type": "contour"
           }
          ],
          "contourcarpet": [
           {
            "colorbar": {
             "outlinewidth": 0,
             "ticks": ""
            },
            "type": "contourcarpet"
           }
          ],
          "heatmap": [
           {
            "colorbar": {
             "outlinewidth": 0,
             "ticks": ""
            },
            "colorscale": [
             [
              0,
              "#0d0887"
             ],
             [
              0.1111111111111111,
              "#46039f"
             ],
             [
              0.2222222222222222,
              "#7201a8"
             ],
             [
              0.3333333333333333,
              "#9c179e"
             ],
             [
              0.4444444444444444,
              "#bd3786"
             ],
             [
              0.5555555555555556,
              "#d8576b"
             ],
             [
              0.6666666666666666,
              "#ed7953"
             ],
             [
              0.7777777777777778,
              "#fb9f3a"
             ],
             [
              0.8888888888888888,
              "#fdca26"
             ],
             [
              1,
              "#f0f921"
             ]
            ],
            "type": "heatmap"
           }
          ],
          "heatmapgl": [
           {
            "colorbar": {
             "outlinewidth": 0,
             "ticks": ""
            },
            "colorscale": [
             [
              0,
              "#0d0887"
             ],
             [
              0.1111111111111111,
              "#46039f"
             ],
             [
              0.2222222222222222,
              "#7201a8"
             ],
             [
              0.3333333333333333,
              "#9c179e"
             ],
             [
              0.4444444444444444,
              "#bd3786"
             ],
             [
              0.5555555555555556,
              "#d8576b"
             ],
             [
              0.6666666666666666,
              "#ed7953"
             ],
             [
              0.7777777777777778,
              "#fb9f3a"
             ],
             [
              0.8888888888888888,
              "#fdca26"
             ],
             [
              1,
              "#f0f921"
             ]
            ],
            "type": "heatmapgl"
           }
          ],
          "histogram": [
           {
            "marker": {
             "pattern": {
              "fillmode": "overlay",
              "size": 10,
              "solidity": 0.2
             }
            },
            "type": "histogram"
           }
          ],
          "histogram2d": [
           {
            "colorbar": {
             "outlinewidth": 0,
             "ticks": ""
            },
            "colorscale": [
             [
              0,
              "#0d0887"
             ],
             [
              0.1111111111111111,
              "#46039f"
             ],
             [
              0.2222222222222222,
              "#7201a8"
             ],
             [
              0.3333333333333333,
              "#9c179e"
             ],
             [
              0.4444444444444444,
              "#bd3786"
             ],
             [
              0.5555555555555556,
              "#d8576b"
             ],
             [
              0.6666666666666666,
              "#ed7953"
             ],
             [
              0.7777777777777778,
              "#fb9f3a"
             ],
             [
              0.8888888888888888,
              "#fdca26"
             ],
             [
              1,
              "#f0f921"
             ]
            ],
            "type": "histogram2d"
           }
          ],
          "histogram2dcontour": [
           {
            "colorbar": {
             "outlinewidth": 0,
             "ticks": ""
            },
            "colorscale": [
             [
              0,
              "#0d0887"
             ],
             [
              0.1111111111111111,
              "#46039f"
             ],
             [
              0.2222222222222222,
              "#7201a8"
             ],
             [
              0.3333333333333333,
              "#9c179e"
             ],
             [
              0.4444444444444444,
              "#bd3786"
             ],
             [
              0.5555555555555556,
              "#d8576b"
             ],
             [
              0.6666666666666666,
              "#ed7953"
             ],
             [
              0.7777777777777778,
              "#fb9f3a"
             ],
             [
              0.8888888888888888,
              "#fdca26"
             ],
             [
              1,
              "#f0f921"
             ]
            ],
            "type": "histogram2dcontour"
           }
          ],
          "mesh3d": [
           {
            "colorbar": {
             "outlinewidth": 0,
             "ticks": ""
            },
            "type": "mesh3d"
           }
          ],
          "parcoords": [
           {
            "line": {
             "colorbar": {
              "outlinewidth": 0,
              "ticks": ""
             }
            },
            "type": "parcoords"
           }
          ],
          "pie": [
           {
            "automargin": true,
            "type": "pie"
           }
          ],
          "scatter": [
           {
            "fillpattern": {
             "fillmode": "overlay",
             "size": 10,
             "solidity": 0.2
            },
            "type": "scatter"
           }
          ],
          "scatter3d": [
           {
            "line": {
             "colorbar": {
              "outlinewidth": 0,
              "ticks": ""
             }
            },
            "marker": {
             "colorbar": {
              "outlinewidth": 0,
              "ticks": ""
             }
            },
            "type": "scatter3d"
           }
          ],
          "scattercarpet": [
           {
            "marker": {
             "colorbar": {
              "outlinewidth": 0,
              "ticks": ""
             }
            },
            "type": "scattercarpet"
           }
          ],
          "scattergeo": [
           {
            "marker": {
             "colorbar": {
              "outlinewidth": 0,
              "ticks": ""
             }
            },
            "type": "scattergeo"
           }
          ],
          "scattergl": [
           {
            "marker": {
             "colorbar": {
              "outlinewidth": 0,
              "ticks": ""
             }
            },
            "type": "scattergl"
           }
          ],
          "scattermapbox": [
           {
            "marker": {
             "colorbar": {
              "outlinewidth": 0,
              "ticks": ""
             }
            },
            "type": "scattermapbox"
           }
          ],
          "scatterpolar": [
           {
            "marker": {
             "colorbar": {
              "outlinewidth": 0,
              "ticks": ""
             }
            },
            "type": "scatterpolar"
           }
          ],
          "scatterpolargl": [
           {
            "marker": {
             "colorbar": {
              "outlinewidth": 0,
              "ticks": ""
             }
            },
            "type": "scatterpolargl"
           }
          ],
          "scatterternary": [
           {
            "marker": {
             "colorbar": {
              "outlinewidth": 0,
              "ticks": ""
             }
            },
            "type": "scatterternary"
           }
          ],
          "surface": [
           {
            "colorbar": {
             "outlinewidth": 0,
             "ticks": ""
            },
            "colorscale": [
             [
              0,
              "#0d0887"
             ],
             [
              0.1111111111111111,
              "#46039f"
             ],
             [
              0.2222222222222222,
              "#7201a8"
             ],
             [
              0.3333333333333333,
              "#9c179e"
             ],
             [
              0.4444444444444444,
              "#bd3786"
             ],
             [
              0.5555555555555556,
              "#d8576b"
             ],
             [
              0.6666666666666666,
              "#ed7953"
             ],
             [
              0.7777777777777778,
              "#fb9f3a"
             ],
             [
              0.8888888888888888,
              "#fdca26"
             ],
             [
              1,
              "#f0f921"
             ]
            ],
            "type": "surface"
           }
          ],
          "table": [
           {
            "cells": {
             "fill": {
              "color": "#EBF0F8"
             },
             "line": {
              "color": "white"
             }
            },
            "header": {
             "fill": {
              "color": "#C8D4E3"
             },
             "line": {
              "color": "white"
             }
            },
            "type": "table"
           }
          ]
         },
         "layout": {
          "annotationdefaults": {
           "arrowcolor": "#2a3f5f",
           "arrowhead": 0,
           "arrowwidth": 1
          },
          "autotypenumbers": "strict",
          "coloraxis": {
           "colorbar": {
            "outlinewidth": 0,
            "ticks": ""
           }
          },
          "colorscale": {
           "diverging": [
            [
             0,
             "#8e0152"
            ],
            [
             0.1,
             "#c51b7d"
            ],
            [
             0.2,
             "#de77ae"
            ],
            [
             0.3,
             "#f1b6da"
            ],
            [
             0.4,
             "#fde0ef"
            ],
            [
             0.5,
             "#f7f7f7"
            ],
            [
             0.6,
             "#e6f5d0"
            ],
            [
             0.7,
             "#b8e186"
            ],
            [
             0.8,
             "#7fbc41"
            ],
            [
             0.9,
             "#4d9221"
            ],
            [
             1,
             "#276419"
            ]
           ],
           "sequential": [
            [
             0,
             "#0d0887"
            ],
            [
             0.1111111111111111,
             "#46039f"
            ],
            [
             0.2222222222222222,
             "#7201a8"
            ],
            [
             0.3333333333333333,
             "#9c179e"
            ],
            [
             0.4444444444444444,
             "#bd3786"
            ],
            [
             0.5555555555555556,
             "#d8576b"
            ],
            [
             0.6666666666666666,
             "#ed7953"
            ],
            [
             0.7777777777777778,
             "#fb9f3a"
            ],
            [
             0.8888888888888888,
             "#fdca26"
            ],
            [
             1,
             "#f0f921"
            ]
           ],
           "sequentialminus": [
            [
             0,
             "#0d0887"
            ],
            [
             0.1111111111111111,
             "#46039f"
            ],
            [
             0.2222222222222222,
             "#7201a8"
            ],
            [
             0.3333333333333333,
             "#9c179e"
            ],
            [
             0.4444444444444444,
             "#bd3786"
            ],
            [
             0.5555555555555556,
             "#d8576b"
            ],
            [
             0.6666666666666666,
             "#ed7953"
            ],
            [
             0.7777777777777778,
             "#fb9f3a"
            ],
            [
             0.8888888888888888,
             "#fdca26"
            ],
            [
             1,
             "#f0f921"
            ]
           ]
          },
          "colorway": [
           "#636efa",
           "#EF553B",
           "#00cc96",
           "#ab63fa",
           "#FFA15A",
           "#19d3f3",
           "#FF6692",
           "#B6E880",
           "#FF97FF",
           "#FECB52"
          ],
          "font": {
           "color": "#2a3f5f"
          },
          "geo": {
           "bgcolor": "white",
           "lakecolor": "white",
           "landcolor": "#E5ECF6",
           "showlakes": true,
           "showland": true,
           "subunitcolor": "white"
          },
          "hoverlabel": {
           "align": "left"
          },
          "hovermode": "closest",
          "mapbox": {
           "style": "light"
          },
          "paper_bgcolor": "white",
          "plot_bgcolor": "#E5ECF6",
          "polar": {
           "angularaxis": {
            "gridcolor": "white",
            "linecolor": "white",
            "ticks": ""
           },
           "bgcolor": "#E5ECF6",
           "radialaxis": {
            "gridcolor": "white",
            "linecolor": "white",
            "ticks": ""
           }
          },
          "scene": {
           "xaxis": {
            "backgroundcolor": "#E5ECF6",
            "gridcolor": "white",
            "gridwidth": 2,
            "linecolor": "white",
            "showbackground": true,
            "ticks": "",
            "zerolinecolor": "white"
           },
           "yaxis": {
            "backgroundcolor": "#E5ECF6",
            "gridcolor": "white",
            "gridwidth": 2,
            "linecolor": "white",
            "showbackground": true,
            "ticks": "",
            "zerolinecolor": "white"
           },
           "zaxis": {
            "backgroundcolor": "#E5ECF6",
            "gridcolor": "white",
            "gridwidth": 2,
            "linecolor": "white",
            "showbackground": true,
            "ticks": "",
            "zerolinecolor": "white"
           }
          },
          "shapedefaults": {
           "line": {
            "color": "#2a3f5f"
           }
          },
          "ternary": {
           "aaxis": {
            "gridcolor": "white",
            "linecolor": "white",
            "ticks": ""
           },
           "baxis": {
            "gridcolor": "white",
            "linecolor": "white",
            "ticks": ""
           },
           "bgcolor": "#E5ECF6",
           "caxis": {
            "gridcolor": "white",
            "linecolor": "white",
            "ticks": ""
           }
          },
          "title": {
           "x": 0.05
          },
          "xaxis": {
           "automargin": true,
           "gridcolor": "white",
           "linecolor": "white",
           "ticks": "",
           "title": {
            "standoff": 15
           },
           "zerolinecolor": "white",
           "zerolinewidth": 2
          },
          "yaxis": {
           "automargin": true,
           "gridcolor": "white",
           "linecolor": "white",
           "ticks": "",
           "title": {
            "standoff": 15
           },
           "zerolinecolor": "white",
           "zerolinewidth": 2
          }
         }
        },
        "title": {
         "text": "Most frequent @user_names"
        },
        "xaxis": {
         "linecolor": "#05050f",
         "showgrid": false,
         "showline": true,
         "showticklabels": true,
         "title": {
          "text": "@user_names"
         }
        },
        "yaxis": {
         "linecolor": "#05050f",
         "showgrid": false,
         "showline": true,
         "showticklabels": true,
         "title": {
          "text": "counts"
         }
        }
       }
      }
     },
     "metadata": {},
     "output_type": "display_data"
    }
   ],
   "source": [
    "# Most used user names\n",
    "\n",
    "limit=40\n",
    "x=[]\n",
    "y=[]\n",
    "count=0\n",
    "for i,j in most_used_words:\n",
    "    if i[0].startswith('@'):\n",
    "        count+=1\n",
    "        x.append(i)\n",
    "        y.append(j)\n",
    "    if count==limit:\n",
    "        break\n",
    "\n",
    "fig=go.Figure(go.Bar(x=x,\n",
    "                     y=y,\n",
    "                     text=y,\n",
    "                     marker=dict(color = y,\n",
    "                                 colorscale='rainbow')))\n",
    "fig.update_layout(showlegend=False,\n",
    "                #   margin=dict(l=5, r=1, t=20, b=5),\n",
    "                  xaxis=dict(\n",
    "                            title='@user_names',\n",
    "                            showline=True,\n",
    "                            showgrid=False,\n",
    "                            showticklabels=True,\n",
    "                            linecolor='#05050f'),\n",
    "                  yaxis=dict(\n",
    "                            title='counts',\n",
    "                            showline=True,\n",
    "                            showgrid=False,\n",
    "                            showticklabels=True,\n",
    "                            linecolor='#05050f'),\n",
    "                  plot_bgcolor='white',\n",
    "                  title='Most frequent @user_names'\n",
    "                 )\n",
    "fig.show()"
   ]
  },
  {
   "cell_type": "code",
   "execution_count": 8,
   "metadata": {},
   "outputs": [
    {
     "data": {
      "application/vnd.plotly.v1+json": {
       "config": {
        "plotlyServerURL": "https://plot.ly"
       },
       "data": [
        {
         "marker": {
          "color": [
           1,
           1,
           1,
           1,
           1,
           1,
           1,
           1,
           1,
           1,
           1,
           1,
           1,
           1,
           1
          ],
          "colorscale": [
           [
            0,
            "rgb(150,0,90)"
           ],
           [
            0.125,
            "rgb(0,0,200)"
           ],
           [
            0.25,
            "rgb(0,25,255)"
           ],
           [
            0.375,
            "rgb(0,152,255)"
           ],
           [
            0.5,
            "rgb(44,255,150)"
           ],
           [
            0.625,
            "rgb(151,255,0)"
           ],
           [
            0.75,
            "rgb(255,234,0)"
           ],
           [
            0.875,
            "rgb(255,111,0)"
           ],
           [
            1,
            "rgb(255,0,0)"
           ]
          ]
         },
         "text": [
          "1",
          "1",
          "1",
          "1",
          "1",
          "1",
          "1",
          "1",
          "1",
          "1",
          "1",
          "1",
          "1",
          "1",
          "1"
         ],
         "type": "bar",
         "x": [
          "#spacex",
          "#VeteransDay",
          "#Starship",
          "#SpaceXStarship",
          "#SpaceX",
          "#SN8",
          "#Powerwall",
          "#NASA",
          "#LaunchAmerica.",
          "#LaunchAmerica",
          "#Dragon…",
          "#Dragon",
          "#CrewDragon…",
          "#Crew1",
          "#"
         ],
         "y": [
          1,
          1,
          1,
          1,
          1,
          1,
          1,
          1,
          1,
          1,
          1,
          1,
          1,
          1,
          1
         ]
        }
       ],
       "layout": {
        "plot_bgcolor": "white",
        "showlegend": false,
        "template": {
         "data": {
          "bar": [
           {
            "error_x": {
             "color": "#2a3f5f"
            },
            "error_y": {
             "color": "#2a3f5f"
            },
            "marker": {
             "line": {
              "color": "#E5ECF6",
              "width": 0.5
             },
             "pattern": {
              "fillmode": "overlay",
              "size": 10,
              "solidity": 0.2
             }
            },
            "type": "bar"
           }
          ],
          "barpolar": [
           {
            "marker": {
             "line": {
              "color": "#E5ECF6",
              "width": 0.5
             },
             "pattern": {
              "fillmode": "overlay",
              "size": 10,
              "solidity": 0.2
             }
            },
            "type": "barpolar"
           }
          ],
          "carpet": [
           {
            "aaxis": {
             "endlinecolor": "#2a3f5f",
             "gridcolor": "white",
             "linecolor": "white",
             "minorgridcolor": "white",
             "startlinecolor": "#2a3f5f"
            },
            "baxis": {
             "endlinecolor": "#2a3f5f",
             "gridcolor": "white",
             "linecolor": "white",
             "minorgridcolor": "white",
             "startlinecolor": "#2a3f5f"
            },
            "type": "carpet"
           }
          ],
          "choropleth": [
           {
            "colorbar": {
             "outlinewidth": 0,
             "ticks": ""
            },
            "type": "choropleth"
           }
          ],
          "contour": [
           {
            "colorbar": {
             "outlinewidth": 0,
             "ticks": ""
            },
            "colorscale": [
             [
              0,
              "#0d0887"
             ],
             [
              0.1111111111111111,
              "#46039f"
             ],
             [
              0.2222222222222222,
              "#7201a8"
             ],
             [
              0.3333333333333333,
              "#9c179e"
             ],
             [
              0.4444444444444444,
              "#bd3786"
             ],
             [
              0.5555555555555556,
              "#d8576b"
             ],
             [
              0.6666666666666666,
              "#ed7953"
             ],
             [
              0.7777777777777778,
              "#fb9f3a"
             ],
             [
              0.8888888888888888,
              "#fdca26"
             ],
             [
              1,
              "#f0f921"
             ]
            ],
            "type": "contour"
           }
          ],
          "contourcarpet": [
           {
            "colorbar": {
             "outlinewidth": 0,
             "ticks": ""
            },
            "type": "contourcarpet"
           }
          ],
          "heatmap": [
           {
            "colorbar": {
             "outlinewidth": 0,
             "ticks": ""
            },
            "colorscale": [
             [
              0,
              "#0d0887"
             ],
             [
              0.1111111111111111,
              "#46039f"
             ],
             [
              0.2222222222222222,
              "#7201a8"
             ],
             [
              0.3333333333333333,
              "#9c179e"
             ],
             [
              0.4444444444444444,
              "#bd3786"
             ],
             [
              0.5555555555555556,
              "#d8576b"
             ],
             [
              0.6666666666666666,
              "#ed7953"
             ],
             [
              0.7777777777777778,
              "#fb9f3a"
             ],
             [
              0.8888888888888888,
              "#fdca26"
             ],
             [
              1,
              "#f0f921"
             ]
            ],
            "type": "heatmap"
           }
          ],
          "heatmapgl": [
           {
            "colorbar": {
             "outlinewidth": 0,
             "ticks": ""
            },
            "colorscale": [
             [
              0,
              "#0d0887"
             ],
             [
              0.1111111111111111,
              "#46039f"
             ],
             [
              0.2222222222222222,
              "#7201a8"
             ],
             [
              0.3333333333333333,
              "#9c179e"
             ],
             [
              0.4444444444444444,
              "#bd3786"
             ],
             [
              0.5555555555555556,
              "#d8576b"
             ],
             [
              0.6666666666666666,
              "#ed7953"
             ],
             [
              0.7777777777777778,
              "#fb9f3a"
             ],
             [
              0.8888888888888888,
              "#fdca26"
             ],
             [
              1,
              "#f0f921"
             ]
            ],
            "type": "heatmapgl"
           }
          ],
          "histogram": [
           {
            "marker": {
             "pattern": {
              "fillmode": "overlay",
              "size": 10,
              "solidity": 0.2
             }
            },
            "type": "histogram"
           }
          ],
          "histogram2d": [
           {
            "colorbar": {
             "outlinewidth": 0,
             "ticks": ""
            },
            "colorscale": [
             [
              0,
              "#0d0887"
             ],
             [
              0.1111111111111111,
              "#46039f"
             ],
             [
              0.2222222222222222,
              "#7201a8"
             ],
             [
              0.3333333333333333,
              "#9c179e"
             ],
             [
              0.4444444444444444,
              "#bd3786"
             ],
             [
              0.5555555555555556,
              "#d8576b"
             ],
             [
              0.6666666666666666,
              "#ed7953"
             ],
             [
              0.7777777777777778,
              "#fb9f3a"
             ],
             [
              0.8888888888888888,
              "#fdca26"
             ],
             [
              1,
              "#f0f921"
             ]
            ],
            "type": "histogram2d"
           }
          ],
          "histogram2dcontour": [
           {
            "colorbar": {
             "outlinewidth": 0,
             "ticks": ""
            },
            "colorscale": [
             [
              0,
              "#0d0887"
             ],
             [
              0.1111111111111111,
              "#46039f"
             ],
             [
              0.2222222222222222,
              "#7201a8"
             ],
             [
              0.3333333333333333,
              "#9c179e"
             ],
             [
              0.4444444444444444,
              "#bd3786"
             ],
             [
              0.5555555555555556,
              "#d8576b"
             ],
             [
              0.6666666666666666,
              "#ed7953"
             ],
             [
              0.7777777777777778,
              "#fb9f3a"
             ],
             [
              0.8888888888888888,
              "#fdca26"
             ],
             [
              1,
              "#f0f921"
             ]
            ],
            "type": "histogram2dcontour"
           }
          ],
          "mesh3d": [
           {
            "colorbar": {
             "outlinewidth": 0,
             "ticks": ""
            },
            "type": "mesh3d"
           }
          ],
          "parcoords": [
           {
            "line": {
             "colorbar": {
              "outlinewidth": 0,
              "ticks": ""
             }
            },
            "type": "parcoords"
           }
          ],
          "pie": [
           {
            "automargin": true,
            "type": "pie"
           }
          ],
          "scatter": [
           {
            "fillpattern": {
             "fillmode": "overlay",
             "size": 10,
             "solidity": 0.2
            },
            "type": "scatter"
           }
          ],
          "scatter3d": [
           {
            "line": {
             "colorbar": {
              "outlinewidth": 0,
              "ticks": ""
             }
            },
            "marker": {
             "colorbar": {
              "outlinewidth": 0,
              "ticks": ""
             }
            },
            "type": "scatter3d"
           }
          ],
          "scattercarpet": [
           {
            "marker": {
             "colorbar": {
              "outlinewidth": 0,
              "ticks": ""
             }
            },
            "type": "scattercarpet"
           }
          ],
          "scattergeo": [
           {
            "marker": {
             "colorbar": {
              "outlinewidth": 0,
              "ticks": ""
             }
            },
            "type": "scattergeo"
           }
          ],
          "scattergl": [
           {
            "marker": {
             "colorbar": {
              "outlinewidth": 0,
              "ticks": ""
             }
            },
            "type": "scattergl"
           }
          ],
          "scattermapbox": [
           {
            "marker": {
             "colorbar": {
              "outlinewidth": 0,
              "ticks": ""
             }
            },
            "type": "scattermapbox"
           }
          ],
          "scatterpolar": [
           {
            "marker": {
             "colorbar": {
              "outlinewidth": 0,
              "ticks": ""
             }
            },
            "type": "scatterpolar"
           }
          ],
          "scatterpolargl": [
           {
            "marker": {
             "colorbar": {
              "outlinewidth": 0,
              "ticks": ""
             }
            },
            "type": "scatterpolargl"
           }
          ],
          "scatterternary": [
           {
            "marker": {
             "colorbar": {
              "outlinewidth": 0,
              "ticks": ""
             }
            },
            "type": "scatterternary"
           }
          ],
          "surface": [
           {
            "colorbar": {
             "outlinewidth": 0,
             "ticks": ""
            },
            "colorscale": [
             [
              0,
              "#0d0887"
             ],
             [
              0.1111111111111111,
              "#46039f"
             ],
             [
              0.2222222222222222,
              "#7201a8"
             ],
             [
              0.3333333333333333,
              "#9c179e"
             ],
             [
              0.4444444444444444,
              "#bd3786"
             ],
             [
              0.5555555555555556,
              "#d8576b"
             ],
             [
              0.6666666666666666,
              "#ed7953"
             ],
             [
              0.7777777777777778,
              "#fb9f3a"
             ],
             [
              0.8888888888888888,
              "#fdca26"
             ],
             [
              1,
              "#f0f921"
             ]
            ],
            "type": "surface"
           }
          ],
          "table": [
           {
            "cells": {
             "fill": {
              "color": "#EBF0F8"
             },
             "line": {
              "color": "white"
             }
            },
            "header": {
             "fill": {
              "color": "#C8D4E3"
             },
             "line": {
              "color": "white"
             }
            },
            "type": "table"
           }
          ]
         },
         "layout": {
          "annotationdefaults": {
           "arrowcolor": "#2a3f5f",
           "arrowhead": 0,
           "arrowwidth": 1
          },
          "autotypenumbers": "strict",
          "coloraxis": {
           "colorbar": {
            "outlinewidth": 0,
            "ticks": ""
           }
          },
          "colorscale": {
           "diverging": [
            [
             0,
             "#8e0152"
            ],
            [
             0.1,
             "#c51b7d"
            ],
            [
             0.2,
             "#de77ae"
            ],
            [
             0.3,
             "#f1b6da"
            ],
            [
             0.4,
             "#fde0ef"
            ],
            [
             0.5,
             "#f7f7f7"
            ],
            [
             0.6,
             "#e6f5d0"
            ],
            [
             0.7,
             "#b8e186"
            ],
            [
             0.8,
             "#7fbc41"
            ],
            [
             0.9,
             "#4d9221"
            ],
            [
             1,
             "#276419"
            ]
           ],
           "sequential": [
            [
             0,
             "#0d0887"
            ],
            [
             0.1111111111111111,
             "#46039f"
            ],
            [
             0.2222222222222222,
             "#7201a8"
            ],
            [
             0.3333333333333333,
             "#9c179e"
            ],
            [
             0.4444444444444444,
             "#bd3786"
            ],
            [
             0.5555555555555556,
             "#d8576b"
            ],
            [
             0.6666666666666666,
             "#ed7953"
            ],
            [
             0.7777777777777778,
             "#fb9f3a"
            ],
            [
             0.8888888888888888,
             "#fdca26"
            ],
            [
             1,
             "#f0f921"
            ]
           ],
           "sequentialminus": [
            [
             0,
             "#0d0887"
            ],
            [
             0.1111111111111111,
             "#46039f"
            ],
            [
             0.2222222222222222,
             "#7201a8"
            ],
            [
             0.3333333333333333,
             "#9c179e"
            ],
            [
             0.4444444444444444,
             "#bd3786"
            ],
            [
             0.5555555555555556,
             "#d8576b"
            ],
            [
             0.6666666666666666,
             "#ed7953"
            ],
            [
             0.7777777777777778,
             "#fb9f3a"
            ],
            [
             0.8888888888888888,
             "#fdca26"
            ],
            [
             1,
             "#f0f921"
            ]
           ]
          },
          "colorway": [
           "#636efa",
           "#EF553B",
           "#00cc96",
           "#ab63fa",
           "#FFA15A",
           "#19d3f3",
           "#FF6692",
           "#B6E880",
           "#FF97FF",
           "#FECB52"
          ],
          "font": {
           "color": "#2a3f5f"
          },
          "geo": {
           "bgcolor": "white",
           "lakecolor": "white",
           "landcolor": "#E5ECF6",
           "showlakes": true,
           "showland": true,
           "subunitcolor": "white"
          },
          "hoverlabel": {
           "align": "left"
          },
          "hovermode": "closest",
          "mapbox": {
           "style": "light"
          },
          "paper_bgcolor": "white",
          "plot_bgcolor": "#E5ECF6",
          "polar": {
           "angularaxis": {
            "gridcolor": "white",
            "linecolor": "white",
            "ticks": ""
           },
           "bgcolor": "#E5ECF6",
           "radialaxis": {
            "gridcolor": "white",
            "linecolor": "white",
            "ticks": ""
           }
          },
          "scene": {
           "xaxis": {
            "backgroundcolor": "#E5ECF6",
            "gridcolor": "white",
            "gridwidth": 2,
            "linecolor": "white",
            "showbackground": true,
            "ticks": "",
            "zerolinecolor": "white"
           },
           "yaxis": {
            "backgroundcolor": "#E5ECF6",
            "gridcolor": "white",
            "gridwidth": 2,
            "linecolor": "white",
            "showbackground": true,
            "ticks": "",
            "zerolinecolor": "white"
           },
           "zaxis": {
            "backgroundcolor": "#E5ECF6",
            "gridcolor": "white",
            "gridwidth": 2,
            "linecolor": "white",
            "showbackground": true,
            "ticks": "",
            "zerolinecolor": "white"
           }
          },
          "shapedefaults": {
           "line": {
            "color": "#2a3f5f"
           }
          },
          "ternary": {
           "aaxis": {
            "gridcolor": "white",
            "linecolor": "white",
            "ticks": ""
           },
           "baxis": {
            "gridcolor": "white",
            "linecolor": "white",
            "ticks": ""
           },
           "bgcolor": "#E5ECF6",
           "caxis": {
            "gridcolor": "white",
            "linecolor": "white",
            "ticks": ""
           }
          },
          "title": {
           "x": 0.05
          },
          "xaxis": {
           "automargin": true,
           "gridcolor": "white",
           "linecolor": "white",
           "ticks": "",
           "title": {
            "standoff": 15
           },
           "zerolinecolor": "white",
           "zerolinewidth": 2
          },
          "yaxis": {
           "automargin": true,
           "gridcolor": "white",
           "linecolor": "white",
           "ticks": "",
           "title": {
            "standoff": 15
           },
           "zerolinecolor": "white",
           "zerolinewidth": 2
          }
         }
        },
        "title": {
         "text": "Most frequent #tags"
        },
        "xaxis": {
         "linecolor": "#05050f",
         "showgrid": false,
         "showline": true,
         "showticklabels": true,
         "title": {
          "text": "tags"
         }
        },
        "yaxis": {
         "linecolor": "#05050f",
         "showgrid": false,
         "showline": true,
         "showticklabels": true,
         "title": {
          "text": "counts"
         }
        }
       }
      }
     },
     "metadata": {},
     "output_type": "display_data"
    }
   ],
   "source": [
    "# Most used #tags\n",
    "\n",
    "limit=40\n",
    "x=[]\n",
    "y=[]\n",
    "count=0\n",
    "for i,j in most_used_words:\n",
    "    if i[0].startswith('#'):\n",
    "        count+=1\n",
    "        x.append(i)\n",
    "        y.append(j)\n",
    "    if count==limit:\n",
    "        break\n",
    "\n",
    "fig=go.Figure(go.Bar(x=x,\n",
    "                     y=y,\n",
    "                     text=y,\n",
    "                     marker=dict(color = y,\n",
    "                                 colorscale='rainbow')))\n",
    "fig.update_layout(showlegend=False,\n",
    "                #   margin=dict(l=5, r=1, t=20, b=5),\n",
    "                  xaxis=dict(\n",
    "                            title='tags',\n",
    "                            showline=True,\n",
    "                            showgrid=False,\n",
    "                            showticklabels=True,\n",
    "                            linecolor='#05050f'),\n",
    "                  yaxis=dict(\n",
    "                            title='counts',\n",
    "                            showline=True,\n",
    "                            showgrid=False,\n",
    "                            showticklabels=True,\n",
    "                            linecolor='#05050f'),\n",
    "                  plot_bgcolor='white',\n",
    "                  title='Most frequent #tags'\n",
    "                 )\n",
    "fig.show()"
   ]
  },
  {
   "cell_type": "code",
   "execution_count": 9,
   "metadata": {},
   "outputs": [
    {
     "data": {
      "text/html": [
       "<div>\n",
       "<style scoped>\n",
       "    .dataframe tbody tr th:only-of-type {\n",
       "        vertical-align: middle;\n",
       "    }\n",
       "\n",
       "    .dataframe tbody tr th {\n",
       "        vertical-align: top;\n",
       "    }\n",
       "\n",
       "    .dataframe thead th {\n",
       "        text-align: right;\n",
       "    }\n",
       "</style>\n",
       "<table border=\"1\" class=\"dataframe\">\n",
       "  <thead>\n",
       "    <tr style=\"text-align: right;\">\n",
       "      <th></th>\n",
       "      <th>Text</th>\n",
       "    </tr>\n",
       "  </thead>\n",
       "  <tbody>\n",
       "    <tr>\n",
       "      <th>0</th>\n",
       "      <td>@kunalb11 i’m an alien</td>\n",
       "    </tr>\n",
       "    <tr>\n",
       "      <th>1</th>\n",
       "      <td>@id_aa_carmack ray tracing on cyberpunk with h...</td>\n",
       "    </tr>\n",
       "    <tr>\n",
       "      <th>2</th>\n",
       "      <td>@joerogan @spotify great interview!</td>\n",
       "    </tr>\n",
       "    <tr>\n",
       "      <th>3</th>\n",
       "      <td>@gtera27 doge is underestimated</td>\n",
       "    </tr>\n",
       "    <tr>\n",
       "      <th>4</th>\n",
       "      <td>@teslacn congratulations tesla china for amazi...</td>\n",
       "    </tr>\n",
       "  </tbody>\n",
       "</table>\n",
       "</div>"
      ],
      "text/plain": [
       "                                                Text\n",
       "0                             @kunalb11 i’m an alien\n",
       "1  @id_aa_carmack ray tracing on cyberpunk with h...\n",
       "2                @joerogan @spotify great interview!\n",
       "3                    @gtera27 doge is underestimated\n",
       "4  @teslacn congratulations tesla china for amazi..."
      ]
     },
     "execution_count": 9,
     "metadata": {},
     "output_type": "execute_result"
    }
   ],
   "source": [
    "# creating new_df with all lower case\n",
    "new_df=pd.DataFrame(df['Text'].apply(lambda x : x.strip().lower()))\n",
    "new_df.head()"
   ]
  },
  {
   "cell_type": "code",
   "execution_count": 10,
   "metadata": {},
   "outputs": [
    {
     "data": {
      "text/html": [
       "<div>\n",
       "<style scoped>\n",
       "    .dataframe tbody tr th:only-of-type {\n",
       "        vertical-align: middle;\n",
       "    }\n",
       "\n",
       "    .dataframe tbody tr th {\n",
       "        vertical-align: top;\n",
       "    }\n",
       "\n",
       "    .dataframe thead th {\n",
       "        text-align: right;\n",
       "    }\n",
       "</style>\n",
       "<table border=\"1\" class=\"dataframe\">\n",
       "  <thead>\n",
       "    <tr style=\"text-align: right;\">\n",
       "      <th></th>\n",
       "      <th>Text</th>\n",
       "    </tr>\n",
       "  </thead>\n",
       "  <tbody>\n",
       "    <tr>\n",
       "      <th>324</th>\n",
       "      <td>the most entertaining outcome is the most likely</td>\n",
       "    </tr>\n",
       "    <tr>\n",
       "      <th>655</th>\n",
       "      <td>@westcoastbill indeed</td>\n",
       "    </tr>\n",
       "  </tbody>\n",
       "</table>\n",
       "</div>"
      ],
      "text/plain": [
       "                                                 Text\n",
       "324  the most entertaining outcome is the most likely\n",
       "655                             @westcoastbill indeed"
      ]
     },
     "execution_count": 10,
     "metadata": {},
     "output_type": "execute_result"
    }
   ],
   "source": [
    "# Checking duplicate rows\n",
    "new_df[new_df.duplicated()]"
   ]
  },
  {
   "cell_type": "code",
   "execution_count": 11,
   "metadata": {},
   "outputs": [],
   "source": [
    "# removing them\n",
    "new_df.drop_duplicates(inplace=True)"
   ]
  },
  {
   "cell_type": "code",
   "execution_count": 12,
   "metadata": {},
   "outputs": [
    {
     "data": {
      "text/plain": [
       "(1997, 1)"
      ]
     },
     "execution_count": 12,
     "metadata": {},
     "output_type": "execute_result"
    }
   ],
   "source": [
    "new_df.shape"
   ]
  },
  {
   "cell_type": "code",
   "execution_count": 13,
   "metadata": {},
   "outputs": [
    {
     "name": "stdout",
     "output_type": "stream",
     "text": [
      "{'9', 'x', 'a', '2', 'f', 'v', 'c', '4', 'p', 'g', 'w', 'i', '@', '“', 'q', 'r', 'b', 'm', 'u', 't', 'e', 'y', '5', '1', 'd', 'l', '.', 's', 'j', '<', 'ð', '0', 'h', 'o', 'n'}\n"
     ]
    }
   ],
   "source": [
    "# Lets see all unique first letters\n",
    "print(set([x[0] for x in new_df['Text']]))"
   ]
  },
  {
   "cell_type": "code",
   "execution_count": 14,
   "metadata": {},
   "outputs": [
    {
     "data": {
      "text/plain": [
       "1677"
      ]
     },
     "execution_count": 14,
     "metadata": {},
     "output_type": "execute_result"
    }
   ],
   "source": [
    "# Lets see how many of them starts with @\n",
    "len(new_df[new_df['Text'].str.contains('@')])"
   ]
  },
  {
   "cell_type": "markdown",
   "metadata": {},
   "source": [
    "Here we have some user tags, links, emojis, <...> "
   ]
  },
  {
   "cell_type": "code",
   "execution_count": 15,
   "metadata": {},
   "outputs": [
    {
     "data": {
      "application/vnd.plotly.v1+json": {
       "config": {
        "plotlyServerURL": "https://plot.ly"
       },
       "data": [
        {
         "labels": [
          "contains @",
          "Others"
         ],
         "pull": [
          0,
          0.1
         ],
         "type": "pie",
         "values": [
          1678,
          321
         ]
        }
       ],
       "layout": {
        "autosize": false,
        "template": {
         "data": {
          "bar": [
           {
            "error_x": {
             "color": "#2a3f5f"
            },
            "error_y": {
             "color": "#2a3f5f"
            },
            "marker": {
             "line": {
              "color": "#E5ECF6",
              "width": 0.5
             },
             "pattern": {
              "fillmode": "overlay",
              "size": 10,
              "solidity": 0.2
             }
            },
            "type": "bar"
           }
          ],
          "barpolar": [
           {
            "marker": {
             "line": {
              "color": "#E5ECF6",
              "width": 0.5
             },
             "pattern": {
              "fillmode": "overlay",
              "size": 10,
              "solidity": 0.2
             }
            },
            "type": "barpolar"
           }
          ],
          "carpet": [
           {
            "aaxis": {
             "endlinecolor": "#2a3f5f",
             "gridcolor": "white",
             "linecolor": "white",
             "minorgridcolor": "white",
             "startlinecolor": "#2a3f5f"
            },
            "baxis": {
             "endlinecolor": "#2a3f5f",
             "gridcolor": "white",
             "linecolor": "white",
             "minorgridcolor": "white",
             "startlinecolor": "#2a3f5f"
            },
            "type": "carpet"
           }
          ],
          "choropleth": [
           {
            "colorbar": {
             "outlinewidth": 0,
             "ticks": ""
            },
            "type": "choropleth"
           }
          ],
          "contour": [
           {
            "colorbar": {
             "outlinewidth": 0,
             "ticks": ""
            },
            "colorscale": [
             [
              0,
              "#0d0887"
             ],
             [
              0.1111111111111111,
              "#46039f"
             ],
             [
              0.2222222222222222,
              "#7201a8"
             ],
             [
              0.3333333333333333,
              "#9c179e"
             ],
             [
              0.4444444444444444,
              "#bd3786"
             ],
             [
              0.5555555555555556,
              "#d8576b"
             ],
             [
              0.6666666666666666,
              "#ed7953"
             ],
             [
              0.7777777777777778,
              "#fb9f3a"
             ],
             [
              0.8888888888888888,
              "#fdca26"
             ],
             [
              1,
              "#f0f921"
             ]
            ],
            "type": "contour"
           }
          ],
          "contourcarpet": [
           {
            "colorbar": {
             "outlinewidth": 0,
             "ticks": ""
            },
            "type": "contourcarpet"
           }
          ],
          "heatmap": [
           {
            "colorbar": {
             "outlinewidth": 0,
             "ticks": ""
            },
            "colorscale": [
             [
              0,
              "#0d0887"
             ],
             [
              0.1111111111111111,
              "#46039f"
             ],
             [
              0.2222222222222222,
              "#7201a8"
             ],
             [
              0.3333333333333333,
              "#9c179e"
             ],
             [
              0.4444444444444444,
              "#bd3786"
             ],
             [
              0.5555555555555556,
              "#d8576b"
             ],
             [
              0.6666666666666666,
              "#ed7953"
             ],
             [
              0.7777777777777778,
              "#fb9f3a"
             ],
             [
              0.8888888888888888,
              "#fdca26"
             ],
             [
              1,
              "#f0f921"
             ]
            ],
            "type": "heatmap"
           }
          ],
          "heatmapgl": [
           {
            "colorbar": {
             "outlinewidth": 0,
             "ticks": ""
            },
            "colorscale": [
             [
              0,
              "#0d0887"
             ],
             [
              0.1111111111111111,
              "#46039f"
             ],
             [
              0.2222222222222222,
              "#7201a8"
             ],
             [
              0.3333333333333333,
              "#9c179e"
             ],
             [
              0.4444444444444444,
              "#bd3786"
             ],
             [
              0.5555555555555556,
              "#d8576b"
             ],
             [
              0.6666666666666666,
              "#ed7953"
             ],
             [
              0.7777777777777778,
              "#fb9f3a"
             ],
             [
              0.8888888888888888,
              "#fdca26"
             ],
             [
              1,
              "#f0f921"
             ]
            ],
            "type": "heatmapgl"
           }
          ],
          "histogram": [
           {
            "marker": {
             "pattern": {
              "fillmode": "overlay",
              "size": 10,
              "solidity": 0.2
             }
            },
            "type": "histogram"
           }
          ],
          "histogram2d": [
           {
            "colorbar": {
             "outlinewidth": 0,
             "ticks": ""
            },
            "colorscale": [
             [
              0,
              "#0d0887"
             ],
             [
              0.1111111111111111,
              "#46039f"
             ],
             [
              0.2222222222222222,
              "#7201a8"
             ],
             [
              0.3333333333333333,
              "#9c179e"
             ],
             [
              0.4444444444444444,
              "#bd3786"
             ],
             [
              0.5555555555555556,
              "#d8576b"
             ],
             [
              0.6666666666666666,
              "#ed7953"
             ],
             [
              0.7777777777777778,
              "#fb9f3a"
             ],
             [
              0.8888888888888888,
              "#fdca26"
             ],
             [
              1,
              "#f0f921"
             ]
            ],
            "type": "histogram2d"
           }
          ],
          "histogram2dcontour": [
           {
            "colorbar": {
             "outlinewidth": 0,
             "ticks": ""
            },
            "colorscale": [
             [
              0,
              "#0d0887"
             ],
             [
              0.1111111111111111,
              "#46039f"
             ],
             [
              0.2222222222222222,
              "#7201a8"
             ],
             [
              0.3333333333333333,
              "#9c179e"
             ],
             [
              0.4444444444444444,
              "#bd3786"
             ],
             [
              0.5555555555555556,
              "#d8576b"
             ],
             [
              0.6666666666666666,
              "#ed7953"
             ],
             [
              0.7777777777777778,
              "#fb9f3a"
             ],
             [
              0.8888888888888888,
              "#fdca26"
             ],
             [
              1,
              "#f0f921"
             ]
            ],
            "type": "histogram2dcontour"
           }
          ],
          "mesh3d": [
           {
            "colorbar": {
             "outlinewidth": 0,
             "ticks": ""
            },
            "type": "mesh3d"
           }
          ],
          "parcoords": [
           {
            "line": {
             "colorbar": {
              "outlinewidth": 0,
              "ticks": ""
             }
            },
            "type": "parcoords"
           }
          ],
          "pie": [
           {
            "automargin": true,
            "type": "pie"
           }
          ],
          "scatter": [
           {
            "fillpattern": {
             "fillmode": "overlay",
             "size": 10,
             "solidity": 0.2
            },
            "type": "scatter"
           }
          ],
          "scatter3d": [
           {
            "line": {
             "colorbar": {
              "outlinewidth": 0,
              "ticks": ""
             }
            },
            "marker": {
             "colorbar": {
              "outlinewidth": 0,
              "ticks": ""
             }
            },
            "type": "scatter3d"
           }
          ],
          "scattercarpet": [
           {
            "marker": {
             "colorbar": {
              "outlinewidth": 0,
              "ticks": ""
             }
            },
            "type": "scattercarpet"
           }
          ],
          "scattergeo": [
           {
            "marker": {
             "colorbar": {
              "outlinewidth": 0,
              "ticks": ""
             }
            },
            "type": "scattergeo"
           }
          ],
          "scattergl": [
           {
            "marker": {
             "colorbar": {
              "outlinewidth": 0,
              "ticks": ""
             }
            },
            "type": "scattergl"
           }
          ],
          "scattermapbox": [
           {
            "marker": {
             "colorbar": {
              "outlinewidth": 0,
              "ticks": ""
             }
            },
            "type": "scattermapbox"
           }
          ],
          "scatterpolar": [
           {
            "marker": {
             "colorbar": {
              "outlinewidth": 0,
              "ticks": ""
             }
            },
            "type": "scatterpolar"
           }
          ],
          "scatterpolargl": [
           {
            "marker": {
             "colorbar": {
              "outlinewidth": 0,
              "ticks": ""
             }
            },
            "type": "scatterpolargl"
           }
          ],
          "scatterternary": [
           {
            "marker": {
             "colorbar": {
              "outlinewidth": 0,
              "ticks": ""
             }
            },
            "type": "scatterternary"
           }
          ],
          "surface": [
           {
            "colorbar": {
             "outlinewidth": 0,
             "ticks": ""
            },
            "colorscale": [
             [
              0,
              "#0d0887"
             ],
             [
              0.1111111111111111,
              "#46039f"
             ],
             [
              0.2222222222222222,
              "#7201a8"
             ],
             [
              0.3333333333333333,
              "#9c179e"
             ],
             [
              0.4444444444444444,
              "#bd3786"
             ],
             [
              0.5555555555555556,
              "#d8576b"
             ],
             [
              0.6666666666666666,
              "#ed7953"
             ],
             [
              0.7777777777777778,
              "#fb9f3a"
             ],
             [
              0.8888888888888888,
              "#fdca26"
             ],
             [
              1,
              "#f0f921"
             ]
            ],
            "type": "surface"
           }
          ],
          "table": [
           {
            "cells": {
             "fill": {
              "color": "#EBF0F8"
             },
             "line": {
              "color": "white"
             }
            },
            "header": {
             "fill": {
              "color": "#C8D4E3"
             },
             "line": {
              "color": "white"
             }
            },
            "type": "table"
           }
          ]
         },
         "layout": {
          "annotationdefaults": {
           "arrowcolor": "#2a3f5f",
           "arrowhead": 0,
           "arrowwidth": 1
          },
          "autotypenumbers": "strict",
          "coloraxis": {
           "colorbar": {
            "outlinewidth": 0,
            "ticks": ""
           }
          },
          "colorscale": {
           "diverging": [
            [
             0,
             "#8e0152"
            ],
            [
             0.1,
             "#c51b7d"
            ],
            [
             0.2,
             "#de77ae"
            ],
            [
             0.3,
             "#f1b6da"
            ],
            [
             0.4,
             "#fde0ef"
            ],
            [
             0.5,
             "#f7f7f7"
            ],
            [
             0.6,
             "#e6f5d0"
            ],
            [
             0.7,
             "#b8e186"
            ],
            [
             0.8,
             "#7fbc41"
            ],
            [
             0.9,
             "#4d9221"
            ],
            [
             1,
             "#276419"
            ]
           ],
           "sequential": [
            [
             0,
             "#0d0887"
            ],
            [
             0.1111111111111111,
             "#46039f"
            ],
            [
             0.2222222222222222,
             "#7201a8"
            ],
            [
             0.3333333333333333,
             "#9c179e"
            ],
            [
             0.4444444444444444,
             "#bd3786"
            ],
            [
             0.5555555555555556,
             "#d8576b"
            ],
            [
             0.6666666666666666,
             "#ed7953"
            ],
            [
             0.7777777777777778,
             "#fb9f3a"
            ],
            [
             0.8888888888888888,
             "#fdca26"
            ],
            [
             1,
             "#f0f921"
            ]
           ],
           "sequentialminus": [
            [
             0,
             "#0d0887"
            ],
            [
             0.1111111111111111,
             "#46039f"
            ],
            [
             0.2222222222222222,
             "#7201a8"
            ],
            [
             0.3333333333333333,
             "#9c179e"
            ],
            [
             0.4444444444444444,
             "#bd3786"
            ],
            [
             0.5555555555555556,
             "#d8576b"
            ],
            [
             0.6666666666666666,
             "#ed7953"
            ],
            [
             0.7777777777777778,
             "#fb9f3a"
            ],
            [
             0.8888888888888888,
             "#fdca26"
            ],
            [
             1,
             "#f0f921"
            ]
           ]
          },
          "colorway": [
           "#636efa",
           "#EF553B",
           "#00cc96",
           "#ab63fa",
           "#FFA15A",
           "#19d3f3",
           "#FF6692",
           "#B6E880",
           "#FF97FF",
           "#FECB52"
          ],
          "font": {
           "color": "#2a3f5f"
          },
          "geo": {
           "bgcolor": "white",
           "lakecolor": "white",
           "landcolor": "#E5ECF6",
           "showlakes": true,
           "showland": true,
           "subunitcolor": "white"
          },
          "hoverlabel": {
           "align": "left"
          },
          "hovermode": "closest",
          "mapbox": {
           "style": "light"
          },
          "paper_bgcolor": "white",
          "plot_bgcolor": "#E5ECF6",
          "polar": {
           "angularaxis": {
            "gridcolor": "white",
            "linecolor": "white",
            "ticks": ""
           },
           "bgcolor": "#E5ECF6",
           "radialaxis": {
            "gridcolor": "white",
            "linecolor": "white",
            "ticks": ""
           }
          },
          "scene": {
           "xaxis": {
            "backgroundcolor": "#E5ECF6",
            "gridcolor": "white",
            "gridwidth": 2,
            "linecolor": "white",
            "showbackground": true,
            "ticks": "",
            "zerolinecolor": "white"
           },
           "yaxis": {
            "backgroundcolor": "#E5ECF6",
            "gridcolor": "white",
            "gridwidth": 2,
            "linecolor": "white",
            "showbackground": true,
            "ticks": "",
            "zerolinecolor": "white"
           },
           "zaxis": {
            "backgroundcolor": "#E5ECF6",
            "gridcolor": "white",
            "gridwidth": 2,
            "linecolor": "white",
            "showbackground": true,
            "ticks": "",
            "zerolinecolor": "white"
           }
          },
          "shapedefaults": {
           "line": {
            "color": "#2a3f5f"
           }
          },
          "ternary": {
           "aaxis": {
            "gridcolor": "white",
            "linecolor": "white",
            "ticks": ""
           },
           "baxis": {
            "gridcolor": "white",
            "linecolor": "white",
            "ticks": ""
           },
           "bgcolor": "#E5ECF6",
           "caxis": {
            "gridcolor": "white",
            "linecolor": "white",
            "ticks": ""
           }
          },
          "title": {
           "x": 0.05
          },
          "xaxis": {
           "automargin": true,
           "gridcolor": "white",
           "linecolor": "white",
           "ticks": "",
           "title": {
            "standoff": 15
           },
           "zerolinecolor": "white",
           "zerolinewidth": 2
          },
          "yaxis": {
           "automargin": true,
           "gridcolor": "white",
           "linecolor": "white",
           "ticks": "",
           "title": {
            "standoff": 15
           },
           "zerolinecolor": "white",
           "zerolinewidth": 2
          }
         }
        },
        "title": {
         "text": "Tweets with user tags"
        }
       }
      }
     },
     "metadata": {},
     "output_type": "display_data"
    }
   ],
   "source": [
    "fig=go.Figure(go.Pie(labels=['contains @','Others'],values=[1678,1999-1678],pull=[0,0.1]))\n",
    "fig.update_layout(autosize=False,title='Tweets with user tags')\n",
    "fig.show()"
   ]
  },
  {
   "cell_type": "code",
   "execution_count": 16,
   "metadata": {},
   "outputs": [
    {
     "data": {
      "application/vnd.plotly.v1+json": {
       "config": {
        "plotlyServerURL": "https://plot.ly"
       },
       "data": [
        {
         "labels": [
          "Contains URLs",
          "Others"
         ],
         "pull": [
          0,
          0.1
         ],
         "type": "pie",
         "values": [
          643,
          1356
         ]
        }
       ],
       "layout": {
        "autosize": false,
        "template": {
         "data": {
          "bar": [
           {
            "error_x": {
             "color": "#2a3f5f"
            },
            "error_y": {
             "color": "#2a3f5f"
            },
            "marker": {
             "line": {
              "color": "#E5ECF6",
              "width": 0.5
             },
             "pattern": {
              "fillmode": "overlay",
              "size": 10,
              "solidity": 0.2
             }
            },
            "type": "bar"
           }
          ],
          "barpolar": [
           {
            "marker": {
             "line": {
              "color": "#E5ECF6",
              "width": 0.5
             },
             "pattern": {
              "fillmode": "overlay",
              "size": 10,
              "solidity": 0.2
             }
            },
            "type": "barpolar"
           }
          ],
          "carpet": [
           {
            "aaxis": {
             "endlinecolor": "#2a3f5f",
             "gridcolor": "white",
             "linecolor": "white",
             "minorgridcolor": "white",
             "startlinecolor": "#2a3f5f"
            },
            "baxis": {
             "endlinecolor": "#2a3f5f",
             "gridcolor": "white",
             "linecolor": "white",
             "minorgridcolor": "white",
             "startlinecolor": "#2a3f5f"
            },
            "type": "carpet"
           }
          ],
          "choropleth": [
           {
            "colorbar": {
             "outlinewidth": 0,
             "ticks": ""
            },
            "type": "choropleth"
           }
          ],
          "contour": [
           {
            "colorbar": {
             "outlinewidth": 0,
             "ticks": ""
            },
            "colorscale": [
             [
              0,
              "#0d0887"
             ],
             [
              0.1111111111111111,
              "#46039f"
             ],
             [
              0.2222222222222222,
              "#7201a8"
             ],
             [
              0.3333333333333333,
              "#9c179e"
             ],
             [
              0.4444444444444444,
              "#bd3786"
             ],
             [
              0.5555555555555556,
              "#d8576b"
             ],
             [
              0.6666666666666666,
              "#ed7953"
             ],
             [
              0.7777777777777778,
              "#fb9f3a"
             ],
             [
              0.8888888888888888,
              "#fdca26"
             ],
             [
              1,
              "#f0f921"
             ]
            ],
            "type": "contour"
           }
          ],
          "contourcarpet": [
           {
            "colorbar": {
             "outlinewidth": 0,
             "ticks": ""
            },
            "type": "contourcarpet"
           }
          ],
          "heatmap": [
           {
            "colorbar": {
             "outlinewidth": 0,
             "ticks": ""
            },
            "colorscale": [
             [
              0,
              "#0d0887"
             ],
             [
              0.1111111111111111,
              "#46039f"
             ],
             [
              0.2222222222222222,
              "#7201a8"
             ],
             [
              0.3333333333333333,
              "#9c179e"
             ],
             [
              0.4444444444444444,
              "#bd3786"
             ],
             [
              0.5555555555555556,
              "#d8576b"
             ],
             [
              0.6666666666666666,
              "#ed7953"
             ],
             [
              0.7777777777777778,
              "#fb9f3a"
             ],
             [
              0.8888888888888888,
              "#fdca26"
             ],
             [
              1,
              "#f0f921"
             ]
            ],
            "type": "heatmap"
           }
          ],
          "heatmapgl": [
           {
            "colorbar": {
             "outlinewidth": 0,
             "ticks": ""
            },
            "colorscale": [
             [
              0,
              "#0d0887"
             ],
             [
              0.1111111111111111,
              "#46039f"
             ],
             [
              0.2222222222222222,
              "#7201a8"
             ],
             [
              0.3333333333333333,
              "#9c179e"
             ],
             [
              0.4444444444444444,
              "#bd3786"
             ],
             [
              0.5555555555555556,
              "#d8576b"
             ],
             [
              0.6666666666666666,
              "#ed7953"
             ],
             [
              0.7777777777777778,
              "#fb9f3a"
             ],
             [
              0.8888888888888888,
              "#fdca26"
             ],
             [
              1,
              "#f0f921"
             ]
            ],
            "type": "heatmapgl"
           }
          ],
          "histogram": [
           {
            "marker": {
             "pattern": {
              "fillmode": "overlay",
              "size": 10,
              "solidity": 0.2
             }
            },
            "type": "histogram"
           }
          ],
          "histogram2d": [
           {
            "colorbar": {
             "outlinewidth": 0,
             "ticks": ""
            },
            "colorscale": [
             [
              0,
              "#0d0887"
             ],
             [
              0.1111111111111111,
              "#46039f"
             ],
             [
              0.2222222222222222,
              "#7201a8"
             ],
             [
              0.3333333333333333,
              "#9c179e"
             ],
             [
              0.4444444444444444,
              "#bd3786"
             ],
             [
              0.5555555555555556,
              "#d8576b"
             ],
             [
              0.6666666666666666,
              "#ed7953"
             ],
             [
              0.7777777777777778,
              "#fb9f3a"
             ],
             [
              0.8888888888888888,
              "#fdca26"
             ],
             [
              1,
              "#f0f921"
             ]
            ],
            "type": "histogram2d"
           }
          ],
          "histogram2dcontour": [
           {
            "colorbar": {
             "outlinewidth": 0,
             "ticks": ""
            },
            "colorscale": [
             [
              0,
              "#0d0887"
             ],
             [
              0.1111111111111111,
              "#46039f"
             ],
             [
              0.2222222222222222,
              "#7201a8"
             ],
             [
              0.3333333333333333,
              "#9c179e"
             ],
             [
              0.4444444444444444,
              "#bd3786"
             ],
             [
              0.5555555555555556,
              "#d8576b"
             ],
             [
              0.6666666666666666,
              "#ed7953"
             ],
             [
              0.7777777777777778,
              "#fb9f3a"
             ],
             [
              0.8888888888888888,
              "#fdca26"
             ],
             [
              1,
              "#f0f921"
             ]
            ],
            "type": "histogram2dcontour"
           }
          ],
          "mesh3d": [
           {
            "colorbar": {
             "outlinewidth": 0,
             "ticks": ""
            },
            "type": "mesh3d"
           }
          ],
          "parcoords": [
           {
            "line": {
             "colorbar": {
              "outlinewidth": 0,
              "ticks": ""
             }
            },
            "type": "parcoords"
           }
          ],
          "pie": [
           {
            "automargin": true,
            "type": "pie"
           }
          ],
          "scatter": [
           {
            "fillpattern": {
             "fillmode": "overlay",
             "size": 10,
             "solidity": 0.2
            },
            "type": "scatter"
           }
          ],
          "scatter3d": [
           {
            "line": {
             "colorbar": {
              "outlinewidth": 0,
              "ticks": ""
             }
            },
            "marker": {
             "colorbar": {
              "outlinewidth": 0,
              "ticks": ""
             }
            },
            "type": "scatter3d"
           }
          ],
          "scattercarpet": [
           {
            "marker": {
             "colorbar": {
              "outlinewidth": 0,
              "ticks": ""
             }
            },
            "type": "scattercarpet"
           }
          ],
          "scattergeo": [
           {
            "marker": {
             "colorbar": {
              "outlinewidth": 0,
              "ticks": ""
             }
            },
            "type": "scattergeo"
           }
          ],
          "scattergl": [
           {
            "marker": {
             "colorbar": {
              "outlinewidth": 0,
              "ticks": ""
             }
            },
            "type": "scattergl"
           }
          ],
          "scattermapbox": [
           {
            "marker": {
             "colorbar": {
              "outlinewidth": 0,
              "ticks": ""
             }
            },
            "type": "scattermapbox"
           }
          ],
          "scatterpolar": [
           {
            "marker": {
             "colorbar": {
              "outlinewidth": 0,
              "ticks": ""
             }
            },
            "type": "scatterpolar"
           }
          ],
          "scatterpolargl": [
           {
            "marker": {
             "colorbar": {
              "outlinewidth": 0,
              "ticks": ""
             }
            },
            "type": "scatterpolargl"
           }
          ],
          "scatterternary": [
           {
            "marker": {
             "colorbar": {
              "outlinewidth": 0,
              "ticks": ""
             }
            },
            "type": "scatterternary"
           }
          ],
          "surface": [
           {
            "colorbar": {
             "outlinewidth": 0,
             "ticks": ""
            },
            "colorscale": [
             [
              0,
              "#0d0887"
             ],
             [
              0.1111111111111111,
              "#46039f"
             ],
             [
              0.2222222222222222,
              "#7201a8"
             ],
             [
              0.3333333333333333,
              "#9c179e"
             ],
             [
              0.4444444444444444,
              "#bd3786"
             ],
             [
              0.5555555555555556,
              "#d8576b"
             ],
             [
              0.6666666666666666,
              "#ed7953"
             ],
             [
              0.7777777777777778,
              "#fb9f3a"
             ],
             [
              0.8888888888888888,
              "#fdca26"
             ],
             [
              1,
              "#f0f921"
             ]
            ],
            "type": "surface"
           }
          ],
          "table": [
           {
            "cells": {
             "fill": {
              "color": "#EBF0F8"
             },
             "line": {
              "color": "white"
             }
            },
            "header": {
             "fill": {
              "color": "#C8D4E3"
             },
             "line": {
              "color": "white"
             }
            },
            "type": "table"
           }
          ]
         },
         "layout": {
          "annotationdefaults": {
           "arrowcolor": "#2a3f5f",
           "arrowhead": 0,
           "arrowwidth": 1
          },
          "autotypenumbers": "strict",
          "coloraxis": {
           "colorbar": {
            "outlinewidth": 0,
            "ticks": ""
           }
          },
          "colorscale": {
           "diverging": [
            [
             0,
             "#8e0152"
            ],
            [
             0.1,
             "#c51b7d"
            ],
            [
             0.2,
             "#de77ae"
            ],
            [
             0.3,
             "#f1b6da"
            ],
            [
             0.4,
             "#fde0ef"
            ],
            [
             0.5,
             "#f7f7f7"
            ],
            [
             0.6,
             "#e6f5d0"
            ],
            [
             0.7,
             "#b8e186"
            ],
            [
             0.8,
             "#7fbc41"
            ],
            [
             0.9,
             "#4d9221"
            ],
            [
             1,
             "#276419"
            ]
           ],
           "sequential": [
            [
             0,
             "#0d0887"
            ],
            [
             0.1111111111111111,
             "#46039f"
            ],
            [
             0.2222222222222222,
             "#7201a8"
            ],
            [
             0.3333333333333333,
             "#9c179e"
            ],
            [
             0.4444444444444444,
             "#bd3786"
            ],
            [
             0.5555555555555556,
             "#d8576b"
            ],
            [
             0.6666666666666666,
             "#ed7953"
            ],
            [
             0.7777777777777778,
             "#fb9f3a"
            ],
            [
             0.8888888888888888,
             "#fdca26"
            ],
            [
             1,
             "#f0f921"
            ]
           ],
           "sequentialminus": [
            [
             0,
             "#0d0887"
            ],
            [
             0.1111111111111111,
             "#46039f"
            ],
            [
             0.2222222222222222,
             "#7201a8"
            ],
            [
             0.3333333333333333,
             "#9c179e"
            ],
            [
             0.4444444444444444,
             "#bd3786"
            ],
            [
             0.5555555555555556,
             "#d8576b"
            ],
            [
             0.6666666666666666,
             "#ed7953"
            ],
            [
             0.7777777777777778,
             "#fb9f3a"
            ],
            [
             0.8888888888888888,
             "#fdca26"
            ],
            [
             1,
             "#f0f921"
            ]
           ]
          },
          "colorway": [
           "#636efa",
           "#EF553B",
           "#00cc96",
           "#ab63fa",
           "#FFA15A",
           "#19d3f3",
           "#FF6692",
           "#B6E880",
           "#FF97FF",
           "#FECB52"
          ],
          "font": {
           "color": "#2a3f5f"
          },
          "geo": {
           "bgcolor": "white",
           "lakecolor": "white",
           "landcolor": "#E5ECF6",
           "showlakes": true,
           "showland": true,
           "subunitcolor": "white"
          },
          "hoverlabel": {
           "align": "left"
          },
          "hovermode": "closest",
          "mapbox": {
           "style": "light"
          },
          "paper_bgcolor": "white",
          "plot_bgcolor": "#E5ECF6",
          "polar": {
           "angularaxis": {
            "gridcolor": "white",
            "linecolor": "white",
            "ticks": ""
           },
           "bgcolor": "#E5ECF6",
           "radialaxis": {
            "gridcolor": "white",
            "linecolor": "white",
            "ticks": ""
           }
          },
          "scene": {
           "xaxis": {
            "backgroundcolor": "#E5ECF6",
            "gridcolor": "white",
            "gridwidth": 2,
            "linecolor": "white",
            "showbackground": true,
            "ticks": "",
            "zerolinecolor": "white"
           },
           "yaxis": {
            "backgroundcolor": "#E5ECF6",
            "gridcolor": "white",
            "gridwidth": 2,
            "linecolor": "white",
            "showbackground": true,
            "ticks": "",
            "zerolinecolor": "white"
           },
           "zaxis": {
            "backgroundcolor": "#E5ECF6",
            "gridcolor": "white",
            "gridwidth": 2,
            "linecolor": "white",
            "showbackground": true,
            "ticks": "",
            "zerolinecolor": "white"
           }
          },
          "shapedefaults": {
           "line": {
            "color": "#2a3f5f"
           }
          },
          "ternary": {
           "aaxis": {
            "gridcolor": "white",
            "linecolor": "white",
            "ticks": ""
           },
           "baxis": {
            "gridcolor": "white",
            "linecolor": "white",
            "ticks": ""
           },
           "bgcolor": "#E5ECF6",
           "caxis": {
            "gridcolor": "white",
            "linecolor": "white",
            "ticks": ""
           }
          },
          "title": {
           "x": 0.05
          },
          "xaxis": {
           "automargin": true,
           "gridcolor": "white",
           "linecolor": "white",
           "ticks": "",
           "title": {
            "standoff": 15
           },
           "zerolinecolor": "white",
           "zerolinewidth": 2
          },
          "yaxis": {
           "automargin": true,
           "gridcolor": "white",
           "linecolor": "white",
           "ticks": "",
           "title": {
            "standoff": 15
           },
           "zerolinecolor": "white",
           "zerolinewidth": 2
          }
         }
        },
        "title": {
         "text": "Tweets with URLs"
        }
       }
      }
     },
     "metadata": {},
     "output_type": "display_data"
    }
   ],
   "source": [
    "# How many of them contains links \n",
    "count=len(new_df[new_df['Text'].str.contains('https://')])\n",
    "fig=go.Figure(go.Pie(labels=['Contains URLs','Others'],values=[count,1999-count],pull=[0,0.1]))\n",
    "fig.update_layout(autosize=False,title='Tweets with URLs')\n",
    "fig.show()"
   ]
  },
  {
   "cell_type": "code",
   "execution_count": 17,
   "metadata": {},
   "outputs": [
    {
     "data": {
      "text/html": [
       "<div>\n",
       "<style scoped>\n",
       "    .dataframe tbody tr th:only-of-type {\n",
       "        vertical-align: middle;\n",
       "    }\n",
       "\n",
       "    .dataframe tbody tr th {\n",
       "        vertical-align: top;\n",
       "    }\n",
       "\n",
       "    .dataframe thead th {\n",
       "        text-align: right;\n",
       "    }\n",
       "</style>\n",
       "<table border=\"1\" class=\"dataframe\">\n",
       "  <thead>\n",
       "    <tr style=\"text-align: right;\">\n",
       "      <th></th>\n",
       "      <th>Text</th>\n",
       "    </tr>\n",
       "  </thead>\n",
       "  <tbody>\n",
       "    <tr>\n",
       "      <th>0</th>\n",
       "      <td>@kunalb11 i’m an alien</td>\n",
       "    </tr>\n",
       "    <tr>\n",
       "      <th>1</th>\n",
       "      <td>@id_aa_carmack ray tracing on cyberpunk with h...</td>\n",
       "    </tr>\n",
       "    <tr>\n",
       "      <th>2</th>\n",
       "      <td>@joerogan @spotify great interview!</td>\n",
       "    </tr>\n",
       "    <tr>\n",
       "      <th>3</th>\n",
       "      <td>@gtera27 doge is underestimated</td>\n",
       "    </tr>\n",
       "    <tr>\n",
       "      <th>4</th>\n",
       "      <td>@teslacn congratulations tesla china for amazi...</td>\n",
       "    </tr>\n",
       "    <tr>\n",
       "      <th>...</th>\n",
       "      <td>...</td>\n",
       "    </tr>\n",
       "    <tr>\n",
       "      <th>1994</th>\n",
       "      <td>@flcnhvy true, it sounds so surreal, but the n...</td>\n",
       "    </tr>\n",
       "    <tr>\n",
       "      <th>1995</th>\n",
       "      <td>@ppathole make sure to read ur terms &amp;amp; con...</td>\n",
       "    </tr>\n",
       "    <tr>\n",
       "      <th>1996</th>\n",
       "      <td>@teslagong @ppathole samwise gamgee</td>\n",
       "    </tr>\n",
       "    <tr>\n",
       "      <th>1997</th>\n",
       "      <td>@ppathole altho dumb and dumber is &lt;u+0001f525...</td>\n",
       "    </tr>\n",
       "    <tr>\n",
       "      <th>1998</th>\n",
       "      <td>progress update august 28</td>\n",
       "    </tr>\n",
       "  </tbody>\n",
       "</table>\n",
       "<p>1997 rows × 1 columns</p>\n",
       "</div>"
      ],
      "text/plain": [
       "                                                   Text\n",
       "0                                @kunalb11 i’m an alien\n",
       "1     @id_aa_carmack ray tracing on cyberpunk with h...\n",
       "2                   @joerogan @spotify great interview!\n",
       "3                       @gtera27 doge is underestimated\n",
       "4     @teslacn congratulations tesla china for amazi...\n",
       "...                                                 ...\n",
       "1994  @flcnhvy true, it sounds so surreal, but the n...\n",
       "1995  @ppathole make sure to read ur terms &amp; con...\n",
       "1996                @teslagong @ppathole samwise gamgee\n",
       "1997  @ppathole altho dumb and dumber is <u+0001f525...\n",
       "1998                          progress update august 28\n",
       "\n",
       "[1997 rows x 1 columns]"
      ]
     },
     "execution_count": 17,
     "metadata": {},
     "output_type": "execute_result"
    }
   ],
   "source": [
    "new_df"
   ]
  },
  {
   "cell_type": "code",
   "execution_count": 18,
   "metadata": {},
   "outputs": [],
   "source": [
    "# Analyzing the words\n",
    "nlp=spacy.load('en_core_web_sm')"
   ]
  },
  {
   "cell_type": "code",
   "execution_count": 19,
   "metadata": {},
   "outputs": [],
   "source": [
    "# make tweets to single txt/string\n",
    "tweet_txt = ''\n",
    "for i in new_df['Text']:\n",
    "    tweet_txt = (tweet_txt + i ).strip()+ ' '\n",
    "    "
   ]
  },
  {
   "cell_type": "code",
   "execution_count": 20,
   "metadata": {},
   "outputs": [],
   "source": [
    "tweet_txt=nlp(tweet_txt)\n"
   ]
  },
  {
   "cell_type": "code",
   "execution_count": 21,
   "metadata": {},
   "outputs": [],
   "source": [
    "# A dictionary that store all the POS( Parts of speech)\n",
    "a_count_dict=dict()\n",
    "\n",
    "for i in tweet_txt:\n",
    "    if i.pos_ in a_count_dict.keys():\n",
    "        a_count_dict[i.pos_] += 1\n",
    "    else:\n",
    "        a_count_dict[i.pos_] = 1"
   ]
  },
  {
   "cell_type": "code",
   "execution_count": 22,
   "metadata": {},
   "outputs": [
    {
     "data": {
      "text/plain": [
       "{'PROPN': 3380,\n",
       " 'PRON': 1279,\n",
       " 'VERB': 2407,\n",
       " 'DET': 1135,\n",
       " 'ADJ': 2003,\n",
       " 'NOUN': 5152,\n",
       " 'ADP': 1708,\n",
       " 'AUX': 1298,\n",
       " 'PUNCT': 2887,\n",
       " 'X': 615,\n",
       " 'ADV': 1230,\n",
       " 'SPACE': 90,\n",
       " 'INTJ': 244,\n",
       " 'PART': 469,\n",
       " 'SCONJ': 259,\n",
       " 'CCONJ': 502,\n",
       " 'NUM': 441,\n",
       " 'SYM': 82}"
      ]
     },
     "execution_count": 22,
     "metadata": {},
     "output_type": "execute_result"
    }
   ],
   "source": [
    "# These are all parts of speech we have\n",
    "a_count_dict"
   ]
  },
  {
   "attachments": {
    "image-2.png": {
     "image/png": "[encoded data removed]"
    }
   },
   "cell_type": "markdown",
   "metadata": {},
   "source": [
    "![image.png](attachment:image-2.png)"
   ]
  },
  {
   "cell_type": "code",
   "execution_count": 23,
   "metadata": {},
   "outputs": [
    {
     "data": {
      "application/vnd.plotly.v1+json": {
       "config": {
        "plotlyServerURL": "https://plot.ly"
       },
       "data": [
        {
         "marker": {
          "color": [
           3380,
           1279,
           2407,
           1135,
           2003,
           5152,
           1708,
           1298,
           2887,
           615,
           1230,
           90,
           244,
           469,
           259,
           502,
           441,
           82
          ],
          "colorscale": [
           [
            0,
            "rgb(230, 240, 240)"
           ],
           [
            0.09090909090909091,
            "rgb(191, 221, 229)"
           ],
           [
            0.18181818181818182,
            "rgb(156, 201, 226)"
           ],
           [
            0.2727272727272727,
            "rgb(129, 180, 227)"
           ],
           [
            0.36363636363636365,
            "rgb(115, 154, 228)"
           ],
           [
            0.45454545454545453,
            "rgb(117, 127, 221)"
           ],
           [
            0.5454545454545454,
            "rgb(120, 100, 202)"
           ],
           [
            0.6363636363636364,
            "rgb(119, 74, 175)"
           ],
           [
            0.7272727272727273,
            "rgb(113, 50, 141)"
           ],
           [
            0.8181818181818182,
            "rgb(100, 31, 104)"
           ],
           [
            0.9090909090909091,
            "rgb(80, 20, 66)"
           ],
           [
            1,
            "rgb(54, 14, 36)"
           ]
          ]
         },
         "orientation": "h",
         "text": [
          "3380",
          "1279",
          "2407",
          "1135",
          "2003",
          "5152",
          "1708",
          "1298",
          "2887",
          "615",
          "1230",
          "90",
          "244",
          "469",
          "259",
          "502",
          "441",
          "82"
         ],
         "type": "bar",
         "x": [
          3380,
          1279,
          2407,
          1135,
          2003,
          5152,
          1708,
          1298,
          2887,
          615,
          1230,
          90,
          244,
          469,
          259,
          502,
          441,
          82
         ],
         "y": [
          "PROPN",
          "PRON",
          "VERB",
          "DET",
          "ADJ",
          "NOUN",
          "ADP",
          "AUX",
          "PUNCT",
          "X",
          "ADV",
          "SPACE",
          "INTJ",
          "PART",
          "SCONJ",
          "CCONJ",
          "NUM",
          "SYM"
         ]
        }
       ],
       "layout": {
        "template": {
         "data": {
          "bar": [
           {
            "error_x": {
             "color": "#2a3f5f"
            },
            "error_y": {
             "color": "#2a3f5f"
            },
            "marker": {
             "line": {
              "color": "#E5ECF6",
              "width": 0.5
             },
             "pattern": {
              "fillmode": "overlay",
              "size": 10,
              "solidity": 0.2
             }
            },
            "type": "bar"
           }
          ],
          "barpolar": [
           {
            "marker": {
             "line": {
              "color": "#E5ECF6",
              "width": 0.5
             },
             "pattern": {
              "fillmode": "overlay",
              "size": 10,
              "solidity": 0.2
             }
            },
            "type": "barpolar"
           }
          ],
          "carpet": [
           {
            "aaxis": {
             "endlinecolor": "#2a3f5f",
             "gridcolor": "white",
             "linecolor": "white",
             "minorgridcolor": "white",
             "startlinecolor": "#2a3f5f"
            },
            "baxis": {
             "endlinecolor": "#2a3f5f",
             "gridcolor": "white",
             "linecolor": "white",
             "minorgridcolor": "white",
             "startlinecolor": "#2a3f5f"
            },
            "type": "carpet"
           }
          ],
          "choropleth": [
           {
            "colorbar": {
             "outlinewidth": 0,
             "ticks": ""
            },
            "type": "choropleth"
           }
          ],
          "contour": [
           {
            "colorbar": {
             "outlinewidth": 0,
             "ticks": ""
            },
            "colorscale": [
             [
              0,
              "#0d0887"
             ],
             [
              0.1111111111111111,
              "#46039f"
             ],
             [
              0.2222222222222222,
              "#7201a8"
             ],
             [
              0.3333333333333333,
              "#9c179e"
             ],
             [
              0.4444444444444444,
              "#bd3786"
             ],
             [
              0.5555555555555556,
              "#d8576b"
             ],
             [
              0.6666666666666666,
              "#ed7953"
             ],
             [
              0.7777777777777778,
              "#fb9f3a"
             ],
             [
              0.8888888888888888,
              "#fdca26"
             ],
             [
              1,
              "#f0f921"
             ]
            ],
            "type": "contour"
           }
          ],
          "contourcarpet": [
           {
            "colorbar": {
             "outlinewidth": 0,
             "ticks": ""
            },
            "type": "contourcarpet"
           }
          ],
          "heatmap": [
           {
            "colorbar": {
             "outlinewidth": 0,
             "ticks": ""
            },
            "colorscale": [
             [
              0,
              "#0d0887"
             ],
             [
              0.1111111111111111,
              "#46039f"
             ],
             [
              0.2222222222222222,
              "#7201a8"
             ],
             [
              0.3333333333333333,
              "#9c179e"
             ],
             [
              0.4444444444444444,
              "#bd3786"
             ],
             [
              0.5555555555555556,
              "#d8576b"
             ],
             [
              0.6666666666666666,
              "#ed7953"
             ],
             [
              0.7777777777777778,
              "#fb9f3a"
             ],
             [
              0.8888888888888888,
              "#fdca26"
             ],
             [
              1,
              "#f0f921"
             ]
            ],
            "type": "heatmap"
           }
          ],
          "heatmapgl": [
           {
            "colorbar": {
             "outlinewidth": 0,
             "ticks": ""
            },
            "colorscale": [
             [
              0,
              "#0d0887"
             ],
             [
              0.1111111111111111,
              "#46039f"
             ],
             [
              0.2222222222222222,
              "#7201a8"
             ],
             [
              0.3333333333333333,
              "#9c179e"
             ],
             [
              0.4444444444444444,
              "#bd3786"
             ],
             [
              0.5555555555555556,
              "#d8576b"
             ],
             [
              0.6666666666666666,
              "#ed7953"
             ],
             [
              0.7777777777777778,
              "#fb9f3a"
             ],
             [
              0.8888888888888888,
              "#fdca26"
             ],
             [
              1,
              "#f0f921"
             ]
            ],
            "type": "heatmapgl"
           }
          ],
          "histogram": [
           {
            "marker": {
             "pattern": {
              "fillmode": "overlay",
              "size": 10,
              "solidity": 0.2
             }
            },
            "type": "histogram"
           }
          ],
          "histogram2d": [
           {
            "colorbar": {
             "outlinewidth": 0,
             "ticks": ""
            },
            "colorscale": [
             [
              0,
              "#0d0887"
             ],
             [
              0.1111111111111111,
              "#46039f"
             ],
             [
              0.2222222222222222,
              "#7201a8"
             ],
             [
              0.3333333333333333,
              "#9c179e"
             ],
             [
              0.4444444444444444,
              "#bd3786"
             ],
             [
              0.5555555555555556,
              "#d8576b"
             ],
             [
              0.6666666666666666,
              "#ed7953"
             ],
             [
              0.7777777777777778,
              "#fb9f3a"
             ],
             [
              0.8888888888888888,
              "#fdca26"
             ],
             [
              1,
              "#f0f921"
             ]
            ],
            "type": "histogram2d"
           }
          ],
          "histogram2dcontour": [
           {
            "colorbar": {
             "outlinewidth": 0,
             "ticks": ""
            },
            "colorscale": [
             [
              0,
              "#0d0887"
             ],
             [
              0.1111111111111111,
              "#46039f"
             ],
             [
              0.2222222222222222,
              "#7201a8"
             ],
             [
              0.3333333333333333,
              "#9c179e"
             ],
             [
              0.4444444444444444,
              "#bd3786"
             ],
             [
              0.5555555555555556,
              "#d8576b"
             ],
             [
              0.6666666666666666,
              "#ed7953"
             ],
             [
              0.7777777777777778,
              "#fb9f3a"
             ],
             [
              0.8888888888888888,
              "#fdca26"
             ],
             [
              1,
              "#f0f921"
             ]
            ],
            "type": "histogram2dcontour"
           }
          ],
          "mesh3d": [
           {
            "colorbar": {
             "outlinewidth": 0,
             "ticks": ""
            },
            "type": "mesh3d"
           }
          ],
          "parcoords": [
           {
            "line": {
             "colorbar": {
              "outlinewidth": 0,
              "ticks": ""
             }
            },
            "type": "parcoords"
           }
          ],
          "pie": [
           {
            "automargin": true,
            "type": "pie"
           }
          ],
          "scatter": [
           {
            "fillpattern": {
             "fillmode": "overlay",
             "size": 10,
             "solidity": 0.2
            },
            "type": "scatter"
           }
          ],
          "scatter3d": [
           {
            "line": {
             "colorbar": {
              "outlinewidth": 0,
              "ticks": ""
             }
            },
            "marker": {
             "colorbar": {
              "outlinewidth": 0,
              "ticks": ""
             }
            },
            "type": "scatter3d"
           }
          ],
          "scattercarpet": [
           {
            "marker": {
             "colorbar": {
              "outlinewidth": 0,
              "ticks": ""
             }
            },
            "type": "scattercarpet"
           }
          ],
          "scattergeo": [
           {
            "marker": {
             "colorbar": {
              "outlinewidth": 0,
              "ticks": ""
             }
            },
            "type": "scattergeo"
           }
          ],
          "scattergl": [
           {
            "marker": {
             "colorbar": {
              "outlinewidth": 0,
              "ticks": ""
             }
            },
            "type": "scattergl"
           }
          ],
          "scattermapbox": [
           {
            "marker": {
             "colorbar": {
              "outlinewidth": 0,
              "ticks": ""
             }
            },
            "type": "scattermapbox"
           }
          ],
          "scatterpolar": [
           {
            "marker": {
             "colorbar": {
              "outlinewidth": 0,
              "ticks": ""
             }
            },
            "type": "scatterpolar"
           }
          ],
          "scatterpolargl": [
           {
            "marker": {
             "colorbar": {
              "outlinewidth": 0,
              "ticks": ""
             }
            },
            "type": "scatterpolargl"
           }
          ],
          "scatterternary": [
           {
            "marker": {
             "colorbar": {
              "outlinewidth": 0,
              "ticks": ""
             }
            },
            "type": "scatterternary"
           }
          ],
          "surface": [
           {
            "colorbar": {
             "outlinewidth": 0,
             "ticks": ""
            },
            "colorscale": [
             [
              0,
              "#0d0887"
             ],
             [
              0.1111111111111111,
              "#46039f"
             ],
             [
              0.2222222222222222,
              "#7201a8"
             ],
             [
              0.3333333333333333,
              "#9c179e"
             ],
             [
              0.4444444444444444,
              "#bd3786"
             ],
             [
              0.5555555555555556,
              "#d8576b"
             ],
             [
              0.6666666666666666,
              "#ed7953"
             ],
             [
              0.7777777777777778,
              "#fb9f3a"
             ],
             [
              0.8888888888888888,
              "#fdca26"
             ],
             [
              1,
              "#f0f921"
             ]
            ],
            "type": "surface"
           }
          ],
          "table": [
           {
            "cells": {
             "fill": {
              "color": "#EBF0F8"
             },
             "line": {
              "color": "white"
             }
            },
            "header": {
             "fill": {
              "color": "#C8D4E3"
             },
             "line": {
              "color": "white"
             }
            },
            "type": "table"
           }
          ]
         },
         "layout": {
          "annotationdefaults": {
           "arrowcolor": "#2a3f5f",
           "arrowhead": 0,
           "arrowwidth": 1
          },
          "autotypenumbers": "strict",
          "coloraxis": {
           "colorbar": {
            "outlinewidth": 0,
            "ticks": ""
           }
          },
          "colorscale": {
           "diverging": [
            [
             0,
             "#8e0152"
            ],
            [
             0.1,
             "#c51b7d"
            ],
            [
             0.2,
             "#de77ae"
            ],
            [
             0.3,
             "#f1b6da"
            ],
            [
             0.4,
             "#fde0ef"
            ],
            [
             0.5,
             "#f7f7f7"
            ],
            [
             0.6,
             "#e6f5d0"
            ],
            [
             0.7,
             "#b8e186"
            ],
            [
             0.8,
             "#7fbc41"
            ],
            [
             0.9,
             "#4d9221"
            ],
            [
             1,
             "#276419"
            ]
           ],
           "sequential": [
            [
             0,
             "#0d0887"
            ],
            [
             0.1111111111111111,
             "#46039f"
            ],
            [
             0.2222222222222222,
             "#7201a8"
            ],
            [
             0.3333333333333333,
             "#9c179e"
            ],
            [
             0.4444444444444444,
             "#bd3786"
            ],
            [
             0.5555555555555556,
             "#d8576b"
            ],
            [
             0.6666666666666666,
             "#ed7953"
            ],
            [
             0.7777777777777778,
             "#fb9f3a"
            ],
            [
             0.8888888888888888,
             "#fdca26"
            ],
            [
             1,
             "#f0f921"
            ]
           ],
           "sequentialminus": [
            [
             0,
             "#0d0887"
            ],
            [
             0.1111111111111111,
             "#46039f"
            ],
            [
             0.2222222222222222,
             "#7201a8"
            ],
            [
             0.3333333333333333,
             "#9c179e"
            ],
            [
             0.4444444444444444,
             "#bd3786"
            ],
            [
             0.5555555555555556,
             "#d8576b"
            ],
            [
             0.6666666666666666,
             "#ed7953"
            ],
            [
             0.7777777777777778,
             "#fb9f3a"
            ],
            [
             0.8888888888888888,
             "#fdca26"
            ],
            [
             1,
             "#f0f921"
            ]
           ]
          },
          "colorway": [
           "#636efa",
           "#EF553B",
           "#00cc96",
           "#ab63fa",
           "#FFA15A",
           "#19d3f3",
           "#FF6692",
           "#B6E880",
           "#FF97FF",
           "#FECB52"
          ],
          "font": {
           "color": "#2a3f5f"
          },
          "geo": {
           "bgcolor": "white",
           "lakecolor": "white",
           "landcolor": "#E5ECF6",
           "showlakes": true,
           "showland": true,
           "subunitcolor": "white"
          },
          "hoverlabel": {
           "align": "left"
          },
          "hovermode": "closest",
          "mapbox": {
           "style": "light"
          },
          "paper_bgcolor": "white",
          "plot_bgcolor": "#E5ECF6",
          "polar": {
           "angularaxis": {
            "gridcolor": "white",
            "linecolor": "white",
            "ticks": ""
           },
           "bgcolor": "#E5ECF6",
           "radialaxis": {
            "gridcolor": "white",
            "linecolor": "white",
            "ticks": ""
           }
          },
          "scene": {
           "xaxis": {
            "backgroundcolor": "#E5ECF6",
            "gridcolor": "white",
            "gridwidth": 2,
            "linecolor": "white",
            "showbackground": true,
            "ticks": "",
            "zerolinecolor": "white"
           },
           "yaxis": {
            "backgroundcolor": "#E5ECF6",
            "gridcolor": "white",
            "gridwidth": 2,
            "linecolor": "white",
            "showbackground": true,
            "ticks": "",
            "zerolinecolor": "white"
           },
           "zaxis": {
            "backgroundcolor": "#E5ECF6",
            "gridcolor": "white",
            "gridwidth": 2,
            "linecolor": "white",
            "showbackground": true,
            "ticks": "",
            "zerolinecolor": "white"
           }
          },
          "shapedefaults": {
           "line": {
            "color": "#2a3f5f"
           }
          },
          "ternary": {
           "aaxis": {
            "gridcolor": "white",
            "linecolor": "white",
            "ticks": ""
           },
           "baxis": {
            "gridcolor": "white",
            "linecolor": "white",
            "ticks": ""
           },
           "bgcolor": "#E5ECF6",
           "caxis": {
            "gridcolor": "white",
            "linecolor": "white",
            "ticks": ""
           }
          },
          "title": {
           "x": 0.05
          },
          "xaxis": {
           "automargin": true,
           "gridcolor": "white",
           "linecolor": "white",
           "ticks": "",
           "title": {
            "standoff": 15
           },
           "zerolinecolor": "white",
           "zerolinewidth": 2
          },
          "yaxis": {
           "automargin": true,
           "gridcolor": "white",
           "linecolor": "white",
           "ticks": "",
           "title": {
            "standoff": 15
           },
           "zerolinecolor": "white",
           "zerolinewidth": 2
          }
         }
        },
        "title": {
         "text": "POS count"
        }
       }
      }
     },
     "metadata": {},
     "output_type": "display_data"
    }
   ],
   "source": [
    "x=list(a_count_dict.values())\n",
    "y=list(a_count_dict.keys())\n",
    "fig=go.Figure(go.Bar(x=x,\n",
    "                     y=y,\n",
    "                     text=x,\n",
    "                     orientation='h',\n",
    "                     marker=dict(color=x,\n",
    "                                    colorscale='dense') ))\n",
    "fig.update_layout(title='POS count')\n",
    "fig.show()"
   ]
  },
  {
   "cell_type": "code",
   "execution_count": 24,
   "metadata": {},
   "outputs": [],
   "source": [
    "# defining a function to clean our string\n",
    "\n",
    "def clean_it (txt):\n",
    "  emoj = re.compile(\"[\"\n",
    "        u\"\\U0001F600-\\U0001F64F\"  # emoticons\n",
    "        u\"\\U0001F300-\\U0001F5FF\"  # symbols & pictographs\n",
    "        u\"\\U0001F680-\\U0001F6FF\"  # transport & map symbols\n",
    "        u\"\\U0001F1E0-\\U0001F1FF\"  # flags (iOS)\n",
    "        u\"\\U00002500-\\U00002BEF\"  # chinese char\n",
    "        u\"\\U00002702-\\U000027B0\"\n",
    "        u\"\\U000024C2-\\U0001F251\"\n",
    "        u\"\\U0001f926-\\U0001f937\"\n",
    "        u\"\\U00010000-\\U0010ffff\"\n",
    "        u\"\\u2640-\\u2642\" \n",
    "        u\"\\u2600-\\u2B55\"\n",
    "        u\"\\u200d\"\n",
    "        u\"\\u23cf\"\n",
    "        u\"\\u23e9\"\n",
    "        u\"\\u231a\"\n",
    "        u\"\\ufe0f\"  # dingbats\n",
    "        u\"\\u3030\"\n",
    "                      \"]+\", re.UNICODE)\n",
    "\n",
    "  txt = re.sub('rt', '', txt) # remove 'RT' from tweets\n",
    "  txt = re.sub('#[a-z0-9]+', '', txt) # remove the '#' from the tweets\n",
    "  txt = re.sub('\\\\n', '', txt) # remove the '\\n' character\n",
    "  txt = re.sub('https?:\\/\\/\\S+', '', txt) # remove the hyperlinks\n",
    "  txt = re.sub('@[\\S]*', '', txt) # remove @mentions\n",
    "  txt = re.sub('^[\\s]+|[\\s]+$', '', txt) # remove leading and trailing whitespaces\n",
    "  txt = re.sub(emoj, '', txt) # remove emojis\n",
    "  txt = re.sub('[^a-z ]','',txt) #removes everything except alphabets\n",
    "  return [x.strip() for x in txt.split()]"
   ]
  },
  {
   "cell_type": "code",
   "execution_count": 25,
   "metadata": {},
   "outputs": [
    {
     "data": {
      "text/html": [
       "<div>\n",
       "<style scoped>\n",
       "    .dataframe tbody tr th:only-of-type {\n",
       "        vertical-align: middle;\n",
       "    }\n",
       "\n",
       "    .dataframe tbody tr th {\n",
       "        vertical-align: top;\n",
       "    }\n",
       "\n",
       "    .dataframe thead th {\n",
       "        text-align: right;\n",
       "    }\n",
       "</style>\n",
       "<table border=\"1\" class=\"dataframe\">\n",
       "  <thead>\n",
       "    <tr style=\"text-align: right;\">\n",
       "      <th></th>\n",
       "      <th>Text</th>\n",
       "      <th>cleaned tweets</th>\n",
       "    </tr>\n",
       "  </thead>\n",
       "  <tbody>\n",
       "    <tr>\n",
       "      <th>0</th>\n",
       "      <td>@kunalb11 i’m an alien</td>\n",
       "      <td>[im, an, alien]</td>\n",
       "    </tr>\n",
       "    <tr>\n",
       "      <th>1</th>\n",
       "      <td>@id_aa_carmack ray tracing on cyberpunk with h...</td>\n",
       "      <td>[ray, tracing, on, cyberpunk, with, hdr, is, n...</td>\n",
       "    </tr>\n",
       "    <tr>\n",
       "      <th>2</th>\n",
       "      <td>@joerogan @spotify great interview!</td>\n",
       "      <td>[great, interview]</td>\n",
       "    </tr>\n",
       "    <tr>\n",
       "      <th>3</th>\n",
       "      <td>@gtera27 doge is underestimated</td>\n",
       "      <td>[doge, is, underestimated]</td>\n",
       "    </tr>\n",
       "    <tr>\n",
       "      <th>4</th>\n",
       "      <td>@teslacn congratulations tesla china for amazi...</td>\n",
       "      <td>[congratulations, tesla, china, for, amazing, ...</td>\n",
       "    </tr>\n",
       "  </tbody>\n",
       "</table>\n",
       "</div>"
      ],
      "text/plain": [
       "                                                Text  \\\n",
       "0                             @kunalb11 i’m an alien   \n",
       "1  @id_aa_carmack ray tracing on cyberpunk with h...   \n",
       "2                @joerogan @spotify great interview!   \n",
       "3                    @gtera27 doge is underestimated   \n",
       "4  @teslacn congratulations tesla china for amazi...   \n",
       "\n",
       "                                      cleaned tweets  \n",
       "0                                    [im, an, alien]  \n",
       "1  [ray, tracing, on, cyberpunk, with, hdr, is, n...  \n",
       "2                                 [great, interview]  \n",
       "3                         [doge, is, underestimated]  \n",
       "4  [congratulations, tesla, china, for, amazing, ...  "
      ]
     },
     "execution_count": 25,
     "metadata": {},
     "output_type": "execute_result"
    }
   ],
   "source": [
    "new_df['cleaned tweets']=new_df['Text'].apply(clean_it)\n",
    "new_df.head()"
   ]
  },
  {
   "cell_type": "code",
   "execution_count": 26,
   "metadata": {},
   "outputs": [],
   "source": [
    "# Now removing empty tweets if any\n",
    "new_df=new_df[new_df['cleaned tweets']!='']"
   ]
  },
  {
   "cell_type": "code",
   "execution_count": 27,
   "metadata": {},
   "outputs": [],
   "source": [
    "# removing 'im' as we dont need them\n",
    "# Also single word are not needed\n",
    "new_df['cleaned tweets']=new_df['cleaned tweets'].apply(lambda x: [x for x in x if (x!='im') and (len(x)>1)])"
   ]
  },
  {
   "cell_type": "code",
   "execution_count": 28,
   "metadata": {},
   "outputs": [],
   "source": [
    "# Now we have to correct all spelling mistakes \n",
    "# new_df['cleaned tweets']=new_df['cleaned tweets'].apply(lambda x: )"
   ]
  },
  {
   "cell_type": "code",
   "execution_count": 29,
   "metadata": {},
   "outputs": [
    {
     "data": {
      "text/plain": [
       "TextBlob(\"done\")"
      ]
     },
     "execution_count": 29,
     "metadata": {},
     "output_type": "execute_result"
    }
   ],
   "source": [
    "\n",
    "TextBlob('doge').correct()"
   ]
  },
  {
   "cell_type": "code",
   "execution_count": 30,
   "metadata": {},
   "outputs": [],
   "source": [
    "# Will not use correct spellling as its not robust"
   ]
  },
  {
   "cell_type": "code",
   "execution_count": 31,
   "metadata": {},
   "outputs": [],
   "source": [
    "# Now removing stop words\n",
    "new_df['cleaned tweets']=new_df['cleaned tweets'].apply(lambda y: [y for y in y if y not in set(stopwords.words('english'))] )"
   ]
  },
  {
   "cell_type": "code",
   "execution_count": 32,
   "metadata": {},
   "outputs": [
    {
     "data": {
      "text/html": [
       "<div>\n",
       "<style scoped>\n",
       "    .dataframe tbody tr th:only-of-type {\n",
       "        vertical-align: middle;\n",
       "    }\n",
       "\n",
       "    .dataframe tbody tr th {\n",
       "        vertical-align: top;\n",
       "    }\n",
       "\n",
       "    .dataframe thead th {\n",
       "        text-align: right;\n",
       "    }\n",
       "</style>\n",
       "<table border=\"1\" class=\"dataframe\">\n",
       "  <thead>\n",
       "    <tr style=\"text-align: right;\">\n",
       "      <th></th>\n",
       "      <th>Text</th>\n",
       "      <th>cleaned tweets</th>\n",
       "    </tr>\n",
       "  </thead>\n",
       "  <tbody>\n",
       "    <tr>\n",
       "      <th>0</th>\n",
       "      <td>@kunalb11 i’m an alien</td>\n",
       "      <td>[alien]</td>\n",
       "    </tr>\n",
       "    <tr>\n",
       "      <th>1</th>\n",
       "      <td>@id_aa_carmack ray tracing on cyberpunk with h...</td>\n",
       "      <td>[ray, tracing, cyberpunk, hdr, nextlevel, tried]</td>\n",
       "    </tr>\n",
       "    <tr>\n",
       "      <th>2</th>\n",
       "      <td>@joerogan @spotify great interview!</td>\n",
       "      <td>[great, interview]</td>\n",
       "    </tr>\n",
       "    <tr>\n",
       "      <th>3</th>\n",
       "      <td>@gtera27 doge is underestimated</td>\n",
       "      <td>[doge, underestimated]</td>\n",
       "    </tr>\n",
       "    <tr>\n",
       "      <th>4</th>\n",
       "      <td>@teslacn congratulations tesla china for amazi...</td>\n",
       "      <td>[congratulations, tesla, china, amazing, execu...</td>\n",
       "    </tr>\n",
       "    <tr>\n",
       "      <th>...</th>\n",
       "      <td>...</td>\n",
       "      <td>...</td>\n",
       "    </tr>\n",
       "    <tr>\n",
       "      <th>1994</th>\n",
       "      <td>@flcnhvy true, it sounds so surreal, but the n...</td>\n",
       "      <td>[true, sounds, surreal, negative, propaganda, ...</td>\n",
       "    </tr>\n",
       "    <tr>\n",
       "      <th>1995</th>\n",
       "      <td>@ppathole make sure to read ur terms &amp;amp; con...</td>\n",
       "      <td>[make, sure, read, ur, terms, amp, conditions,...</td>\n",
       "    </tr>\n",
       "    <tr>\n",
       "      <th>1996</th>\n",
       "      <td>@teslagong @ppathole samwise gamgee</td>\n",
       "      <td>[samwise, gamgee]</td>\n",
       "    </tr>\n",
       "    <tr>\n",
       "      <th>1997</th>\n",
       "      <td>@ppathole altho dumb and dumber is &lt;u+0001f525...</td>\n",
       "      <td>[altho, dumb, dumber, ufuf]</td>\n",
       "    </tr>\n",
       "    <tr>\n",
       "      <th>1998</th>\n",
       "      <td>progress update august 28</td>\n",
       "      <td>[progress, update, august]</td>\n",
       "    </tr>\n",
       "  </tbody>\n",
       "</table>\n",
       "<p>1997 rows × 2 columns</p>\n",
       "</div>"
      ],
      "text/plain": [
       "                                                   Text  \\\n",
       "0                                @kunalb11 i’m an alien   \n",
       "1     @id_aa_carmack ray tracing on cyberpunk with h...   \n",
       "2                   @joerogan @spotify great interview!   \n",
       "3                       @gtera27 doge is underestimated   \n",
       "4     @teslacn congratulations tesla china for amazi...   \n",
       "...                                                 ...   \n",
       "1994  @flcnhvy true, it sounds so surreal, but the n...   \n",
       "1995  @ppathole make sure to read ur terms &amp; con...   \n",
       "1996                @teslagong @ppathole samwise gamgee   \n",
       "1997  @ppathole altho dumb and dumber is <u+0001f525...   \n",
       "1998                          progress update august 28   \n",
       "\n",
       "                                         cleaned tweets  \n",
       "0                                               [alien]  \n",
       "1      [ray, tracing, cyberpunk, hdr, nextlevel, tried]  \n",
       "2                                    [great, interview]  \n",
       "3                                [doge, underestimated]  \n",
       "4     [congratulations, tesla, china, amazing, execu...  \n",
       "...                                                 ...  \n",
       "1994  [true, sounds, surreal, negative, propaganda, ...  \n",
       "1995  [make, sure, read, ur, terms, amp, conditions,...  \n",
       "1996                                  [samwise, gamgee]  \n",
       "1997                        [altho, dumb, dumber, ufuf]  \n",
       "1998                         [progress, update, august]  \n",
       "\n",
       "[1997 rows x 2 columns]"
      ]
     },
     "execution_count": 32,
     "metadata": {},
     "output_type": "execute_result"
    }
   ],
   "source": [
    "new_df"
   ]
  },
  {
   "cell_type": "code",
   "execution_count": 33,
   "metadata": {},
   "outputs": [],
   "source": [
    "# Now using lemmatizer\n",
    "new_df['cleaned tweets']=new_df['cleaned tweets'].apply(lambda x: ' '.join([WordNetLemmatizer().lemmatize(y).strip() for y in x]) )"
   ]
  },
  {
   "cell_type": "code",
   "execution_count": 34,
   "metadata": {},
   "outputs": [
    {
     "data": {
      "text/html": [
       "<div>\n",
       "<style scoped>\n",
       "    .dataframe tbody tr th:only-of-type {\n",
       "        vertical-align: middle;\n",
       "    }\n",
       "\n",
       "    .dataframe tbody tr th {\n",
       "        vertical-align: top;\n",
       "    }\n",
       "\n",
       "    .dataframe thead th {\n",
       "        text-align: right;\n",
       "    }\n",
       "</style>\n",
       "<table border=\"1\" class=\"dataframe\">\n",
       "  <thead>\n",
       "    <tr style=\"text-align: right;\">\n",
       "      <th></th>\n",
       "      <th>Text</th>\n",
       "      <th>cleaned tweets</th>\n",
       "    </tr>\n",
       "  </thead>\n",
       "  <tbody>\n",
       "    <tr>\n",
       "      <th>0</th>\n",
       "      <td>@kunalb11 i’m an alien</td>\n",
       "      <td>alien</td>\n",
       "    </tr>\n",
       "    <tr>\n",
       "      <th>1</th>\n",
       "      <td>@id_aa_carmack ray tracing on cyberpunk with h...</td>\n",
       "      <td>ray tracing cyberpunk hdr nextlevel tried</td>\n",
       "    </tr>\n",
       "    <tr>\n",
       "      <th>2</th>\n",
       "      <td>@joerogan @spotify great interview!</td>\n",
       "      <td>great interview</td>\n",
       "    </tr>\n",
       "    <tr>\n",
       "      <th>3</th>\n",
       "      <td>@gtera27 doge is underestimated</td>\n",
       "      <td>doge underestimated</td>\n",
       "    </tr>\n",
       "    <tr>\n",
       "      <th>4</th>\n",
       "      <td>@teslacn congratulations tesla china for amazi...</td>\n",
       "      <td>congratulation tesla china amazing execution l...</td>\n",
       "    </tr>\n",
       "    <tr>\n",
       "      <th>...</th>\n",
       "      <td>...</td>\n",
       "      <td>...</td>\n",
       "    </tr>\n",
       "    <tr>\n",
       "      <th>1994</th>\n",
       "      <td>@flcnhvy true, it sounds so surreal, but the n...</td>\n",
       "      <td>true sound surreal negative propaganda still a...</td>\n",
       "    </tr>\n",
       "    <tr>\n",
       "      <th>1995</th>\n",
       "      <td>@ppathole make sure to read ur terms &amp;amp; con...</td>\n",
       "      <td>make sure read ur term amp condition clicking ...</td>\n",
       "    </tr>\n",
       "    <tr>\n",
       "      <th>1996</th>\n",
       "      <td>@teslagong @ppathole samwise gamgee</td>\n",
       "      <td>samwise gamgee</td>\n",
       "    </tr>\n",
       "    <tr>\n",
       "      <th>1997</th>\n",
       "      <td>@ppathole altho dumb and dumber is &lt;u+0001f525...</td>\n",
       "      <td>altho dumb dumber ufuf</td>\n",
       "    </tr>\n",
       "    <tr>\n",
       "      <th>1998</th>\n",
       "      <td>progress update august 28</td>\n",
       "      <td>progress update august</td>\n",
       "    </tr>\n",
       "  </tbody>\n",
       "</table>\n",
       "<p>1997 rows × 2 columns</p>\n",
       "</div>"
      ],
      "text/plain": [
       "                                                   Text  \\\n",
       "0                                @kunalb11 i’m an alien   \n",
       "1     @id_aa_carmack ray tracing on cyberpunk with h...   \n",
       "2                   @joerogan @spotify great interview!   \n",
       "3                       @gtera27 doge is underestimated   \n",
       "4     @teslacn congratulations tesla china for amazi...   \n",
       "...                                                 ...   \n",
       "1994  @flcnhvy true, it sounds so surreal, but the n...   \n",
       "1995  @ppathole make sure to read ur terms &amp; con...   \n",
       "1996                @teslagong @ppathole samwise gamgee   \n",
       "1997  @ppathole altho dumb and dumber is <u+0001f525...   \n",
       "1998                          progress update august 28   \n",
       "\n",
       "                                         cleaned tweets  \n",
       "0                                                 alien  \n",
       "1             ray tracing cyberpunk hdr nextlevel tried  \n",
       "2                                       great interview  \n",
       "3                                   doge underestimated  \n",
       "4     congratulation tesla china amazing execution l...  \n",
       "...                                                 ...  \n",
       "1994  true sound surreal negative propaganda still a...  \n",
       "1995  make sure read ur term amp condition clicking ...  \n",
       "1996                                     samwise gamgee  \n",
       "1997                             altho dumb dumber ufuf  \n",
       "1998                             progress update august  \n",
       "\n",
       "[1997 rows x 2 columns]"
      ]
     },
     "execution_count": 34,
     "metadata": {},
     "output_type": "execute_result"
    }
   ],
   "source": [
    "new_df"
   ]
  },
  {
   "cell_type": "code",
   "execution_count": 35,
   "metadata": {},
   "outputs": [],
   "source": [
    "SIA = SentimentIntensityAnalyzer()"
   ]
  },
  {
   "cell_type": "code",
   "execution_count": 36,
   "metadata": {},
   "outputs": [],
   "source": [
    "# new_df[['neg','neu','pos','compound']]=new_df['cleaned tweets'].apply(lambda x: pd.Series(SIA.polarity_scores(x).values()))"
   ]
  },
  {
   "cell_type": "code",
   "execution_count": 37,
   "metadata": {},
   "outputs": [],
   "source": [
    "new_df['compound'] = new_df['cleaned tweets'].apply(lambda x: SIA.polarity_scores(x)['compound'])"
   ]
  },
  {
   "cell_type": "code",
   "execution_count": 38,
   "metadata": {},
   "outputs": [
    {
     "data": {
      "text/html": [
       "<div>\n",
       "<style scoped>\n",
       "    .dataframe tbody tr th:only-of-type {\n",
       "        vertical-align: middle;\n",
       "    }\n",
       "\n",
       "    .dataframe tbody tr th {\n",
       "        vertical-align: top;\n",
       "    }\n",
       "\n",
       "    .dataframe thead th {\n",
       "        text-align: right;\n",
       "    }\n",
       "</style>\n",
       "<table border=\"1\" class=\"dataframe\">\n",
       "  <thead>\n",
       "    <tr style=\"text-align: right;\">\n",
       "      <th></th>\n",
       "      <th>Text</th>\n",
       "      <th>cleaned tweets</th>\n",
       "      <th>compound</th>\n",
       "    </tr>\n",
       "  </thead>\n",
       "  <tbody>\n",
       "    <tr>\n",
       "      <th>0</th>\n",
       "      <td>@kunalb11 i’m an alien</td>\n",
       "      <td>alien</td>\n",
       "      <td>0.0000</td>\n",
       "    </tr>\n",
       "    <tr>\n",
       "      <th>1</th>\n",
       "      <td>@id_aa_carmack ray tracing on cyberpunk with h...</td>\n",
       "      <td>ray tracing cyberpunk hdr nextlevel tried</td>\n",
       "      <td>0.0000</td>\n",
       "    </tr>\n",
       "    <tr>\n",
       "      <th>2</th>\n",
       "      <td>@joerogan @spotify great interview!</td>\n",
       "      <td>great interview</td>\n",
       "      <td>0.6249</td>\n",
       "    </tr>\n",
       "    <tr>\n",
       "      <th>3</th>\n",
       "      <td>@gtera27 doge is underestimated</td>\n",
       "      <td>doge underestimated</td>\n",
       "      <td>-0.2732</td>\n",
       "    </tr>\n",
       "    <tr>\n",
       "      <th>4</th>\n",
       "      <td>@teslacn congratulations tesla china for amazi...</td>\n",
       "      <td>congratulation tesla china amazing execution l...</td>\n",
       "      <td>0.8271</td>\n",
       "    </tr>\n",
       "  </tbody>\n",
       "</table>\n",
       "</div>"
      ],
      "text/plain": [
       "                                                Text  \\\n",
       "0                             @kunalb11 i’m an alien   \n",
       "1  @id_aa_carmack ray tracing on cyberpunk with h...   \n",
       "2                @joerogan @spotify great interview!   \n",
       "3                    @gtera27 doge is underestimated   \n",
       "4  @teslacn congratulations tesla china for amazi...   \n",
       "\n",
       "                                      cleaned tweets  compound  \n",
       "0                                              alien    0.0000  \n",
       "1          ray tracing cyberpunk hdr nextlevel tried    0.0000  \n",
       "2                                    great interview    0.6249  \n",
       "3                                doge underestimated   -0.2732  \n",
       "4  congratulation tesla china amazing execution l...    0.8271  "
      ]
     },
     "execution_count": 38,
     "metadata": {},
     "output_type": "execute_result"
    }
   ],
   "source": [
    "new_df.head()"
   ]
  },
  {
   "cell_type": "code",
   "execution_count": 39,
   "metadata": {},
   "outputs": [],
   "source": [
    "# So here we can specify those tweets as positive where\n",
    "# compound value is greater than 0\n",
    "# if it is 0 then we can say it is neutral\n",
    "# else negetive\n",
    "\n",
    "new_df['Type']=new_df.compound.apply(lambda x: 'Negative' if x < 0 else 'Neutral' if x == 0 else 'Positive')"
   ]
  },
  {
   "cell_type": "code",
   "execution_count": 40,
   "metadata": {},
   "outputs": [
    {
     "data": {
      "text/html": [
       "<div>\n",
       "<style scoped>\n",
       "    .dataframe tbody tr th:only-of-type {\n",
       "        vertical-align: middle;\n",
       "    }\n",
       "\n",
       "    .dataframe tbody tr th {\n",
       "        vertical-align: top;\n",
       "    }\n",
       "\n",
       "    .dataframe thead th {\n",
       "        text-align: right;\n",
       "    }\n",
       "</style>\n",
       "<table border=\"1\" class=\"dataframe\">\n",
       "  <thead>\n",
       "    <tr style=\"text-align: right;\">\n",
       "      <th></th>\n",
       "      <th>Text</th>\n",
       "      <th>cleaned tweets</th>\n",
       "      <th>compound</th>\n",
       "      <th>Type</th>\n",
       "    </tr>\n",
       "  </thead>\n",
       "  <tbody>\n",
       "    <tr>\n",
       "      <th>0</th>\n",
       "      <td>@kunalb11 i’m an alien</td>\n",
       "      <td>alien</td>\n",
       "      <td>0.0000</td>\n",
       "      <td>Neutral</td>\n",
       "    </tr>\n",
       "    <tr>\n",
       "      <th>1</th>\n",
       "      <td>@id_aa_carmack ray tracing on cyberpunk with h...</td>\n",
       "      <td>ray tracing cyberpunk hdr nextlevel tried</td>\n",
       "      <td>0.0000</td>\n",
       "      <td>Neutral</td>\n",
       "    </tr>\n",
       "    <tr>\n",
       "      <th>2</th>\n",
       "      <td>@joerogan @spotify great interview!</td>\n",
       "      <td>great interview</td>\n",
       "      <td>0.6249</td>\n",
       "      <td>Positive</td>\n",
       "    </tr>\n",
       "    <tr>\n",
       "      <th>3</th>\n",
       "      <td>@gtera27 doge is underestimated</td>\n",
       "      <td>doge underestimated</td>\n",
       "      <td>-0.2732</td>\n",
       "      <td>Negative</td>\n",
       "    </tr>\n",
       "    <tr>\n",
       "      <th>4</th>\n",
       "      <td>@teslacn congratulations tesla china for amazi...</td>\n",
       "      <td>congratulation tesla china amazing execution l...</td>\n",
       "      <td>0.8271</td>\n",
       "      <td>Positive</td>\n",
       "    </tr>\n",
       "  </tbody>\n",
       "</table>\n",
       "</div>"
      ],
      "text/plain": [
       "                                                Text  \\\n",
       "0                             @kunalb11 i’m an alien   \n",
       "1  @id_aa_carmack ray tracing on cyberpunk with h...   \n",
       "2                @joerogan @spotify great interview!   \n",
       "3                    @gtera27 doge is underestimated   \n",
       "4  @teslacn congratulations tesla china for amazi...   \n",
       "\n",
       "                                      cleaned tweets  compound      Type  \n",
       "0                                              alien    0.0000   Neutral  \n",
       "1          ray tracing cyberpunk hdr nextlevel tried    0.0000   Neutral  \n",
       "2                                    great interview    0.6249  Positive  \n",
       "3                                doge underestimated   -0.2732  Negative  \n",
       "4  congratulation tesla china amazing execution l...    0.8271  Positive  "
      ]
     },
     "execution_count": 40,
     "metadata": {},
     "output_type": "execute_result"
    }
   ],
   "source": [
    "new_df.head()"
   ]
  },
  {
   "cell_type": "code",
   "execution_count": 41,
   "metadata": {},
   "outputs": [
    {
     "data": {
      "text/plain": [
       "pandas.core.series.Series"
      ]
     },
     "execution_count": 41,
     "metadata": {},
     "output_type": "execute_result"
    }
   ],
   "source": [
    "type(new_df.Type.value_counts())"
   ]
  },
  {
   "cell_type": "code",
   "execution_count": 42,
   "metadata": {},
   "outputs": [
    {
     "data": {
      "application/vnd.plotly.v1+json": {
       "config": {
        "plotlyServerURL": "https://plot.ly"
       },
       "data": [
        {
         "labels": [
          "Neutral",
          "Positive",
          "Negative"
         ],
         "type": "pie",
         "values": [
          923,
          873,
          201
         ]
        }
       ],
       "layout": {
        "autosize": false,
        "template": {
         "data": {
          "bar": [
           {
            "error_x": {
             "color": "#2a3f5f"
            },
            "error_y": {
             "color": "#2a3f5f"
            },
            "marker": {
             "line": {
              "color": "#E5ECF6",
              "width": 0.5
             },
             "pattern": {
              "fillmode": "overlay",
              "size": 10,
              "solidity": 0.2
             }
            },
            "type": "bar"
           }
          ],
          "barpolar": [
           {
            "marker": {
             "line": {
              "color": "#E5ECF6",
              "width": 0.5
             },
             "pattern": {
              "fillmode": "overlay",
              "size": 10,
              "solidity": 0.2
             }
            },
            "type": "barpolar"
           }
          ],
          "carpet": [
           {
            "aaxis": {
             "endlinecolor": "#2a3f5f",
             "gridcolor": "white",
             "linecolor": "white",
             "minorgridcolor": "white",
             "startlinecolor": "#2a3f5f"
            },
            "baxis": {
             "endlinecolor": "#2a3f5f",
             "gridcolor": "white",
             "linecolor": "white",
             "minorgridcolor": "white",
             "startlinecolor": "#2a3f5f"
            },
            "type": "carpet"
           }
          ],
          "choropleth": [
           {
            "colorbar": {
             "outlinewidth": 0,
             "ticks": ""
            },
            "type": "choropleth"
           }
          ],
          "contour": [
           {
            "colorbar": {
             "outlinewidth": 0,
             "ticks": ""
            },
            "colorscale": [
             [
              0,
              "#0d0887"
             ],
             [
              0.1111111111111111,
              "#46039f"
             ],
             [
              0.2222222222222222,
              "#7201a8"
             ],
             [
              0.3333333333333333,
              "#9c179e"
             ],
             [
              0.4444444444444444,
              "#bd3786"
             ],
             [
              0.5555555555555556,
              "#d8576b"
             ],
             [
              0.6666666666666666,
              "#ed7953"
             ],
             [
              0.7777777777777778,
              "#fb9f3a"
             ],
             [
              0.8888888888888888,
              "#fdca26"
             ],
             [
              1,
              "#f0f921"
             ]
            ],
            "type": "contour"
           }
          ],
          "contourcarpet": [
           {
            "colorbar": {
             "outlinewidth": 0,
             "ticks": ""
            },
            "type": "contourcarpet"
           }
          ],
          "heatmap": [
           {
            "colorbar": {
             "outlinewidth": 0,
             "ticks": ""
            },
            "colorscale": [
             [
              0,
              "#0d0887"
             ],
             [
              0.1111111111111111,
              "#46039f"
             ],
             [
              0.2222222222222222,
              "#7201a8"
             ],
             [
              0.3333333333333333,
              "#9c179e"
             ],
             [
              0.4444444444444444,
              "#bd3786"
             ],
             [
              0.5555555555555556,
              "#d8576b"
             ],
             [
              0.6666666666666666,
              "#ed7953"
             ],
             [
              0.7777777777777778,
              "#fb9f3a"
             ],
             [
              0.8888888888888888,
              "#fdca26"
             ],
             [
              1,
              "#f0f921"
             ]
            ],
            "type": "heatmap"
           }
          ],
          "heatmapgl": [
           {
            "colorbar": {
             "outlinewidth": 0,
             "ticks": ""
            },
            "colorscale": [
             [
              0,
              "#0d0887"
             ],
             [
              0.1111111111111111,
              "#46039f"
             ],
             [
              0.2222222222222222,
              "#7201a8"
             ],
             [
              0.3333333333333333,
              "#9c179e"
             ],
             [
              0.4444444444444444,
              "#bd3786"
             ],
             [
              0.5555555555555556,
              "#d8576b"
             ],
             [
              0.6666666666666666,
              "#ed7953"
             ],
             [
              0.7777777777777778,
              "#fb9f3a"
             ],
             [
              0.8888888888888888,
              "#fdca26"
             ],
             [
              1,
              "#f0f921"
             ]
            ],
            "type": "heatmapgl"
           }
          ],
          "histogram": [
           {
            "marker": {
             "pattern": {
              "fillmode": "overlay",
              "size": 10,
              "solidity": 0.2
             }
            },
            "type": "histogram"
           }
          ],
          "histogram2d": [
           {
            "colorbar": {
             "outlinewidth": 0,
             "ticks": ""
            },
            "colorscale": [
             [
              0,
              "#0d0887"
             ],
             [
              0.1111111111111111,
              "#46039f"
             ],
             [
              0.2222222222222222,
              "#7201a8"
             ],
             [
              0.3333333333333333,
              "#9c179e"
             ],
             [
              0.4444444444444444,
              "#bd3786"
             ],
             [
              0.5555555555555556,
              "#d8576b"
             ],
             [
              0.6666666666666666,
              "#ed7953"
             ],
             [
              0.7777777777777778,
              "#fb9f3a"
             ],
             [
              0.8888888888888888,
              "#fdca26"
             ],
             [
              1,
              "#f0f921"
             ]
            ],
            "type": "histogram2d"
           }
          ],
          "histogram2dcontour": [
           {
            "colorbar": {
             "outlinewidth": 0,
             "ticks": ""
            },
            "colorscale": [
             [
              0,
              "#0d0887"
             ],
             [
              0.1111111111111111,
              "#46039f"
             ],
             [
              0.2222222222222222,
              "#7201a8"
             ],
             [
              0.3333333333333333,
              "#9c179e"
             ],
             [
              0.4444444444444444,
              "#bd3786"
             ],
             [
              0.5555555555555556,
              "#d8576b"
             ],
             [
              0.6666666666666666,
              "#ed7953"
             ],
             [
              0.7777777777777778,
              "#fb9f3a"
             ],
             [
              0.8888888888888888,
              "#fdca26"
             ],
             [
              1,
              "#f0f921"
             ]
            ],
            "type": "histogram2dcontour"
           }
          ],
          "mesh3d": [
           {
            "colorbar": {
             "outlinewidth": 0,
             "ticks": ""
            },
            "type": "mesh3d"
           }
          ],
          "parcoords": [
           {
            "line": {
             "colorbar": {
              "outlinewidth": 0,
              "ticks": ""
             }
            },
            "type": "parcoords"
           }
          ],
          "pie": [
           {
            "automargin": true,
            "type": "pie"
           }
          ],
          "scatter": [
           {
            "fillpattern": {
             "fillmode": "overlay",
             "size": 10,
             "solidity": 0.2
            },
            "type": "scatter"
           }
          ],
          "scatter3d": [
           {
            "line": {
             "colorbar": {
              "outlinewidth": 0,
              "ticks": ""
             }
            },
            "marker": {
             "colorbar": {
              "outlinewidth": 0,
              "ticks": ""
             }
            },
            "type": "scatter3d"
           }
          ],
          "scattercarpet": [
           {
            "marker": {
             "colorbar": {
              "outlinewidth": 0,
              "ticks": ""
             }
            },
            "type": "scattercarpet"
           }
          ],
          "scattergeo": [
           {
            "marker": {
             "colorbar": {
              "outlinewidth": 0,
              "ticks": ""
             }
            },
            "type": "scattergeo"
           }
          ],
          "scattergl": [
           {
            "marker": {
             "colorbar": {
              "outlinewidth": 0,
              "ticks": ""
             }
            },
            "type": "scattergl"
           }
          ],
          "scattermapbox": [
           {
            "marker": {
             "colorbar": {
              "outlinewidth": 0,
              "ticks": ""
             }
            },
            "type": "scattermapbox"
           }
          ],
          "scatterpolar": [
           {
            "marker": {
             "colorbar": {
              "outlinewidth": 0,
              "ticks": ""
             }
            },
            "type": "scatterpolar"
           }
          ],
          "scatterpolargl": [
           {
            "marker": {
             "colorbar": {
              "outlinewidth": 0,
              "ticks": ""
             }
            },
            "type": "scatterpolargl"
           }
          ],
          "scatterternary": [
           {
            "marker": {
             "colorbar": {
              "outlinewidth": 0,
              "ticks": ""
             }
            },
            "type": "scatterternary"
           }
          ],
          "surface": [
           {
            "colorbar": {
             "outlinewidth": 0,
             "ticks": ""
            },
            "colorscale": [
             [
              0,
              "#0d0887"
             ],
             [
              0.1111111111111111,
              "#46039f"
             ],
             [
              0.2222222222222222,
              "#7201a8"
             ],
             [
              0.3333333333333333,
              "#9c179e"
             ],
             [
              0.4444444444444444,
              "#bd3786"
             ],
             [
              0.5555555555555556,
              "#d8576b"
             ],
             [
              0.6666666666666666,
              "#ed7953"
             ],
             [
              0.7777777777777778,
              "#fb9f3a"
             ],
             [
              0.8888888888888888,
              "#fdca26"
             ],
             [
              1,
              "#f0f921"
             ]
            ],
            "type": "surface"
           }
          ],
          "table": [
           {
            "cells": {
             "fill": {
              "color": "#EBF0F8"
             },
             "line": {
              "color": "white"
             }
            },
            "header": {
             "fill": {
              "color": "#C8D4E3"
             },
             "line": {
              "color": "white"
             }
            },
            "type": "table"
           }
          ]
         },
         "layout": {
          "annotationdefaults": {
           "arrowcolor": "#2a3f5f",
           "arrowhead": 0,
           "arrowwidth": 1
          },
          "autotypenumbers": "strict",
          "coloraxis": {
           "colorbar": {
            "outlinewidth": 0,
            "ticks": ""
           }
          },
          "colorscale": {
           "diverging": [
            [
             0,
             "#8e0152"
            ],
            [
             0.1,
             "#c51b7d"
            ],
            [
             0.2,
             "#de77ae"
            ],
            [
             0.3,
             "#f1b6da"
            ],
            [
             0.4,
             "#fde0ef"
            ],
            [
             0.5,
             "#f7f7f7"
            ],
            [
             0.6,
             "#e6f5d0"
            ],
            [
             0.7,
             "#b8e186"
            ],
            [
             0.8,
             "#7fbc41"
            ],
            [
             0.9,
             "#4d9221"
            ],
            [
             1,
             "#276419"
            ]
           ],
           "sequential": [
            [
             0,
             "#0d0887"
            ],
            [
             0.1111111111111111,
             "#46039f"
            ],
            [
             0.2222222222222222,
             "#7201a8"
            ],
            [
             0.3333333333333333,
             "#9c179e"
            ],
            [
             0.4444444444444444,
             "#bd3786"
            ],
            [
             0.5555555555555556,
             "#d8576b"
            ],
            [
             0.6666666666666666,
             "#ed7953"
            ],
            [
             0.7777777777777778,
             "#fb9f3a"
            ],
            [
             0.8888888888888888,
             "#fdca26"
            ],
            [
             1,
             "#f0f921"
            ]
           ],
           "sequentialminus": [
            [
             0,
             "#0d0887"
            ],
            [
             0.1111111111111111,
             "#46039f"
            ],
            [
             0.2222222222222222,
             "#7201a8"
            ],
            [
             0.3333333333333333,
             "#9c179e"
            ],
            [
             0.4444444444444444,
             "#bd3786"
            ],
            [
             0.5555555555555556,
             "#d8576b"
            ],
            [
             0.6666666666666666,
             "#ed7953"
            ],
            [
             0.7777777777777778,
             "#fb9f3a"
            ],
            [
             0.8888888888888888,
             "#fdca26"
            ],
            [
             1,
             "#f0f921"
            ]
           ]
          },
          "colorway": [
           "#636efa",
           "#EF553B",
           "#00cc96",
           "#ab63fa",
           "#FFA15A",
           "#19d3f3",
           "#FF6692",
           "#B6E880",
           "#FF97FF",
           "#FECB52"
          ],
          "font": {
           "color": "#2a3f5f"
          },
          "geo": {
           "bgcolor": "white",
           "lakecolor": "white",
           "landcolor": "#E5ECF6",
           "showlakes": true,
           "showland": true,
           "subunitcolor": "white"
          },
          "hoverlabel": {
           "align": "left"
          },
          "hovermode": "closest",
          "mapbox": {
           "style": "light"
          },
          "paper_bgcolor": "white",
          "plot_bgcolor": "#E5ECF6",
          "polar": {
           "angularaxis": {
            "gridcolor": "white",
            "linecolor": "white",
            "ticks": ""
           },
           "bgcolor": "#E5ECF6",
           "radialaxis": {
            "gridcolor": "white",
            "linecolor": "white",
            "ticks": ""
           }
          },
          "scene": {
           "xaxis": {
            "backgroundcolor": "#E5ECF6",
            "gridcolor": "white",
            "gridwidth": 2,
            "linecolor": "white",
            "showbackground": true,
            "ticks": "",
            "zerolinecolor": "white"
           },
           "yaxis": {
            "backgroundcolor": "#E5ECF6",
            "gridcolor": "white",
            "gridwidth": 2,
            "linecolor": "white",
            "showbackground": true,
            "ticks": "",
            "zerolinecolor": "white"
           },
           "zaxis": {
            "backgroundcolor": "#E5ECF6",
            "gridcolor": "white",
            "gridwidth": 2,
            "linecolor": "white",
            "showbackground": true,
            "ticks": "",
            "zerolinecolor": "white"
           }
          },
          "shapedefaults": {
           "line": {
            "color": "#2a3f5f"
           }
          },
          "ternary": {
           "aaxis": {
            "gridcolor": "white",
            "linecolor": "white",
            "ticks": ""
           },
           "baxis": {
            "gridcolor": "white",
            "linecolor": "white",
            "ticks": ""
           },
           "bgcolor": "#E5ECF6",
           "caxis": {
            "gridcolor": "white",
            "linecolor": "white",
            "ticks": ""
           }
          },
          "title": {
           "x": 0.05
          },
          "xaxis": {
           "automargin": true,
           "gridcolor": "white",
           "linecolor": "white",
           "ticks": "",
           "title": {
            "standoff": 15
           },
           "zerolinecolor": "white",
           "zerolinewidth": 2
          },
          "yaxis": {
           "automargin": true,
           "gridcolor": "white",
           "linecolor": "white",
           "ticks": "",
           "title": {
            "standoff": 15
           },
           "zerolinecolor": "white",
           "zerolinewidth": 2
          }
         }
        },
        "title": {
         "text": "Distribution of Types"
        }
       }
      }
     },
     "metadata": {},
     "output_type": "display_data"
    }
   ],
   "source": [
    "# Checking the distribution of types\n",
    "temp_df=new_df.Type.value_counts()\n",
    "fig=go.Figure(go.Pie(labels=temp_df.index, values=temp_df.values))\n",
    "fig.update_layout(title_text=\"Distribution of Types\",\n",
    "                  autosize=False)\n",
    "fig.show()"
   ]
  },
  {
   "cell_type": "code",
   "execution_count": 43,
   "metadata": {},
   "outputs": [
    {
     "data": {
      "application/vnd.plotly.v1+json": {
       "config": {
        "plotlyServerURL": "https://plot.ly"
       },
       "data": [
        {
         "type": "scatter",
         "x": [
          0,
          1,
          2,
          3,
          4,
          5,
          6,
          7,
          8,
          9,
          10,
          11,
          12,
          13,
          14,
          15,
          16,
          17,
          18,
          19,
          20,
          21,
          22,
          23,
          24,
          25,
          26,
          27,
          28,
          29,
          30,
          31,
          32,
          33,
          34,
          35,
          36,
          37,
          38,
          39,
          40,
          41,
          42,
          43,
          44,
          45,
          46,
          47,
          48,
          49,
          50,
          51,
          52,
          53,
          54,
          55,
          56,
          57,
          58,
          59,
          60,
          61,
          62,
          63,
          64,
          65,
          66,
          67,
          68,
          69,
          70,
          71,
          72,
          73,
          74,
          75,
          76,
          77,
          78,
          79,
          80,
          81,
          82,
          83,
          84,
          85,
          86,
          87,
          88,
          89,
          90,
          91,
          92,
          93,
          94,
          95,
          96,
          97,
          98,
          99,
          100,
          101,
          102,
          103,
          104,
          105,
          106,
          107,
          108,
          109,
          110,
          111,
          112,
          113,
          114,
          115,
          116,
          117,
          118,
          119,
          120,
          121,
          122,
          123,
          124,
          125,
          126,
          127,
          128,
          129,
          130,
          131,
          132,
          133,
          134,
          135,
          136,
          137,
          138,
          139,
          140,
          141,
          142,
          143,
          144,
          145,
          146,
          147,
          148,
          149,
          150,
          151,
          152,
          153,
          154,
          155,
          156,
          157,
          158,
          159,
          160,
          161,
          162,
          163,
          164,
          165,
          166,
          167,
          168,
          169,
          170,
          171,
          172,
          173,
          174,
          175,
          176,
          177,
          178,
          179,
          180,
          181,
          182,
          183,
          184,
          185,
          186,
          187,
          188,
          189,
          190,
          191,
          192,
          193,
          194,
          195,
          196,
          197,
          198,
          199,
          200,
          201,
          202,
          203,
          204,
          205,
          206,
          207,
          208,
          209,
          210,
          211,
          212,
          213,
          214,
          215,
          216,
          217,
          218,
          219,
          220,
          221,
          222,
          223,
          224,
          225,
          226,
          227,
          228,
          229,
          230,
          231,
          232,
          233,
          234,
          235,
          236,
          237,
          238,
          239,
          240,
          241,
          242,
          243,
          244,
          245,
          246,
          247,
          248,
          249,
          250,
          251,
          252,
          253,
          254,
          255,
          256,
          257,
          258,
          259,
          260,
          261,
          262,
          263,
          264,
          265,
          266,
          267,
          268,
          269,
          270,
          271,
          272,
          273,
          274,
          275,
          276,
          277,
          278,
          279,
          280,
          281,
          282,
          283,
          284,
          285,
          286,
          287,
          288,
          289,
          290,
          291,
          292,
          293,
          294,
          295,
          296,
          297,
          298,
          299,
          300,
          301,
          302,
          303,
          304,
          305,
          306,
          307,
          308,
          309,
          310,
          311,
          312,
          313,
          314,
          315,
          316,
          317,
          318,
          319,
          320,
          321,
          322,
          323,
          325,
          326,
          327,
          328,
          329,
          330,
          331,
          332,
          333,
          334,
          335,
          336,
          337,
          338,
          339,
          340,
          341,
          342,
          343,
          344,
          345,
          346,
          347,
          348,
          349,
          350,
          351,
          352,
          353,
          354,
          355,
          356,
          357,
          358,
          359,
          360,
          361,
          362,
          363,
          364,
          365,
          366,
          367,
          368,
          369,
          370,
          371,
          372,
          373,
          374,
          375,
          376,
          377,
          378,
          379,
          380,
          381,
          382,
          383,
          384,
          385,
          386,
          387,
          388,
          389,
          390,
          391,
          392,
          393,
          394,
          395,
          396,
          397,
          398,
          399,
          400,
          401,
          402,
          403,
          404,
          405,
          406,
          407,
          408,
          409,
          410,
          411,
          412,
          413,
          414,
          415,
          416,
          417,
          418,
          419,
          420,
          421,
          422,
          423,
          424,
          425,
          426,
          427,
          428,
          429,
          430,
          431,
          432,
          433,
          434,
          435,
          436,
          437,
          438,
          439,
          440,
          441,
          442,
          443,
          444,
          445,
          446,
          447,
          448,
          449,
          450,
          451,
          452,
          453,
          454,
          455,
          456,
          457,
          458,
          459,
          460,
          461,
          462,
          463,
          464,
          465,
          466,
          467,
          468,
          469,
          470,
          471,
          472,
          473,
          474,
          475,
          476,
          477,
          478,
          479,
          480,
          481,
          482,
          483,
          484,
          485,
          486,
          487,
          488,
          489,
          490,
          491,
          492,
          493,
          494,
          495,
          496,
          497,
          498,
          499,
          500,
          501,
          502,
          503,
          504,
          505,
          506,
          507,
          508,
          509,
          510,
          511,
          512,
          513,
          514,
          515,
          516,
          517,
          518,
          519,
          520,
          521,
          522,
          523,
          524,
          525,
          526,
          527,
          528,
          529,
          530,
          531,
          532,
          533,
          534,
          535,
          536,
          537,
          538,
          539,
          540,
          541,
          542,
          543,
          544,
          545,
          546,
          547,
          548,
          549,
          550,
          551,
          552,
          553,
          554,
          555,
          556,
          557,
          558,
          559,
          560,
          561,
          562,
          563,
          564,
          565,
          566,
          567,
          568,
          569,
          570,
          571,
          572,
          573,
          574,
          575,
          576,
          577,
          578,
          579,
          580,
          581,
          582,
          583,
          584,
          585,
          586,
          587,
          588,
          589,
          590,
          591,
          592,
          593,
          594,
          595,
          596,
          597,
          598,
          599,
          600,
          601,
          602,
          603,
          604,
          605,
          606,
          607,
          608,
          609,
          610,
          611,
          612,
          613,
          614,
          615,
          616,
          617,
          618,
          619,
          620,
          621,
          622,
          623,
          624,
          625,
          626,
          627,
          628,
          629,
          630,
          631,
          632,
          633,
          634,
          635,
          636,
          637,
          638,
          639,
          640,
          641,
          642,
          643,
          644,
          645,
          646,
          647,
          648,
          649,
          650,
          651,
          652,
          653,
          654,
          656,
          657,
          658,
          659,
          660,
          661,
          662,
          663,
          664,
          665,
          666,
          667,
          668,
          669,
          670,
          671,
          672,
          673,
          674,
          675,
          676,
          677,
          678,
          679,
          680,
          681,
          682,
          683,
          684,
          685,
          686,
          687,
          688,
          689,
          690,
          691,
          692,
          693,
          694,
          695,
          696,
          697,
          698,
          699,
          700,
          701,
          702,
          703,
          704,
          705,
          706,
          707,
          708,
          709,
          710,
          711,
          712,
          713,
          714,
          715,
          716,
          717,
          718,
          719,
          720,
          721,
          722,
          723,
          724,
          725,
          726,
          727,
          728,
          729,
          730,
          731,
          732,
          733,
          734,
          735,
          736,
          737,
          738,
          739,
          740,
          741,
          742,
          743,
          744,
          745,
          746,
          747,
          748,
          749,
          750,
          751,
          752,
          753,
          754,
          755,
          756,
          757,
          758,
          759,
          760,
          761,
          762,
          763,
          764,
          765,
          766,
          767,
          768,
          769,
          770,
          771,
          772,
          773,
          774,
          775,
          776,
          777,
          778,
          779,
          780,
          781,
          782,
          783,
          784,
          785,
          786,
          787,
          788,
          789,
          790,
          791,
          792,
          793,
          794,
          795,
          796,
          797,
          798,
          799,
          800,
          801,
          802,
          803,
          804,
          805,
          806,
          807,
          808,
          809,
          810,
          811,
          812,
          813,
          814,
          815,
          816,
          817,
          818,
          819,
          820,
          821,
          822,
          823,
          824,
          825,
          826,
          827,
          828,
          829,
          830,
          831,
          832,
          833,
          834,
          835,
          836,
          837,
          838,
          839,
          840,
          841,
          842,
          843,
          844,
          845,
          846,
          847,
          848,
          849,
          850,
          851,
          852,
          853,
          854,
          855,
          856,
          857,
          858,
          859,
          860,
          861,
          862,
          863,
          864,
          865,
          866,
          867,
          868,
          869,
          870,
          871,
          872,
          873,
          874,
          875,
          876,
          877,
          878,
          879,
          880,
          881,
          882,
          883,
          884,
          885,
          886,
          887,
          888,
          889,
          890,
          891,
          892,
          893,
          894,
          895,
          896,
          897,
          898,
          899,
          900,
          901,
          902,
          903,
          904,
          905,
          906,
          907,
          908,
          909,
          910,
          911,
          912,
          913,
          914,
          915,
          916,
          917,
          918,
          919,
          920,
          921,
          922,
          923,
          924,
          925,
          926,
          927,
          928,
          929,
          930,
          931,
          932,
          933,
          934,
          935,
          936,
          937,
          938,
          939,
          940,
          941,
          942,
          943,
          944,
          945,
          946,
          947,
          948,
          949,
          950,
          951,
          952,
          953,
          954,
          955,
          956,
          957,
          958,
          959,
          960,
          961,
          962,
          963,
          964,
          965,
          966,
          967,
          968,
          969,
          970,
          971,
          972,
          973,
          974,
          975,
          976,
          977,
          978,
          979,
          980,
          981,
          982,
          983,
          984,
          985,
          986,
          987,
          988,
          989,
          990,
          991,
          992,
          993,
          994,
          995,
          996,
          997,
          998,
          999,
          1000,
          1001,
          1002,
          1003,
          1004,
          1005,
          1006,
          1007,
          1008,
          1009,
          1010,
          1011,
          1012,
          1013,
          1014,
          1015,
          1016,
          1017,
          1018,
          1019,
          1020,
          1021,
          1022,
          1023,
          1024,
          1025,
          1026,
          1027,
          1028,
          1029,
          1030,
          1031,
          1032,
          1033,
          1034,
          1035,
          1036,
          1037,
          1038,
          1039,
          1040,
          1041,
          1042,
          1043,
          1044,
          1045,
          1046,
          1047,
          1048,
          1049,
          1050,
          1051,
          1052,
          1053,
          1054,
          1055,
          1056,
          1057,
          1058,
          1059,
          1060,
          1061,
          1062,
          1063,
          1064,
          1065,
          1066,
          1067,
          1068,
          1069,
          1070,
          1071,
          1072,
          1073,
          1074,
          1075,
          1076,
          1077,
          1078,
          1079,
          1080,
          1081,
          1082,
          1083,
          1084,
          1085,
          1086,
          1087,
          1088,
          1089,
          1090,
          1091,
          1092,
          1093,
          1094,
          1095,
          1096,
          1097,
          1098,
          1099,
          1100,
          1101,
          1102,
          1103,
          1104,
          1105,
          1106,
          1107,
          1108,
          1109,
          1110,
          1111,
          1112,
          1113,
          1114,
          1115,
          1116,
          1117,
          1118,
          1119,
          1120,
          1121,
          1122,
          1123,
          1124,
          1125,
          1126,
          1127,
          1128,
          1129,
          1130,
          1131,
          1132,
          1133,
          1134,
          1135,
          1136,
          1137,
          1138,
          1139,
          1140,
          1141,
          1142,
          1143,
          1144,
          1145,
          1146,
          1147,
          1148,
          1149,
          1150,
          1151,
          1152,
          1153,
          1154,
          1155,
          1156,
          1157,
          1158,
          1159,
          1160,
          1161,
          1162,
          1163,
          1164,
          1165,
          1166,
          1167,
          1168,
          1169,
          1170,
          1171,
          1172,
          1173,
          1174,
          1175,
          1176,
          1177,
          1178,
          1179,
          1180,
          1181,
          1182,
          1183,
          1184,
          1185,
          1186,
          1187,
          1188,
          1189,
          1190,
          1191,
          1192,
          1193,
          1194,
          1195,
          1196,
          1197,
          1198,
          1199,
          1200,
          1201,
          1202,
          1203,
          1204,
          1205,
          1206,
          1207,
          1208,
          1209,
          1210,
          1211,
          1212,
          1213,
          1214,
          1215,
          1216,
          1217,
          1218,
          1219,
          1220,
          1221,
          1222,
          1223,
          1224,
          1225,
          1226,
          1227,
          1228,
          1229,
          1230,
          1231,
          1232,
          1233,
          1234,
          1235,
          1236,
          1237,
          1238,
          1239,
          1240,
          1241,
          1242,
          1243,
          1244,
          1245,
          1246,
          1247,
          1248,
          1249,
          1250,
          1251,
          1252,
          1253,
          1254,
          1255,
          1256,
          1257,
          1258,
          1259,
          1260,
          1261,
          1262,
          1263,
          1264,
          1265,
          1266,
          1267,
          1268,
          1269,
          1270,
          1271,
          1272,
          1273,
          1274,
          1275,
          1276,
          1277,
          1278,
          1279,
          1280,
          1281,
          1282,
          1283,
          1284,
          1285,
          1286,
          1287,
          1288,
          1289,
          1290,
          1291,
          1292,
          1293,
          1294,
          1295,
          1296,
          1297,
          1298,
          1299,
          1300,
          1301,
          1302,
          1303,
          1304,
          1305,
          1306,
          1307,
          1308,
          1309,
          1310,
          1311,
          1312,
          1313,
          1314,
          1315,
          1316,
          1317,
          1318,
          1319,
          1320,
          1321,
          1322,
          1323,
          1324,
          1325,
          1326,
          1327,
          1328,
          1329,
          1330,
          1331,
          1332,
          1333,
          1334,
          1335,
          1336,
          1337,
          1338,
          1339,
          1340,
          1341,
          1342,
          1343,
          1344,
          1345,
          1346,
          1347,
          1348,
          1349,
          1350,
          1351,
          1352,
          1353,
          1354,
          1355,
          1356,
          1357,
          1358,
          1359,
          1360,
          1361,
          1362,
          1363,
          1364,
          1365,
          1366,
          1367,
          1368,
          1369,
          1370,
          1371,
          1372,
          1373,
          1374,
          1375,
          1376,
          1377,
          1378,
          1379,
          1380,
          1381,
          1382,
          1383,
          1384,
          1385,
          1386,
          1387,
          1388,
          1389,
          1390,
          1391,
          1392,
          1393,
          1394,
          1395,
          1396,
          1397,
          1398,
          1399,
          1400,
          1401,
          1402,
          1403,
          1404,
          1405,
          1406,
          1407,
          1408,
          1409,
          1410,
          1411,
          1412,
          1413,
          1414,
          1415,
          1416,
          1417,
          1418,
          1419,
          1420,
          1421,
          1422,
          1423,
          1424,
          1425,
          1426,
          1427,
          1428,
          1429,
          1430,
          1431,
          1432,
          1433,
          1434,
          1435,
          1436,
          1437,
          1438,
          1439,
          1440,
          1441,
          1442,
          1443,
          1444,
          1445,
          1446,
          1447,
          1448,
          1449,
          1450,
          1451,
          1452,
          1453,
          1454,
          1455,
          1456,
          1457,
          1458,
          1459,
          1460,
          1461,
          1462,
          1463,
          1464,
          1465,
          1466,
          1467,
          1468,
          1469,
          1470,
          1471,
          1472,
          1473,
          1474,
          1475,
          1476,
          1477,
          1478,
          1479,
          1480,
          1481,
          1482,
          1483,
          1484,
          1485,
          1486,
          1487,
          1488,
          1489,
          1490,
          1491,
          1492,
          1493,
          1494,
          1495,
          1496,
          1497,
          1498,
          1499,
          1500,
          1501,
          1502,
          1503,
          1504,
          1505,
          1506,
          1507,
          1508,
          1509,
          1510,
          1511,
          1512,
          1513,
          1514,
          1515,
          1516,
          1517,
          1518,
          1519,
          1520,
          1521,
          1522,
          1523,
          1524,
          1525,
          1526,
          1527,
          1528,
          1529,
          1530,
          1531,
          1532,
          1533,
          1534,
          1535,
          1536,
          1537,
          1538,
          1539,
          1540,
          1541,
          1542,
          1543,
          1544,
          1545,
          1546,
          1547,
          1548,
          1549,
          1550,
          1551,
          1552,
          1553,
          1554,
          1555,
          1556,
          1557,
          1558,
          1559,
          1560,
          1561,
          1562,
          1563,
          1564,
          1565,
          1566,
          1567,
          1568,
          1569,
          1570,
          1571,
          1572,
          1573,
          1574,
          1575,
          1576,
          1577,
          1578,
          1579,
          1580,
          1581,
          1582,
          1583,
          1584,
          1585,
          1586,
          1587,
          1588,
          1589,
          1590,
          1591,
          1592,
          1593,
          1594,
          1595,
          1596,
          1597,
          1598,
          1599,
          1600,
          1601,
          1602,
          1603,
          1604,
          1605,
          1606,
          1607,
          1608,
          1609,
          1610,
          1611,
          1612,
          1613,
          1614,
          1615,
          1616,
          1617,
          1618,
          1619,
          1620,
          1621,
          1622,
          1623,
          1624,
          1625,
          1626,
          1627,
          1628,
          1629,
          1630,
          1631,
          1632,
          1633,
          1634,
          1635,
          1636,
          1637,
          1638,
          1639,
          1640,
          1641,
          1642,
          1643,
          1644,
          1645,
          1646,
          1647,
          1648,
          1649,
          1650,
          1651,
          1652,
          1653,
          1654,
          1655,
          1656,
          1657,
          1658,
          1659,
          1660,
          1661,
          1662,
          1663,
          1664,
          1665,
          1666,
          1667,
          1668,
          1669,
          1670,
          1671,
          1672,
          1673,
          1674,
          1675,
          1676,
          1677,
          1678,
          1679,
          1680,
          1681,
          1682,
          1683,
          1684,
          1685,
          1686,
          1687,
          1688,
          1689,
          1690,
          1691,
          1692,
          1693,
          1694,
          1695,
          1696,
          1697,
          1698,
          1699,
          1700,
          1701,
          1702,
          1703,
          1704,
          1705,
          1706,
          1707,
          1708,
          1709,
          1710,
          1711,
          1712,
          1713,
          1714,
          1715,
          1716,
          1717,
          1718,
          1719,
          1720,
          1721,
          1722,
          1723,
          1724,
          1725,
          1726,
          1727,
          1728,
          1729,
          1730,
          1731,
          1732,
          1733,
          1734,
          1735,
          1736,
          1737,
          1738,
          1739,
          1740,
          1741,
          1742,
          1743,
          1744,
          1745,
          1746,
          1747,
          1748,
          1749,
          1750,
          1751,
          1752,
          1753,
          1754,
          1755,
          1756,
          1757,
          1758,
          1759,
          1760,
          1761,
          1762,
          1763,
          1764,
          1765,
          1766,
          1767,
          1768,
          1769,
          1770,
          1771,
          1772,
          1773,
          1774,
          1775,
          1776,
          1777,
          1778,
          1779,
          1780,
          1781,
          1782,
          1783,
          1784,
          1785,
          1786,
          1787,
          1788,
          1789,
          1790,
          1791,
          1792,
          1793,
          1794,
          1795,
          1796,
          1797,
          1798,
          1799,
          1800,
          1801,
          1802,
          1803,
          1804,
          1805,
          1806,
          1807,
          1808,
          1809,
          1810,
          1811,
          1812,
          1813,
          1814,
          1815,
          1816,
          1817,
          1818,
          1819,
          1820,
          1821,
          1822,
          1823,
          1824,
          1825,
          1826,
          1827,
          1828,
          1829,
          1830,
          1831,
          1832,
          1833,
          1834,
          1835,
          1836,
          1837,
          1838,
          1839,
          1840,
          1841,
          1842,
          1843,
          1844,
          1845,
          1846,
          1847,
          1848,
          1849,
          1850,
          1851,
          1852,
          1853,
          1854,
          1855,
          1856,
          1857,
          1858,
          1859,
          1860,
          1861,
          1862,
          1863,
          1864,
          1865,
          1866,
          1867,
          1868,
          1869,
          1870,
          1871,
          1872,
          1873,
          1874,
          1875,
          1876,
          1877,
          1878,
          1879,
          1880,
          1881,
          1882,
          1883,
          1884,
          1885,
          1886,
          1887,
          1888,
          1889,
          1890,
          1891,
          1892,
          1893,
          1894,
          1895,
          1896,
          1897,
          1898,
          1899,
          1900,
          1901,
          1902,
          1903,
          1904,
          1905,
          1906,
          1907,
          1908,
          1909,
          1910,
          1911,
          1912,
          1913,
          1914,
          1915,
          1916,
          1917,
          1918,
          1919,
          1920,
          1921,
          1922,
          1923,
          1924,
          1925,
          1926,
          1927,
          1928,
          1929,
          1930,
          1931,
          1932,
          1933,
          1934,
          1935,
          1936,
          1937,
          1938,
          1939,
          1940,
          1941,
          1942,
          1943,
          1944,
          1945,
          1946,
          1947,
          1948,
          1949,
          1950,
          1951,
          1952,
          1953,
          1954,
          1955,
          1956,
          1957,
          1958,
          1959,
          1960,
          1961,
          1962,
          1963,
          1964,
          1965,
          1966,
          1967,
          1968,
          1969,
          1970,
          1971,
          1972,
          1973,
          1974,
          1975,
          1976,
          1977,
          1978,
          1979,
          1980,
          1981,
          1982,
          1983,
          1984,
          1985,
          1986,
          1987,
          1988,
          1989,
          1990,
          1991,
          1992,
          1993,
          1994,
          1995,
          1996,
          1997,
          1998
         ],
         "y": [
          0,
          0,
          0.6249,
          -0.2732,
          0.8271,
          0.5719,
          0,
          0.7096,
          0.4019,
          0,
          0,
          0.3612,
          0,
          0,
          0,
          0.2732,
          0.4404,
          0.3182,
          0,
          0.7003,
          -0.34,
          -0.4404,
          0,
          0.4019,
          0.2732,
          -0.3612,
          -0.5719,
          -0.0516,
          0,
          0,
          0,
          0.5106,
          -0.296,
          0,
          0,
          0,
          0.5859,
          0.4404,
          0,
          0,
          0,
          0.4588,
          -0.8236,
          0,
          0,
          0,
          0.5106,
          0,
          0,
          0,
          0.4215,
          0,
          0.4939,
          0.4019,
          0,
          0,
          0,
          0.6249,
          0,
          0,
          0,
          0,
          0,
          0.296,
          0.3182,
          0.6249,
          0,
          0,
          0.5859,
          0,
          0,
          0,
          0.5994,
          0,
          0,
          0,
          0.4019,
          0,
          0,
          0.4215,
          0.6249,
          0.1531,
          0.4019,
          -0.2732,
          0,
          0,
          0.6249,
          -0.5106,
          0,
          0,
          -0.2732,
          0,
          0,
          0.4588,
          0,
          0,
          0,
          0,
          -0.128,
          0,
          0,
          0,
          0,
          0.4215,
          0.836,
          0.25,
          0.0258,
          0.25,
          0.836,
          0.4767,
          0,
          0,
          0.6249,
          0,
          0.3182,
          0,
          0.6249,
          0,
          0.0516,
          0,
          0.5719,
          0.5994,
          0.296,
          0,
          0,
          0,
          0.7906,
          0,
          0,
          0,
          0.6249,
          -0.5994,
          0,
          0.7964,
          0,
          0,
          0.6249,
          0,
          0,
          0,
          0.6249,
          0,
          0.7964,
          0.4404,
          0,
          0,
          0.4019,
          0,
          0,
          0,
          -0.3182,
          0,
          0,
          0,
          0.4588,
          0,
          0,
          0.34,
          0,
          0.4019,
          0.296,
          -0.4019,
          -0.3612,
          0,
          0,
          0.296,
          -0.128,
          0,
          0.34,
          0,
          -0.4019,
          0.0772,
          0,
          0,
          0,
          -0.296,
          0.4019,
          0,
          0.4939,
          0,
          0.6003,
          0.1779,
          0.7096,
          0,
          0.0772,
          0,
          -0.8442,
          0,
          0.128,
          0,
          0.4404,
          0,
          -0.296,
          0.6124,
          0,
          -0.1027,
          0,
          0,
          0,
          0.2732,
          0.6369,
          0,
          0,
          0,
          0.4019,
          0,
          0,
          0.34,
          0.5574,
          0,
          0.5667,
          0,
          0.8176,
          0.4939,
          0,
          0,
          0,
          0,
          0,
          -0.25,
          0,
          0.4877,
          0.7717,
          0.2732,
          0.4767,
          0.3182,
          0.6369,
          0.5994,
          0.4404,
          0,
          0,
          0.6249,
          0.4404,
          0,
          0.7717,
          0,
          0,
          0,
          0.4404,
          0,
          0.5859,
          0.3182,
          0.4767,
          0.6705,
          0,
          0.4215,
          0.3182,
          0.2023,
          0,
          0,
          0.6908,
          -0.34,
          0.5859,
          0.6486,
          0,
          0,
          0.3182,
          0,
          0.3612,
          0.3612,
          -0.4939,
          0.7184,
          0,
          0,
          -0.6705,
          0,
          0.296,
          -0.2263,
          0,
          0.4019,
          0,
          0,
          0,
          0,
          0,
          0,
          0,
          0.4404,
          0,
          0,
          0.6249,
          0.6597,
          0,
          0.2732,
          0,
          0,
          0,
          0,
          0,
          0.4215,
          0.4019,
          0.5423,
          0.7845,
          0.4404,
          0.5994,
          0,
          0,
          0.2023,
          0.8074,
          0,
          0.6369,
          0,
          0.5106,
          -0.5106,
          0,
          0,
          0,
          0.7906,
          0,
          0.2732,
          0,
          -0.3632,
          0.2023,
          0.4215,
          0.6124,
          0.34,
          0,
          0.2732,
          -0.2023,
          0,
          0,
          0,
          0.4019,
          0,
          -0.1779,
          0,
          0,
          0,
          -0.1531,
          0.4019,
          0,
          -0.25,
          0.4767,
          0.6369,
          0,
          0.5994,
          0.1451,
          -0.3612,
          0.6249,
          0.6369,
          0.4939,
          0.2732,
          0,
          0,
          0.5574,
          0,
          0.4588,
          0.3182,
          0.4019,
          0.8555,
          0.4019,
          0.4939,
          0.5994,
          0,
          -0.3182,
          -0.3252,
          0,
          0.3182,
          0.0516,
          0,
          0,
          0,
          0,
          0.6249,
          0,
          0,
          -0.2755,
          0,
          0.7003,
          -0.1779,
          0,
          0,
          0.4588,
          0.3182,
          -0.3182,
          0,
          0,
          0,
          0,
          0,
          0.7096,
          0.7964,
          0,
          0.4019,
          0,
          0.296,
          0,
          0.4019,
          0.4404,
          0.4019,
          0.6249,
          0.5859,
          0.3818,
          0.4019,
          0,
          0,
          0.3182,
          0.6369,
          0,
          0.4019,
          0,
          0.4019,
          0,
          0,
          0,
          0.7351,
          0,
          0,
          0.4019,
          0.872,
          0.6249,
          0.3818,
          0,
          0.4019,
          0,
          0,
          0,
          0.296,
          0,
          0,
          0.802,
          -0.4767,
          0.4404,
          -0.4215,
          0.25,
          0,
          0,
          0.743,
          0,
          0.1027,
          0.5267,
          0,
          0,
          0.4215,
          0.0258,
          0.6249,
          0.836,
          0,
          0,
          0,
          0,
          0.6249,
          0,
          0,
          0,
          0,
          0.4215,
          0.5106,
          0.4404,
          0,
          0,
          0.4019,
          -0.296,
          0.4215,
          0.5106,
          0,
          0,
          0.9022,
          0.4404,
          0,
          0,
          0.6705,
          0.4404,
          0,
          0,
          0.2732,
          -0.34,
          0.9062,
          0.4417,
          0,
          0.6369,
          0,
          0.7506,
          0.4767,
          0,
          0,
          0.5106,
          0,
          0.8074,
          0,
          0,
          0,
          0,
          0,
          0,
          0,
          0,
          0.4588,
          0,
          0,
          0,
          0.4019,
          0.2732,
          0,
          0.5106,
          0.875,
          0.3612,
          0,
          0.743,
          0,
          -0.5106,
          0.5859,
          0,
          0,
          0,
          0,
          0.4404,
          0.25,
          0.4019,
          0,
          0.5719,
          0,
          0,
          0.8225,
          0.4404,
          0,
          0,
          0.4019,
          0,
          0,
          0,
          0.5994,
          0,
          0,
          0.6369,
          0,
          0.5994,
          0.5994,
          0.4019,
          0,
          0,
          0,
          0,
          0.128,
          -0.5423,
          0,
          0.8126,
          0,
          0.5423,
          0,
          -0.6808,
          0.5267,
          0.8689,
          0,
          -0.4019,
          -0.1531,
          -0.34,
          0,
          0.5719,
          0.4588,
          0.296,
          0,
          0.3612,
          0.6249,
          0,
          0,
          0.5719,
          0.4019,
          0.296,
          0.7003,
          0.3182,
          0.6124,
          0,
          -0.4588,
          0,
          -0.2732,
          0.4019,
          0,
          0,
          0.6597,
          0,
          0.25,
          0.128,
          0.4215,
          0,
          -0.2023,
          -0.2732,
          0.4019,
          0,
          0.5859,
          0.4939,
          0.5859,
          0,
          0.6369,
          0.3182,
          0.4215,
          0.4404,
          0.0772,
          0,
          0.4019,
          0.296,
          0.6249,
          0,
          0,
          0,
          0,
          0.6808,
          0.2732,
          0,
          0,
          0,
          0.3182,
          0.3612,
          0,
          0,
          0.5994,
          0.1779,
          0,
          0,
          0,
          0.2732,
          0.5859,
          -0.0258,
          0.8126,
          0.296,
          0,
          0,
          0.5267,
          0,
          0,
          0.2023,
          0.2732,
          0.3182,
          0.8834,
          0.4404,
          0,
          0.6908,
          0.5859,
          0.4215,
          0,
          0,
          0,
          0,
          0,
          0,
          0,
          0.4767,
          0,
          0.3612,
          0.296,
          0.4588,
          0,
          0,
          0.0772,
          0.2975,
          0.4019,
          0,
          -0.2732,
          0,
          0,
          0,
          0,
          0.6908,
          0,
          0,
          0.5719,
          0,
          0.5267,
          0.3612,
          0.2792,
          0,
          0.7096,
          0,
          -0.4767,
          0.5859,
          0,
          0,
          -0.6815,
          0.7906,
          0.4019,
          0.4019,
          -0.0516,
          0.2732,
          0,
          0.4767,
          0.4019,
          0,
          0,
          0,
          0,
          0,
          0.296,
          0.4588,
          0.6249,
          0.4767,
          0,
          0,
          0.296,
          0,
          0.4215,
          0.5994,
          0.34,
          0,
          0.5267,
          0.3818,
          0.3612,
          0,
          0.296,
          0,
          0.6597,
          0,
          -0.2263,
          0,
          0,
          0,
          0.3612,
          0,
          -0.6808,
          0.6249,
          0.6597,
          0.3182,
          -0.2263,
          0.3041,
          0.0772,
          0,
          0.7964,
          0,
          0,
          0,
          0,
          0,
          -0.4168,
          -0.1779,
          0,
          0.4019,
          0,
          0,
          0,
          0,
          -0.5574,
          0.4019,
          0.0772,
          0.6249,
          0,
          0,
          0,
          0,
          0,
          0,
          -0.2023,
          -0.3818,
          0.6705,
          0,
          0.3182,
          0.6249,
          0.4019,
          0.4019,
          0,
          0.4404,
          0,
          0.5423,
          0,
          0,
          0,
          0,
          0,
          -0.5719,
          0.5106,
          0,
          -0.5423,
          0,
          0.5719,
          0,
          0.802,
          0.3612,
          0,
          0.4019,
          0.7003,
          0.9001,
          0.25,
          0,
          0,
          0.5719,
          0,
          0,
          0,
          0,
          0,
          0.6734,
          0.6705,
          0,
          0,
          0.7906,
          0.3182,
          0,
          0,
          0.3182,
          0,
          0,
          -0.0772,
          0,
          0.4215,
          0.4404,
          0,
          0,
          0,
          0,
          0,
          0,
          0,
          0.6597,
          0,
          0,
          0,
          -0.3875,
          0.4215,
          -0.1027,
          0.2023,
          0,
          0.5859,
          0.4404,
          0,
          0,
          0.6369,
          0,
          0.5267,
          -0.34,
          -0.296,
          -0.5859,
          0.8074,
          0.6249,
          0.4019,
          0.765,
          -0.4215,
          -0.5423,
          0,
          0.4019,
          -0.4939,
          0.7003,
          0.4588,
          0,
          0.6197,
          0.7351,
          -0.296,
          0,
          0.4588,
          0.4588,
          0,
          0.34,
          0,
          0,
          0,
          0.4019,
          0,
          0.0772,
          0.0258,
          0.4019,
          0,
          0,
          -0.1531,
          0,
          0,
          0.2975,
          0.743,
          0,
          -0.6597,
          0,
          0.8885,
          0.4404,
          0.4404,
          0.4019,
          0.6369,
          -0.5994,
          0.3612,
          0.4588,
          0.2732,
          0,
          0,
          0.1027,
          0.6249,
          0.4019,
          0.3182,
          0,
          0,
          0,
          0.3182,
          0,
          0,
          -0.34,
          0.2732,
          0,
          0,
          0,
          0,
          0.7269,
          0.7906,
          0,
          0.6369,
          -0.4939,
          0.296,
          -0.296,
          -0.6124,
          0,
          0.6369,
          -0.1779,
          0.4404,
          0,
          0,
          0.6249,
          0.5574,
          0,
          0.8126,
          0.5719,
          0.0258,
          -0.3182,
          0.5994,
          0,
          0.3182,
          0,
          0.3182,
          0,
          0.4404,
          0.7506,
          0,
          0,
          0,
          0,
          0.2023,
          0.5994,
          0.2732,
          -0.2681,
          0.3182,
          -0.2263,
          0,
          0.4019,
          0.4588,
          0.4215,
          0,
          0,
          0,
          0,
          0,
          0,
          0,
          0,
          -0.296,
          -0.1689,
          0.128,
          -0.1779,
          -0.5994,
          0.4019,
          0.3477,
          0.3612,
          0.4091,
          0,
          -0.128,
          0.4939,
          0.3182,
          0.5859,
          0.4588,
          0,
          0.3612,
          0.3832,
          0,
          -0.128,
          0.4404,
          0.6597,
          0,
          0,
          0,
          0,
          -0.3182,
          0.4019,
          0,
          0.4215,
          0,
          0.5994,
          0.4215,
          0,
          0,
          0,
          0.3182,
          0,
          0,
          0.4588,
          0.4019,
          0.4215,
          0.6369,
          0.4939,
          0.3182,
          0.4019,
          0.3182,
          0,
          0,
          0,
          0,
          0,
          0,
          0.296,
          -0.4585,
          0.5719,
          -0.0772,
          -0.4912,
          0.6705,
          0,
          0.3182,
          0,
          -0.0772,
          0,
          0.3612,
          0.4588,
          0,
          0.7096,
          0.5859,
          0.296,
          0,
          0.296,
          0,
          0,
          0,
          -0.128,
          0.4019,
          0.4404,
          0.25,
          -0.5574,
          0.4019,
          0.2263,
          0,
          0,
          0,
          -0.1027,
          0,
          0,
          0.6249,
          0,
          0,
          0,
          0.0516,
          0.7269,
          0.2732,
          0,
          0,
          0,
          0.3818,
          0.6249,
          0,
          0.1779,
          0.4939,
          0,
          0,
          0,
          0.0258,
          0.8176,
          0.4019,
          0.296,
          0.8155,
          -0.25,
          0.6249,
          0,
          0.4019,
          0.8481,
          0,
          0.4588,
          0,
          0.4019,
          0,
          0.5859,
          0,
          0.4588,
          0,
          0,
          -0.743,
          0,
          0.3612,
          0.1027,
          0,
          0.6808,
          -0.5574,
          -0.7717,
          0.5267,
          -0.2247,
          -0.1761,
          0,
          0,
          0,
          0.4019,
          0.2023,
          0.1531,
          0.6369,
          0,
          0.6249,
          0,
          0,
          0.0258,
          0,
          0,
          -0.128,
          0.6597,
          0,
          0.4404,
          0.128,
          0,
          0.34,
          0.2023,
          0,
          0.7579,
          0,
          0,
          0.6249,
          0.8238,
          0.3182,
          0,
          0.4939,
          0,
          -0.1326,
          0.3182,
          0,
          0.6249,
          0,
          0,
          -0.296,
          0,
          0,
          0.6124,
          0.3612,
          0.6369,
          0.4588,
          0.4404,
          0.3182,
          0,
          0,
          0.6249,
          0,
          0.4404,
          0,
          0.4019,
          0.4588,
          0,
          0.296,
          0.6249,
          0,
          0,
          0,
          0.6369,
          0.6908,
          0,
          0.4019,
          0.6249,
          -0.1027,
          0.765,
          0.4404,
          0.7003,
          0,
          0.4019,
          0,
          0,
          0,
          0,
          0,
          0,
          0.1779,
          0.3818,
          0.4215,
          0.4767,
          0.4215,
          0.2023,
          0,
          0.3182,
          0.3182,
          0.0951,
          -0.34,
          0,
          0.2732,
          0,
          0,
          0,
          0,
          0.6124,
          0.4201,
          0.4019,
          0.9274,
          0.3612,
          0,
          -0.4215,
          0,
          0,
          0,
          0,
          0,
          0,
          0.3182,
          0.4215,
          0.8957,
          -0.5423,
          0,
          0,
          0,
          0,
          0.4588,
          0.3612,
          0.4404,
          0,
          0.3612,
          0,
          0.4215,
          -0.2755,
          0.5511,
          0,
          0,
          0,
          0.2732,
          0,
          0,
          0.296,
          0,
          -0.34,
          0,
          -0.3612,
          0.3612,
          0.7003,
          0,
          0.3182,
          0.4939,
          0.4019,
          -0.5106,
          0.4019,
          0.4588,
          0.4404,
          0,
          0,
          0.34,
          0.0828,
          0,
          0.4019,
          0,
          0.4588,
          0,
          -0.0772,
          0.4588,
          0.3182,
          0,
          0.4404,
          0.4902,
          0,
          0.4404,
          0.6908,
          0.8519,
          0.4215,
          0.4215,
          0.296,
          0.4939,
          0,
          0.3182,
          0.296,
          0,
          0.4588,
          0.1513,
          0,
          0.4019,
          0.4019,
          0,
          0.7717,
          0,
          0.296,
          0,
          0.1796,
          0.4767,
          0.2023,
          0.6369,
          0.3182,
          0.4404,
          0.5106,
          0,
          -0.4019,
          0,
          0.7269,
          0,
          0,
          -0.4019,
          0.6249,
          0,
          -0.5267,
          0,
          0.296,
          0,
          0,
          0,
          0,
          0,
          0,
          0.3612,
          0.3182,
          0.4404,
          0.4019,
          0.4404,
          0,
          0.7351,
          0.3182,
          0.3818,
          0,
          0.4939,
          0.3798,
          0.4019,
          0.3612,
          -0.4767,
          0.4215,
          0.6249,
          0,
          0,
          0,
          0.1761,
          0,
          0.8402,
          -0.5859,
          0,
          -0.0516,
          0.6808,
          -0.1531,
          0,
          0.4019,
          0,
          -0.3412,
          0.3182,
          0,
          0.1779,
          0.4939,
          0.7717,
          0.5859,
          0,
          0.5994,
          0.4588,
          0.3182,
          0,
          0,
          0,
          0,
          0.4215,
          0.6369,
          0.7178,
          0.4927,
          0,
          0.2732,
          0,
          -0.2732,
          0,
          0,
          0,
          0,
          0.4939,
          0,
          0.4588,
          0,
          0,
          0,
          0,
          0,
          0,
          0,
          0.4019,
          0,
          0,
          0.4588,
          0.5563,
          0,
          0,
          0.9062,
          0,
          0,
          0,
          0.743,
          0,
          0,
          0.296,
          -0.4019,
          0,
          0,
          0,
          0,
          -0.0772,
          0,
          0.296,
          0,
          0,
          0.296,
          0,
          0,
          0,
          0,
          0.3182,
          0,
          0,
          0.8442,
          0,
          0.4588,
          -0.3182,
          0,
          0.9538,
          0.6597,
          -0.3818,
          0,
          -0.0258,
          -0.7334,
          0,
          0,
          0.296,
          -0.0772,
          0.5574,
          0,
          0.4019,
          0.4404,
          0.25,
          0,
          0.4019,
          0,
          0,
          0.4767,
          -0.1027,
          0.6369,
          0.4939,
          0.4404,
          0,
          0,
          0,
          -0.0516,
          -0.4019,
          0.2732,
          0,
          -0.2023,
          0.7506,
          0,
          -0.3182,
          0,
          0,
          0,
          0.3818,
          0.4767,
          0.6369,
          -0.0258,
          0.5267,
          0,
          0.4404,
          -0.1695,
          0,
          -0.0516,
          0,
          0,
          0.6705,
          0,
          0,
          0.7579,
          0,
          0,
          0.3818,
          0.7096,
          0,
          0,
          0,
          0,
          0.4215,
          0,
          0.0772,
          0,
          0,
          0,
          0,
          0.4588,
          0,
          0,
          0.5267,
          0.3182,
          0,
          -0.4588,
          0,
          0,
          0.4588,
          0,
          0,
          0.4588,
          0.5719,
          0,
          0.5106,
          -0.128,
          0.6705,
          0,
          0,
          0.34,
          0,
          0.4019,
          0.4767,
          0,
          0,
          -0.1761,
          0.3612,
          0,
          0,
          0.4215,
          0,
          0.4588,
          0,
          -0.25,
          0.4019,
          0.4019,
          0,
          -0.5994,
          0,
          0.3612,
          0.2732,
          0,
          -0.0572,
          0,
          0,
          0,
          0.4019,
          0,
          0,
          0,
          0,
          0.7906,
          0.6124,
          0.1779,
          0.4019,
          0.4588,
          0.296,
          0.7269,
          0,
          0,
          0,
          0.6369,
          0,
          0,
          0.4019,
          0,
          0.296,
          0,
          0,
          0,
          0,
          -0.2023,
          0.4404,
          0.5106,
          0,
          -0.802,
          0,
          0.4939,
          0,
          0.5859,
          0,
          0,
          0.6249,
          0,
          0,
          0,
          0.6369,
          0.743,
          0,
          0,
          0,
          0.3182,
          0.4588,
          0,
          0.7783,
          0.4019,
          0.6249,
          0,
          -0.1779,
          0,
          0.7003,
          0,
          0,
          0,
          0.4215,
          0.4019,
          0,
          0,
          0,
          -0.5267,
          0.5719,
          0,
          0.296,
          0.4588,
          0.3182,
          -0.6908,
          -0.4404,
          0.6249,
          0.7003,
          0,
          0,
          0.6908,
          -0.4588,
          0.6808,
          0.8777,
          0,
          0.4588,
          0.4404,
          0.4588,
          0.5859,
          0.0258,
          0,
          0.891,
          -0.1027,
          0,
          0,
          0.5106,
          0,
          0.4019,
          0,
          0.34,
          0,
          0.2023,
          -0.1531,
          -0.4019,
          0.6369,
          0.4215,
          0.5859,
          0.34,
          0.2732,
          0.802,
          0,
          0,
          -0.296,
          0,
          0,
          0,
          0.5267,
          0,
          0,
          0,
          0.6124,
          0.4019,
          -0.1027,
          0.4215,
          0,
          0.296,
          0.7184,
          0,
          -0.4767,
          0.2023,
          0,
          0.6597,
          0,
          0.296,
          0.7096,
          0,
          -0.34,
          0.296,
          -0.6908,
          0,
          0.4404,
          0,
          0.6369,
          0.6249,
          0,
          0,
          0,
          0.2732,
          0,
          0.3612,
          0.4215,
          0.128,
          0,
          0,
          0,
          0,
          0.4215,
          0,
          0.4215,
          0,
          0,
          0,
          0.3182,
          0,
          0.4939,
          0.5719,
          0.3612,
          0.3818,
          0,
          0,
          0,
          0.5994,
          0,
          0.7096,
          0.296,
          0,
          -0.3182,
          0,
          0,
          0,
          0,
          0,
          0,
          0.6249,
          0,
          0,
          0,
          0,
          0,
          0.6486,
          -0.4767,
          0.4215,
          0,
          -0.469,
          0,
          0,
          0,
          0.6249,
          0,
          0.4215,
          0,
          0,
          0,
          0,
          -0.3612,
          0.5423,
          0,
          0,
          0.3182,
          0,
          -0.34,
          0,
          0,
          0,
          0.5267,
          0.128,
          0.5859,
          -0.34,
          0.6259,
          0.8176,
          0,
          0.6249,
          -0.3818,
          0,
          0.3818,
          0,
          0.6369,
          0.3182,
          0.802,
          -0.5574,
          0.5859,
          0.296,
          0,
          0,
          0,
          0.5859,
          0.3612,
          0.4404,
          0,
          0.2732,
          0,
          0,
          0.5859,
          0,
          0.3182,
          0,
          -0.3089,
          0,
          0.2732,
          0.4588,
          0,
          0.3612,
          0,
          0.5423,
          -0.3182,
          -0.4404,
          -0.5423,
          0.6249,
          0.4588,
          0,
          0.8271,
          -0.3818,
          0,
          0,
          0,
          0,
          0.5859,
          0,
          0,
          0.4588,
          0.6369,
          0,
          0.2585,
          0,
          0,
          0,
          0.3182,
          0.5859,
          0.6249,
          0.0772,
          0,
          0.4588,
          0.4939,
          0.3182,
          0,
          0,
          0,
          0.8603,
          0,
          0.3182,
          0.4019,
          0,
          0,
          0,
          0,
          -0.34,
          0.5994,
          0,
          -0.1531,
          0.6249,
          0.7096,
          0.3182,
          0.296,
          0,
          0.3182,
          0,
          -0.2023,
          -0.4404,
          0,
          0,
          0.6249,
          0,
          -0.2263,
          -0.4404,
          0.6908,
          0.6908,
          0.4939,
          0.7184,
          0.4019,
          0.802,
          0,
          0.3612,
          -0.1027,
          0.5106,
          0.6249,
          0.6249,
          0.6124,
          -0.2732,
          0,
          0.3612,
          0.6697,
          0,
          0,
          0,
          0.4588,
          0.2732,
          0,
          0.5859,
          0,
          0.4404,
          -0.4019,
          0.4404,
          0,
          0,
          0,
          0,
          0,
          0.7906,
          0,
          0,
          0,
          0,
          0,
          0,
          0,
          0,
          0,
          0.2732,
          0.6249,
          0,
          0,
          0,
          0,
          0,
          0.4019,
          0.3612,
          0,
          0,
          0,
          0,
          0,
          0.2023,
          0,
          0.4404,
          0,
          0,
          0,
          0.4215,
          0.0258,
          0,
          0,
          0,
          0,
          0.5994,
          0,
          0.4588,
          0,
          0,
          0.7845,
          0.5574,
          0,
          0,
          0.4019,
          0.3182,
          0,
          0.4404,
          0,
          0,
          0,
          0.4019,
          0.4173,
          -0.25,
          0.6249,
          0,
          0,
          0,
          0.2411,
          0.4019,
          0,
          0,
          0.4391,
          -0.25,
          0,
          0.4939,
          0,
          0.0772,
          -0.5719,
          0.4939,
          0.4404,
          0.4404,
          -0.296,
          0,
          0,
          0,
          0.4019,
          0.128,
          0.3182,
          0,
          0,
          -0.4588,
          0,
          0,
          0,
          -0.296,
          0.7096,
          0.6249,
          -0.765,
          0.296,
          0.3612,
          0.296,
          0,
          0,
          0,
          0,
          0.6412,
          0,
          0,
          0,
          0.4588,
          0.5859,
          0,
          0,
          0.4215,
          0.4588,
          0.8555,
          0.4019,
          0,
          0,
          0.0772,
          0,
          0.4019,
          -0.25,
          -0.2732,
          0.3182,
          0,
          0.4404,
          -0.5267,
          0.836,
          0.4588,
          0,
          0,
          0,
          0,
          0.6486,
          0,
          0.7003,
          -0.7351,
          0.25,
          0,
          0,
          0.4404,
          0,
          0.296,
          0,
          0,
          0.4215,
          0.5859,
          0.6369,
          0.4019,
          0.4019,
          0.34,
          0.0762,
          -0.1779,
          0,
          0,
          0,
          0.5994,
          0,
          -0.7003,
          0.4215
         ]
        }
       ],
       "layout": {
        "template": {
         "data": {
          "bar": [
           {
            "error_x": {
             "color": "#2a3f5f"
            },
            "error_y": {
             "color": "#2a3f5f"
            },
            "marker": {
             "line": {
              "color": "#E5ECF6",
              "width": 0.5
             },
             "pattern": {
              "fillmode": "overlay",
              "size": 10,
              "solidity": 0.2
             }
            },
            "type": "bar"
           }
          ],
          "barpolar": [
           {
            "marker": {
             "line": {
              "color": "#E5ECF6",
              "width": 0.5
             },
             "pattern": {
              "fillmode": "overlay",
              "size": 10,
              "solidity": 0.2
             }
            },
            "type": "barpolar"
           }
          ],
          "carpet": [
           {
            "aaxis": {
             "endlinecolor": "#2a3f5f",
             "gridcolor": "white",
             "linecolor": "white",
             "minorgridcolor": "white",
             "startlinecolor": "#2a3f5f"
            },
            "baxis": {
             "endlinecolor": "#2a3f5f",
             "gridcolor": "white",
             "linecolor": "white",
             "minorgridcolor": "white",
             "startlinecolor": "#2a3f5f"
            },
            "type": "carpet"
           }
          ],
          "choropleth": [
           {
            "colorbar": {
             "outlinewidth": 0,
             "ticks": ""
            },
            "type": "choropleth"
           }
          ],
          "contour": [
           {
            "colorbar": {
             "outlinewidth": 0,
             "ticks": ""
            },
            "colorscale": [
             [
              0,
              "#0d0887"
             ],
             [
              0.1111111111111111,
              "#46039f"
             ],
             [
              0.2222222222222222,
              "#7201a8"
             ],
             [
              0.3333333333333333,
              "#9c179e"
             ],
             [
              0.4444444444444444,
              "#bd3786"
             ],
             [
              0.5555555555555556,
              "#d8576b"
             ],
             [
              0.6666666666666666,
              "#ed7953"
             ],
             [
              0.7777777777777778,
              "#fb9f3a"
             ],
             [
              0.8888888888888888,
              "#fdca26"
             ],
             [
              1,
              "#f0f921"
             ]
            ],
            "type": "contour"
           }
          ],
          "contourcarpet": [
           {
            "colorbar": {
             "outlinewidth": 0,
             "ticks": ""
            },
            "type": "contourcarpet"
           }
          ],
          "heatmap": [
           {
            "colorbar": {
             "outlinewidth": 0,
             "ticks": ""
            },
            "colorscale": [
             [
              0,
              "#0d0887"
             ],
             [
              0.1111111111111111,
              "#46039f"
             ],
             [
              0.2222222222222222,
              "#7201a8"
             ],
             [
              0.3333333333333333,
              "#9c179e"
             ],
             [
              0.4444444444444444,
              "#bd3786"
             ],
             [
              0.5555555555555556,
              "#d8576b"
             ],
             [
              0.6666666666666666,
              "#ed7953"
             ],
             [
              0.7777777777777778,
              "#fb9f3a"
             ],
             [
              0.8888888888888888,
              "#fdca26"
             ],
             [
              1,
              "#f0f921"
             ]
            ],
            "type": "heatmap"
           }
          ],
          "heatmapgl": [
           {
            "colorbar": {
             "outlinewidth": 0,
             "ticks": ""
            },
            "colorscale": [
             [
              0,
              "#0d0887"
             ],
             [
              0.1111111111111111,
              "#46039f"
             ],
             [
              0.2222222222222222,
              "#7201a8"
             ],
             [
              0.3333333333333333,
              "#9c179e"
             ],
             [
              0.4444444444444444,
              "#bd3786"
             ],
             [
              0.5555555555555556,
              "#d8576b"
             ],
             [
              0.6666666666666666,
              "#ed7953"
             ],
             [
              0.7777777777777778,
              "#fb9f3a"
             ],
             [
              0.8888888888888888,
              "#fdca26"
             ],
             [
              1,
              "#f0f921"
             ]
            ],
            "type": "heatmapgl"
           }
          ],
          "histogram": [
           {
            "marker": {
             "pattern": {
              "fillmode": "overlay",
              "size": 10,
              "solidity": 0.2
             }
            },
            "type": "histogram"
           }
          ],
          "histogram2d": [
           {
            "colorbar": {
             "outlinewidth": 0,
             "ticks": ""
            },
            "colorscale": [
             [
              0,
              "#0d0887"
             ],
             [
              0.1111111111111111,
              "#46039f"
             ],
             [
              0.2222222222222222,
              "#7201a8"
             ],
             [
              0.3333333333333333,
              "#9c179e"
             ],
             [
              0.4444444444444444,
              "#bd3786"
             ],
             [
              0.5555555555555556,
              "#d8576b"
             ],
             [
              0.6666666666666666,
              "#ed7953"
             ],
             [
              0.7777777777777778,
              "#fb9f3a"
             ],
             [
              0.8888888888888888,
              "#fdca26"
             ],
             [
              1,
              "#f0f921"
             ]
            ],
            "type": "histogram2d"
           }
          ],
          "histogram2dcontour": [
           {
            "colorbar": {
             "outlinewidth": 0,
             "ticks": ""
            },
            "colorscale": [
             [
              0,
              "#0d0887"
             ],
             [
              0.1111111111111111,
              "#46039f"
             ],
             [
              0.2222222222222222,
              "#7201a8"
             ],
             [
              0.3333333333333333,
              "#9c179e"
             ],
             [
              0.4444444444444444,
              "#bd3786"
             ],
             [
              0.5555555555555556,
              "#d8576b"
             ],
             [
              0.6666666666666666,
              "#ed7953"
             ],
             [
              0.7777777777777778,
              "#fb9f3a"
             ],
             [
              0.8888888888888888,
              "#fdca26"
             ],
             [
              1,
              "#f0f921"
             ]
            ],
            "type": "histogram2dcontour"
           }
          ],
          "mesh3d": [
           {
            "colorbar": {
             "outlinewidth": 0,
             "ticks": ""
            },
            "type": "mesh3d"
           }
          ],
          "parcoords": [
           {
            "line": {
             "colorbar": {
              "outlinewidth": 0,
              "ticks": ""
             }
            },
            "type": "parcoords"
           }
          ],
          "pie": [
           {
            "automargin": true,
            "type": "pie"
           }
          ],
          "scatter": [
           {
            "fillpattern": {
             "fillmode": "overlay",
             "size": 10,
             "solidity": 0.2
            },
            "type": "scatter"
           }
          ],
          "scatter3d": [
           {
            "line": {
             "colorbar": {
              "outlinewidth": 0,
              "ticks": ""
             }
            },
            "marker": {
             "colorbar": {
              "outlinewidth": 0,
              "ticks": ""
             }
            },
            "type": "scatter3d"
           }
          ],
          "scattercarpet": [
           {
            "marker": {
             "colorbar": {
              "outlinewidth": 0,
              "ticks": ""
             }
            },
            "type": "scattercarpet"
           }
          ],
          "scattergeo": [
           {
            "marker": {
             "colorbar": {
              "outlinewidth": 0,
              "ticks": ""
             }
            },
            "type": "scattergeo"
           }
          ],
          "scattergl": [
           {
            "marker": {
             "colorbar": {
              "outlinewidth": 0,
              "ticks": ""
             }
            },
            "type": "scattergl"
           }
          ],
          "scattermapbox": [
           {
            "marker": {
             "colorbar": {
              "outlinewidth": 0,
              "ticks": ""
             }
            },
            "type": "scattermapbox"
           }
          ],
          "scatterpolar": [
           {
            "marker": {
             "colorbar": {
              "outlinewidth": 0,
              "ticks": ""
             }
            },
            "type": "scatterpolar"
           }
          ],
          "scatterpolargl": [
           {
            "marker": {
             "colorbar": {
              "outlinewidth": 0,
              "ticks": ""
             }
            },
            "type": "scatterpolargl"
           }
          ],
          "scatterternary": [
           {
            "marker": {
             "colorbar": {
              "outlinewidth": 0,
              "ticks": ""
             }
            },
            "type": "scatterternary"
           }
          ],
          "surface": [
           {
            "colorbar": {
             "outlinewidth": 0,
             "ticks": ""
            },
            "colorscale": [
             [
              0,
              "#0d0887"
             ],
             [
              0.1111111111111111,
              "#46039f"
             ],
             [
              0.2222222222222222,
              "#7201a8"
             ],
             [
              0.3333333333333333,
              "#9c179e"
             ],
             [
              0.4444444444444444,
              "#bd3786"
             ],
             [
              0.5555555555555556,
              "#d8576b"
             ],
             [
              0.6666666666666666,
              "#ed7953"
             ],
             [
              0.7777777777777778,
              "#fb9f3a"
             ],
             [
              0.8888888888888888,
              "#fdca26"
             ],
             [
              1,
              "#f0f921"
             ]
            ],
            "type": "surface"
           }
          ],
          "table": [
           {
            "cells": {
             "fill": {
              "color": "#EBF0F8"
             },
             "line": {
              "color": "white"
             }
            },
            "header": {
             "fill": {
              "color": "#C8D4E3"
             },
             "line": {
              "color": "white"
             }
            },
            "type": "table"
           }
          ]
         },
         "layout": {
          "annotationdefaults": {
           "arrowcolor": "#2a3f5f",
           "arrowhead": 0,
           "arrowwidth": 1
          },
          "autotypenumbers": "strict",
          "coloraxis": {
           "colorbar": {
            "outlinewidth": 0,
            "ticks": ""
           }
          },
          "colorscale": {
           "diverging": [
            [
             0,
             "#8e0152"
            ],
            [
             0.1,
             "#c51b7d"
            ],
            [
             0.2,
             "#de77ae"
            ],
            [
             0.3,
             "#f1b6da"
            ],
            [
             0.4,
             "#fde0ef"
            ],
            [
             0.5,
             "#f7f7f7"
            ],
            [
             0.6,
             "#e6f5d0"
            ],
            [
             0.7,
             "#b8e186"
            ],
            [
             0.8,
             "#7fbc41"
            ],
            [
             0.9,
             "#4d9221"
            ],
            [
             1,
             "#276419"
            ]
           ],
           "sequential": [
            [
             0,
             "#0d0887"
            ],
            [
             0.1111111111111111,
             "#46039f"
            ],
            [
             0.2222222222222222,
             "#7201a8"
            ],
            [
             0.3333333333333333,
             "#9c179e"
            ],
            [
             0.4444444444444444,
             "#bd3786"
            ],
            [
             0.5555555555555556,
             "#d8576b"
            ],
            [
             0.6666666666666666,
             "#ed7953"
            ],
            [
             0.7777777777777778,
             "#fb9f3a"
            ],
            [
             0.8888888888888888,
             "#fdca26"
            ],
            [
             1,
             "#f0f921"
            ]
           ],
           "sequentialminus": [
            [
             0,
             "#0d0887"
            ],
            [
             0.1111111111111111,
             "#46039f"
            ],
            [
             0.2222222222222222,
             "#7201a8"
            ],
            [
             0.3333333333333333,
             "#9c179e"
            ],
            [
             0.4444444444444444,
             "#bd3786"
            ],
            [
             0.5555555555555556,
             "#d8576b"
            ],
            [
             0.6666666666666666,
             "#ed7953"
            ],
            [
             0.7777777777777778,
             "#fb9f3a"
            ],
            [
             0.8888888888888888,
             "#fdca26"
            ],
            [
             1,
             "#f0f921"
            ]
           ]
          },
          "colorway": [
           "#636efa",
           "#EF553B",
           "#00cc96",
           "#ab63fa",
           "#FFA15A",
           "#19d3f3",
           "#FF6692",
           "#B6E880",
           "#FF97FF",
           "#FECB52"
          ],
          "font": {
           "color": "#2a3f5f"
          },
          "geo": {
           "bgcolor": "white",
           "lakecolor": "white",
           "landcolor": "#E5ECF6",
           "showlakes": true,
           "showland": true,
           "subunitcolor": "white"
          },
          "hoverlabel": {
           "align": "left"
          },
          "hovermode": "closest",
          "mapbox": {
           "style": "light"
          },
          "paper_bgcolor": "white",
          "plot_bgcolor": "#E5ECF6",
          "polar": {
           "angularaxis": {
            "gridcolor": "white",
            "linecolor": "white",
            "ticks": ""
           },
           "bgcolor": "#E5ECF6",
           "radialaxis": {
            "gridcolor": "white",
            "linecolor": "white",
            "ticks": ""
           }
          },
          "scene": {
           "xaxis": {
            "backgroundcolor": "#E5ECF6",
            "gridcolor": "white",
            "gridwidth": 2,
            "linecolor": "white",
            "showbackground": true,
            "ticks": "",
            "zerolinecolor": "white"
           },
           "yaxis": {
            "backgroundcolor": "#E5ECF6",
            "gridcolor": "white",
            "gridwidth": 2,
            "linecolor": "white",
            "showbackground": true,
            "ticks": "",
            "zerolinecolor": "white"
           },
           "zaxis": {
            "backgroundcolor": "#E5ECF6",
            "gridcolor": "white",
            "gridwidth": 2,
            "linecolor": "white",
            "showbackground": true,
            "ticks": "",
            "zerolinecolor": "white"
           }
          },
          "shapedefaults": {
           "line": {
            "color": "#2a3f5f"
           }
          },
          "ternary": {
           "aaxis": {
            "gridcolor": "white",
            "linecolor": "white",
            "ticks": ""
           },
           "baxis": {
            "gridcolor": "white",
            "linecolor": "white",
            "ticks": ""
           },
           "bgcolor": "#E5ECF6",
           "caxis": {
            "gridcolor": "white",
            "linecolor": "white",
            "ticks": ""
           }
          },
          "title": {
           "x": 0.05
          },
          "xaxis": {
           "automargin": true,
           "gridcolor": "white",
           "linecolor": "white",
           "ticks": "",
           "title": {
            "standoff": 15
           },
           "zerolinecolor": "white",
           "zerolinewidth": 2
          },
          "yaxis": {
           "automargin": true,
           "gridcolor": "white",
           "linecolor": "white",
           "ticks": "",
           "title": {
            "standoff": 15
           },
           "zerolinecolor": "white",
           "zerolinewidth": 2
          }
         }
        },
        "title": {
         "text": "Compound value"
        },
        "xaxis": {
         "title": {
          "text": "index"
         }
        },
        "yaxis": {
         "title": {
          "text": "compound"
         }
        }
       }
      }
     },
     "metadata": {},
     "output_type": "display_data"
    }
   ],
   "source": [
    "# Compound value accross the dataframe\n",
    "fig=go.Figure(go.Scatter(x=new_df.index, y=new_df.compound))\n",
    "fig.update_layout(\n",
    "                  xaxis=dict(\n",
    "                            title='index'),\n",
    "                  yaxis=dict(\n",
    "                            title='compound'),\n",
    "                  title='Compound value'\n",
    "                 )\n",
    "fig.show()"
   ]
  },
  {
   "cell_type": "markdown",
   "metadata": {},
   "source": [
    "Seems like most of the tweets are positive"
   ]
  },
  {
   "cell_type": "code",
   "execution_count": 44,
   "metadata": {},
   "outputs": [
    {
     "data": {
      "text/html": [
       "<div>\n",
       "<style scoped>\n",
       "    .dataframe tbody tr th:only-of-type {\n",
       "        vertical-align: middle;\n",
       "    }\n",
       "\n",
       "    .dataframe tbody tr th {\n",
       "        vertical-align: top;\n",
       "    }\n",
       "\n",
       "    .dataframe thead th {\n",
       "        text-align: right;\n",
       "    }\n",
       "</style>\n",
       "<table border=\"1\" class=\"dataframe\">\n",
       "  <thead>\n",
       "    <tr style=\"text-align: right;\">\n",
       "      <th></th>\n",
       "      <th>Text</th>\n",
       "      <th>cleaned tweets</th>\n",
       "      <th>compound</th>\n",
       "      <th>Type</th>\n",
       "    </tr>\n",
       "  </thead>\n",
       "  <tbody>\n",
       "    <tr>\n",
       "      <th>0</th>\n",
       "      <td>@kunalb11 i’m an alien</td>\n",
       "      <td>alien</td>\n",
       "      <td>0.0000</td>\n",
       "      <td>Neutral</td>\n",
       "    </tr>\n",
       "    <tr>\n",
       "      <th>1</th>\n",
       "      <td>@id_aa_carmack ray tracing on cyberpunk with h...</td>\n",
       "      <td>ray tracing cyberpunk hdr nextlevel tried</td>\n",
       "      <td>0.0000</td>\n",
       "      <td>Neutral</td>\n",
       "    </tr>\n",
       "    <tr>\n",
       "      <th>2</th>\n",
       "      <td>@joerogan @spotify great interview!</td>\n",
       "      <td>great interview</td>\n",
       "      <td>0.6249</td>\n",
       "      <td>Positive</td>\n",
       "    </tr>\n",
       "    <tr>\n",
       "      <th>3</th>\n",
       "      <td>@gtera27 doge is underestimated</td>\n",
       "      <td>doge underestimated</td>\n",
       "      <td>-0.2732</td>\n",
       "      <td>Negative</td>\n",
       "    </tr>\n",
       "    <tr>\n",
       "      <th>4</th>\n",
       "      <td>@teslacn congratulations tesla china for amazi...</td>\n",
       "      <td>congratulation tesla china amazing execution l...</td>\n",
       "      <td>0.8271</td>\n",
       "      <td>Positive</td>\n",
       "    </tr>\n",
       "    <tr>\n",
       "      <th>...</th>\n",
       "      <td>...</td>\n",
       "      <td>...</td>\n",
       "      <td>...</td>\n",
       "      <td>...</td>\n",
       "    </tr>\n",
       "    <tr>\n",
       "      <th>1994</th>\n",
       "      <td>@flcnhvy true, it sounds so surreal, but the n...</td>\n",
       "      <td>true sound surreal negative propaganda still a...</td>\n",
       "      <td>-0.0000</td>\n",
       "      <td>Neutral</td>\n",
       "    </tr>\n",
       "    <tr>\n",
       "      <th>1995</th>\n",
       "      <td>@ppathole make sure to read ur terms &amp;amp; con...</td>\n",
       "      <td>make sure read ur term amp condition clicking ...</td>\n",
       "      <td>0.5994</td>\n",
       "      <td>Positive</td>\n",
       "    </tr>\n",
       "    <tr>\n",
       "      <th>1996</th>\n",
       "      <td>@teslagong @ppathole samwise gamgee</td>\n",
       "      <td>samwise gamgee</td>\n",
       "      <td>0.0000</td>\n",
       "      <td>Neutral</td>\n",
       "    </tr>\n",
       "    <tr>\n",
       "      <th>1997</th>\n",
       "      <td>@ppathole altho dumb and dumber is &lt;u+0001f525...</td>\n",
       "      <td>altho dumb dumber ufuf</td>\n",
       "      <td>-0.7003</td>\n",
       "      <td>Negative</td>\n",
       "    </tr>\n",
       "    <tr>\n",
       "      <th>1998</th>\n",
       "      <td>progress update august 28</td>\n",
       "      <td>progress update august</td>\n",
       "      <td>0.4215</td>\n",
       "      <td>Positive</td>\n",
       "    </tr>\n",
       "  </tbody>\n",
       "</table>\n",
       "<p>1997 rows × 4 columns</p>\n",
       "</div>"
      ],
      "text/plain": [
       "                                                   Text  \\\n",
       "0                                @kunalb11 i’m an alien   \n",
       "1     @id_aa_carmack ray tracing on cyberpunk with h...   \n",
       "2                   @joerogan @spotify great interview!   \n",
       "3                       @gtera27 doge is underestimated   \n",
       "4     @teslacn congratulations tesla china for amazi...   \n",
       "...                                                 ...   \n",
       "1994  @flcnhvy true, it sounds so surreal, but the n...   \n",
       "1995  @ppathole make sure to read ur terms &amp; con...   \n",
       "1996                @teslagong @ppathole samwise gamgee   \n",
       "1997  @ppathole altho dumb and dumber is <u+0001f525...   \n",
       "1998                          progress update august 28   \n",
       "\n",
       "                                         cleaned tweets  compound      Type  \n",
       "0                                                 alien    0.0000   Neutral  \n",
       "1             ray tracing cyberpunk hdr nextlevel tried    0.0000   Neutral  \n",
       "2                                       great interview    0.6249  Positive  \n",
       "3                                   doge underestimated   -0.2732  Negative  \n",
       "4     congratulation tesla china amazing execution l...    0.8271  Positive  \n",
       "...                                                 ...       ...       ...  \n",
       "1994  true sound surreal negative propaganda still a...   -0.0000   Neutral  \n",
       "1995  make sure read ur term amp condition clicking ...    0.5994  Positive  \n",
       "1996                                     samwise gamgee    0.0000   Neutral  \n",
       "1997                             altho dumb dumber ufuf   -0.7003  Negative  \n",
       "1998                             progress update august    0.4215  Positive  \n",
       "\n",
       "[1997 rows x 4 columns]"
      ]
     },
     "execution_count": 44,
     "metadata": {},
     "output_type": "execute_result"
    }
   ],
   "source": [
    "new_df"
   ]
  },
  {
   "cell_type": "code",
   "execution_count": 45,
   "metadata": {},
   "outputs": [
    {
     "data": {
      "application/vnd.plotly.v1+json": {
       "config": {
        "plotlyServerURL": "https://plot.ly"
       },
       "data": [
        {
         "mode": "markers",
         "type": "scatter",
         "x": [
          4,
          13,
          4,
          4,
          17,
          7,
          14,
          6,
          11,
          8,
          4,
          7,
          1,
          5,
          13,
          12,
          4,
          5,
          2,
          6,
          17,
          4,
          22,
          2,
          14,
          16,
          20,
          21,
          18,
          17,
          5,
          10,
          23,
          6,
          7,
          20,
          3,
          21,
          5,
          7,
          6,
          5,
          16,
          7,
          3,
          9,
          6,
          8,
          3,
          3,
          2,
          2,
          20,
          2,
          2,
          4,
          9,
          7,
          5,
          9,
          2,
          2,
          3,
          2,
          2,
          16,
          5,
          4,
          2,
          2,
          2,
          6,
          17,
          14,
          7,
          15,
          3,
          25,
          18,
          4,
          20,
          19,
          4,
          23,
          7,
          4,
          4,
          5,
          8,
          2,
          6,
          8,
          5,
          3,
          9,
          1,
          1,
          5,
          6,
          12,
          5,
          7,
          3,
          4,
          19,
          15,
          16,
          14,
          11,
          14,
          1,
          7,
          14,
          24,
          16,
          16,
          16,
          20,
          7,
          6,
          7,
          7,
          5,
          13,
          3,
          1,
          11,
          6,
          5,
          5,
          3,
          9,
          2,
          14,
          10,
          2,
          12,
          1,
          6,
          2,
          11,
          3,
          18,
          19,
          11,
          28,
          3,
          16,
          6,
          3,
          18,
          2,
          2,
          11,
          6,
          4,
          6,
          10,
          2,
          2,
          8,
          24,
          20,
          9,
          3,
          7,
          15,
          15,
          4,
          7,
          6,
          7,
          1,
          6,
          2,
          5,
          2,
          2,
          12,
          1,
          4,
          20,
          12,
          19,
          13,
          17,
          14,
          3,
          16,
          5,
          6,
          18,
          22,
          14,
          4,
          13,
          3,
          10,
          3,
          19,
          18,
          4,
          2,
          18,
          5,
          23,
          19,
          19,
          21,
          4,
          20,
          3,
          11,
          12,
          15,
          9,
          6,
          18,
          12,
          17,
          17,
          10,
          21,
          17,
          18,
          4,
          4,
          2,
          6,
          3,
          8,
          6,
          3,
          8,
          8,
          7,
          5,
          9,
          5,
          18,
          5,
          12,
          4,
          18,
          15,
          4,
          14,
          13,
          2,
          20,
          16,
          8,
          11,
          4,
          1,
          14,
          2,
          21,
          3,
          2,
          12,
          14,
          20,
          16,
          8,
          2,
          13,
          11,
          6,
          14,
          2,
          2,
          5,
          4,
          7,
          8,
          4,
          14,
          6,
          9,
          18,
          24,
          12,
          17,
          4,
          10,
          4,
          2,
          2,
          3,
          7,
          6,
          22,
          22,
          19,
          6,
          23,
          20,
          5,
          3,
          10,
          6,
          23,
          5,
          12,
          18,
          3,
          24,
          3,
          17,
          16,
          15,
          5,
          2,
          21,
          11,
          1,
          6,
          3,
          2,
          12,
          6,
          11,
          9,
          9,
          7,
          9,
          17,
          6,
          3,
          2,
          22,
          22,
          22,
          15,
          22,
          20,
          3,
          6,
          6,
          5,
          13,
          7,
          9,
          17,
          6,
          2,
          17,
          5,
          18,
          3,
          21,
          24,
          15,
          20,
          13,
          2,
          7,
          7,
          22,
          10,
          2,
          2,
          6,
          12,
          9,
          10,
          7,
          3,
          10,
          5,
          6,
          17,
          17,
          8,
          18,
          2,
          11,
          3,
          5,
          13,
          22,
          20,
          3,
          3,
          12,
          15,
          7,
          3,
          4,
          7,
          18,
          20,
          7,
          11,
          13,
          3,
          4,
          16,
          3,
          9,
          2,
          8,
          23,
          8,
          14,
          6,
          14,
          16,
          7,
          3,
          20,
          19,
          4,
          5,
          3,
          2,
          2,
          13,
          9,
          16,
          9,
          3,
          22,
          19,
          5,
          6,
          17,
          2,
          12,
          17,
          11,
          7,
          10,
          6,
          3,
          19,
          8,
          10,
          3,
          8,
          5,
          9,
          1,
          4,
          2,
          4,
          8,
          5,
          13,
          4,
          11,
          13,
          9,
          6,
          7,
          23,
          18,
          5,
          5,
          2,
          10,
          22,
          6,
          13,
          19,
          22,
          20,
          18,
          5,
          10,
          17,
          12,
          21,
          7,
          2,
          5,
          2,
          20,
          4,
          2,
          2,
          2,
          1,
          1,
          15,
          3,
          5,
          21,
          17,
          8,
          3,
          10,
          11,
          4,
          18,
          13,
          6,
          5,
          4,
          22,
          14,
          2,
          13,
          19,
          16,
          11,
          9,
          4,
          2,
          21,
          8,
          22,
          6,
          21,
          5,
          10,
          3,
          6,
          1,
          15,
          20,
          6,
          20,
          17,
          4,
          3,
          2,
          6,
          5,
          6,
          3,
          2,
          21,
          8,
          9,
          16,
          22,
          18,
          9,
          8,
          2,
          16,
          6,
          14,
          22,
          12,
          7,
          10,
          15,
          8,
          11,
          21,
          11,
          4,
          2,
          2,
          9,
          15,
          3,
          6,
          15,
          3,
          4,
          9,
          12,
          8,
          10,
          8,
          17,
          10,
          12,
          23,
          16,
          4,
          19,
          17,
          5,
          17,
          15,
          3,
          3,
          2,
          18,
          4,
          3,
          19,
          8,
          16,
          4,
          19,
          13,
          12,
          7,
          19,
          10,
          21,
          4,
          5,
          13,
          9,
          2,
          18,
          2,
          11,
          16,
          14,
          5,
          18,
          10,
          3,
          18,
          18,
          19,
          9,
          16,
          3,
          2,
          2,
          2,
          8,
          6,
          4,
          9,
          12,
          16,
          18,
          9,
          9,
          4,
          8,
          14,
          20,
          8,
          3,
          10,
          22,
          20,
          14,
          3,
          14,
          2,
          19,
          13,
          7,
          6,
          3,
          6,
          9,
          10,
          5,
          16,
          20,
          4,
          4,
          20,
          4,
          18,
          18,
          16,
          16,
          17,
          17,
          17,
          18,
          10,
          14,
          16,
          10,
          13,
          8,
          6,
          3,
          5,
          19,
          3,
          12,
          9,
          2,
          27,
          19,
          18,
          5,
          3,
          19,
          1,
          4,
          10,
          18,
          16,
          17,
          17,
          23,
          23,
          21,
          25,
          22,
          2,
          24,
          19,
          19,
          13,
          4,
          23,
          22,
          20,
          4,
          7,
          18,
          25,
          11,
          21,
          23,
          22,
          3,
          19,
          9,
          20,
          7,
          2,
          4,
          17,
          4,
          11,
          18,
          4,
          4,
          6,
          9,
          6,
          20,
          20,
          10,
          3,
          2,
          26,
          24,
          14,
          20,
          2,
          19,
          18,
          4,
          3,
          22,
          2,
          3,
          22,
          21,
          21,
          17,
          5,
          3,
          2,
          10,
          23,
          21,
          21,
          15,
          17,
          2,
          15,
          17,
          6,
          14,
          9,
          2,
          22,
          16,
          22,
          13,
          11,
          7,
          21,
          12,
          20,
          23,
          2,
          17,
          24,
          1,
          12,
          15,
          3,
          6,
          2,
          3,
          6,
          11,
          8,
          7,
          17,
          11,
          18,
          17,
          17,
          9,
          10,
          17,
          6,
          15,
          3,
          11,
          5,
          24,
          20,
          10,
          8,
          16,
          19,
          7,
          1,
          8,
          17,
          4,
          8,
          17,
          7,
          7,
          13,
          15,
          17,
          17,
          20,
          21,
          20,
          3,
          17,
          14,
          21,
          15,
          20,
          20,
          12,
          11,
          14,
          2,
          7,
          19,
          9,
          9,
          11,
          2,
          11,
          20,
          7,
          17,
          3,
          5,
          16,
          4,
          16,
          17,
          14,
          8,
          19,
          15,
          18,
          8,
          9,
          4,
          20,
          13,
          15,
          15,
          16,
          2,
          4,
          13,
          3,
          7,
          6,
          2,
          5,
          5,
          16,
          8,
          3,
          8,
          12,
          6,
          10,
          2,
          7,
          6,
          13,
          17,
          8,
          11,
          4,
          18,
          15,
          2,
          19,
          22,
          20,
          7,
          3,
          7,
          11,
          10,
          9,
          10,
          13,
          5,
          4,
          7,
          10,
          13,
          5,
          16,
          17,
          18,
          22,
          15,
          5,
          23,
          17,
          21,
          6,
          19,
          2,
          22,
          17,
          4,
          3,
          6,
          19,
          7,
          10,
          8,
          2,
          9,
          7,
          19,
          20,
          14,
          15,
          17,
          8,
          2,
          12,
          22,
          16,
          8,
          21,
          22,
          7,
          8,
          5,
          3,
          4,
          6,
          20,
          16,
          3,
          20,
          5,
          2,
          2,
          11,
          4,
          2,
          12,
          18,
          8,
          3,
          3,
          7,
          11,
          18,
          6,
          19,
          18,
          3,
          10,
          2,
          9,
          14,
          6,
          4,
          10,
          2,
          2,
          4,
          11,
          26,
          19,
          2,
          14,
          21,
          21,
          24,
          8,
          8,
          18,
          9,
          21,
          21,
          20,
          16,
          3,
          11,
          3,
          7,
          7,
          12,
          11,
          3,
          15,
          20,
          2,
          22,
          17,
          22,
          2,
          23,
          9,
          3,
          17,
          17,
          5,
          9,
          9,
          13,
          12,
          12,
          19,
          17,
          28,
          9,
          4,
          4,
          18,
          6,
          12,
          20,
          16,
          22,
          21,
          5,
          20,
          11,
          4,
          11,
          19,
          17,
          16,
          2,
          3,
          12,
          14,
          12,
          17,
          18,
          15,
          16,
          6,
          6,
          16,
          6,
          21,
          6,
          14,
          13,
          17,
          17,
          21,
          22,
          19,
          20,
          20,
          17,
          20,
          4,
          21,
          14,
          14,
          10,
          4,
          6,
          5,
          21,
          22,
          9,
          18,
          20,
          22,
          8,
          9,
          19,
          21,
          11,
          6,
          14,
          19,
          2,
          2,
          9,
          24,
          13,
          21,
          10,
          10,
          12,
          16,
          3,
          5,
          1,
          9,
          10,
          19,
          3,
          20,
          5,
          7,
          3,
          7,
          7,
          9,
          9,
          10,
          10,
          14,
          11,
          12,
          15,
          14,
          3,
          12,
          16,
          3,
          2,
          10,
          13,
          17,
          9,
          11,
          18,
          21,
          9,
          11,
          2,
          3,
          10,
          21,
          22,
          22,
          8,
          24,
          15,
          20,
          7,
          19,
          2,
          19,
          5,
          20,
          7,
          25,
          15,
          6,
          18,
          1,
          10,
          2,
          5,
          26,
          3,
          17,
          20,
          14,
          9,
          17,
          18,
          22,
          8,
          9,
          7,
          2,
          2,
          2,
          20,
          4,
          3,
          6,
          16,
          6,
          3,
          5,
          9,
          2,
          11,
          4,
          3,
          20,
          20,
          2,
          6,
          8,
          9,
          12,
          4,
          8,
          18,
          22,
          13,
          7,
          16,
          3,
          5,
          6,
          5,
          4,
          10,
          2,
          3,
          6,
          2,
          10,
          13,
          19,
          8,
          2,
          3,
          4,
          26,
          19,
          3,
          20,
          16,
          2,
          12,
          19,
          7,
          17,
          17,
          5,
          11,
          5,
          7,
          5,
          4,
          19,
          22,
          19,
          9,
          16,
          2,
          3,
          18,
          11,
          18,
          21,
          19,
          20,
          23,
          10,
          6,
          6,
          3,
          17,
          7,
          6,
          6,
          20,
          4,
          10,
          13,
          3,
          5,
          21,
          8,
          3,
          7,
          12,
          9,
          9,
          4,
          1,
          18,
          3,
          4,
          6,
          4,
          2,
          12,
          2,
          22,
          19,
          20,
          19,
          13,
          13,
          17,
          3,
          6,
          21,
          9,
          14,
          12,
          16,
          17,
          25,
          14,
          10,
          5,
          17,
          4,
          3,
          19,
          18,
          4,
          5,
          22,
          11,
          13,
          17,
          4,
          13,
          18,
          6,
          4,
          5,
          3,
          18,
          2,
          18,
          14,
          25,
          2,
          15,
          3,
          18,
          17,
          4,
          2,
          23,
          19,
          7,
          2,
          4,
          13,
          18,
          9,
          14,
          20,
          22,
          2,
          8,
          8,
          9,
          8,
          17,
          13,
          12,
          3,
          9,
          4,
          6,
          15,
          14,
          7,
          16,
          16,
          4,
          3,
          3,
          9,
          18,
          4,
          6,
          1,
          21,
          24,
          8,
          13,
          4,
          2,
          5,
          12,
          21,
          20,
          14,
          5,
          11,
          20,
          19,
          4,
          21,
          19,
          16,
          18,
          19,
          4,
          17,
          19,
          12,
          11,
          20,
          7,
          15,
          11,
          13,
          3,
          11,
          9,
          9,
          4,
          3,
          2,
          21,
          5,
          22,
          19,
          17,
          9,
          19,
          11,
          7,
          16,
          21,
          3,
          4,
          9,
          21,
          17,
          8,
          7,
          7,
          20,
          18,
          3,
          12,
          9,
          4,
          13,
          8,
          2,
          15,
          13,
          2,
          12,
          19,
          7,
          10,
          2,
          6,
          16,
          19,
          5,
          21,
          15,
          7,
          19,
          21,
          9,
          4,
          19,
          3,
          3,
          16,
          22,
          16,
          16,
          13,
          5,
          23,
          17,
          3,
          9,
          3,
          14,
          2,
          11,
          23,
          1,
          10,
          23,
          14,
          1,
          21,
          7,
          4,
          5,
          4,
          8,
          5,
          8,
          16,
          5,
          5,
          13,
          19,
          11,
          16,
          14,
          6,
          18,
          19,
          19,
          4,
          6,
          4,
          15,
          25,
          21,
          11,
          24,
          17,
          2,
          7,
          5,
          20,
          16,
          8,
          2,
          26,
          10,
          4,
          2,
          13,
          11,
          18,
          3,
          11,
          22,
          11,
          21,
          15,
          8,
          21,
          19,
          3,
          4,
          3,
          10,
          7,
          5,
          9,
          6,
          4,
          6,
          9,
          5,
          2,
          2,
          8,
          11,
          6,
          10,
          7,
          6,
          3,
          4,
          3,
          8,
          18,
          8,
          2,
          23,
          2,
          6,
          17,
          16,
          16,
          14,
          12,
          2,
          8,
          18,
          15,
          13,
          5,
          3,
          3,
          3,
          15,
          16,
          23,
          21,
          9,
          17,
          22,
          5,
          15,
          18,
          8,
          19,
          10,
          22,
          3,
          2,
          3,
          16,
          4,
          14,
          12,
          17,
          10,
          21,
          11,
          17,
          21,
          12,
          3,
          7,
          6,
          20,
          18,
          11,
          11,
          12,
          12,
          3,
          20,
          2,
          20,
          2,
          24,
          6,
          4,
          17,
          22,
          10,
          21,
          22,
          5,
          19,
          2,
          15,
          17,
          18,
          15,
          5,
          17,
          2,
          7,
          6,
          18,
          6,
          2,
          8,
          6,
          20,
          5,
          21,
          4,
          25,
          2,
          5,
          6,
          3,
          4,
          7,
          3,
          18,
          12,
          30,
          4,
          11,
          3,
          11,
          16,
          24,
          6,
          21,
          18,
          12,
          19,
          15,
          6,
          7,
          12,
          13,
          4,
          7,
          22,
          18,
          15,
          7,
          7,
          21,
          20,
          16,
          23,
          10,
          18,
          8,
          2,
          7,
          13,
          22,
          21,
          19,
          22,
          3,
          4,
          5,
          12,
          2,
          5,
          23,
          6,
          5,
          2,
          1,
          11,
          7,
          3,
          10,
          18,
          17,
          18,
          15,
          20,
          8,
          7,
          10,
          3,
          3,
          11,
          5,
          7,
          2,
          10,
          9,
          12,
          18,
          3,
          19,
          3,
          9,
          13,
          11,
          2,
          4,
          12,
          16,
          13,
          3,
          3,
          18,
          20,
          2,
          4,
          4,
          8,
          12,
          5,
          8,
          19,
          22,
          11,
          3,
          3,
          6,
          11,
          6,
          3,
          4,
          4,
          7,
          9,
          4,
          2,
          2,
          13,
          15,
          8,
          7,
          1,
          5,
          7,
          4,
          3,
          15,
          3,
          4,
          12,
          3,
          2,
          9,
          16,
          19,
          13,
          2,
          8,
          8,
          6,
          3,
          20,
          7,
          12,
          12,
          13,
          3,
          7,
          4,
          12,
          3,
          7,
          11,
          8,
          2,
          8,
          2,
          12,
          13,
          13,
          3,
          15,
          24,
          3,
          21,
          10,
          14,
          6,
          17,
          13,
          6,
          7,
          6,
          15,
          11,
          18,
          10,
          18,
          5,
          6,
          3,
          2,
          2,
          14,
          10,
          3,
          3,
          6,
          3,
          9,
          6,
          5,
          6,
          8,
          13,
          3,
          8,
          8,
          2,
          2,
          4,
          10,
          19,
          9,
          7,
          3,
          11,
          2,
          7,
          10,
          12,
          4,
          16,
          2,
          17,
          10,
          8,
          6,
          11,
          9,
          13,
          7,
          9,
          16,
          5,
          19,
          8,
          5,
          15,
          10,
          6,
          4,
          11,
          7,
          14,
          23,
          18,
          12,
          2,
          2,
          4,
          5,
          11,
          13,
          10,
          13,
          4,
          20,
          15,
          11,
          3,
          3,
          3,
          8,
          2,
          15,
          14,
          9,
          17,
          2,
          9,
          3,
          7,
          11,
          4,
          10,
          1,
          2,
          2,
          3,
          11,
          2,
          3,
          3,
          10,
          3,
          16,
          3,
          21,
          2,
          19,
          12,
          7,
          12,
          18,
          17,
          2,
          3,
          10,
          4,
          16,
          15,
          5,
          10,
          15,
          2,
          11,
          22,
          3,
          12,
          3,
          21,
          16,
          5,
          8,
          16,
          21,
          5,
          15,
          14,
          17,
          8,
          3,
          8,
          16,
          2,
          8,
          12,
          1,
          16,
          10,
          3,
          4,
          10,
          16,
          4,
          4,
          13,
          5,
          4,
          4,
          19,
          2,
          6,
          7,
          19,
          2,
          6,
          22,
          23,
          5,
          7,
          23,
          12,
          4,
          7,
          4
         ],
         "y": [
          0,
          0,
          0.6249,
          -0.2732,
          0.8271,
          0.5719,
          0,
          0.7096,
          0.4019,
          0,
          0,
          0.3612,
          0,
          0,
          0,
          0.2732,
          0.4404,
          0.3182,
          0,
          0.7003,
          -0.34,
          -0.4404,
          0,
          0.4019,
          0.2732,
          -0.3612,
          -0.5719,
          -0.0516,
          0,
          0,
          0,
          0.5106,
          -0.296,
          0,
          0,
          0,
          0.5859,
          0.4404,
          0,
          0,
          0,
          0.4588,
          -0.8236,
          0,
          0,
          0,
          0.5106,
          0,
          0,
          0,
          0.4215,
          0,
          0.4939,
          0.4019,
          0,
          0,
          0,
          0.6249,
          0,
          0,
          0,
          0,
          0,
          0.296,
          0.3182,
          0.6249,
          0,
          0,
          0.5859,
          0,
          0,
          0,
          0.5994,
          0,
          0,
          0,
          0.4019,
          0,
          0,
          0.4215,
          0.6249,
          0.1531,
          0.4019,
          -0.2732,
          0,
          0,
          0.6249,
          -0.5106,
          0,
          0,
          -0.2732,
          0,
          0,
          0.4588,
          0,
          0,
          0,
          0,
          -0.128,
          0,
          0,
          0,
          0,
          0.4215,
          0.836,
          0.25,
          0.0258,
          0.25,
          0.836,
          0.4767,
          0,
          0,
          0.6249,
          0,
          0.3182,
          0,
          0.6249,
          0,
          0.0516,
          0,
          0.5719,
          0.5994,
          0.296,
          0,
          0,
          0,
          0.7906,
          0,
          0,
          0,
          0.6249,
          -0.5994,
          0,
          0.7964,
          0,
          0,
          0.6249,
          0,
          0,
          0,
          0.6249,
          0,
          0.7964,
          0.4404,
          0,
          0,
          0.4019,
          0,
          0,
          0,
          -0.3182,
          0,
          0,
          0,
          0.4588,
          0,
          0,
          0.34,
          0,
          0.4019,
          0.296,
          -0.4019,
          -0.3612,
          0,
          0,
          0.296,
          -0.128,
          0,
          0.34,
          0,
          -0.4019,
          0.0772,
          0,
          0,
          0,
          -0.296,
          0.4019,
          0,
          0.4939,
          0,
          0.6003,
          0.1779,
          0.7096,
          0,
          0.0772,
          0,
          -0.8442,
          0,
          0.128,
          0,
          0.4404,
          0,
          -0.296,
          0.6124,
          0,
          -0.1027,
          0,
          0,
          0,
          0.2732,
          0.6369,
          0,
          0,
          0,
          0.4019,
          0,
          0,
          0.34,
          0.5574,
          0,
          0.5667,
          0,
          0.8176,
          0.4939,
          0,
          0,
          0,
          0,
          0,
          -0.25,
          0,
          0.4877,
          0.7717,
          0.2732,
          0.4767,
          0.3182,
          0.6369,
          0.5994,
          0.4404,
          0,
          0,
          0.6249,
          0.4404,
          0,
          0.7717,
          0,
          0,
          0,
          0.4404,
          0,
          0.5859,
          0.3182,
          0.4767,
          0.6705,
          0,
          0.4215,
          0.3182,
          0.2023,
          0,
          0,
          0.6908,
          -0.34,
          0.5859,
          0.6486,
          0,
          0,
          0.3182,
          0,
          0.3612,
          0.3612,
          -0.4939,
          0.7184,
          0,
          0,
          -0.6705,
          0,
          0.296,
          -0.2263,
          0,
          0.4019,
          0,
          0,
          0,
          0,
          0,
          0,
          0,
          0.4404,
          0,
          0,
          0.6249,
          0.6597,
          0,
          0.2732,
          0,
          0,
          0,
          0,
          0,
          0.4215,
          0.4019,
          0.5423,
          0.7845,
          0.4404,
          0.5994,
          0,
          0,
          0.2023,
          0.8074,
          0,
          0.6369,
          0,
          0.5106,
          -0.5106,
          0,
          0,
          0,
          0.7906,
          0,
          0.2732,
          0,
          -0.3632,
          0.2023,
          0.4215,
          0.6124,
          0.34,
          0,
          0.2732,
          -0.2023,
          0,
          0,
          0,
          0.4019,
          0,
          -0.1779,
          0,
          0,
          0,
          -0.1531,
          0.4019,
          0,
          -0.25,
          0.4767,
          0.6369,
          0,
          0.5994,
          0.1451,
          -0.3612,
          0.6249,
          0.6369,
          0.4939,
          0.2732,
          0,
          0,
          0.5574,
          0,
          0.4588,
          0.3182,
          0.4019,
          0.8555,
          0.4019,
          0.4939,
          0.5994,
          0,
          -0.3182,
          -0.3252,
          0,
          0.3182,
          0.0516,
          0,
          0,
          0,
          0,
          0.6249,
          0,
          0,
          -0.2755,
          0,
          0.7003,
          -0.1779,
          0,
          0,
          0.4588,
          0.3182,
          -0.3182,
          0,
          0,
          0,
          0,
          0,
          0.7096,
          0.7964,
          0,
          0.4019,
          0,
          0.296,
          0,
          0.4019,
          0.4404,
          0.4019,
          0.6249,
          0.5859,
          0.3818,
          0.4019,
          0,
          0,
          0.3182,
          0.6369,
          0,
          0.4019,
          0,
          0.4019,
          0,
          0,
          0,
          0.7351,
          0,
          0,
          0.4019,
          0.872,
          0.6249,
          0.3818,
          0,
          0.4019,
          0,
          0,
          0,
          0.296,
          0,
          0,
          0.802,
          -0.4767,
          0.4404,
          -0.4215,
          0.25,
          0,
          0,
          0.743,
          0,
          0.1027,
          0.5267,
          0,
          0,
          0.4215,
          0.0258,
          0.6249,
          0.836,
          0,
          0,
          0,
          0,
          0.6249,
          0,
          0,
          0,
          0,
          0.4215,
          0.5106,
          0.4404,
          0,
          0,
          0.4019,
          -0.296,
          0.4215,
          0.5106,
          0,
          0,
          0.9022,
          0.4404,
          0,
          0,
          0.6705,
          0.4404,
          0,
          0,
          0.2732,
          -0.34,
          0.9062,
          0.4417,
          0,
          0.6369,
          0,
          0.7506,
          0.4767,
          0,
          0,
          0.5106,
          0,
          0.8074,
          0,
          0,
          0,
          0,
          0,
          0,
          0,
          0,
          0.4588,
          0,
          0,
          0,
          0.4019,
          0.2732,
          0,
          0.5106,
          0.875,
          0.3612,
          0,
          0.743,
          0,
          -0.5106,
          0.5859,
          0,
          0,
          0,
          0,
          0.4404,
          0.25,
          0.4019,
          0,
          0.5719,
          0,
          0,
          0.8225,
          0.4404,
          0,
          0,
          0.4019,
          0,
          0,
          0,
          0.5994,
          0,
          0,
          0.6369,
          0,
          0.5994,
          0.5994,
          0.4019,
          0,
          0,
          0,
          0,
          0.128,
          -0.5423,
          0,
          0.8126,
          0,
          0.5423,
          0,
          -0.6808,
          0.5267,
          0.8689,
          0,
          -0.4019,
          -0.1531,
          -0.34,
          0,
          0.5719,
          0.4588,
          0.296,
          0,
          0.3612,
          0.6249,
          0,
          0,
          0.5719,
          0.4019,
          0.296,
          0.7003,
          0.3182,
          0.6124,
          0,
          -0.4588,
          0,
          -0.2732,
          0.4019,
          0,
          0,
          0.6597,
          0,
          0.25,
          0.128,
          0.4215,
          0,
          -0.2023,
          -0.2732,
          0.4019,
          0,
          0.5859,
          0.4939,
          0.5859,
          0,
          0.6369,
          0.3182,
          0.4215,
          0.4404,
          0.0772,
          0,
          0.4019,
          0.296,
          0.6249,
          0,
          0,
          0,
          0,
          0.6808,
          0.2732,
          0,
          0,
          0,
          0.3182,
          0.3612,
          0,
          0,
          0.5994,
          0.1779,
          0,
          0,
          0,
          0.2732,
          0.5859,
          -0.0258,
          0.8126,
          0.296,
          0,
          0,
          0.5267,
          0,
          0,
          0.2023,
          0.2732,
          0.3182,
          0.8834,
          0.4404,
          0,
          0.6908,
          0.5859,
          0.4215,
          0,
          0,
          0,
          0,
          0,
          0,
          0,
          0.4767,
          0,
          0.3612,
          0.296,
          0.4588,
          0,
          0,
          0.0772,
          0.2975,
          0.4019,
          0,
          -0.2732,
          0,
          0,
          0,
          0,
          0.6908,
          0,
          0,
          0.5719,
          0,
          0.5267,
          0.3612,
          0.2792,
          0,
          0.7096,
          0,
          -0.4767,
          0.5859,
          0,
          0,
          -0.6815,
          0.7906,
          0.4019,
          0.4019,
          -0.0516,
          0.2732,
          0,
          0.4767,
          0.4019,
          0,
          0,
          0,
          0,
          0,
          0.296,
          0.4588,
          0.6249,
          0.4767,
          0,
          0,
          0.296,
          0,
          0.4215,
          0.5994,
          0.34,
          0,
          0.5267,
          0.3818,
          0.3612,
          0,
          0.296,
          0,
          0.6597,
          0,
          -0.2263,
          0,
          0,
          0,
          0.3612,
          0,
          -0.6808,
          0.6249,
          0.6597,
          0.3182,
          -0.2263,
          0.3041,
          0.0772,
          0,
          0.7964,
          0,
          0,
          0,
          0,
          0,
          -0.4168,
          -0.1779,
          0,
          0.4019,
          0,
          0,
          0,
          0,
          -0.5574,
          0.4019,
          0.0772,
          0.6249,
          0,
          0,
          0,
          0,
          0,
          0,
          -0.2023,
          -0.3818,
          0.6705,
          0,
          0.3182,
          0.6249,
          0.4019,
          0.4019,
          0,
          0.4404,
          0,
          0.5423,
          0,
          0,
          0,
          0,
          0,
          -0.5719,
          0.5106,
          0,
          -0.5423,
          0,
          0.5719,
          0,
          0.802,
          0.3612,
          0,
          0.4019,
          0.7003,
          0.9001,
          0.25,
          0,
          0,
          0.5719,
          0,
          0,
          0,
          0,
          0,
          0.6734,
          0.6705,
          0,
          0,
          0.7906,
          0.3182,
          0,
          0,
          0.3182,
          0,
          0,
          -0.0772,
          0,
          0.4215,
          0.4404,
          0,
          0,
          0,
          0,
          0,
          0,
          0,
          0.6597,
          0,
          0,
          0,
          -0.3875,
          0.4215,
          -0.1027,
          0.2023,
          0,
          0.5859,
          0.4404,
          0,
          0,
          0.6369,
          0,
          0.5267,
          -0.34,
          -0.296,
          -0.5859,
          0.8074,
          0.6249,
          0.4019,
          0.765,
          -0.4215,
          -0.5423,
          0,
          0.4019,
          -0.4939,
          0.7003,
          0.4588,
          0,
          0.6197,
          0.7351,
          -0.296,
          0,
          0.4588,
          0.4588,
          0,
          0.34,
          0,
          0,
          0,
          0.4019,
          0,
          0.0772,
          0.0258,
          0.4019,
          0,
          0,
          -0.1531,
          0,
          0,
          0.2975,
          0.743,
          0,
          -0.6597,
          0,
          0.8885,
          0.4404,
          0.4404,
          0.4019,
          0.6369,
          -0.5994,
          0.3612,
          0.4588,
          0.2732,
          0,
          0,
          0.1027,
          0.6249,
          0.4019,
          0.3182,
          0,
          0,
          0,
          0.3182,
          0,
          0,
          -0.34,
          0.2732,
          0,
          0,
          0,
          0,
          0.7269,
          0.7906,
          0,
          0.6369,
          -0.4939,
          0.296,
          -0.296,
          -0.6124,
          0,
          0.6369,
          -0.1779,
          0.4404,
          0,
          0,
          0.6249,
          0.5574,
          0,
          0.8126,
          0.5719,
          0.0258,
          -0.3182,
          0.5994,
          0,
          0.3182,
          0,
          0.3182,
          0,
          0.4404,
          0.7506,
          0,
          0,
          0,
          0,
          0.2023,
          0.5994,
          0.2732,
          -0.2681,
          0.3182,
          -0.2263,
          0,
          0.4019,
          0.4588,
          0.4215,
          0,
          0,
          0,
          0,
          0,
          0,
          0,
          0,
          -0.296,
          -0.1689,
          0.128,
          -0.1779,
          -0.5994,
          0.4019,
          0.3477,
          0.3612,
          0.4091,
          0,
          -0.128,
          0.4939,
          0.3182,
          0.5859,
          0.4588,
          0,
          0.3612,
          0.3832,
          0,
          -0.128,
          0.4404,
          0.6597,
          0,
          0,
          0,
          0,
          -0.3182,
          0.4019,
          0,
          0.4215,
          0,
          0.5994,
          0.4215,
          0,
          0,
          0,
          0.3182,
          0,
          0,
          0.4588,
          0.4019,
          0.4215,
          0.6369,
          0.4939,
          0.3182,
          0.4019,
          0.3182,
          0,
          0,
          0,
          0,
          0,
          0,
          0.296,
          -0.4585,
          0.5719,
          -0.0772,
          -0.4912,
          0.6705,
          0,
          0.3182,
          0,
          -0.0772,
          0,
          0.3612,
          0.4588,
          0,
          0.7096,
          0.5859,
          0.296,
          0,
          0.296,
          0,
          0,
          0,
          -0.128,
          0.4019,
          0.4404,
          0.25,
          -0.5574,
          0.4019,
          0.2263,
          0,
          0,
          0,
          -0.1027,
          0,
          0,
          0.6249,
          0,
          0,
          0,
          0.0516,
          0.7269,
          0.2732,
          0,
          0,
          0,
          0.3818,
          0.6249,
          0,
          0.1779,
          0.4939,
          0,
          0,
          0,
          0.0258,
          0.8176,
          0.4019,
          0.296,
          0.8155,
          -0.25,
          0.6249,
          0,
          0.4019,
          0.8481,
          0,
          0.4588,
          0,
          0.4019,
          0,
          0.5859,
          0,
          0.4588,
          0,
          0,
          -0.743,
          0,
          0.3612,
          0.1027,
          0,
          0.6808,
          -0.5574,
          -0.7717,
          0.5267,
          -0.2247,
          -0.1761,
          0,
          0,
          0,
          0.4019,
          0.2023,
          0.1531,
          0.6369,
          0,
          0.6249,
          0,
          0,
          0.0258,
          0,
          0,
          -0.128,
          0.6597,
          0,
          0.4404,
          0.128,
          0,
          0.34,
          0.2023,
          0,
          0.7579,
          0,
          0,
          0.6249,
          0.8238,
          0.3182,
          0,
          0.4939,
          0,
          -0.1326,
          0.3182,
          0,
          0.6249,
          0,
          0,
          -0.296,
          0,
          0,
          0.6124,
          0.3612,
          0.6369,
          0.4588,
          0.4404,
          0.3182,
          0,
          0,
          0.6249,
          0,
          0.4404,
          0,
          0.4019,
          0.4588,
          0,
          0.296,
          0.6249,
          0,
          0,
          0,
          0.6369,
          0.6908,
          0,
          0.4019,
          0.6249,
          -0.1027,
          0.765,
          0.4404,
          0.7003,
          0,
          0.4019,
          0,
          0,
          0,
          0,
          0,
          0,
          0.1779,
          0.3818,
          0.4215,
          0.4767,
          0.4215,
          0.2023,
          0,
          0.3182,
          0.3182,
          0.0951,
          -0.34,
          0,
          0.2732,
          0,
          0,
          0,
          0,
          0.6124,
          0.4201,
          0.4019,
          0.9274,
          0.3612,
          0,
          -0.4215,
          0,
          0,
          0,
          0,
          0,
          0,
          0.3182,
          0.4215,
          0.8957,
          -0.5423,
          0,
          0,
          0,
          0,
          0.4588,
          0.3612,
          0.4404,
          0,
          0.3612,
          0,
          0.4215,
          -0.2755,
          0.5511,
          0,
          0,
          0,
          0.2732,
          0,
          0,
          0.296,
          0,
          -0.34,
          0,
          -0.3612,
          0.3612,
          0.7003,
          0,
          0.3182,
          0.4939,
          0.4019,
          -0.5106,
          0.4019,
          0.4588,
          0.4404,
          0,
          0,
          0.34,
          0.0828,
          0,
          0.4019,
          0,
          0.4588,
          0,
          -0.0772,
          0.4588,
          0.3182,
          0,
          0.4404,
          0.4902,
          0,
          0.4404,
          0.6908,
          0.8519,
          0.4215,
          0.4215,
          0.296,
          0.4939,
          0,
          0.3182,
          0.296,
          0,
          0.4588,
          0.1513,
          0,
          0.4019,
          0.4019,
          0,
          0.7717,
          0,
          0.296,
          0,
          0.1796,
          0.4767,
          0.2023,
          0.6369,
          0.3182,
          0.4404,
          0.5106,
          0,
          -0.4019,
          0,
          0.7269,
          0,
          0,
          -0.4019,
          0.6249,
          0,
          -0.5267,
          0,
          0.296,
          0,
          0,
          0,
          0,
          0,
          0,
          0.3612,
          0.3182,
          0.4404,
          0.4019,
          0.4404,
          0,
          0.7351,
          0.3182,
          0.3818,
          0,
          0.4939,
          0.3798,
          0.4019,
          0.3612,
          -0.4767,
          0.4215,
          0.6249,
          0,
          0,
          0,
          0.1761,
          0,
          0.8402,
          -0.5859,
          0,
          -0.0516,
          0.6808,
          -0.1531,
          0,
          0.4019,
          0,
          -0.3412,
          0.3182,
          0,
          0.1779,
          0.4939,
          0.7717,
          0.5859,
          0,
          0.5994,
          0.4588,
          0.3182,
          0,
          0,
          0,
          0,
          0.4215,
          0.6369,
          0.7178,
          0.4927,
          0,
          0.2732,
          0,
          -0.2732,
          0,
          0,
          0,
          0,
          0.4939,
          0,
          0.4588,
          0,
          0,
          0,
          0,
          0,
          0,
          0,
          0.4019,
          0,
          0,
          0.4588,
          0.5563,
          0,
          0,
          0.9062,
          0,
          0,
          0,
          0.743,
          0,
          0,
          0.296,
          -0.4019,
          0,
          0,
          0,
          0,
          -0.0772,
          0,
          0.296,
          0,
          0,
          0.296,
          0,
          0,
          0,
          0,
          0.3182,
          0,
          0,
          0.8442,
          0,
          0.4588,
          -0.3182,
          0,
          0.9538,
          0.6597,
          -0.3818,
          0,
          -0.0258,
          -0.7334,
          0,
          0,
          0.296,
          -0.0772,
          0.5574,
          0,
          0.4019,
          0.4404,
          0.25,
          0,
          0.4019,
          0,
          0,
          0.4767,
          -0.1027,
          0.6369,
          0.4939,
          0.4404,
          0,
          0,
          0,
          -0.0516,
          -0.4019,
          0.2732,
          0,
          -0.2023,
          0.7506,
          0,
          -0.3182,
          0,
          0,
          0,
          0.3818,
          0.4767,
          0.6369,
          -0.0258,
          0.5267,
          0,
          0.4404,
          -0.1695,
          0,
          -0.0516,
          0,
          0,
          0.6705,
          0,
          0,
          0.7579,
          0,
          0,
          0.3818,
          0.7096,
          0,
          0,
          0,
          0,
          0.4215,
          0,
          0.0772,
          0,
          0,
          0,
          0,
          0.4588,
          0,
          0,
          0.5267,
          0.3182,
          0,
          -0.4588,
          0,
          0,
          0.4588,
          0,
          0,
          0.4588,
          0.5719,
          0,
          0.5106,
          -0.128,
          0.6705,
          0,
          0,
          0.34,
          0,
          0.4019,
          0.4767,
          0,
          0,
          -0.1761,
          0.3612,
          0,
          0,
          0.4215,
          0,
          0.4588,
          0,
          -0.25,
          0.4019,
          0.4019,
          0,
          -0.5994,
          0,
          0.3612,
          0.2732,
          0,
          -0.0572,
          0,
          0,
          0,
          0.4019,
          0,
          0,
          0,
          0,
          0.7906,
          0.6124,
          0.1779,
          0.4019,
          0.4588,
          0.296,
          0.7269,
          0,
          0,
          0,
          0.6369,
          0,
          0,
          0.4019,
          0,
          0.296,
          0,
          0,
          0,
          0,
          -0.2023,
          0.4404,
          0.5106,
          0,
          -0.802,
          0,
          0.4939,
          0,
          0.5859,
          0,
          0,
          0.6249,
          0,
          0,
          0,
          0.6369,
          0.743,
          0,
          0,
          0,
          0.3182,
          0.4588,
          0,
          0.7783,
          0.4019,
          0.6249,
          0,
          -0.1779,
          0,
          0.7003,
          0,
          0,
          0,
          0.4215,
          0.4019,
          0,
          0,
          0,
          -0.5267,
          0.5719,
          0,
          0.296,
          0.4588,
          0.3182,
          -0.6908,
          -0.4404,
          0.6249,
          0.7003,
          0,
          0,
          0.6908,
          -0.4588,
          0.6808,
          0.8777,
          0,
          0.4588,
          0.4404,
          0.4588,
          0.5859,
          0.0258,
          0,
          0.891,
          -0.1027,
          0,
          0,
          0.5106,
          0,
          0.4019,
          0,
          0.34,
          0,
          0.2023,
          -0.1531,
          -0.4019,
          0.6369,
          0.4215,
          0.5859,
          0.34,
          0.2732,
          0.802,
          0,
          0,
          -0.296,
          0,
          0,
          0,
          0.5267,
          0,
          0,
          0,
          0.6124,
          0.4019,
          -0.1027,
          0.4215,
          0,
          0.296,
          0.7184,
          0,
          -0.4767,
          0.2023,
          0,
          0.6597,
          0,
          0.296,
          0.7096,
          0,
          -0.34,
          0.296,
          -0.6908,
          0,
          0.4404,
          0,
          0.6369,
          0.6249,
          0,
          0,
          0,
          0.2732,
          0,
          0.3612,
          0.4215,
          0.128,
          0,
          0,
          0,
          0,
          0.4215,
          0,
          0.4215,
          0,
          0,
          0,
          0.3182,
          0,
          0.4939,
          0.5719,
          0.3612,
          0.3818,
          0,
          0,
          0,
          0.5994,
          0,
          0.7096,
          0.296,
          0,
          -0.3182,
          0,
          0,
          0,
          0,
          0,
          0,
          0.6249,
          0,
          0,
          0,
          0,
          0,
          0.6486,
          -0.4767,
          0.4215,
          0,
          -0.469,
          0,
          0,
          0,
          0.6249,
          0,
          0.4215,
          0,
          0,
          0,
          0,
          -0.3612,
          0.5423,
          0,
          0,
          0.3182,
          0,
          -0.34,
          0,
          0,
          0,
          0.5267,
          0.128,
          0.5859,
          -0.34,
          0.6259,
          0.8176,
          0,
          0.6249,
          -0.3818,
          0,
          0.3818,
          0,
          0.6369,
          0.3182,
          0.802,
          -0.5574,
          0.5859,
          0.296,
          0,
          0,
          0,
          0.5859,
          0.3612,
          0.4404,
          0,
          0.2732,
          0,
          0,
          0.5859,
          0,
          0.3182,
          0,
          -0.3089,
          0,
          0.2732,
          0.4588,
          0,
          0.3612,
          0,
          0.5423,
          -0.3182,
          -0.4404,
          -0.5423,
          0.6249,
          0.4588,
          0,
          0.8271,
          -0.3818,
          0,
          0,
          0,
          0,
          0.5859,
          0,
          0,
          0.4588,
          0.6369,
          0,
          0.2585,
          0,
          0,
          0,
          0.3182,
          0.5859,
          0.6249,
          0.0772,
          0,
          0.4588,
          0.4939,
          0.3182,
          0,
          0,
          0,
          0.8603,
          0,
          0.3182,
          0.4019,
          0,
          0,
          0,
          0,
          -0.34,
          0.5994,
          0,
          -0.1531,
          0.6249,
          0.7096,
          0.3182,
          0.296,
          0,
          0.3182,
          0,
          -0.2023,
          -0.4404,
          0,
          0,
          0.6249,
          0,
          -0.2263,
          -0.4404,
          0.6908,
          0.6908,
          0.4939,
          0.7184,
          0.4019,
          0.802,
          0,
          0.3612,
          -0.1027,
          0.5106,
          0.6249,
          0.6249,
          0.6124,
          -0.2732,
          0,
          0.3612,
          0.6697,
          0,
          0,
          0,
          0.4588,
          0.2732,
          0,
          0.5859,
          0,
          0.4404,
          -0.4019,
          0.4404,
          0,
          0,
          0,
          0,
          0,
          0.7906,
          0,
          0,
          0,
          0,
          0,
          0,
          0,
          0,
          0,
          0.2732,
          0.6249,
          0,
          0,
          0,
          0,
          0,
          0.4019,
          0.3612,
          0,
          0,
          0,
          0,
          0,
          0.2023,
          0,
          0.4404,
          0,
          0,
          0,
          0.4215,
          0.0258,
          0,
          0,
          0,
          0,
          0.5994,
          0,
          0.4588,
          0,
          0,
          0.7845,
          0.5574,
          0,
          0,
          0.4019,
          0.3182,
          0,
          0.4404,
          0,
          0,
          0,
          0.4019,
          0.4173,
          -0.25,
          0.6249,
          0,
          0,
          0,
          0.2411,
          0.4019,
          0,
          0,
          0.4391,
          -0.25,
          0,
          0.4939,
          0,
          0.0772,
          -0.5719,
          0.4939,
          0.4404,
          0.4404,
          -0.296,
          0,
          0,
          0,
          0.4019,
          0.128,
          0.3182,
          0,
          0,
          -0.4588,
          0,
          0,
          0,
          -0.296,
          0.7096,
          0.6249,
          -0.765,
          0.296,
          0.3612,
          0.296,
          0,
          0,
          0,
          0,
          0.6412,
          0,
          0,
          0,
          0.4588,
          0.5859,
          0,
          0,
          0.4215,
          0.4588,
          0.8555,
          0.4019,
          0,
          0,
          0.0772,
          0,
          0.4019,
          -0.25,
          -0.2732,
          0.3182,
          0,
          0.4404,
          -0.5267,
          0.836,
          0.4588,
          0,
          0,
          0,
          0,
          0.6486,
          0,
          0.7003,
          -0.7351,
          0.25,
          0,
          0,
          0.4404,
          0,
          0.296,
          0,
          0,
          0.4215,
          0.5859,
          0.6369,
          0.4019,
          0.4019,
          0.34,
          0.0762,
          -0.1779,
          0,
          0,
          0,
          0.5994,
          0,
          -0.7003,
          0.4215
         ]
        }
       ],
       "layout": {
        "autosize": false,
        "template": {
         "data": {
          "bar": [
           {
            "error_x": {
             "color": "#2a3f5f"
            },
            "error_y": {
             "color": "#2a3f5f"
            },
            "marker": {
             "line": {
              "color": "#E5ECF6",
              "width": 0.5
             },
             "pattern": {
              "fillmode": "overlay",
              "size": 10,
              "solidity": 0.2
             }
            },
            "type": "bar"
           }
          ],
          "barpolar": [
           {
            "marker": {
             "line": {
              "color": "#E5ECF6",
              "width": 0.5
             },
             "pattern": {
              "fillmode": "overlay",
              "size": 10,
              "solidity": 0.2
             }
            },
            "type": "barpolar"
           }
          ],
          "carpet": [
           {
            "aaxis": {
             "endlinecolor": "#2a3f5f",
             "gridcolor": "white",
             "linecolor": "white",
             "minorgridcolor": "white",
             "startlinecolor": "#2a3f5f"
            },
            "baxis": {
             "endlinecolor": "#2a3f5f",
             "gridcolor": "white",
             "linecolor": "white",
             "minorgridcolor": "white",
             "startlinecolor": "#2a3f5f"
            },
            "type": "carpet"
           }
          ],
          "choropleth": [
           {
            "colorbar": {
             "outlinewidth": 0,
             "ticks": ""
            },
            "type": "choropleth"
           }
          ],
          "contour": [
           {
            "colorbar": {
             "outlinewidth": 0,
             "ticks": ""
            },
            "colorscale": [
             [
              0,
              "#0d0887"
             ],
             [
              0.1111111111111111,
              "#46039f"
             ],
             [
              0.2222222222222222,
              "#7201a8"
             ],
             [
              0.3333333333333333,
              "#9c179e"
             ],
             [
              0.4444444444444444,
              "#bd3786"
             ],
             [
              0.5555555555555556,
              "#d8576b"
             ],
             [
              0.6666666666666666,
              "#ed7953"
             ],
             [
              0.7777777777777778,
              "#fb9f3a"
             ],
             [
              0.8888888888888888,
              "#fdca26"
             ],
             [
              1,
              "#f0f921"
             ]
            ],
            "type": "contour"
           }
          ],
          "contourcarpet": [
           {
            "colorbar": {
             "outlinewidth": 0,
             "ticks": ""
            },
            "type": "contourcarpet"
           }
          ],
          "heatmap": [
           {
            "colorbar": {
             "outlinewidth": 0,
             "ticks": ""
            },
            "colorscale": [
             [
              0,
              "#0d0887"
             ],
             [
              0.1111111111111111,
              "#46039f"
             ],
             [
              0.2222222222222222,
              "#7201a8"
             ],
             [
              0.3333333333333333,
              "#9c179e"
             ],
             [
              0.4444444444444444,
              "#bd3786"
             ],
             [
              0.5555555555555556,
              "#d8576b"
             ],
             [
              0.6666666666666666,
              "#ed7953"
             ],
             [
              0.7777777777777778,
              "#fb9f3a"
             ],
             [
              0.8888888888888888,
              "#fdca26"
             ],
             [
              1,
              "#f0f921"
             ]
            ],
            "type": "heatmap"
           }
          ],
          "heatmapgl": [
           {
            "colorbar": {
             "outlinewidth": 0,
             "ticks": ""
            },
            "colorscale": [
             [
              0,
              "#0d0887"
             ],
             [
              0.1111111111111111,
              "#46039f"
             ],
             [
              0.2222222222222222,
              "#7201a8"
             ],
             [
              0.3333333333333333,
              "#9c179e"
             ],
             [
              0.4444444444444444,
              "#bd3786"
             ],
             [
              0.5555555555555556,
              "#d8576b"
             ],
             [
              0.6666666666666666,
              "#ed7953"
             ],
             [
              0.7777777777777778,
              "#fb9f3a"
             ],
             [
              0.8888888888888888,
              "#fdca26"
             ],
             [
              1,
              "#f0f921"
             ]
            ],
            "type": "heatmapgl"
           }
          ],
          "histogram": [
           {
            "marker": {
             "pattern": {
              "fillmode": "overlay",
              "size": 10,
              "solidity": 0.2
             }
            },
            "type": "histogram"
           }
          ],
          "histogram2d": [
           {
            "colorbar": {
             "outlinewidth": 0,
             "ticks": ""
            },
            "colorscale": [
             [
              0,
              "#0d0887"
             ],
             [
              0.1111111111111111,
              "#46039f"
             ],
             [
              0.2222222222222222,
              "#7201a8"
             ],
             [
              0.3333333333333333,
              "#9c179e"
             ],
             [
              0.4444444444444444,
              "#bd3786"
             ],
             [
              0.5555555555555556,
              "#d8576b"
             ],
             [
              0.6666666666666666,
              "#ed7953"
             ],
             [
              0.7777777777777778,
              "#fb9f3a"
             ],
             [
              0.8888888888888888,
              "#fdca26"
             ],
             [
              1,
              "#f0f921"
             ]
            ],
            "type": "histogram2d"
           }
          ],
          "histogram2dcontour": [
           {
            "colorbar": {
             "outlinewidth": 0,
             "ticks": ""
            },
            "colorscale": [
             [
              0,
              "#0d0887"
             ],
             [
              0.1111111111111111,
              "#46039f"
             ],
             [
              0.2222222222222222,
              "#7201a8"
             ],
             [
              0.3333333333333333,
              "#9c179e"
             ],
             [
              0.4444444444444444,
              "#bd3786"
             ],
             [
              0.5555555555555556,
              "#d8576b"
             ],
             [
              0.6666666666666666,
              "#ed7953"
             ],
             [
              0.7777777777777778,
              "#fb9f3a"
             ],
             [
              0.8888888888888888,
              "#fdca26"
             ],
             [
              1,
              "#f0f921"
             ]
            ],
            "type": "histogram2dcontour"
           }
          ],
          "mesh3d": [
           {
            "colorbar": {
             "outlinewidth": 0,
             "ticks": ""
            },
            "type": "mesh3d"
           }
          ],
          "parcoords": [
           {
            "line": {
             "colorbar": {
              "outlinewidth": 0,
              "ticks": ""
             }
            },
            "type": "parcoords"
           }
          ],
          "pie": [
           {
            "automargin": true,
            "type": "pie"
           }
          ],
          "scatter": [
           {
            "fillpattern": {
             "fillmode": "overlay",
             "size": 10,
             "solidity": 0.2
            },
            "type": "scatter"
           }
          ],
          "scatter3d": [
           {
            "line": {
             "colorbar": {
              "outlinewidth": 0,
              "ticks": ""
             }
            },
            "marker": {
             "colorbar": {
              "outlinewidth": 0,
              "ticks": ""
             }
            },
            "type": "scatter3d"
           }
          ],
          "scattercarpet": [
           {
            "marker": {
             "colorbar": {
              "outlinewidth": 0,
              "ticks": ""
             }
            },
            "type": "scattercarpet"
           }
          ],
          "scattergeo": [
           {
            "marker": {
             "colorbar": {
              "outlinewidth": 0,
              "ticks": ""
             }
            },
            "type": "scattergeo"
           }
          ],
          "scattergl": [
           {
            "marker": {
             "colorbar": {
              "outlinewidth": 0,
              "ticks": ""
             }
            },
            "type": "scattergl"
           }
          ],
          "scattermapbox": [
           {
            "marker": {
             "colorbar": {
              "outlinewidth": 0,
              "ticks": ""
             }
            },
            "type": "scattermapbox"
           }
          ],
          "scatterpolar": [
           {
            "marker": {
             "colorbar": {
              "outlinewidth": 0,
              "ticks": ""
             }
            },
            "type": "scatterpolar"
           }
          ],
          "scatterpolargl": [
           {
            "marker": {
             "colorbar": {
              "outlinewidth": 0,
              "ticks": ""
             }
            },
            "type": "scatterpolargl"
           }
          ],
          "scatterternary": [
           {
            "marker": {
             "colorbar": {
              "outlinewidth": 0,
              "ticks": ""
             }
            },
            "type": "scatterternary"
           }
          ],
          "surface": [
           {
            "colorbar": {
             "outlinewidth": 0,
             "ticks": ""
            },
            "colorscale": [
             [
              0,
              "#0d0887"
             ],
             [
              0.1111111111111111,
              "#46039f"
             ],
             [
              0.2222222222222222,
              "#7201a8"
             ],
             [
              0.3333333333333333,
              "#9c179e"
             ],
             [
              0.4444444444444444,
              "#bd3786"
             ],
             [
              0.5555555555555556,
              "#d8576b"
             ],
             [
              0.6666666666666666,
              "#ed7953"
             ],
             [
              0.7777777777777778,
              "#fb9f3a"
             ],
             [
              0.8888888888888888,
              "#fdca26"
             ],
             [
              1,
              "#f0f921"
             ]
            ],
            "type": "surface"
           }
          ],
          "table": [
           {
            "cells": {
             "fill": {
              "color": "#EBF0F8"
             },
             "line": {
              "color": "white"
             }
            },
            "header": {
             "fill": {
              "color": "#C8D4E3"
             },
             "line": {
              "color": "white"
             }
            },
            "type": "table"
           }
          ]
         },
         "layout": {
          "annotationdefaults": {
           "arrowcolor": "#2a3f5f",
           "arrowhead": 0,
           "arrowwidth": 1
          },
          "autotypenumbers": "strict",
          "coloraxis": {
           "colorbar": {
            "outlinewidth": 0,
            "ticks": ""
           }
          },
          "colorscale": {
           "diverging": [
            [
             0,
             "#8e0152"
            ],
            [
             0.1,
             "#c51b7d"
            ],
            [
             0.2,
             "#de77ae"
            ],
            [
             0.3,
             "#f1b6da"
            ],
            [
             0.4,
             "#fde0ef"
            ],
            [
             0.5,
             "#f7f7f7"
            ],
            [
             0.6,
             "#e6f5d0"
            ],
            [
             0.7,
             "#b8e186"
            ],
            [
             0.8,
             "#7fbc41"
            ],
            [
             0.9,
             "#4d9221"
            ],
            [
             1,
             "#276419"
            ]
           ],
           "sequential": [
            [
             0,
             "#0d0887"
            ],
            [
             0.1111111111111111,
             "#46039f"
            ],
            [
             0.2222222222222222,
             "#7201a8"
            ],
            [
             0.3333333333333333,
             "#9c179e"
            ],
            [
             0.4444444444444444,
             "#bd3786"
            ],
            [
             0.5555555555555556,
             "#d8576b"
            ],
            [
             0.6666666666666666,
             "#ed7953"
            ],
            [
             0.7777777777777778,
             "#fb9f3a"
            ],
            [
             0.8888888888888888,
             "#fdca26"
            ],
            [
             1,
             "#f0f921"
            ]
           ],
           "sequentialminus": [
            [
             0,
             "#0d0887"
            ],
            [
             0.1111111111111111,
             "#46039f"
            ],
            [
             0.2222222222222222,
             "#7201a8"
            ],
            [
             0.3333333333333333,
             "#9c179e"
            ],
            [
             0.4444444444444444,
             "#bd3786"
            ],
            [
             0.5555555555555556,
             "#d8576b"
            ],
            [
             0.6666666666666666,
             "#ed7953"
            ],
            [
             0.7777777777777778,
             "#fb9f3a"
            ],
            [
             0.8888888888888888,
             "#fdca26"
            ],
            [
             1,
             "#f0f921"
            ]
           ]
          },
          "colorway": [
           "#636efa",
           "#EF553B",
           "#00cc96",
           "#ab63fa",
           "#FFA15A",
           "#19d3f3",
           "#FF6692",
           "#B6E880",
           "#FF97FF",
           "#FECB52"
          ],
          "font": {
           "color": "#2a3f5f"
          },
          "geo": {
           "bgcolor": "white",
           "lakecolor": "white",
           "landcolor": "#E5ECF6",
           "showlakes": true,
           "showland": true,
           "subunitcolor": "white"
          },
          "hoverlabel": {
           "align": "left"
          },
          "hovermode": "closest",
          "mapbox": {
           "style": "light"
          },
          "paper_bgcolor": "white",
          "plot_bgcolor": "#E5ECF6",
          "polar": {
           "angularaxis": {
            "gridcolor": "white",
            "linecolor": "white",
            "ticks": ""
           },
           "bgcolor": "#E5ECF6",
           "radialaxis": {
            "gridcolor": "white",
            "linecolor": "white",
            "ticks": ""
           }
          },
          "scene": {
           "xaxis": {
            "backgroundcolor": "#E5ECF6",
            "gridcolor": "white",
            "gridwidth": 2,
            "linecolor": "white",
            "showbackground": true,
            "ticks": "",
            "zerolinecolor": "white"
           },
           "yaxis": {
            "backgroundcolor": "#E5ECF6",
            "gridcolor": "white",
            "gridwidth": 2,
            "linecolor": "white",
            "showbackground": true,
            "ticks": "",
            "zerolinecolor": "white"
           },
           "zaxis": {
            "backgroundcolor": "#E5ECF6",
            "gridcolor": "white",
            "gridwidth": 2,
            "linecolor": "white",
            "showbackground": true,
            "ticks": "",
            "zerolinecolor": "white"
           }
          },
          "shapedefaults": {
           "line": {
            "color": "#2a3f5f"
           }
          },
          "ternary": {
           "aaxis": {
            "gridcolor": "white",
            "linecolor": "white",
            "ticks": ""
           },
           "baxis": {
            "gridcolor": "white",
            "linecolor": "white",
            "ticks": ""
           },
           "bgcolor": "#E5ECF6",
           "caxis": {
            "gridcolor": "white",
            "linecolor": "white",
            "ticks": ""
           }
          },
          "title": {
           "x": 0.05
          },
          "xaxis": {
           "automargin": true,
           "gridcolor": "white",
           "linecolor": "white",
           "ticks": "",
           "title": {
            "standoff": 15
           },
           "zerolinecolor": "white",
           "zerolinewidth": 2
          },
          "yaxis": {
           "automargin": true,
           "gridcolor": "white",
           "linecolor": "white",
           "ticks": "",
           "title": {
            "standoff": 15
           },
           "zerolinecolor": "white",
           "zerolinewidth": 2
          }
         }
        },
        "title": {
         "text": "word count vs compound"
        },
        "xaxis": {
         "title": {
          "text": "word count"
         }
        },
        "yaxis": {
         "title": {
          "text": "compound"
         }
        }
       }
      }
     },
     "metadata": {},
     "output_type": "display_data"
    }
   ],
   "source": [
    "# Lets see word_count vs compound\n",
    "\n",
    "fig=go.Figure(go.Scatter(x=new_df['Text'].apply(lambda x: len(x.split())), y=new_df.compound,mode='markers'))\n",
    "fig.update_layout(xaxis=dict(\n",
    "                            title='word count'),\n",
    "                  yaxis=dict(\n",
    "                            title='compound'),\n",
    "                  title='word count vs compound',\n",
    "                  autosize=False\n",
    "                 )\n",
    "fig.show()"
   ]
  },
  {
   "cell_type": "code",
   "execution_count": 46,
   "metadata": {},
   "outputs": [],
   "source": [
    "# Now Vectorize our words/tweets\n",
    "\n",
    "# Using CountVectorizer\n",
    "CV=CountVectorizer()\n"
   ]
  },
  {
   "cell_type": "code",
   "execution_count": 47,
   "metadata": {},
   "outputs": [
    {
     "data": {
      "text/plain": [
       "array([[0, 0, 0, ..., 0, 0, 0],\n",
       "       [0, 0, 0, ..., 0, 0, 0],\n",
       "       [0, 0, 0, ..., 0, 0, 0],\n",
       "       ...,\n",
       "       [0, 0, 0, ..., 0, 0, 0],\n",
       "       [0, 0, 0, ..., 0, 0, 0],\n",
       "       [0, 0, 0, ..., 0, 0, 0]])"
      ]
     },
     "execution_count": 47,
     "metadata": {},
     "output_type": "execute_result"
    }
   ],
   "source": [
    "(CV.fit_transform(new_df['cleaned tweets'])).toarray()"
   ]
  },
  {
   "cell_type": "code",
   "execution_count": 48,
   "metadata": {},
   "outputs": [],
   "source": [
    "# Splitting our data so as to ready for model building\n",
    "x_train,x_test,y_train,y_test=train_test_split((CV.fit_transform(new_df['cleaned tweets'])).toarray(),new_df['Type'].apply(lambda x:{'Neutral':2,'Positive':3,'Negative':1}[x]))"
   ]
  },
  {
   "cell_type": "code",
   "execution_count": 49,
   "metadata": {},
   "outputs": [],
   "source": [
    "classifiers = {\n",
    "    \"MultinomialNB\": MultinomialNB(),\n",
    "    \"KNeighborsClassifier\": KNeighborsClassifier(),\n",
    "    \"DecisionTreeClassifier\": DecisionTreeClassifier(),\n",
    "    \"RandomForestClassifier\": RandomForestClassifier(),\n",
    "    \"LogisticRegression\": LogisticRegression(),\n",
    "    \"MLPClassifier\": MLPClassifier(max_iter=1000),\n",
    "    \"AdaBoostClassifier\": AdaBoostClassifier(),\n",
    "}"
   ]
  },
  {
   "cell_type": "code",
   "execution_count": 50,
   "metadata": {},
   "outputs": [
    {
     "name": "stdout",
     "output_type": "stream",
     "text": [
      "MultinomialNB : Train- 0.95, Test- 0.72\n",
      "KNeighborsClassifier : Train- 0.65, Test- 0.61\n",
      "DecisionTreeClassifier : Train- 1.00, Test- 0.79\n",
      "RandomForestClassifier : Train- 1.00, Test- 0.81\n",
      "LogisticRegression : Train- 0.98, Test- 0.77\n",
      "MLPClassifier : Train- 1.00, Test- 0.79\n",
      "AdaBoostClassifier : Train- 0.78, Test- 0.71\n"
     ]
    }
   ],
   "source": [
    "for Algo, sklearn_classifier in classifiers.items():\n",
    "    classifier = sklearn_classifier\n",
    "    classifier.fit(x_train,y_train)\n",
    "    \n",
    "    print(f\"{Algo} : Train- {accuracy_score(y_train,classifier.predict(x_train)):.2f}, Test- {accuracy_score(y_test,classifier.predict(x_test)):.2f}\")"
   ]
  },
  {
   "cell_type": "markdown",
   "metadata": {},
   "source": [
    "Seems like DecisionTree performs well here<br>"
   ]
  },
  {
   "cell_type": "code",
   "execution_count": 51,
   "metadata": {},
   "outputs": [],
   "source": [
    "def check_my_scores(single_params,param_grid={}):\n",
    "    keys = list(single_params.keys())[0]\n",
    "    values= list(single_params.values())[0]\n",
    "\n",
    "\n",
    "    train_scores=[]\n",
    "    test_scores=[]\n",
    "\n",
    "    for i in values:\n",
    "        single_params[keys]=i\n",
    "        tree_model= DecisionTreeClassifier(random_state=11,**single_params,**param_grid).fit(x_train,y_train)\n",
    "\n",
    "        train_scores.append(accuracy_score(y_train,tree_model.predict(x_train)))\n",
    "        test_scores.append(accuracy_score(y_test,tree_model.predict(x_test)))\n",
    "\n",
    "    fig=go.Figure()\n",
    "    fig.add_scatter(x=values, y=train_scores,name='train')\n",
    "    fig.add_scatter(x=values, y=test_scores,name='test')\n",
    "    fig.update_layout(hovermode='x unified')\n",
    "    fig.show()\n"
   ]
  },
  {
   "cell_type": "code",
   "execution_count": 52,
   "metadata": {},
   "outputs": [
    {
     "data": {
      "application/vnd.plotly.v1+json": {
       "config": {
        "plotlyServerURL": "https://plot.ly"
       },
       "data": [
        {
         "name": "train",
         "type": "scatter",
         "x": [
          1,
          2,
          3,
          4,
          5,
          6,
          7,
          8,
          9,
          10,
          11,
          12,
          13,
          14,
          15,
          16,
          17,
          18,
          19
         ],
         "y": [
          0.4983299933199733,
          0.5357381429525718,
          0.5637942551770208,
          0.5878423513694054,
          0.6078824315297261,
          0.6259185036740147,
          0.6432865731462926,
          0.6546426185704742,
          0.6666666666666666,
          0.6793587174348698,
          0.6913827655310621,
          0.7027388109552438,
          0.7127588510354042,
          0.7207748830995324,
          0.72812291249165,
          0.7341349365397462,
          0.7401469605878424,
          0.7454909819639278,
          0.751503006012024
         ]
        },
        {
         "name": "test",
         "type": "scatter",
         "x": [
          1,
          2,
          3,
          4,
          5,
          6,
          7,
          8,
          9,
          10,
          11,
          12,
          13,
          14,
          15,
          16,
          17,
          18,
          19
         ],
         "y": [
          0.518,
          0.55,
          0.578,
          0.596,
          0.614,
          0.63,
          0.642,
          0.646,
          0.656,
          0.662,
          0.668,
          0.674,
          0.676,
          0.68,
          0.684,
          0.698,
          0.704,
          0.706,
          0.712
         ]
        }
       ],
       "layout": {
        "hovermode": "x unified",
        "template": {
         "data": {
          "bar": [
           {
            "error_x": {
             "color": "#2a3f5f"
            },
            "error_y": {
             "color": "#2a3f5f"
            },
            "marker": {
             "line": {
              "color": "#E5ECF6",
              "width": 0.5
             },
             "pattern": {
              "fillmode": "overlay",
              "size": 10,
              "solidity": 0.2
             }
            },
            "type": "bar"
           }
          ],
          "barpolar": [
           {
            "marker": {
             "line": {
              "color": "#E5ECF6",
              "width": 0.5
             },
             "pattern": {
              "fillmode": "overlay",
              "size": 10,
              "solidity": 0.2
             }
            },
            "type": "barpolar"
           }
          ],
          "carpet": [
           {
            "aaxis": {
             "endlinecolor": "#2a3f5f",
             "gridcolor": "white",
             "linecolor": "white",
             "minorgridcolor": "white",
             "startlinecolor": "#2a3f5f"
            },
            "baxis": {
             "endlinecolor": "#2a3f5f",
             "gridcolor": "white",
             "linecolor": "white",
             "minorgridcolor": "white",
             "startlinecolor": "#2a3f5f"
            },
            "type": "carpet"
           }
          ],
          "choropleth": [
           {
            "colorbar": {
             "outlinewidth": 0,
             "ticks": ""
            },
            "type": "choropleth"
           }
          ],
          "contour": [
           {
            "colorbar": {
             "outlinewidth": 0,
             "ticks": ""
            },
            "colorscale": [
             [
              0,
              "#0d0887"
             ],
             [
              0.1111111111111111,
              "#46039f"
             ],
             [
              0.2222222222222222,
              "#7201a8"
             ],
             [
              0.3333333333333333,
              "#9c179e"
             ],
             [
              0.4444444444444444,
              "#bd3786"
             ],
             [
              0.5555555555555556,
              "#d8576b"
             ],
             [
              0.6666666666666666,
              "#ed7953"
             ],
             [
              0.7777777777777778,
              "#fb9f3a"
             ],
             [
              0.8888888888888888,
              "#fdca26"
             ],
             [
              1,
              "#f0f921"
             ]
            ],
            "type": "contour"
           }
          ],
          "contourcarpet": [
           {
            "colorbar": {
             "outlinewidth": 0,
             "ticks": ""
            },
            "type": "contourcarpet"
           }
          ],
          "heatmap": [
           {
            "colorbar": {
             "outlinewidth": 0,
             "ticks": ""
            },
            "colorscale": [
             [
              0,
              "#0d0887"
             ],
             [
              0.1111111111111111,
              "#46039f"
             ],
             [
              0.2222222222222222,
              "#7201a8"
             ],
             [
              0.3333333333333333,
              "#9c179e"
             ],
             [
              0.4444444444444444,
              "#bd3786"
             ],
             [
              0.5555555555555556,
              "#d8576b"
             ],
             [
              0.6666666666666666,
              "#ed7953"
             ],
             [
              0.7777777777777778,
              "#fb9f3a"
             ],
             [
              0.8888888888888888,
              "#fdca26"
             ],
             [
              1,
              "#f0f921"
             ]
            ],
            "type": "heatmap"
           }
          ],
          "heatmapgl": [
           {
            "colorbar": {
             "outlinewidth": 0,
             "ticks": ""
            },
            "colorscale": [
             [
              0,
              "#0d0887"
             ],
             [
              0.1111111111111111,
              "#46039f"
             ],
             [
              0.2222222222222222,
              "#7201a8"
             ],
             [
              0.3333333333333333,
              "#9c179e"
             ],
             [
              0.4444444444444444,
              "#bd3786"
             ],
             [
              0.5555555555555556,
              "#d8576b"
             ],
             [
              0.6666666666666666,
              "#ed7953"
             ],
             [
              0.7777777777777778,
              "#fb9f3a"
             ],
             [
              0.8888888888888888,
              "#fdca26"
             ],
             [
              1,
              "#f0f921"
             ]
            ],
            "type": "heatmapgl"
           }
          ],
          "histogram": [
           {
            "marker": {
             "pattern": {
              "fillmode": "overlay",
              "size": 10,
              "solidity": 0.2
             }
            },
            "type": "histogram"
           }
          ],
          "histogram2d": [
           {
            "colorbar": {
             "outlinewidth": 0,
             "ticks": ""
            },
            "colorscale": [
             [
              0,
              "#0d0887"
             ],
             [
              0.1111111111111111,
              "#46039f"
             ],
             [
              0.2222222222222222,
              "#7201a8"
             ],
             [
              0.3333333333333333,
              "#9c179e"
             ],
             [
              0.4444444444444444,
              "#bd3786"
             ],
             [
              0.5555555555555556,
              "#d8576b"
             ],
             [
              0.6666666666666666,
              "#ed7953"
             ],
             [
              0.7777777777777778,
              "#fb9f3a"
             ],
             [
              0.8888888888888888,
              "#fdca26"
             ],
             [
              1,
              "#f0f921"
             ]
            ],
            "type": "histogram2d"
           }
          ],
          "histogram2dcontour": [
           {
            "colorbar": {
             "outlinewidth": 0,
             "ticks": ""
            },
            "colorscale": [
             [
              0,
              "#0d0887"
             ],
             [
              0.1111111111111111,
              "#46039f"
             ],
             [
              0.2222222222222222,
              "#7201a8"
             ],
             [
              0.3333333333333333,
              "#9c179e"
             ],
             [
              0.4444444444444444,
              "#bd3786"
             ],
             [
              0.5555555555555556,
              "#d8576b"
             ],
             [
              0.6666666666666666,
              "#ed7953"
             ],
             [
              0.7777777777777778,
              "#fb9f3a"
             ],
             [
              0.8888888888888888,
              "#fdca26"
             ],
             [
              1,
              "#f0f921"
             ]
            ],
            "type": "histogram2dcontour"
           }
          ],
          "mesh3d": [
           {
            "colorbar": {
             "outlinewidth": 0,
             "ticks": ""
            },
            "type": "mesh3d"
           }
          ],
          "parcoords": [
           {
            "line": {
             "colorbar": {
              "outlinewidth": 0,
              "ticks": ""
             }
            },
            "type": "parcoords"
           }
          ],
          "pie": [
           {
            "automargin": true,
            "type": "pie"
           }
          ],
          "scatter": [
           {
            "fillpattern": {
             "fillmode": "overlay",
             "size": 10,
             "solidity": 0.2
            },
            "type": "scatter"
           }
          ],
          "scatter3d": [
           {
            "line": {
             "colorbar": {
              "outlinewidth": 0,
              "ticks": ""
             }
            },
            "marker": {
             "colorbar": {
              "outlinewidth": 0,
              "ticks": ""
             }
            },
            "type": "scatter3d"
           }
          ],
          "scattercarpet": [
           {
            "marker": {
             "colorbar": {
              "outlinewidth": 0,
              "ticks": ""
             }
            },
            "type": "scattercarpet"
           }
          ],
          "scattergeo": [
           {
            "marker": {
             "colorbar": {
              "outlinewidth": 0,
              "ticks": ""
             }
            },
            "type": "scattergeo"
           }
          ],
          "scattergl": [
           {
            "marker": {
             "colorbar": {
              "outlinewidth": 0,
              "ticks": ""
             }
            },
            "type": "scattergl"
           }
          ],
          "scattermapbox": [
           {
            "marker": {
             "colorbar": {
              "outlinewidth": 0,
              "ticks": ""
             }
            },
            "type": "scattermapbox"
           }
          ],
          "scatterpolar": [
           {
            "marker": {
             "colorbar": {
              "outlinewidth": 0,
              "ticks": ""
             }
            },
            "type": "scatterpolar"
           }
          ],
          "scatterpolargl": [
           {
            "marker": {
             "colorbar": {
              "outlinewidth": 0,
              "ticks": ""
             }
            },
            "type": "scatterpolargl"
           }
          ],
          "scatterternary": [
           {
            "marker": {
             "colorbar": {
              "outlinewidth": 0,
              "ticks": ""
             }
            },
            "type": "scatterternary"
           }
          ],
          "surface": [
           {
            "colorbar": {
             "outlinewidth": 0,
             "ticks": ""
            },
            "colorscale": [
             [
              0,
              "#0d0887"
             ],
             [
              0.1111111111111111,
              "#46039f"
             ],
             [
              0.2222222222222222,
              "#7201a8"
             ],
             [
              0.3333333333333333,
              "#9c179e"
             ],
             [
              0.4444444444444444,
              "#bd3786"
             ],
             [
              0.5555555555555556,
              "#d8576b"
             ],
             [
              0.6666666666666666,
              "#ed7953"
             ],
             [
              0.7777777777777778,
              "#fb9f3a"
             ],
             [
              0.8888888888888888,
              "#fdca26"
             ],
             [
              1,
              "#f0f921"
             ]
            ],
            "type": "surface"
           }
          ],
          "table": [
           {
            "cells": {
             "fill": {
              "color": "#EBF0F8"
             },
             "line": {
              "color": "white"
             }
            },
            "header": {
             "fill": {
              "color": "#C8D4E3"
             },
             "line": {
              "color": "white"
             }
            },
            "type": "table"
           }
          ]
         },
         "layout": {
          "annotationdefaults": {
           "arrowcolor": "#2a3f5f",
           "arrowhead": 0,
           "arrowwidth": 1
          },
          "autotypenumbers": "strict",
          "coloraxis": {
           "colorbar": {
            "outlinewidth": 0,
            "ticks": ""
           }
          },
          "colorscale": {
           "diverging": [
            [
             0,
             "#8e0152"
            ],
            [
             0.1,
             "#c51b7d"
            ],
            [
             0.2,
             "#de77ae"
            ],
            [
             0.3,
             "#f1b6da"
            ],
            [
             0.4,
             "#fde0ef"
            ],
            [
             0.5,
             "#f7f7f7"
            ],
            [
             0.6,
             "#e6f5d0"
            ],
            [
             0.7,
             "#b8e186"
            ],
            [
             0.8,
             "#7fbc41"
            ],
            [
             0.9,
             "#4d9221"
            ],
            [
             1,
             "#276419"
            ]
           ],
           "sequential": [
            [
             0,
             "#0d0887"
            ],
            [
             0.1111111111111111,
             "#46039f"
            ],
            [
             0.2222222222222222,
             "#7201a8"
            ],
            [
             0.3333333333333333,
             "#9c179e"
            ],
            [
             0.4444444444444444,
             "#bd3786"
            ],
            [
             0.5555555555555556,
             "#d8576b"
            ],
            [
             0.6666666666666666,
             "#ed7953"
            ],
            [
             0.7777777777777778,
             "#fb9f3a"
            ],
            [
             0.8888888888888888,
             "#fdca26"
            ],
            [
             1,
             "#f0f921"
            ]
           ],
           "sequentialminus": [
            [
             0,
             "#0d0887"
            ],
            [
             0.1111111111111111,
             "#46039f"
            ],
            [
             0.2222222222222222,
             "#7201a8"
            ],
            [
             0.3333333333333333,
             "#9c179e"
            ],
            [
             0.4444444444444444,
             "#bd3786"
            ],
            [
             0.5555555555555556,
             "#d8576b"
            ],
            [
             0.6666666666666666,
             "#ed7953"
            ],
            [
             0.7777777777777778,
             "#fb9f3a"
            ],
            [
             0.8888888888888888,
             "#fdca26"
            ],
            [
             1,
             "#f0f921"
            ]
           ]
          },
          "colorway": [
           "#636efa",
           "#EF553B",
           "#00cc96",
           "#ab63fa",
           "#FFA15A",
           "#19d3f3",
           "#FF6692",
           "#B6E880",
           "#FF97FF",
           "#FECB52"
          ],
          "font": {
           "color": "#2a3f5f"
          },
          "geo": {
           "bgcolor": "white",
           "lakecolor": "white",
           "landcolor": "#E5ECF6",
           "showlakes": true,
           "showland": true,
           "subunitcolor": "white"
          },
          "hoverlabel": {
           "align": "left"
          },
          "hovermode": "closest",
          "mapbox": {
           "style": "light"
          },
          "paper_bgcolor": "white",
          "plot_bgcolor": "#E5ECF6",
          "polar": {
           "angularaxis": {
            "gridcolor": "white",
            "linecolor": "white",
            "ticks": ""
           },
           "bgcolor": "#E5ECF6",
           "radialaxis": {
            "gridcolor": "white",
            "linecolor": "white",
            "ticks": ""
           }
          },
          "scene": {
           "xaxis": {
            "backgroundcolor": "#E5ECF6",
            "gridcolor": "white",
            "gridwidth": 2,
            "linecolor": "white",
            "showbackground": true,
            "ticks": "",
            "zerolinecolor": "white"
           },
           "yaxis": {
            "backgroundcolor": "#E5ECF6",
            "gridcolor": "white",
            "gridwidth": 2,
            "linecolor": "white",
            "showbackground": true,
            "ticks": "",
            "zerolinecolor": "white"
           },
           "zaxis": {
            "backgroundcolor": "#E5ECF6",
            "gridcolor": "white",
            "gridwidth": 2,
            "linecolor": "white",
            "showbackground": true,
            "ticks": "",
            "zerolinecolor": "white"
           }
          },
          "shapedefaults": {
           "line": {
            "color": "#2a3f5f"
           }
          },
          "ternary": {
           "aaxis": {
            "gridcolor": "white",
            "linecolor": "white",
            "ticks": ""
           },
           "baxis": {
            "gridcolor": "white",
            "linecolor": "white",
            "ticks": ""
           },
           "bgcolor": "#E5ECF6",
           "caxis": {
            "gridcolor": "white",
            "linecolor": "white",
            "ticks": ""
           }
          },
          "title": {
           "x": 0.05
          },
          "xaxis": {
           "automargin": true,
           "gridcolor": "white",
           "linecolor": "white",
           "ticks": "",
           "title": {
            "standoff": 15
           },
           "zerolinecolor": "white",
           "zerolinewidth": 2
          },
          "yaxis": {
           "automargin": true,
           "gridcolor": "white",
           "linecolor": "white",
           "ticks": "",
           "title": {
            "standoff": 15
           },
           "zerolinecolor": "white",
           "zerolinewidth": 2
          }
         }
        }
       }
      }
     },
     "metadata": {},
     "output_type": "display_data"
    }
   ],
   "source": [
    "check_my_scores({'max_depth':np.arange(1,20)})"
   ]
  },
  {
   "cell_type": "markdown",
   "metadata": {},
   "source": [
    "choosing max_depth= 7"
   ]
  },
  {
   "cell_type": "code",
   "execution_count": 53,
   "metadata": {},
   "outputs": [
    {
     "data": {
      "application/vnd.plotly.v1+json": {
       "config": {
        "plotlyServerURL": "https://plot.ly"
       },
       "data": [
        {
         "name": "train",
         "type": "scatter",
         "x": [
          60,
          61,
          62,
          63,
          64,
          65,
          66,
          67,
          68,
          69,
          70,
          71,
          72,
          73,
          74,
          75,
          76,
          77,
          78,
          79
         ],
         "y": [
          0.6419505678022712,
          0.6419505678022712,
          0.6419505678022712,
          0.6419505678022712,
          0.6419505678022712,
          0.6419505678022712,
          0.6419505678022712,
          0.6419505678022712,
          0.6419505678022712,
          0.6419505678022712,
          0.6419505678022712,
          0.6419505678022712,
          0.6419505678022712,
          0.6419505678022712,
          0.6412825651302605,
          0.6406145624582499,
          0.6399465597862392,
          0.6399465597862392,
          0.6399465597862392,
          0.6399465597862392
         ]
        },
        {
         "name": "test",
         "type": "scatter",
         "x": [
          60,
          61,
          62,
          63,
          64,
          65,
          66,
          67,
          68,
          69,
          70,
          71,
          72,
          73,
          74,
          75,
          76,
          77,
          78,
          79
         ],
         "y": [
          0.642,
          0.642,
          0.642,
          0.642,
          0.642,
          0.642,
          0.642,
          0.642,
          0.642,
          0.642,
          0.642,
          0.642,
          0.642,
          0.642,
          0.642,
          0.642,
          0.642,
          0.642,
          0.642,
          0.642
         ]
        }
       ],
       "layout": {
        "hovermode": "x unified",
        "template": {
         "data": {
          "bar": [
           {
            "error_x": {
             "color": "#2a3f5f"
            },
            "error_y": {
             "color": "#2a3f5f"
            },
            "marker": {
             "line": {
              "color": "#E5ECF6",
              "width": 0.5
             },
             "pattern": {
              "fillmode": "overlay",
              "size": 10,
              "solidity": 0.2
             }
            },
            "type": "bar"
           }
          ],
          "barpolar": [
           {
            "marker": {
             "line": {
              "color": "#E5ECF6",
              "width": 0.5
             },
             "pattern": {
              "fillmode": "overlay",
              "size": 10,
              "solidity": 0.2
             }
            },
            "type": "barpolar"
           }
          ],
          "carpet": [
           {
            "aaxis": {
             "endlinecolor": "#2a3f5f",
             "gridcolor": "white",
             "linecolor": "white",
             "minorgridcolor": "white",
             "startlinecolor": "#2a3f5f"
            },
            "baxis": {
             "endlinecolor": "#2a3f5f",
             "gridcolor": "white",
             "linecolor": "white",
             "minorgridcolor": "white",
             "startlinecolor": "#2a3f5f"
            },
            "type": "carpet"
           }
          ],
          "choropleth": [
           {
            "colorbar": {
             "outlinewidth": 0,
             "ticks": ""
            },
            "type": "choropleth"
           }
          ],
          "contour": [
           {
            "colorbar": {
             "outlinewidth": 0,
             "ticks": ""
            },
            "colorscale": [
             [
              0,
              "#0d0887"
             ],
             [
              0.1111111111111111,
              "#46039f"
             ],
             [
              0.2222222222222222,
              "#7201a8"
             ],
             [
              0.3333333333333333,
              "#9c179e"
             ],
             [
              0.4444444444444444,
              "#bd3786"
             ],
             [
              0.5555555555555556,
              "#d8576b"
             ],
             [
              0.6666666666666666,
              "#ed7953"
             ],
             [
              0.7777777777777778,
              "#fb9f3a"
             ],
             [
              0.8888888888888888,
              "#fdca26"
             ],
             [
              1,
              "#f0f921"
             ]
            ],
            "type": "contour"
           }
          ],
          "contourcarpet": [
           {
            "colorbar": {
             "outlinewidth": 0,
             "ticks": ""
            },
            "type": "contourcarpet"
           }
          ],
          "heatmap": [
           {
            "colorbar": {
             "outlinewidth": 0,
             "ticks": ""
            },
            "colorscale": [
             [
              0,
              "#0d0887"
             ],
             [
              0.1111111111111111,
              "#46039f"
             ],
             [
              0.2222222222222222,
              "#7201a8"
             ],
             [
              0.3333333333333333,
              "#9c179e"
             ],
             [
              0.4444444444444444,
              "#bd3786"
             ],
             [
              0.5555555555555556,
              "#d8576b"
             ],
             [
              0.6666666666666666,
              "#ed7953"
             ],
             [
              0.7777777777777778,
              "#fb9f3a"
             ],
             [
              0.8888888888888888,
              "#fdca26"
             ],
             [
              1,
              "#f0f921"
             ]
            ],
            "type": "heatmap"
           }
          ],
          "heatmapgl": [
           {
            "colorbar": {
             "outlinewidth": 0,
             "ticks": ""
            },
            "colorscale": [
             [
              0,
              "#0d0887"
             ],
             [
              0.1111111111111111,
              "#46039f"
             ],
             [
              0.2222222222222222,
              "#7201a8"
             ],
             [
              0.3333333333333333,
              "#9c179e"
             ],
             [
              0.4444444444444444,
              "#bd3786"
             ],
             [
              0.5555555555555556,
              "#d8576b"
             ],
             [
              0.6666666666666666,
              "#ed7953"
             ],
             [
              0.7777777777777778,
              "#fb9f3a"
             ],
             [
              0.8888888888888888,
              "#fdca26"
             ],
             [
              1,
              "#f0f921"
             ]
            ],
            "type": "heatmapgl"
           }
          ],
          "histogram": [
           {
            "marker": {
             "pattern": {
              "fillmode": "overlay",
              "size": 10,
              "solidity": 0.2
             }
            },
            "type": "histogram"
           }
          ],
          "histogram2d": [
           {
            "colorbar": {
             "outlinewidth": 0,
             "ticks": ""
            },
            "colorscale": [
             [
              0,
              "#0d0887"
             ],
             [
              0.1111111111111111,
              "#46039f"
             ],
             [
              0.2222222222222222,
              "#7201a8"
             ],
             [
              0.3333333333333333,
              "#9c179e"
             ],
             [
              0.4444444444444444,
              "#bd3786"
             ],
             [
              0.5555555555555556,
              "#d8576b"
             ],
             [
              0.6666666666666666,
              "#ed7953"
             ],
             [
              0.7777777777777778,
              "#fb9f3a"
             ],
             [
              0.8888888888888888,
              "#fdca26"
             ],
             [
              1,
              "#f0f921"
             ]
            ],
            "type": "histogram2d"
           }
          ],
          "histogram2dcontour": [
           {
            "colorbar": {
             "outlinewidth": 0,
             "ticks": ""
            },
            "colorscale": [
             [
              0,
              "#0d0887"
             ],
             [
              0.1111111111111111,
              "#46039f"
             ],
             [
              0.2222222222222222,
              "#7201a8"
             ],
             [
              0.3333333333333333,
              "#9c179e"
             ],
             [
              0.4444444444444444,
              "#bd3786"
             ],
             [
              0.5555555555555556,
              "#d8576b"
             ],
             [
              0.6666666666666666,
              "#ed7953"
             ],
             [
              0.7777777777777778,
              "#fb9f3a"
             ],
             [
              0.8888888888888888,
              "#fdca26"
             ],
             [
              1,
              "#f0f921"
             ]
            ],
            "type": "histogram2dcontour"
           }
          ],
          "mesh3d": [
           {
            "colorbar": {
             "outlinewidth": 0,
             "ticks": ""
            },
            "type": "mesh3d"
           }
          ],
          "parcoords": [
           {
            "line": {
             "colorbar": {
              "outlinewidth": 0,
              "ticks": ""
             }
            },
            "type": "parcoords"
           }
          ],
          "pie": [
           {
            "automargin": true,
            "type": "pie"
           }
          ],
          "scatter": [
           {
            "fillpattern": {
             "fillmode": "overlay",
             "size": 10,
             "solidity": 0.2
            },
            "type": "scatter"
           }
          ],
          "scatter3d": [
           {
            "line": {
             "colorbar": {
              "outlinewidth": 0,
              "ticks": ""
             }
            },
            "marker": {
             "colorbar": {
              "outlinewidth": 0,
              "ticks": ""
             }
            },
            "type": "scatter3d"
           }
          ],
          "scattercarpet": [
           {
            "marker": {
             "colorbar": {
              "outlinewidth": 0,
              "ticks": ""
             }
            },
            "type": "scattercarpet"
           }
          ],
          "scattergeo": [
           {
            "marker": {
             "colorbar": {
              "outlinewidth": 0,
              "ticks": ""
             }
            },
            "type": "scattergeo"
           }
          ],
          "scattergl": [
           {
            "marker": {
             "colorbar": {
              "outlinewidth": 0,
              "ticks": ""
             }
            },
            "type": "scattergl"
           }
          ],
          "scattermapbox": [
           {
            "marker": {
             "colorbar": {
              "outlinewidth": 0,
              "ticks": ""
             }
            },
            "type": "scattermapbox"
           }
          ],
          "scatterpolar": [
           {
            "marker": {
             "colorbar": {
              "outlinewidth": 0,
              "ticks": ""
             }
            },
            "type": "scatterpolar"
           }
          ],
          "scatterpolargl": [
           {
            "marker": {
             "colorbar": {
              "outlinewidth": 0,
              "ticks": ""
             }
            },
            "type": "scatterpolargl"
           }
          ],
          "scatterternary": [
           {
            "marker": {
             "colorbar": {
              "outlinewidth": 0,
              "ticks": ""
             }
            },
            "type": "scatterternary"
           }
          ],
          "surface": [
           {
            "colorbar": {
             "outlinewidth": 0,
             "ticks": ""
            },
            "colorscale": [
             [
              0,
              "#0d0887"
             ],
             [
              0.1111111111111111,
              "#46039f"
             ],
             [
              0.2222222222222222,
              "#7201a8"
             ],
             [
              0.3333333333333333,
              "#9c179e"
             ],
             [
              0.4444444444444444,
              "#bd3786"
             ],
             [
              0.5555555555555556,
              "#d8576b"
             ],
             [
              0.6666666666666666,
              "#ed7953"
             ],
             [
              0.7777777777777778,
              "#fb9f3a"
             ],
             [
              0.8888888888888888,
              "#fdca26"
             ],
             [
              1,
              "#f0f921"
             ]
            ],
            "type": "surface"
           }
          ],
          "table": [
           {
            "cells": {
             "fill": {
              "color": "#EBF0F8"
             },
             "line": {
              "color": "white"
             }
            },
            "header": {
             "fill": {
              "color": "#C8D4E3"
             },
             "line": {
              "color": "white"
             }
            },
            "type": "table"
           }
          ]
         },
         "layout": {
          "annotationdefaults": {
           "arrowcolor": "#2a3f5f",
           "arrowhead": 0,
           "arrowwidth": 1
          },
          "autotypenumbers": "strict",
          "coloraxis": {
           "colorbar": {
            "outlinewidth": 0,
            "ticks": ""
           }
          },
          "colorscale": {
           "diverging": [
            [
             0,
             "#8e0152"
            ],
            [
             0.1,
             "#c51b7d"
            ],
            [
             0.2,
             "#de77ae"
            ],
            [
             0.3,
             "#f1b6da"
            ],
            [
             0.4,
             "#fde0ef"
            ],
            [
             0.5,
             "#f7f7f7"
            ],
            [
             0.6,
             "#e6f5d0"
            ],
            [
             0.7,
             "#b8e186"
            ],
            [
             0.8,
             "#7fbc41"
            ],
            [
             0.9,
             "#4d9221"
            ],
            [
             1,
             "#276419"
            ]
           ],
           "sequential": [
            [
             0,
             "#0d0887"
            ],
            [
             0.1111111111111111,
             "#46039f"
            ],
            [
             0.2222222222222222,
             "#7201a8"
            ],
            [
             0.3333333333333333,
             "#9c179e"
            ],
            [
             0.4444444444444444,
             "#bd3786"
            ],
            [
             0.5555555555555556,
             "#d8576b"
            ],
            [
             0.6666666666666666,
             "#ed7953"
            ],
            [
             0.7777777777777778,
             "#fb9f3a"
            ],
            [
             0.8888888888888888,
             "#fdca26"
            ],
            [
             1,
             "#f0f921"
            ]
           ],
           "sequentialminus": [
            [
             0,
             "#0d0887"
            ],
            [
             0.1111111111111111,
             "#46039f"
            ],
            [
             0.2222222222222222,
             "#7201a8"
            ],
            [
             0.3333333333333333,
             "#9c179e"
            ],
            [
             0.4444444444444444,
             "#bd3786"
            ],
            [
             0.5555555555555556,
             "#d8576b"
            ],
            [
             0.6666666666666666,
             "#ed7953"
            ],
            [
             0.7777777777777778,
             "#fb9f3a"
            ],
            [
             0.8888888888888888,
             "#fdca26"
            ],
            [
             1,
             "#f0f921"
            ]
           ]
          },
          "colorway": [
           "#636efa",
           "#EF553B",
           "#00cc96",
           "#ab63fa",
           "#FFA15A",
           "#19d3f3",
           "#FF6692",
           "#B6E880",
           "#FF97FF",
           "#FECB52"
          ],
          "font": {
           "color": "#2a3f5f"
          },
          "geo": {
           "bgcolor": "white",
           "lakecolor": "white",
           "landcolor": "#E5ECF6",
           "showlakes": true,
           "showland": true,
           "subunitcolor": "white"
          },
          "hoverlabel": {
           "align": "left"
          },
          "hovermode": "closest",
          "mapbox": {
           "style": "light"
          },
          "paper_bgcolor": "white",
          "plot_bgcolor": "#E5ECF6",
          "polar": {
           "angularaxis": {
            "gridcolor": "white",
            "linecolor": "white",
            "ticks": ""
           },
           "bgcolor": "#E5ECF6",
           "radialaxis": {
            "gridcolor": "white",
            "linecolor": "white",
            "ticks": ""
           }
          },
          "scene": {
           "xaxis": {
            "backgroundcolor": "#E5ECF6",
            "gridcolor": "white",
            "gridwidth": 2,
            "linecolor": "white",
            "showbackground": true,
            "ticks": "",
            "zerolinecolor": "white"
           },
           "yaxis": {
            "backgroundcolor": "#E5ECF6",
            "gridcolor": "white",
            "gridwidth": 2,
            "linecolor": "white",
            "showbackground": true,
            "ticks": "",
            "zerolinecolor": "white"
           },
           "zaxis": {
            "backgroundcolor": "#E5ECF6",
            "gridcolor": "white",
            "gridwidth": 2,
            "linecolor": "white",
            "showbackground": true,
            "ticks": "",
            "zerolinecolor": "white"
           }
          },
          "shapedefaults": {
           "line": {
            "color": "#2a3f5f"
           }
          },
          "ternary": {
           "aaxis": {
            "gridcolor": "white",
            "linecolor": "white",
            "ticks": ""
           },
           "baxis": {
            "gridcolor": "white",
            "linecolor": "white",
            "ticks": ""
           },
           "bgcolor": "#E5ECF6",
           "caxis": {
            "gridcolor": "white",
            "linecolor": "white",
            "ticks": ""
           }
          },
          "title": {
           "x": 0.05
          },
          "xaxis": {
           "automargin": true,
           "gridcolor": "white",
           "linecolor": "white",
           "ticks": "",
           "title": {
            "standoff": 15
           },
           "zerolinecolor": "white",
           "zerolinewidth": 2
          },
          "yaxis": {
           "automargin": true,
           "gridcolor": "white",
           "linecolor": "white",
           "ticks": "",
           "title": {
            "standoff": 15
           },
           "zerolinecolor": "white",
           "zerolinewidth": 2
          }
         }
        }
       }
      }
     },
     "metadata": {},
     "output_type": "display_data"
    }
   ],
   "source": [
    "check_my_scores({'min_samples_split':np.arange(60,80)},{'max_depth':7})"
   ]
  },
  {
   "cell_type": "markdown",
   "metadata": {},
   "source": [
    "choosing min_sample_split = 62"
   ]
  },
  {
   "cell_type": "code",
   "execution_count": 54,
   "metadata": {},
   "outputs": [],
   "source": [
    "model=DecisionTreeClassifier(random_state=11,max_depth=7,min_samples_split=62)"
   ]
  },
  {
   "cell_type": "code",
   "execution_count": 55,
   "metadata": {},
   "outputs": [
    {
     "data": {
      "text/html": [
       "<style>#sk-container-id-1 {color: black;background-color: white;}#sk-container-id-1 pre{padding: 0;}#sk-container-id-1 div.sk-toggleable {background-color: white;}#sk-container-id-1 label.sk-toggleable__label {cursor: pointer;display: block;width: 100%;margin-bottom: 0;padding: 0.3em;box-sizing: border-box;text-align: center;}#sk-container-id-1 label.sk-toggleable__label-arrow:before {content: \"▸\";float: left;margin-right: 0.25em;color: #696969;}#sk-container-id-1 label.sk-toggleable__label-arrow:hover:before {color: black;}#sk-container-id-1 div.sk-estimator:hover label.sk-toggleable__label-arrow:before {color: black;}#sk-container-id-1 div.sk-toggleable__content {max-height: 0;max-width: 0;overflow: hidden;text-align: left;background-color: #f0f8ff;}#sk-container-id-1 div.sk-toggleable__content pre {margin: 0.2em;color: black;border-radius: 0.25em;background-color: #f0f8ff;}#sk-container-id-1 input.sk-toggleable__control:checked~div.sk-toggleable__content {max-height: 200px;max-width: 100%;overflow: auto;}#sk-container-id-1 input.sk-toggleable__control:checked~label.sk-toggleable__label-arrow:before {content: \"▾\";}#sk-container-id-1 div.sk-estimator input.sk-toggleable__control:checked~label.sk-toggleable__label {background-color: #d4ebff;}#sk-container-id-1 div.sk-label input.sk-toggleable__control:checked~label.sk-toggleable__label {background-color: #d4ebff;}#sk-container-id-1 input.sk-hidden--visually {border: 0;clip: rect(1px 1px 1px 1px);clip: rect(1px, 1px, 1px, 1px);height: 1px;margin: -1px;overflow: hidden;padding: 0;position: absolute;width: 1px;}#sk-container-id-1 div.sk-estimator {font-family: monospace;background-color: #f0f8ff;border: 1px dotted black;border-radius: 0.25em;box-sizing: border-box;margin-bottom: 0.5em;}#sk-container-id-1 div.sk-estimator:hover {background-color: #d4ebff;}#sk-container-id-1 div.sk-parallel-item::after {content: \"\";width: 100%;border-bottom: 1px solid gray;flex-grow: 1;}#sk-container-id-1 div.sk-label:hover label.sk-toggleable__label {background-color: #d4ebff;}#sk-container-id-1 div.sk-serial::before {content: \"\";position: absolute;border-left: 1px solid gray;box-sizing: border-box;top: 0;bottom: 0;left: 50%;z-index: 0;}#sk-container-id-1 div.sk-serial {display: flex;flex-direction: column;align-items: center;background-color: white;padding-right: 0.2em;padding-left: 0.2em;position: relative;}#sk-container-id-1 div.sk-item {position: relative;z-index: 1;}#sk-container-id-1 div.sk-parallel {display: flex;align-items: stretch;justify-content: center;background-color: white;position: relative;}#sk-container-id-1 div.sk-item::before, #sk-container-id-1 div.sk-parallel-item::before {content: \"\";position: absolute;border-left: 1px solid gray;box-sizing: border-box;top: 0;bottom: 0;left: 50%;z-index: -1;}#sk-container-id-1 div.sk-parallel-item {display: flex;flex-direction: column;z-index: 1;position: relative;background-color: white;}#sk-container-id-1 div.sk-parallel-item:first-child::after {align-self: flex-end;width: 50%;}#sk-container-id-1 div.sk-parallel-item:last-child::after {align-self: flex-start;width: 50%;}#sk-container-id-1 div.sk-parallel-item:only-child::after {width: 0;}#sk-container-id-1 div.sk-dashed-wrapped {border: 1px dashed gray;margin: 0 0.4em 0.5em 0.4em;box-sizing: border-box;padding-bottom: 0.4em;background-color: white;}#sk-container-id-1 div.sk-label label {font-family: monospace;font-weight: bold;display: inline-block;line-height: 1.2em;}#sk-container-id-1 div.sk-label-container {text-align: center;}#sk-container-id-1 div.sk-container {/* jupyter's `normalize.less` sets `[hidden] { display: none; }` but bootstrap.min.css set `[hidden] { display: none !important; }` so we also need the `!important` here to be able to override the default hidden behavior on the sphinx rendered scikit-learn.org. See: https://github.com/scikit-learn/scikit-learn/issues/21755 */display: inline-block !important;position: relative;}#sk-container-id-1 div.sk-text-repr-fallback {display: none;}</style><div id=\"sk-container-id-1\" class=\"sk-top-container\"><div class=\"sk-text-repr-fallback\"><pre>DecisionTreeClassifier(max_depth=7, min_samples_split=62, random_state=11)</pre><b>In a Jupyter environment, please rerun this cell to show the HTML representation or trust the notebook. <br />On GitHub, the HTML representation is unable to render, please try loading this page with nbviewer.org.</b></div><div class=\"sk-container\" hidden><div class=\"sk-item\"><div class=\"sk-estimator sk-toggleable\"><input class=\"sk-toggleable__control sk-hidden--visually\" id=\"sk-estimator-id-1\" type=\"checkbox\" checked><label for=\"sk-estimator-id-1\" class=\"sk-toggleable__label sk-toggleable__label-arrow\">DecisionTreeClassifier</label><div class=\"sk-toggleable__content\"><pre>DecisionTreeClassifier(max_depth=7, min_samples_split=62, random_state=11)</pre></div></div></div></div></div>"
      ],
      "text/plain": [
       "DecisionTreeClassifier(max_depth=7, min_samples_split=62, random_state=11)"
      ]
     },
     "execution_count": 55,
     "metadata": {},
     "output_type": "execute_result"
    }
   ],
   "source": [
    "model.fit(x_train, y_train)"
   ]
  },
  {
   "cell_type": "code",
   "execution_count": 56,
   "metadata": {},
   "outputs": [
    {
     "name": "stdout",
     "output_type": "stream",
     "text": [
      "              precision    recall  f1-score   support\n",
      "\n",
      "           1       1.00      0.01      0.03       153\n",
      "           2       0.56      1.00      0.72       675\n",
      "           3       0.98      0.42      0.59       669\n",
      "\n",
      "    accuracy                           0.64      1497\n",
      "   macro avg       0.85      0.48      0.45      1497\n",
      "weighted avg       0.79      0.64      0.59      1497\n",
      "\n"
     ]
    }
   ],
   "source": [
    "# Classification report on train set\n",
    "print(classification_report(y_train,model.predict(x_train)))"
   ]
  },
  {
   "cell_type": "code",
   "execution_count": 57,
   "metadata": {},
   "outputs": [
    {
     "name": "stdout",
     "output_type": "stream",
     "text": [
      "              precision    recall  f1-score   support\n",
      "\n",
      "           1       0.00      0.00      0.00        48\n",
      "           2       0.58      1.00      0.74       248\n",
      "           3       0.96      0.36      0.52       204\n",
      "\n",
      "    accuracy                           0.64       500\n",
      "   macro avg       0.52      0.45      0.42       500\n",
      "weighted avg       0.68      0.64      0.58       500\n",
      "\n"
     ]
    }
   ],
   "source": [
    "# Classification report on test set\n",
    "print(classification_report(y_test,model.predict(x_test)))"
   ]
  },
  {
   "cell_type": "code",
   "execution_count": 58,
   "metadata": {},
   "outputs": [
    {
     "data": {
      "text/plain": [
       "<AxesSubplot: title={'center': 'Test set'}>"
      ]
     },
     "execution_count": 58,
     "metadata": {},
     "output_type": "execute_result"
    },
    {
     "data": {
      "image/png": "[encoded data removed]",
      "text/plain": [
       "<Figure size 600x300 with 2 Axes>"
      ]
     },
     "metadata": {},
     "output_type": "display_data"
    }
   ],
   "source": [
    "# Confussion metrix\n",
    "plt.figure(figsize=(6,3))\n",
    "plt.subplot(1,2,1,title='Train set')\n",
    "sn.heatmap(confusion_matrix(y_train,model.predict(x_train)),annot=True,fmt=\".0f\",cmap='copper',cbar=False)\n",
    "plt.xlabel('Predicted')\n",
    "plt.ylabel('Actual')\n",
    "plt.subplot(1,2,2,title='Test set')\n",
    "sn.heatmap(confusion_matrix(y_test,model.predict(x_test)),annot=True,fmt=\".0f\",cbar=False)"
   ]
  },
  {
   "cell_type": "code",
   "execution_count": null,
   "metadata": {},
   "outputs": [],
   "source": []
  }
 ],
 "metadata": {
  "kernelspec": {
   "display_name": "Python 3 (ipykernel)",
   "language": "python",
   "name": "python3"
  },
  "language_info": {
   "codemirror_mode": {
    "name": "ipython",
    "version": 3
   },
   "file_extension": ".py",
   "mimetype": "text/x-python",
   "name": "python",
   "nbconvert_exporter": "python",
   "pygments_lexer": "ipython3",
   "version": "3.10.6"
  },
  "vscode": {
   "interpreter": {
    "hash": "916dbcbb3f70747c44a77c7bcd40155683ae19c65e1c03b4aa3499c5328201f1"
   }
  }
 },
 "nbformat": 4,
 "nbformat_minor": 2
}
