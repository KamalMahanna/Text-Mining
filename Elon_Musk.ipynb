{
 "cells": [
  {
   "cell_type": "code",
   "execution_count": 1,
   "metadata": {},
   "outputs": [],
   "source": [
    "import re\n",
    "import string\n",
    "import nltk\n",
    "import numpy as np\n",
    "import pandas as pd\n",
    "# nltk.download('stopwords')\n",
    "import plotly.graph_objects as go\n",
    "from mysutils.text import remove_urls\n",
    "from nltk.tokenize import TweetTokenizer\n",
    "from nltk.corpus import stopwords\n",
    "# from nltk.\n"
   ]
  },
  {
   "cell_type": "code",
   "execution_count": 2,
   "metadata": {},
   "outputs": [
    {
     "data": {
      "text/html": [
       "<div>\n",
       "<style scoped>\n",
       "    .dataframe tbody tr th:only-of-type {\n",
       "        vertical-align: middle;\n",
       "    }\n",
       "\n",
       "    .dataframe tbody tr th {\n",
       "        vertical-align: top;\n",
       "    }\n",
       "\n",
       "    .dataframe thead th {\n",
       "        text-align: right;\n",
       "    }\n",
       "</style>\n",
       "<table border=\"1\" class=\"dataframe\">\n",
       "  <thead>\n",
       "    <tr style=\"text-align: right;\">\n",
       "      <th></th>\n",
       "      <th>Text</th>\n",
       "    </tr>\n",
       "  </thead>\n",
       "  <tbody>\n",
       "    <tr>\n",
       "      <th>0</th>\n",
       "      <td>@kunalb11 I’m an alien</td>\n",
       "    </tr>\n",
       "    <tr>\n",
       "      <th>1</th>\n",
       "      <td>@ID_AA_Carmack Ray tracing on Cyberpunk with H...</td>\n",
       "    </tr>\n",
       "    <tr>\n",
       "      <th>2</th>\n",
       "      <td>@joerogan @Spotify Great interview!</td>\n",
       "    </tr>\n",
       "    <tr>\n",
       "      <th>3</th>\n",
       "      <td>@gtera27 Doge is underestimated</td>\n",
       "    </tr>\n",
       "    <tr>\n",
       "      <th>4</th>\n",
       "      <td>@teslacn Congratulations Tesla China for amazi...</td>\n",
       "    </tr>\n",
       "  </tbody>\n",
       "</table>\n",
       "</div>"
      ],
      "text/plain": [
       "                                                Text\n",
       "0                             @kunalb11 I’m an alien\n",
       "1  @ID_AA_Carmack Ray tracing on Cyberpunk with H...\n",
       "2                @joerogan @Spotify Great interview!\n",
       "3                    @gtera27 Doge is underestimated\n",
       "4  @teslacn Congratulations Tesla China for amazi..."
      ]
     },
     "execution_count": 2,
     "metadata": {},
     "output_type": "execute_result"
    }
   ],
   "source": [
    "df=pd.read_csv('Elon_musk.csv',encoding='cp1252',usecols=['Text'])\n",
    "df.head()"
   ]
  },
  {
   "cell_type": "code",
   "execution_count": 3,
   "metadata": {},
   "outputs": [
    {
     "data": {
      "text/plain": [
       "Text    @ID_AA_Carmack Ray tracing on Cyberpunk with H...\n",
       "Name: 1, dtype: object"
      ]
     },
     "execution_count": 3,
     "metadata": {},
     "output_type": "execute_result"
    }
   ],
   "source": [
    "df.iloc[1,]"
   ]
  },
  {
   "cell_type": "code",
   "execution_count": 4,
   "metadata": {},
   "outputs": [],
   "source": [
    "    # creating new_df with all lower case\n",
    "    new_df=pd.DataFrame(df['Text'].apply(lambda x : x.strip().lower()))"
   ]
  },
  {
   "cell_type": "code",
   "execution_count": 5,
   "metadata": {},
   "outputs": [
    {
     "data": {
      "text/html": [
       "<div>\n",
       "<style scoped>\n",
       "    .dataframe tbody tr th:only-of-type {\n",
       "        vertical-align: middle;\n",
       "    }\n",
       "\n",
       "    .dataframe tbody tr th {\n",
       "        vertical-align: top;\n",
       "    }\n",
       "\n",
       "    .dataframe thead th {\n",
       "        text-align: right;\n",
       "    }\n",
       "</style>\n",
       "<table border=\"1\" class=\"dataframe\">\n",
       "  <thead>\n",
       "    <tr style=\"text-align: right;\">\n",
       "      <th></th>\n",
       "      <th>Text</th>\n",
       "    </tr>\n",
       "  </thead>\n",
       "  <tbody>\n",
       "    <tr>\n",
       "      <th>0</th>\n",
       "      <td>@kunalb11 i’m an alien</td>\n",
       "    </tr>\n",
       "    <tr>\n",
       "      <th>1</th>\n",
       "      <td>@id_aa_carmack ray tracing on cyberpunk with h...</td>\n",
       "    </tr>\n",
       "    <tr>\n",
       "      <th>2</th>\n",
       "      <td>@joerogan @spotify great interview!</td>\n",
       "    </tr>\n",
       "    <tr>\n",
       "      <th>3</th>\n",
       "      <td>@gtera27 doge is underestimated</td>\n",
       "    </tr>\n",
       "    <tr>\n",
       "      <th>4</th>\n",
       "      <td>@teslacn congratulations tesla china for amazi...</td>\n",
       "    </tr>\n",
       "  </tbody>\n",
       "</table>\n",
       "</div>"
      ],
      "text/plain": [
       "                                                Text\n",
       "0                             @kunalb11 i’m an alien\n",
       "1  @id_aa_carmack ray tracing on cyberpunk with h...\n",
       "2                @joerogan @spotify great interview!\n",
       "3                    @gtera27 doge is underestimated\n",
       "4  @teslacn congratulations tesla china for amazi..."
      ]
     },
     "execution_count": 5,
     "metadata": {},
     "output_type": "execute_result"
    }
   ],
   "source": [
    "new_df.head()"
   ]
  },
  {
   "cell_type": "code",
   "execution_count": 6,
   "metadata": {},
   "outputs": [
    {
     "data": {
      "text/plain": [
       "(1999, 1)"
      ]
     },
     "execution_count": 6,
     "metadata": {},
     "output_type": "execute_result"
    }
   ],
   "source": [
    "new_df.shape"
   ]
  },
  {
   "cell_type": "code",
   "execution_count": 7,
   "metadata": {},
   "outputs": [
    {
     "name": "stdout",
     "output_type": "stream",
     "text": [
      "{'v', 'l', 'b', 'a', 'r', '<', 'x', '1', 'h', '2', 'e', 'j', '9', 'w', 'i', 'd', 'o', 'u', '5', 'n', 'ð', 's', '“', 'c', '4', 'p', '.', 't', 'f', 'g', 'y', 'q', '@', 'm', '0'}\n"
     ]
    }
   ],
   "source": [
    "# Lets see all unique first letters\n",
    "print(set([x[0] for x in new_df['Text']]))"
   ]
  },
  {
   "cell_type": "code",
   "execution_count": 8,
   "metadata": {},
   "outputs": [
    {
     "data": {
      "text/plain": [
       "1678"
      ]
     },
     "execution_count": 8,
     "metadata": {},
     "output_type": "execute_result"
    }
   ],
   "source": [
    "# Lets see how many of them starts with @\n",
    "len(new_df[new_df['Text'].str.contains('@')])"
   ]
  },
  {
   "cell_type": "code",
   "execution_count": 9,
   "metadata": {},
   "outputs": [
    {
     "data": {
      "application/vnd.plotly.v1+json": {
       "config": {
        "plotlyServerURL": "https://plot.ly"
       },
       "data": [
        {
         "labels": [
          "contains @",
          "Others"
         ],
         "pull": [
          0,
          0.1
         ],
         "type": "pie",
         "values": [
          1678,
          321
         ]
        }
       ],
       "layout": {
        "autosize": false,
        "template": {
         "data": {
          "bar": [
           {
            "error_x": {
             "color": "#2a3f5f"
            },
            "error_y": {
             "color": "#2a3f5f"
            },
            "marker": {
             "line": {
              "color": "#E5ECF6",
              "width": 0.5
             },
             "pattern": {
              "fillmode": "overlay",
              "size": 10,
              "solidity": 0.2
             }
            },
            "type": "bar"
           }
          ],
          "barpolar": [
           {
            "marker": {
             "line": {
              "color": "#E5ECF6",
              "width": 0.5
             },
             "pattern": {
              "fillmode": "overlay",
              "size": 10,
              "solidity": 0.2
             }
            },
            "type": "barpolar"
           }
          ],
          "carpet": [
           {
            "aaxis": {
             "endlinecolor": "#2a3f5f",
             "gridcolor": "white",
             "linecolor": "white",
             "minorgridcolor": "white",
             "startlinecolor": "#2a3f5f"
            },
            "baxis": {
             "endlinecolor": "#2a3f5f",
             "gridcolor": "white",
             "linecolor": "white",
             "minorgridcolor": "white",
             "startlinecolor": "#2a3f5f"
            },
            "type": "carpet"
           }
          ],
          "choropleth": [
           {
            "colorbar": {
             "outlinewidth": 0,
             "ticks": ""
            },
            "type": "choropleth"
           }
          ],
          "contour": [
           {
            "colorbar": {
             "outlinewidth": 0,
             "ticks": ""
            },
            "colorscale": [
             [
              0,
              "#0d0887"
             ],
             [
              0.1111111111111111,
              "#46039f"
             ],
             [
              0.2222222222222222,
              "#7201a8"
             ],
             [
              0.3333333333333333,
              "#9c179e"
             ],
             [
              0.4444444444444444,
              "#bd3786"
             ],
             [
              0.5555555555555556,
              "#d8576b"
             ],
             [
              0.6666666666666666,
              "#ed7953"
             ],
             [
              0.7777777777777778,
              "#fb9f3a"
             ],
             [
              0.8888888888888888,
              "#fdca26"
             ],
             [
              1,
              "#f0f921"
             ]
            ],
            "type": "contour"
           }
          ],
          "contourcarpet": [
           {
            "colorbar": {
             "outlinewidth": 0,
             "ticks": ""
            },
            "type": "contourcarpet"
           }
          ],
          "heatmap": [
           {
            "colorbar": {
             "outlinewidth": 0,
             "ticks": ""
            },
            "colorscale": [
             [
              0,
              "#0d0887"
             ],
             [
              0.1111111111111111,
              "#46039f"
             ],
             [
              0.2222222222222222,
              "#7201a8"
             ],
             [
              0.3333333333333333,
              "#9c179e"
             ],
             [
              0.4444444444444444,
              "#bd3786"
             ],
             [
              0.5555555555555556,
              "#d8576b"
             ],
             [
              0.6666666666666666,
              "#ed7953"
             ],
             [
              0.7777777777777778,
              "#fb9f3a"
             ],
             [
              0.8888888888888888,
              "#fdca26"
             ],
             [
              1,
              "#f0f921"
             ]
            ],
            "type": "heatmap"
           }
          ],
          "heatmapgl": [
           {
            "colorbar": {
             "outlinewidth": 0,
             "ticks": ""
            },
            "colorscale": [
             [
              0,
              "#0d0887"
             ],
             [
              0.1111111111111111,
              "#46039f"
             ],
             [
              0.2222222222222222,
              "#7201a8"
             ],
             [
              0.3333333333333333,
              "#9c179e"
             ],
             [
              0.4444444444444444,
              "#bd3786"
             ],
             [
              0.5555555555555556,
              "#d8576b"
             ],
             [
              0.6666666666666666,
              "#ed7953"
             ],
             [
              0.7777777777777778,
              "#fb9f3a"
             ],
             [
              0.8888888888888888,
              "#fdca26"
             ],
             [
              1,
              "#f0f921"
             ]
            ],
            "type": "heatmapgl"
           }
          ],
          "histogram": [
           {
            "marker": {
             "pattern": {
              "fillmode": "overlay",
              "size": 10,
              "solidity": 0.2
             }
            },
            "type": "histogram"
           }
          ],
          "histogram2d": [
           {
            "colorbar": {
             "outlinewidth": 0,
             "ticks": ""
            },
            "colorscale": [
             [
              0,
              "#0d0887"
             ],
             [
              0.1111111111111111,
              "#46039f"
             ],
             [
              0.2222222222222222,
              "#7201a8"
             ],
             [
              0.3333333333333333,
              "#9c179e"
             ],
             [
              0.4444444444444444,
              "#bd3786"
             ],
             [
              0.5555555555555556,
              "#d8576b"
             ],
             [
              0.6666666666666666,
              "#ed7953"
             ],
             [
              0.7777777777777778,
              "#fb9f3a"
             ],
             [
              0.8888888888888888,
              "#fdca26"
             ],
             [
              1,
              "#f0f921"
             ]
            ],
            "type": "histogram2d"
           }
          ],
          "histogram2dcontour": [
           {
            "colorbar": {
             "outlinewidth": 0,
             "ticks": ""
            },
            "colorscale": [
             [
              0,
              "#0d0887"
             ],
             [
              0.1111111111111111,
              "#46039f"
             ],
             [
              0.2222222222222222,
              "#7201a8"
             ],
             [
              0.3333333333333333,
              "#9c179e"
             ],
             [
              0.4444444444444444,
              "#bd3786"
             ],
             [
              0.5555555555555556,
              "#d8576b"
             ],
             [
              0.6666666666666666,
              "#ed7953"
             ],
             [
              0.7777777777777778,
              "#fb9f3a"
             ],
             [
              0.8888888888888888,
              "#fdca26"
             ],
             [
              1,
              "#f0f921"
             ]
            ],
            "type": "histogram2dcontour"
           }
          ],
          "mesh3d": [
           {
            "colorbar": {
             "outlinewidth": 0,
             "ticks": ""
            },
            "type": "mesh3d"
           }
          ],
          "parcoords": [
           {
            "line": {
             "colorbar": {
              "outlinewidth": 0,
              "ticks": ""
             }
            },
            "type": "parcoords"
           }
          ],
          "pie": [
           {
            "automargin": true,
            "type": "pie"
           }
          ],
          "scatter": [
           {
            "fillpattern": {
             "fillmode": "overlay",
             "size": 10,
             "solidity": 0.2
            },
            "type": "scatter"
           }
          ],
          "scatter3d": [
           {
            "line": {
             "colorbar": {
              "outlinewidth": 0,
              "ticks": ""
             }
            },
            "marker": {
             "colorbar": {
              "outlinewidth": 0,
              "ticks": ""
             }
            },
            "type": "scatter3d"
           }
          ],
          "scattercarpet": [
           {
            "marker": {
             "colorbar": {
              "outlinewidth": 0,
              "ticks": ""
             }
            },
            "type": "scattercarpet"
           }
          ],
          "scattergeo": [
           {
            "marker": {
             "colorbar": {
              "outlinewidth": 0,
              "ticks": ""
             }
            },
            "type": "scattergeo"
           }
          ],
          "scattergl": [
           {
            "marker": {
             "colorbar": {
              "outlinewidth": 0,
              "ticks": ""
             }
            },
            "type": "scattergl"
           }
          ],
          "scattermapbox": [
           {
            "marker": {
             "colorbar": {
              "outlinewidth": 0,
              "ticks": ""
             }
            },
            "type": "scattermapbox"
           }
          ],
          "scatterpolar": [
           {
            "marker": {
             "colorbar": {
              "outlinewidth": 0,
              "ticks": ""
             }
            },
            "type": "scatterpolar"
           }
          ],
          "scatterpolargl": [
           {
            "marker": {
             "colorbar": {
              "outlinewidth": 0,
              "ticks": ""
             }
            },
            "type": "scatterpolargl"
           }
          ],
          "scatterternary": [
           {
            "marker": {
             "colorbar": {
              "outlinewidth": 0,
              "ticks": ""
             }
            },
            "type": "scatterternary"
           }
          ],
          "surface": [
           {
            "colorbar": {
             "outlinewidth": 0,
             "ticks": ""
            },
            "colorscale": [
             [
              0,
              "#0d0887"
             ],
             [
              0.1111111111111111,
              "#46039f"
             ],
             [
              0.2222222222222222,
              "#7201a8"
             ],
             [
              0.3333333333333333,
              "#9c179e"
             ],
             [
              0.4444444444444444,
              "#bd3786"
             ],
             [
              0.5555555555555556,
              "#d8576b"
             ],
             [
              0.6666666666666666,
              "#ed7953"
             ],
             [
              0.7777777777777778,
              "#fb9f3a"
             ],
             [
              0.8888888888888888,
              "#fdca26"
             ],
             [
              1,
              "#f0f921"
             ]
            ],
            "type": "surface"
           }
          ],
          "table": [
           {
            "cells": {
             "fill": {
              "color": "#EBF0F8"
             },
             "line": {
              "color": "white"
             }
            },
            "header": {
             "fill": {
              "color": "#C8D4E3"
             },
             "line": {
              "color": "white"
             }
            },
            "type": "table"
           }
          ]
         },
         "layout": {
          "annotationdefaults": {
           "arrowcolor": "#2a3f5f",
           "arrowhead": 0,
           "arrowwidth": 1
          },
          "autotypenumbers": "strict",
          "coloraxis": {
           "colorbar": {
            "outlinewidth": 0,
            "ticks": ""
           }
          },
          "colorscale": {
           "diverging": [
            [
             0,
             "#8e0152"
            ],
            [
             0.1,
             "#c51b7d"
            ],
            [
             0.2,
             "#de77ae"
            ],
            [
             0.3,
             "#f1b6da"
            ],
            [
             0.4,
             "#fde0ef"
            ],
            [
             0.5,
             "#f7f7f7"
            ],
            [
             0.6,
             "#e6f5d0"
            ],
            [
             0.7,
             "#b8e186"
            ],
            [
             0.8,
             "#7fbc41"
            ],
            [
             0.9,
             "#4d9221"
            ],
            [
             1,
             "#276419"
            ]
           ],
           "sequential": [
            [
             0,
             "#0d0887"
            ],
            [
             0.1111111111111111,
             "#46039f"
            ],
            [
             0.2222222222222222,
             "#7201a8"
            ],
            [
             0.3333333333333333,
             "#9c179e"
            ],
            [
             0.4444444444444444,
             "#bd3786"
            ],
            [
             0.5555555555555556,
             "#d8576b"
            ],
            [
             0.6666666666666666,
             "#ed7953"
            ],
            [
             0.7777777777777778,
             "#fb9f3a"
            ],
            [
             0.8888888888888888,
             "#fdca26"
            ],
            [
             1,
             "#f0f921"
            ]
           ],
           "sequentialminus": [
            [
             0,
             "#0d0887"
            ],
            [
             0.1111111111111111,
             "#46039f"
            ],
            [
             0.2222222222222222,
             "#7201a8"
            ],
            [
             0.3333333333333333,
             "#9c179e"
            ],
            [
             0.4444444444444444,
             "#bd3786"
            ],
            [
             0.5555555555555556,
             "#d8576b"
            ],
            [
             0.6666666666666666,
             "#ed7953"
            ],
            [
             0.7777777777777778,
             "#fb9f3a"
            ],
            [
             0.8888888888888888,
             "#fdca26"
            ],
            [
             1,
             "#f0f921"
            ]
           ]
          },
          "colorway": [
           "#636efa",
           "#EF553B",
           "#00cc96",
           "#ab63fa",
           "#FFA15A",
           "#19d3f3",
           "#FF6692",
           "#B6E880",
           "#FF97FF",
           "#FECB52"
          ],
          "font": {
           "color": "#2a3f5f"
          },
          "geo": {
           "bgcolor": "white",
           "lakecolor": "white",
           "landcolor": "#E5ECF6",
           "showlakes": true,
           "showland": true,
           "subunitcolor": "white"
          },
          "hoverlabel": {
           "align": "left"
          },
          "hovermode": "closest",
          "mapbox": {
           "style": "light"
          },
          "paper_bgcolor": "white",
          "plot_bgcolor": "#E5ECF6",
          "polar": {
           "angularaxis": {
            "gridcolor": "white",
            "linecolor": "white",
            "ticks": ""
           },
           "bgcolor": "#E5ECF6",
           "radialaxis": {
            "gridcolor": "white",
            "linecolor": "white",
            "ticks": ""
           }
          },
          "scene": {
           "xaxis": {
            "backgroundcolor": "#E5ECF6",
            "gridcolor": "white",
            "gridwidth": 2,
            "linecolor": "white",
            "showbackground": true,
            "ticks": "",
            "zerolinecolor": "white"
           },
           "yaxis": {
            "backgroundcolor": "#E5ECF6",
            "gridcolor": "white",
            "gridwidth": 2,
            "linecolor": "white",
            "showbackground": true,
            "ticks": "",
            "zerolinecolor": "white"
           },
           "zaxis": {
            "backgroundcolor": "#E5ECF6",
            "gridcolor": "white",
            "gridwidth": 2,
            "linecolor": "white",
            "showbackground": true,
            "ticks": "",
            "zerolinecolor": "white"
           }
          },
          "shapedefaults": {
           "line": {
            "color": "#2a3f5f"
           }
          },
          "ternary": {
           "aaxis": {
            "gridcolor": "white",
            "linecolor": "white",
            "ticks": ""
           },
           "baxis": {
            "gridcolor": "white",
            "linecolor": "white",
            "ticks": ""
           },
           "bgcolor": "#E5ECF6",
           "caxis": {
            "gridcolor": "white",
            "linecolor": "white",
            "ticks": ""
           }
          },
          "title": {
           "x": 0.05
          },
          "xaxis": {
           "automargin": true,
           "gridcolor": "white",
           "linecolor": "white",
           "ticks": "",
           "title": {
            "standoff": 15
           },
           "zerolinecolor": "white",
           "zerolinewidth": 2
          },
          "yaxis": {
           "automargin": true,
           "gridcolor": "white",
           "linecolor": "white",
           "ticks": "",
           "title": {
            "standoff": 15
           },
           "zerolinecolor": "white",
           "zerolinewidth": 2
          }
         }
        },
        "title": {
         "text": "Tweets with user tags"
        }
       }
      }
     },
     "metadata": {},
     "output_type": "display_data"
    }
   ],
   "source": [
    "fig=go.Figure(go.Pie(labels=['contains @','Others'],values=[1678,1999-1678],pull=[0,0.1]))\n",
    "fig.update_layout(autosize=False,title='Tweets with user tags')\n",
    "fig.show()"
   ]
  },
  {
   "cell_type": "code",
   "execution_count": 10,
   "metadata": {},
   "outputs": [
    {
     "data": {
      "application/vnd.plotly.v1+json": {
       "config": {
        "plotlyServerURL": "https://plot.ly"
       },
       "data": [
        {
         "labels": [
          "Contains URLs",
          "Others"
         ],
         "pull": [
          0,
          0.1
         ],
         "type": "pie",
         "values": [
          643,
          1356
         ]
        }
       ],
       "layout": {
        "autosize": false,
        "template": {
         "data": {
          "bar": [
           {
            "error_x": {
             "color": "#2a3f5f"
            },
            "error_y": {
             "color": "#2a3f5f"
            },
            "marker": {
             "line": {
              "color": "#E5ECF6",
              "width": 0.5
             },
             "pattern": {
              "fillmode": "overlay",
              "size": 10,
              "solidity": 0.2
             }
            },
            "type": "bar"
           }
          ],
          "barpolar": [
           {
            "marker": {
             "line": {
              "color": "#E5ECF6",
              "width": 0.5
             },
             "pattern": {
              "fillmode": "overlay",
              "size": 10,
              "solidity": 0.2
             }
            },
            "type": "barpolar"
           }
          ],
          "carpet": [
           {
            "aaxis": {
             "endlinecolor": "#2a3f5f",
             "gridcolor": "white",
             "linecolor": "white",
             "minorgridcolor": "white",
             "startlinecolor": "#2a3f5f"
            },
            "baxis": {
             "endlinecolor": "#2a3f5f",
             "gridcolor": "white",
             "linecolor": "white",
             "minorgridcolor": "white",
             "startlinecolor": "#2a3f5f"
            },
            "type": "carpet"
           }
          ],
          "choropleth": [
           {
            "colorbar": {
             "outlinewidth": 0,
             "ticks": ""
            },
            "type": "choropleth"
           }
          ],
          "contour": [
           {
            "colorbar": {
             "outlinewidth": 0,
             "ticks": ""
            },
            "colorscale": [
             [
              0,
              "#0d0887"
             ],
             [
              0.1111111111111111,
              "#46039f"
             ],
             [
              0.2222222222222222,
              "#7201a8"
             ],
             [
              0.3333333333333333,
              "#9c179e"
             ],
             [
              0.4444444444444444,
              "#bd3786"
             ],
             [
              0.5555555555555556,
              "#d8576b"
             ],
             [
              0.6666666666666666,
              "#ed7953"
             ],
             [
              0.7777777777777778,
              "#fb9f3a"
             ],
             [
              0.8888888888888888,
              "#fdca26"
             ],
             [
              1,
              "#f0f921"
             ]
            ],
            "type": "contour"
           }
          ],
          "contourcarpet": [
           {
            "colorbar": {
             "outlinewidth": 0,
             "ticks": ""
            },
            "type": "contourcarpet"
           }
          ],
          "heatmap": [
           {
            "colorbar": {
             "outlinewidth": 0,
             "ticks": ""
            },
            "colorscale": [
             [
              0,
              "#0d0887"
             ],
             [
              0.1111111111111111,
              "#46039f"
             ],
             [
              0.2222222222222222,
              "#7201a8"
             ],
             [
              0.3333333333333333,
              "#9c179e"
             ],
             [
              0.4444444444444444,
              "#bd3786"
             ],
             [
              0.5555555555555556,
              "#d8576b"
             ],
             [
              0.6666666666666666,
              "#ed7953"
             ],
             [
              0.7777777777777778,
              "#fb9f3a"
             ],
             [
              0.8888888888888888,
              "#fdca26"
             ],
             [
              1,
              "#f0f921"
             ]
            ],
            "type": "heatmap"
           }
          ],
          "heatmapgl": [
           {
            "colorbar": {
             "outlinewidth": 0,
             "ticks": ""
            },
            "colorscale": [
             [
              0,
              "#0d0887"
             ],
             [
              0.1111111111111111,
              "#46039f"
             ],
             [
              0.2222222222222222,
              "#7201a8"
             ],
             [
              0.3333333333333333,
              "#9c179e"
             ],
             [
              0.4444444444444444,
              "#bd3786"
             ],
             [
              0.5555555555555556,
              "#d8576b"
             ],
             [
              0.6666666666666666,
              "#ed7953"
             ],
             [
              0.7777777777777778,
              "#fb9f3a"
             ],
             [
              0.8888888888888888,
              "#fdca26"
             ],
             [
              1,
              "#f0f921"
             ]
            ],
            "type": "heatmapgl"
           }
          ],
          "histogram": [
           {
            "marker": {
             "pattern": {
              "fillmode": "overlay",
              "size": 10,
              "solidity": 0.2
             }
            },
            "type": "histogram"
           }
          ],
          "histogram2d": [
           {
            "colorbar": {
             "outlinewidth": 0,
             "ticks": ""
            },
            "colorscale": [
             [
              0,
              "#0d0887"
             ],
             [
              0.1111111111111111,
              "#46039f"
             ],
             [
              0.2222222222222222,
              "#7201a8"
             ],
             [
              0.3333333333333333,
              "#9c179e"
             ],
             [
              0.4444444444444444,
              "#bd3786"
             ],
             [
              0.5555555555555556,
              "#d8576b"
             ],
             [
              0.6666666666666666,
              "#ed7953"
             ],
             [
              0.7777777777777778,
              "#fb9f3a"
             ],
             [
              0.8888888888888888,
              "#fdca26"
             ],
             [
              1,
              "#f0f921"
             ]
            ],
            "type": "histogram2d"
           }
          ],
          "histogram2dcontour": [
           {
            "colorbar": {
             "outlinewidth": 0,
             "ticks": ""
            },
            "colorscale": [
             [
              0,
              "#0d0887"
             ],
             [
              0.1111111111111111,
              "#46039f"
             ],
             [
              0.2222222222222222,
              "#7201a8"
             ],
             [
              0.3333333333333333,
              "#9c179e"
             ],
             [
              0.4444444444444444,
              "#bd3786"
             ],
             [
              0.5555555555555556,
              "#d8576b"
             ],
             [
              0.6666666666666666,
              "#ed7953"
             ],
             [
              0.7777777777777778,
              "#fb9f3a"
             ],
             [
              0.8888888888888888,
              "#fdca26"
             ],
             [
              1,
              "#f0f921"
             ]
            ],
            "type": "histogram2dcontour"
           }
          ],
          "mesh3d": [
           {
            "colorbar": {
             "outlinewidth": 0,
             "ticks": ""
            },
            "type": "mesh3d"
           }
          ],
          "parcoords": [
           {
            "line": {
             "colorbar": {
              "outlinewidth": 0,
              "ticks": ""
             }
            },
            "type": "parcoords"
           }
          ],
          "pie": [
           {
            "automargin": true,
            "type": "pie"
           }
          ],
          "scatter": [
           {
            "fillpattern": {
             "fillmode": "overlay",
             "size": 10,
             "solidity": 0.2
            },
            "type": "scatter"
           }
          ],
          "scatter3d": [
           {
            "line": {
             "colorbar": {
              "outlinewidth": 0,
              "ticks": ""
             }
            },
            "marker": {
             "colorbar": {
              "outlinewidth": 0,
              "ticks": ""
             }
            },
            "type": "scatter3d"
           }
          ],
          "scattercarpet": [
           {
            "marker": {
             "colorbar": {
              "outlinewidth": 0,
              "ticks": ""
             }
            },
            "type": "scattercarpet"
           }
          ],
          "scattergeo": [
           {
            "marker": {
             "colorbar": {
              "outlinewidth": 0,
              "ticks": ""
             }
            },
            "type": "scattergeo"
           }
          ],
          "scattergl": [
           {
            "marker": {
             "colorbar": {
              "outlinewidth": 0,
              "ticks": ""
             }
            },
            "type": "scattergl"
           }
          ],
          "scattermapbox": [
           {
            "marker": {
             "colorbar": {
              "outlinewidth": 0,
              "ticks": ""
             }
            },
            "type": "scattermapbox"
           }
          ],
          "scatterpolar": [
           {
            "marker": {
             "colorbar": {
              "outlinewidth": 0,
              "ticks": ""
             }
            },
            "type": "scatterpolar"
           }
          ],
          "scatterpolargl": [
           {
            "marker": {
             "colorbar": {
              "outlinewidth": 0,
              "ticks": ""
             }
            },
            "type": "scatterpolargl"
           }
          ],
          "scatterternary": [
           {
            "marker": {
             "colorbar": {
              "outlinewidth": 0,
              "ticks": ""
             }
            },
            "type": "scatterternary"
           }
          ],
          "surface": [
           {
            "colorbar": {
             "outlinewidth": 0,
             "ticks": ""
            },
            "colorscale": [
             [
              0,
              "#0d0887"
             ],
             [
              0.1111111111111111,
              "#46039f"
             ],
             [
              0.2222222222222222,
              "#7201a8"
             ],
             [
              0.3333333333333333,
              "#9c179e"
             ],
             [
              0.4444444444444444,
              "#bd3786"
             ],
             [
              0.5555555555555556,
              "#d8576b"
             ],
             [
              0.6666666666666666,
              "#ed7953"
             ],
             [
              0.7777777777777778,
              "#fb9f3a"
             ],
             [
              0.8888888888888888,
              "#fdca26"
             ],
             [
              1,
              "#f0f921"
             ]
            ],
            "type": "surface"
           }
          ],
          "table": [
           {
            "cells": {
             "fill": {
              "color": "#EBF0F8"
             },
             "line": {
              "color": "white"
             }
            },
            "header": {
             "fill": {
              "color": "#C8D4E3"
             },
             "line": {
              "color": "white"
             }
            },
            "type": "table"
           }
          ]
         },
         "layout": {
          "annotationdefaults": {
           "arrowcolor": "#2a3f5f",
           "arrowhead": 0,
           "arrowwidth": 1
          },
          "autotypenumbers": "strict",
          "coloraxis": {
           "colorbar": {
            "outlinewidth": 0,
            "ticks": ""
           }
          },
          "colorscale": {
           "diverging": [
            [
             0,
             "#8e0152"
            ],
            [
             0.1,
             "#c51b7d"
            ],
            [
             0.2,
             "#de77ae"
            ],
            [
             0.3,
             "#f1b6da"
            ],
            [
             0.4,
             "#fde0ef"
            ],
            [
             0.5,
             "#f7f7f7"
            ],
            [
             0.6,
             "#e6f5d0"
            ],
            [
             0.7,
             "#b8e186"
            ],
            [
             0.8,
             "#7fbc41"
            ],
            [
             0.9,
             "#4d9221"
            ],
            [
             1,
             "#276419"
            ]
           ],
           "sequential": [
            [
             0,
             "#0d0887"
            ],
            [
             0.1111111111111111,
             "#46039f"
            ],
            [
             0.2222222222222222,
             "#7201a8"
            ],
            [
             0.3333333333333333,
             "#9c179e"
            ],
            [
             0.4444444444444444,
             "#bd3786"
            ],
            [
             0.5555555555555556,
             "#d8576b"
            ],
            [
             0.6666666666666666,
             "#ed7953"
            ],
            [
             0.7777777777777778,
             "#fb9f3a"
            ],
            [
             0.8888888888888888,
             "#fdca26"
            ],
            [
             1,
             "#f0f921"
            ]
           ],
           "sequentialminus": [
            [
             0,
             "#0d0887"
            ],
            [
             0.1111111111111111,
             "#46039f"
            ],
            [
             0.2222222222222222,
             "#7201a8"
            ],
            [
             0.3333333333333333,
             "#9c179e"
            ],
            [
             0.4444444444444444,
             "#bd3786"
            ],
            [
             0.5555555555555556,
             "#d8576b"
            ],
            [
             0.6666666666666666,
             "#ed7953"
            ],
            [
             0.7777777777777778,
             "#fb9f3a"
            ],
            [
             0.8888888888888888,
             "#fdca26"
            ],
            [
             1,
             "#f0f921"
            ]
           ]
          },
          "colorway": [
           "#636efa",
           "#EF553B",
           "#00cc96",
           "#ab63fa",
           "#FFA15A",
           "#19d3f3",
           "#FF6692",
           "#B6E880",
           "#FF97FF",
           "#FECB52"
          ],
          "font": {
           "color": "#2a3f5f"
          },
          "geo": {
           "bgcolor": "white",
           "lakecolor": "white",
           "landcolor": "#E5ECF6",
           "showlakes": true,
           "showland": true,
           "subunitcolor": "white"
          },
          "hoverlabel": {
           "align": "left"
          },
          "hovermode": "closest",
          "mapbox": {
           "style": "light"
          },
          "paper_bgcolor": "white",
          "plot_bgcolor": "#E5ECF6",
          "polar": {
           "angularaxis": {
            "gridcolor": "white",
            "linecolor": "white",
            "ticks": ""
           },
           "bgcolor": "#E5ECF6",
           "radialaxis": {
            "gridcolor": "white",
            "linecolor": "white",
            "ticks": ""
           }
          },
          "scene": {
           "xaxis": {
            "backgroundcolor": "#E5ECF6",
            "gridcolor": "white",
            "gridwidth": 2,
            "linecolor": "white",
            "showbackground": true,
            "ticks": "",
            "zerolinecolor": "white"
           },
           "yaxis": {
            "backgroundcolor": "#E5ECF6",
            "gridcolor": "white",
            "gridwidth": 2,
            "linecolor": "white",
            "showbackground": true,
            "ticks": "",
            "zerolinecolor": "white"
           },
           "zaxis": {
            "backgroundcolor": "#E5ECF6",
            "gridcolor": "white",
            "gridwidth": 2,
            "linecolor": "white",
            "showbackground": true,
            "ticks": "",
            "zerolinecolor": "white"
           }
          },
          "shapedefaults": {
           "line": {
            "color": "#2a3f5f"
           }
          },
          "ternary": {
           "aaxis": {
            "gridcolor": "white",
            "linecolor": "white",
            "ticks": ""
           },
           "baxis": {
            "gridcolor": "white",
            "linecolor": "white",
            "ticks": ""
           },
           "bgcolor": "#E5ECF6",
           "caxis": {
            "gridcolor": "white",
            "linecolor": "white",
            "ticks": ""
           }
          },
          "title": {
           "x": 0.05
          },
          "xaxis": {
           "automargin": true,
           "gridcolor": "white",
           "linecolor": "white",
           "ticks": "",
           "title": {
            "standoff": 15
           },
           "zerolinecolor": "white",
           "zerolinewidth": 2
          },
          "yaxis": {
           "automargin": true,
           "gridcolor": "white",
           "linecolor": "white",
           "ticks": "",
           "title": {
            "standoff": 15
           },
           "zerolinecolor": "white",
           "zerolinewidth": 2
          }
         }
        },
        "title": {
         "text": "Tweets with URLs"
        }
       }
      }
     },
     "metadata": {},
     "output_type": "display_data"
    }
   ],
   "source": [
    "# How many of them contains links \n",
    "count=len(new_df[new_df['Text'].str.contains('https://')])\n",
    "fig=go.Figure(go.Pie(labels=['Contains URLs','Others'],values=[count,1999-count],pull=[0,0.1]))\n",
    "fig.update_layout(autosize=False,title='Tweets with URLs')\n",
    "fig.show()"
   ]
  },
  {
   "cell_type": "code",
   "execution_count": 11,
   "metadata": {},
   "outputs": [
    {
     "data": {
      "text/html": [
       "<div>\n",
       "<style scoped>\n",
       "    .dataframe tbody tr th:only-of-type {\n",
       "        vertical-align: middle;\n",
       "    }\n",
       "\n",
       "    .dataframe tbody tr th {\n",
       "        vertical-align: top;\n",
       "    }\n",
       "\n",
       "    .dataframe thead th {\n",
       "        text-align: right;\n",
       "    }\n",
       "</style>\n",
       "<table border=\"1\" class=\"dataframe\">\n",
       "  <thead>\n",
       "    <tr style=\"text-align: right;\">\n",
       "      <th></th>\n",
       "      <th>Text</th>\n",
       "      <th>removed user</th>\n",
       "    </tr>\n",
       "  </thead>\n",
       "  <tbody>\n",
       "    <tr>\n",
       "      <th>0</th>\n",
       "      <td>@kunalb11 i’m an alien</td>\n",
       "      <td>i ’ m an alien</td>\n",
       "    </tr>\n",
       "    <tr>\n",
       "      <th>1</th>\n",
       "      <td>@id_aa_carmack ray tracing on cyberpunk with h...</td>\n",
       "      <td>ray tracing on cyberpunk with hdr is next-leve...</td>\n",
       "    </tr>\n",
       "    <tr>\n",
       "      <th>2</th>\n",
       "      <td>@joerogan @spotify great interview!</td>\n",
       "      <td>great interview !</td>\n",
       "    </tr>\n",
       "    <tr>\n",
       "      <th>3</th>\n",
       "      <td>@gtera27 doge is underestimated</td>\n",
       "      <td>doge is underestimated</td>\n",
       "    </tr>\n",
       "    <tr>\n",
       "      <th>4</th>\n",
       "      <td>@teslacn congratulations tesla china for amazi...</td>\n",
       "      <td>congratulations tesla china for amazing execut...</td>\n",
       "    </tr>\n",
       "  </tbody>\n",
       "</table>\n",
       "</div>"
      ],
      "text/plain": [
       "                                                Text  \\\n",
       "0                             @kunalb11 i’m an alien   \n",
       "1  @id_aa_carmack ray tracing on cyberpunk with h...   \n",
       "2                @joerogan @spotify great interview!   \n",
       "3                    @gtera27 doge is underestimated   \n",
       "4  @teslacn congratulations tesla china for amazi...   \n",
       "\n",
       "                                        removed user  \n",
       "0                                     i ’ m an alien  \n",
       "1  ray tracing on cyberpunk with hdr is next-leve...  \n",
       "2                                  great interview !  \n",
       "3                             doge is underestimated  \n",
       "4  congratulations tesla china for amazing execut...  "
      ]
     },
     "execution_count": 11,
     "metadata": {},
     "output_type": "execute_result"
    }
   ],
   "source": [
    "# We dont need @user_names so removing them \n",
    "new_df['removed user']=new_df['Text'].apply(lambda x: ' '.join(TweetTokenizer(strip_handles=True).tokenize(x)))\n",
    "new_df.head()"
   ]
  },
  {
   "cell_type": "code",
   "execution_count": 12,
   "metadata": {},
   "outputs": [],
   "source": [
    "def row_text(text):\n",
    "    # Script to remove emojis from text\n",
    "    regrex_pattern = re.compile(\"[\"\n",
    "        u\"\\U0001F600-\\U0001F64F\"  # emoticons\n",
    "        u\"\\U0001F300-\\U0001F5FF\"  # symbols & pictographs\n",
    "        u\"\\U0001F680-\\U0001F6FF\"  # transport & map symbols\n",
    "        u\"\\U0001F1E0-\\U0001F1FF\"  # flags (iOS)\n",
    "        u\"\\U00002500-\\U00002BEF\"  # chinese char\n",
    "        u\"\\U00002702-\\U000027B0\"\n",
    "        u\"\\U00002702-\\U000027B0\"\n",
    "        u\"\\U000024C2-\\U0001F251\"\n",
    "        u\"\\U0001f926-\\U0001f937\"\n",
    "        u\"\\U00010000-\\U0010ffff\"\n",
    "        u\"\\u2640-\\u2642\" \n",
    "        u\"\\u2600-\\u2B55\"\n",
    "        u\"\\u200d\"\n",
    "        u\"\\u23cf\"\n",
    "        u\"\\u23e9\"\n",
    "        u\"\\u231a\"\n",
    "        u\"\\ufe0f\"  # dingbats\n",
    "        u\"\\u3030\"\n",
    "                      \"]+\", re.UNICODE)\n",
    "    text= regrex_pattern.sub(r'',text)\n",
    "\n",
    "    # converting all text to lowercase letters\n",
    "    text=text.lower()\n",
    "\n",
    "    # removing urls\n",
    "    text=remove_urls(text)\n",
    "\n",
    "    # remove words inside < >\n",
    "    text = re.sub('<.*?>+', '', text)\n",
    "    \n",
    "    # removing punctuation\n",
    "    text=re.sub('[%s]' % re.escape(string.punctuation), '', text)\n",
    "\n",
    "    # removing '\\n' which is a new line\n",
    "    text = re.sub('\\n', '', text)\n",
    "\n",
    "    text = re.sub('\\w*\\d\\w*', '', text)\n",
    "    \n",
    "    return text\n",
    "\n",
    "\n",
    "    \n"
   ]
  },
  {
   "cell_type": "code",
   "execution_count": 13,
   "metadata": {},
   "outputs": [],
   "source": [
    "# Applying the text column\n",
    "new_df['cleaned tweets']=new_df['removed user'].apply(lambda x: row_text(x))"
   ]
  },
  {
   "cell_type": "code",
   "execution_count": 14,
   "metadata": {},
   "outputs": [
    {
     "data": {
      "text/html": [
       "<div>\n",
       "<style scoped>\n",
       "    .dataframe tbody tr th:only-of-type {\n",
       "        vertical-align: middle;\n",
       "    }\n",
       "\n",
       "    .dataframe tbody tr th {\n",
       "        vertical-align: top;\n",
       "    }\n",
       "\n",
       "    .dataframe thead th {\n",
       "        text-align: right;\n",
       "    }\n",
       "</style>\n",
       "<table border=\"1\" class=\"dataframe\">\n",
       "  <thead>\n",
       "    <tr style=\"text-align: right;\">\n",
       "      <th></th>\n",
       "      <th>Text</th>\n",
       "      <th>removed user</th>\n",
       "      <th>cleaned tweets</th>\n",
       "    </tr>\n",
       "  </thead>\n",
       "  <tbody>\n",
       "    <tr>\n",
       "      <th>0</th>\n",
       "      <td>@kunalb11 i’m an alien</td>\n",
       "      <td>i ’ m an alien</td>\n",
       "      <td>i ’ m an alien</td>\n",
       "    </tr>\n",
       "    <tr>\n",
       "      <th>1</th>\n",
       "      <td>@id_aa_carmack ray tracing on cyberpunk with h...</td>\n",
       "      <td>ray tracing on cyberpunk with hdr is next-leve...</td>\n",
       "      <td>ray tracing on cyberpunk with hdr is nextlevel...</td>\n",
       "    </tr>\n",
       "    <tr>\n",
       "      <th>2</th>\n",
       "      <td>@joerogan @spotify great interview!</td>\n",
       "      <td>great interview !</td>\n",
       "      <td>great interview</td>\n",
       "    </tr>\n",
       "    <tr>\n",
       "      <th>3</th>\n",
       "      <td>@gtera27 doge is underestimated</td>\n",
       "      <td>doge is underestimated</td>\n",
       "      <td>doge is underestimated</td>\n",
       "    </tr>\n",
       "    <tr>\n",
       "      <th>4</th>\n",
       "      <td>@teslacn congratulations tesla china for amazi...</td>\n",
       "      <td>congratulations tesla china for amazing execut...</td>\n",
       "      <td>congratulations tesla china for amazing execut...</td>\n",
       "    </tr>\n",
       "    <tr>\n",
       "      <th>...</th>\n",
       "      <td>...</td>\n",
       "      <td>...</td>\n",
       "      <td>...</td>\n",
       "    </tr>\n",
       "    <tr>\n",
       "      <th>1994</th>\n",
       "      <td>@flcnhvy true, it sounds so surreal, but the n...</td>\n",
       "      <td>true , it sounds so surreal , but the negative...</td>\n",
       "      <td>true  it sounds so surreal  but the negative p...</td>\n",
       "    </tr>\n",
       "    <tr>\n",
       "      <th>1995</th>\n",
       "      <td>@ppathole make sure to read ur terms &amp;amp; con...</td>\n",
       "      <td>make sure to read ur terms &amp; conditions before...</td>\n",
       "      <td>make sure to read ur terms  conditions before ...</td>\n",
       "    </tr>\n",
       "    <tr>\n",
       "      <th>1996</th>\n",
       "      <td>@teslagong @ppathole samwise gamgee</td>\n",
       "      <td>samwise gamgee</td>\n",
       "      <td>samwise gamgee</td>\n",
       "    </tr>\n",
       "    <tr>\n",
       "      <th>1997</th>\n",
       "      <td>@ppathole altho dumb and dumber is &lt;u+0001f525...</td>\n",
       "      <td>altho dumb and dumber is &lt;u+0001f525&gt; &lt;u+0001f...</td>\n",
       "      <td>altho dumb and dumber is</td>\n",
       "    </tr>\n",
       "    <tr>\n",
       "      <th>1998</th>\n",
       "      <td>progress update august 28</td>\n",
       "      <td>progress update august 28</td>\n",
       "      <td>progress update august</td>\n",
       "    </tr>\n",
       "  </tbody>\n",
       "</table>\n",
       "<p>1999 rows × 3 columns</p>\n",
       "</div>"
      ],
      "text/plain": [
       "                                                   Text  \\\n",
       "0                                @kunalb11 i’m an alien   \n",
       "1     @id_aa_carmack ray tracing on cyberpunk with h...   \n",
       "2                   @joerogan @spotify great interview!   \n",
       "3                       @gtera27 doge is underestimated   \n",
       "4     @teslacn congratulations tesla china for amazi...   \n",
       "...                                                 ...   \n",
       "1994  @flcnhvy true, it sounds so surreal, but the n...   \n",
       "1995  @ppathole make sure to read ur terms &amp; con...   \n",
       "1996                @teslagong @ppathole samwise gamgee   \n",
       "1997  @ppathole altho dumb and dumber is <u+0001f525...   \n",
       "1998                          progress update august 28   \n",
       "\n",
       "                                           removed user  \\\n",
       "0                                        i ’ m an alien   \n",
       "1     ray tracing on cyberpunk with hdr is next-leve...   \n",
       "2                                     great interview !   \n",
       "3                                doge is underestimated   \n",
       "4     congratulations tesla china for amazing execut...   \n",
       "...                                                 ...   \n",
       "1994  true , it sounds so surreal , but the negative...   \n",
       "1995  make sure to read ur terms & conditions before...   \n",
       "1996                                     samwise gamgee   \n",
       "1997  altho dumb and dumber is <u+0001f525> <u+0001f...   \n",
       "1998                          progress update august 28   \n",
       "\n",
       "                                         cleaned tweets  \n",
       "0                                        i ’ m an alien  \n",
       "1     ray tracing on cyberpunk with hdr is nextlevel...  \n",
       "2                                      great interview   \n",
       "3                                doge is underestimated  \n",
       "4     congratulations tesla china for amazing execut...  \n",
       "...                                                 ...  \n",
       "1994  true  it sounds so surreal  but the negative p...  \n",
       "1995  make sure to read ur terms  conditions before ...  \n",
       "1996                                     samwise gamgee  \n",
       "1997                         altho dumb and dumber is    \n",
       "1998                            progress update august   \n",
       "\n",
       "[1999 rows x 3 columns]"
      ]
     },
     "execution_count": 14,
     "metadata": {},
     "output_type": "execute_result"
    }
   ],
   "source": [
    "new_df"
   ]
  },
  {
   "cell_type": "code",
   "execution_count": 15,
   "metadata": {},
   "outputs": [],
   "source": [
    "# Splitting them to remove stopp word\n",
    "new_df['removed stop words']=new_df['cleaned tweets'].apply(lambda y: [y for y in y.split() if y not in set(stopwords.words('english'))])"
   ]
  },
  {
   "cell_type": "code",
   "execution_count": 16,
   "metadata": {},
   "outputs": [
    {
     "data": {
      "text/html": [
       "<div>\n",
       "<style scoped>\n",
       "    .dataframe tbody tr th:only-of-type {\n",
       "        vertical-align: middle;\n",
       "    }\n",
       "\n",
       "    .dataframe tbody tr th {\n",
       "        vertical-align: top;\n",
       "    }\n",
       "\n",
       "    .dataframe thead th {\n",
       "        text-align: right;\n",
       "    }\n",
       "</style>\n",
       "<table border=\"1\" class=\"dataframe\">\n",
       "  <thead>\n",
       "    <tr style=\"text-align: right;\">\n",
       "      <th></th>\n",
       "      <th>Text</th>\n",
       "      <th>removed user</th>\n",
       "      <th>cleaned tweets</th>\n",
       "      <th>removed stop words</th>\n",
       "    </tr>\n",
       "  </thead>\n",
       "  <tbody>\n",
       "    <tr>\n",
       "      <th>0</th>\n",
       "      <td>@kunalb11 i’m an alien</td>\n",
       "      <td>i ’ m an alien</td>\n",
       "      <td>i ’ m an alien</td>\n",
       "      <td>[’, alien]</td>\n",
       "    </tr>\n",
       "    <tr>\n",
       "      <th>1</th>\n",
       "      <td>@id_aa_carmack ray tracing on cyberpunk with h...</td>\n",
       "      <td>ray tracing on cyberpunk with hdr is next-leve...</td>\n",
       "      <td>ray tracing on cyberpunk with hdr is nextlevel...</td>\n",
       "      <td>[ray, tracing, cyberpunk, hdr, nextlevel, tried]</td>\n",
       "    </tr>\n",
       "    <tr>\n",
       "      <th>2</th>\n",
       "      <td>@joerogan @spotify great interview!</td>\n",
       "      <td>great interview !</td>\n",
       "      <td>great interview</td>\n",
       "      <td>[great, interview]</td>\n",
       "    </tr>\n",
       "    <tr>\n",
       "      <th>3</th>\n",
       "      <td>@gtera27 doge is underestimated</td>\n",
       "      <td>doge is underestimated</td>\n",
       "      <td>doge is underestimated</td>\n",
       "      <td>[doge, underestimated]</td>\n",
       "    </tr>\n",
       "    <tr>\n",
       "      <th>4</th>\n",
       "      <td>@teslacn congratulations tesla china for amazi...</td>\n",
       "      <td>congratulations tesla china for amazing execut...</td>\n",
       "      <td>congratulations tesla china for amazing execut...</td>\n",
       "      <td>[congratulations, tesla, china, amazing, execu...</td>\n",
       "    </tr>\n",
       "    <tr>\n",
       "      <th>...</th>\n",
       "      <td>...</td>\n",
       "      <td>...</td>\n",
       "      <td>...</td>\n",
       "      <td>...</td>\n",
       "    </tr>\n",
       "    <tr>\n",
       "      <th>1994</th>\n",
       "      <td>@flcnhvy true, it sounds so surreal, but the n...</td>\n",
       "      <td>true , it sounds so surreal , but the negative...</td>\n",
       "      <td>true  it sounds so surreal  but the negative p...</td>\n",
       "      <td>[true, sounds, surreal, negative, propaganda, ...</td>\n",
       "    </tr>\n",
       "    <tr>\n",
       "      <th>1995</th>\n",
       "      <td>@ppathole make sure to read ur terms &amp;amp; con...</td>\n",
       "      <td>make sure to read ur terms &amp; conditions before...</td>\n",
       "      <td>make sure to read ur terms  conditions before ...</td>\n",
       "      <td>[make, sure, read, ur, terms, conditions, clic...</td>\n",
       "    </tr>\n",
       "    <tr>\n",
       "      <th>1996</th>\n",
       "      <td>@teslagong @ppathole samwise gamgee</td>\n",
       "      <td>samwise gamgee</td>\n",
       "      <td>samwise gamgee</td>\n",
       "      <td>[samwise, gamgee]</td>\n",
       "    </tr>\n",
       "    <tr>\n",
       "      <th>1997</th>\n",
       "      <td>@ppathole altho dumb and dumber is &lt;u+0001f525...</td>\n",
       "      <td>altho dumb and dumber is &lt;u+0001f525&gt; &lt;u+0001f...</td>\n",
       "      <td>altho dumb and dumber is</td>\n",
       "      <td>[altho, dumb, dumber]</td>\n",
       "    </tr>\n",
       "    <tr>\n",
       "      <th>1998</th>\n",
       "      <td>progress update august 28</td>\n",
       "      <td>progress update august 28</td>\n",
       "      <td>progress update august</td>\n",
       "      <td>[progress, update, august]</td>\n",
       "    </tr>\n",
       "  </tbody>\n",
       "</table>\n",
       "<p>1999 rows × 4 columns</p>\n",
       "</div>"
      ],
      "text/plain": [
       "                                                   Text  \\\n",
       "0                                @kunalb11 i’m an alien   \n",
       "1     @id_aa_carmack ray tracing on cyberpunk with h...   \n",
       "2                   @joerogan @spotify great interview!   \n",
       "3                       @gtera27 doge is underestimated   \n",
       "4     @teslacn congratulations tesla china for amazi...   \n",
       "...                                                 ...   \n",
       "1994  @flcnhvy true, it sounds so surreal, but the n...   \n",
       "1995  @ppathole make sure to read ur terms &amp; con...   \n",
       "1996                @teslagong @ppathole samwise gamgee   \n",
       "1997  @ppathole altho dumb and dumber is <u+0001f525...   \n",
       "1998                          progress update august 28   \n",
       "\n",
       "                                           removed user  \\\n",
       "0                                        i ’ m an alien   \n",
       "1     ray tracing on cyberpunk with hdr is next-leve...   \n",
       "2                                     great interview !   \n",
       "3                                doge is underestimated   \n",
       "4     congratulations tesla china for amazing execut...   \n",
       "...                                                 ...   \n",
       "1994  true , it sounds so surreal , but the negative...   \n",
       "1995  make sure to read ur terms & conditions before...   \n",
       "1996                                     samwise gamgee   \n",
       "1997  altho dumb and dumber is <u+0001f525> <u+0001f...   \n",
       "1998                          progress update august 28   \n",
       "\n",
       "                                         cleaned tweets  \\\n",
       "0                                        i ’ m an alien   \n",
       "1     ray tracing on cyberpunk with hdr is nextlevel...   \n",
       "2                                      great interview    \n",
       "3                                doge is underestimated   \n",
       "4     congratulations tesla china for amazing execut...   \n",
       "...                                                 ...   \n",
       "1994  true  it sounds so surreal  but the negative p...   \n",
       "1995  make sure to read ur terms  conditions before ...   \n",
       "1996                                     samwise gamgee   \n",
       "1997                         altho dumb and dumber is     \n",
       "1998                            progress update august    \n",
       "\n",
       "                                     removed stop words  \n",
       "0                                            [’, alien]  \n",
       "1      [ray, tracing, cyberpunk, hdr, nextlevel, tried]  \n",
       "2                                    [great, interview]  \n",
       "3                                [doge, underestimated]  \n",
       "4     [congratulations, tesla, china, amazing, execu...  \n",
       "...                                                 ...  \n",
       "1994  [true, sounds, surreal, negative, propaganda, ...  \n",
       "1995  [make, sure, read, ur, terms, conditions, clic...  \n",
       "1996                                  [samwise, gamgee]  \n",
       "1997                              [altho, dumb, dumber]  \n",
       "1998                         [progress, update, august]  \n",
       "\n",
       "[1999 rows x 4 columns]"
      ]
     },
     "execution_count": 16,
     "metadata": {},
     "output_type": "execute_result"
    }
   ],
   "source": [
    "new_df"
   ]
  },
  {
   "cell_type": "code",
   "execution_count": 17,
   "metadata": {},
   "outputs": [
    {
     "data": {
      "text/plain": [
       "Text                  @valaafshar much more than this &amp; increasi...\n",
       "removed user                   much more than this & increasing rapidly\n",
       "cleaned tweets                  much more than this  increasing rapidly\n",
       "removed stop words                          [much, increasing, rapidly]\n",
       "Name: 275, dtype: object"
      ]
     },
     "execution_count": 17,
     "metadata": {},
     "output_type": "execute_result"
    }
   ],
   "source": [
    "new_df.loc[275]"
   ]
  },
  {
   "cell_type": "code",
   "execution_count": 26,
   "metadata": {},
   "outputs": [],
   "source": [
    "words=set()\n",
    "for i in new_df['removed stop words']:\n",
    "    words=words.union(set(i))"
   ]
  },
  {
   "cell_type": "code",
   "execution_count": 29,
   "metadata": {},
   "outputs": [
    {
     "data": {
      "text/plain": [
       "['aber',\n",
       " 'able',\n",
       " 'abo',\n",
       " 'aboard',\n",
       " 'abort',\n",
       " 'absence',\n",
       " 'absolute',\n",
       " 'absolutely',\n",
       " 'absorb',\n",
       " 'absorption',\n",
       " 'absurd',\n",
       " 'absurdly',\n",
       " 'ac',\n",
       " 'academia',\n",
       " 'accel',\n",
       " 'accelera',\n",
       " 'accelerate',\n",
       " 'accelerated',\n",
       " 'accelerating',\n",
       " 'acceleration',\n",
       " 'accelerator',\n",
       " 'accept',\n",
       " 'acceptable',\n",
       " 'accepted',\n",
       " 'access',\n",
       " 'accessible',\n",
       " 'accidental',\n",
       " 'accidents',\n",
       " 'accommodating',\n",
       " 'account',\n",
       " 'accura',\n",
       " 'accuracy',\n",
       " 'accurate',\n",
       " 'ace',\n",
       " 'achieve',\n",
       " 'achieved',\n",
       " 'achievement',\n",
       " 'achieving',\n",
       " 'achy',\n",
       " 'acquisition',\n",
       " 'across',\n",
       " 'action',\n",
       " 'active',\n",
       " 'activity',\n",
       " 'actual',\n",
       " 'actuall',\n",
       " 'actually',\n",
       " 'actuaries',\n",
       " 'adagio',\n",
       " 'add',\n",
       " 'added',\n",
       " 'adding',\n",
       " 'additive',\n",
       " 'addressed',\n",
       " 'administered',\n",
       " 'adults',\n",
       " 'advanc',\n",
       " 'advance',\n",
       " 'advanced',\n",
       " 'advantage',\n",
       " 'adventure',\n",
       " 'advertising',\n",
       " 'advice',\n",
       " 'advised',\n",
       " 'aero',\n",
       " 'afb',\n",
       " 'affair',\n",
       " 'affects',\n",
       " 'affordable',\n",
       " 'africa',\n",
       " 'afternoon',\n",
       " 'age',\n",
       " 'ages',\n",
       " 'ago',\n",
       " 'agony',\n",
       " 'agree',\n",
       " 'agreed',\n",
       " 'ah',\n",
       " 'ahead',\n",
       " 'ahem',\n",
       " 'ai',\n",
       " 'aim',\n",
       " 'aiming',\n",
       " 'air',\n",
       " 'aircraft',\n",
       " 'airplane',\n",
       " 'airplanes',\n",
       " 'ak',\n",
       " 'aka',\n",
       " 'alert',\n",
       " 'alexander',\n",
       " 'algo',\n",
       " 'algorithm',\n",
       " 'algorithms',\n",
       " 'alien',\n",
       " 'aliens',\n",
       " 'aligned',\n",
       " 'allocati',\n",
       " 'allocation',\n",
       " 'allow',\n",
       " 'allowed',\n",
       " 'allowing',\n",
       " 'allows',\n",
       " 'alloy',\n",
       " 'almost',\n",
       " 'aloha',\n",
       " 'alone',\n",
       " 'along',\n",
       " 'alpha',\n",
       " 'already',\n",
       " 'also',\n",
       " 'altho',\n",
       " 'although',\n",
       " 'altit',\n",
       " 'altitude',\n",
       " 'alto',\n",
       " 'aluminum',\n",
       " 'always',\n",
       " 'amaze',\n",
       " 'amazing',\n",
       " 'amazon',\n",
       " 'america',\n",
       " 'american',\n",
       " 'amount',\n",
       " 'amounts',\n",
       " 'amplification',\n",
       " 'amplitudes',\n",
       " 'analog',\n",
       " 'analysis',\n",
       " 'anasisii',\n",
       " 'ancient',\n",
       " 'andrej',\n",
       " 'angle',\n",
       " 'annihila',\n",
       " 'announcing',\n",
       " 'annoying',\n",
       " 'anode',\n",
       " 'another',\n",
       " 'answer',\n",
       " 'antenna',\n",
       " 'antibody',\n",
       " 'anybody',\n",
       " 'anyone',\n",
       " 'anything',\n",
       " 'anytime',\n",
       " 'anyway',\n",
       " 'anywhere',\n",
       " 'aok',\n",
       " 'apart',\n",
       " 'apogee',\n",
       " 'apologists',\n",
       " 'app',\n",
       " 'appealing',\n",
       " 'appear',\n",
       " 'appearing',\n",
       " 'appears',\n",
       " 'apple',\n",
       " 'applies',\n",
       " 'apply',\n",
       " 'applying',\n",
       " 'appreciate',\n",
       " 'appreciated',\n",
       " 'approach',\n",
       " 'approval',\n",
       " 'approve',\n",
       " 'approved',\n",
       " 'approximate',\n",
       " 'approximately',\n",
       " 'approximation',\n",
       " 'april',\n",
       " 'aquatic',\n",
       " 'arbeit',\n",
       " 'arbeiten',\n",
       " 'arbiter',\n",
       " 'architectural',\n",
       " 'architecture',\n",
       " 'area',\n",
       " 'areas',\n",
       " 'argument',\n",
       " 'arise',\n",
       " 'arm',\n",
       " 'armor',\n",
       " 'arms',\n",
       " 'around',\n",
       " 'array',\n",
       " 'arrive',\n",
       " 'arrived',\n",
       " 'arrives',\n",
       " 'art',\n",
       " 'article',\n",
       " 'articles',\n",
       " 'ascent',\n",
       " 'ascribe',\n",
       " 'asimilar',\n",
       " 'asimov',\n",
       " 'ask',\n",
       " 'asking',\n",
       " 'aspiring',\n",
       " 'assessment',\n",
       " 'assured',\n",
       " 'ast',\n",
       " 'asteroid',\n",
       " 'astronaughty',\n",
       " 'astronaut',\n",
       " 'astronauts',\n",
       " 'astronomer',\n",
       " 'astronomical',\n",
       " 'astronomy',\n",
       " 'atmosphere',\n",
       " 'atmospheric',\n",
       " 'atoms',\n",
       " 'atrisk',\n",
       " 'attached',\n",
       " 'attack',\n",
       " 'attacks',\n",
       " 'attempt',\n",
       " 'attention',\n",
       " 'attractive',\n",
       " 'atv',\n",
       " 'auf',\n",
       " 'aug',\n",
       " 'augmentation',\n",
       " 'august',\n",
       " 'austin',\n",
       " 'australia',\n",
       " 'aut',\n",
       " 'authentication',\n",
       " 'authorities',\n",
       " 'auto',\n",
       " 'autobahn',\n",
       " 'autocorrect',\n",
       " 'autocoupler',\n",
       " 'autocracy',\n",
       " 'autodelete',\n",
       " 'automated',\n",
       " 'automatic',\n",
       " 'automatically',\n",
       " 'automotive',\n",
       " 'autonomous',\n",
       " 'autonomously',\n",
       " 'autonomy',\n",
       " 'autopilot',\n",
       " 'av',\n",
       " 'avai',\n",
       " 'avatars',\n",
       " 'average',\n",
       " 'aviation',\n",
       " 'avionics',\n",
       " 'avoided',\n",
       " 'avoids',\n",
       " 'awaiting',\n",
       " 'award',\n",
       " 'aware',\n",
       " 'away',\n",
       " 'awesome',\n",
       " 'b',\n",
       " 'ba',\n",
       " 'baby',\n",
       " 'back',\n",
       " 'background',\n",
       " 'backup',\n",
       " 'bacteria',\n",
       " 'bad',\n",
       " 'ballet',\n",
       " 'ballpark',\n",
       " 'balls',\n",
       " 'bandwidth',\n",
       " 'bang',\n",
       " 'bankrupt',\n",
       " 'banner',\n",
       " 'bar',\n",
       " 'barbie',\n",
       " 'bare',\n",
       " 'barked',\n",
       " 'barnraising',\n",
       " 'base',\n",
       " 'based',\n",
       " 'basic',\n",
       " 'basically',\n",
       " 'batteries',\n",
       " 'battery',\n",
       " 'battle',\n",
       " 'battlestar',\n",
       " 'baveria',\n",
       " 'bay',\n",
       " 'bbc',\n",
       " 'bde',\n",
       " 'beast',\n",
       " 'beat',\n",
       " 'beats',\n",
       " 'beautiful',\n",
       " 'became',\n",
       " 'becau',\n",
       " 'become',\n",
       " 'becomes',\n",
       " 'becoming',\n",
       " 'bed',\n",
       " 'beer',\n",
       " 'begging',\n",
       " 'beginning',\n",
       " 'beginnings',\n",
       " 'behalf',\n",
       " 'behavior',\n",
       " 'behind',\n",
       " 'behnken',\n",
       " 'bei',\n",
       " 'beijing',\n",
       " 'believe',\n",
       " 'believed',\n",
       " 'bell',\n",
       " 'benutzen',\n",
       " 'berlin',\n",
       " 'berlinbrandenburg',\n",
       " 'bern',\n",
       " 'bernie',\n",
       " 'besides',\n",
       " 'best',\n",
       " 'bestcase',\n",
       " 'bet',\n",
       " 'beta',\n",
       " 'better',\n",
       " 'bettern',\n",
       " 'betting',\n",
       " 'beverage',\n",
       " 'bevs',\n",
       " 'beyond',\n",
       " 'bias',\n",
       " 'bidirectional',\n",
       " 'big',\n",
       " 'bigger',\n",
       " 'biggest',\n",
       " 'bill',\n",
       " 'billion',\n",
       " 'billy',\n",
       " 'bioreactor',\n",
       " 'bird',\n",
       " 'birthday',\n",
       " 'bisschen',\n",
       " 'bit',\n",
       " 'bitcoin',\n",
       " 'bite',\n",
       " 'bitte',\n",
       " 'biz',\n",
       " 'black',\n",
       " 'blackscholes',\n",
       " 'blades',\n",
       " 'blanket',\n",
       " 'blessed',\n",
       " 'blessing',\n",
       " 'blood',\n",
       " 'blow',\n",
       " 'blown',\n",
       " 'blue',\n",
       " 'bmw',\n",
       " 'boa',\n",
       " 'board',\n",
       " 'boat',\n",
       " 'bob',\n",
       " 'boca',\n",
       " 'body',\n",
       " 'boeing',\n",
       " 'bogle',\n",
       " 'bogus',\n",
       " 'bold',\n",
       " 'bolivia',\n",
       " 'bolivian',\n",
       " 'bolted',\n",
       " 'bombard',\n",
       " 'bonded',\n",
       " 'book',\n",
       " 'boops',\n",
       " 'boost',\n",
       " 'booster',\n",
       " 'boosters',\n",
       " 'booty',\n",
       " 'boring',\n",
       " 'born',\n",
       " 'boss',\n",
       " 'bot',\n",
       " 'bots',\n",
       " 'bought',\n",
       " 'bow',\n",
       " 'bowl',\n",
       " 'box',\n",
       " 'boys',\n",
       " 'br',\n",
       " 'brain',\n",
       " 'brains',\n",
       " 'brake',\n",
       " 'brande',\n",
       " 'brandenburg',\n",
       " 'branding',\n",
       " 'brave',\n",
       " 'break',\n",
       " 'brennt',\n",
       " 'brian',\n",
       " 'briefly',\n",
       " 'bright',\n",
       " 'brinell',\n",
       " 'bring',\n",
       " 'bringing',\n",
       " 'britain',\n",
       " 'bro',\n",
       " 'broad',\n",
       " 'broke',\n",
       " 'broken',\n",
       " 'browns',\n",
       " 'brownsville',\n",
       " 'browser',\n",
       " 'bs',\n",
       " 'btw',\n",
       " 'bu',\n",
       " 'buff',\n",
       " 'bug',\n",
       " 'bugs',\n",
       " 'buil',\n",
       " 'build',\n",
       " 'building',\n",
       " 'built',\n",
       " 'bumps',\n",
       " 'burdened',\n",
       " 'bureaucracy',\n",
       " 'burn',\n",
       " 'burned',\n",
       " 'burns',\n",
       " 'burst',\n",
       " 'bus',\n",
       " 'butt',\n",
       " 'button',\n",
       " 'buttontwiddling',\n",
       " 'buy',\n",
       " 'buying',\n",
       " 'c',\n",
       " 'ca',\n",
       " 'cabin',\n",
       " 'cables',\n",
       " 'cake',\n",
       " 'cakes',\n",
       " 'calculation',\n",
       " 'calculations',\n",
       " 'caliber',\n",
       " 'california',\n",
       " 'call',\n",
       " 'called',\n",
       " 'calm',\n",
       " 'caltech',\n",
       " 'cam',\n",
       " 'came',\n",
       " 'camera',\n",
       " 'cameras',\n",
       " 'canada',\n",
       " 'canadian',\n",
       " 'canceled',\n",
       " 'candidate',\n",
       " 'candidates',\n",
       " 'candy',\n",
       " 'cannot',\n",
       " 'cant',\n",
       " 'capability',\n",
       " 'capable',\n",
       " 'cape',\n",
       " 'capex',\n",
       " 'capital',\n",
       " 'capture',\n",
       " 'captured',\n",
       " 'car',\n",
       " 'carbon',\n",
       " 'card',\n",
       " 'care',\n",
       " 'carefully',\n",
       " 'cares',\n",
       " 'cargo',\n",
       " 'carousel',\n",
       " 'carried',\n",
       " 'carry',\n",
       " 'carrying',\n",
       " 'cars',\n",
       " 'cartoon',\n",
       " 'cas',\n",
       " 'case',\n",
       " 'cases',\n",
       " 'cash',\n",
       " 'cast',\n",
       " 'casting',\n",
       " 'castings',\n",
       " 'catapult',\n",
       " 'catch',\n",
       " 'catches',\n",
       " 'catchy',\n",
       " 'catgirl',\n",
       " 'catl',\n",
       " 'caught',\n",
       " 'causes',\n",
       " 'causing',\n",
       " 'caution',\n",
       " 'cautious',\n",
       " 'cavalier',\n",
       " 'ceiling',\n",
       " 'cell',\n",
       " 'cells',\n",
       " 'centaur',\n",
       " 'center',\n",
       " 'ceo',\n",
       " 'ceremony',\n",
       " 'cern',\n",
       " 'certainly',\n",
       " 'cgi',\n",
       " 'chad',\n",
       " 'chain',\n",
       " 'chalk',\n",
       " 'challenge',\n",
       " 'challenges',\n",
       " 'challenging',\n",
       " 'chamber',\n",
       " 'champion',\n",
       " 'champions',\n",
       " 'chance',\n",
       " 'chang',\n",
       " 'change',\n",
       " 'changes',\n",
       " 'changing',\n",
       " 'channel',\n",
       " 'channels',\n",
       " 'charge',\n",
       " 'charging',\n",
       " 'charlie',\n",
       " 'chart',\n",
       " 'chasm',\n",
       " 'check',\n",
       " 'checking',\n",
       " 'checkouts',\n",
       " 'cheese',\n",
       " 'cherish',\n",
       " 'chest',\n",
       " 'chica',\n",
       " 'china',\n",
       " 'chip',\n",
       " 'chips',\n",
       " 'choose',\n",
       " 'chop',\n",
       " 'chosen',\n",
       " 'christmas',\n",
       " 'chrome',\n",
       " 'chromosome',\n",
       " 'chrysler',\n",
       " 'chuck',\n",
       " 'churchill',\n",
       " 'chute',\n",
       " 'cigarette',\n",
       " 'circular',\n",
       " 'circumferentia',\n",
       " 'cities',\n",
       " 'civilization',\n",
       " 'claire',\n",
       " 'clarify',\n",
       " 'class',\n",
       " 'classic',\n",
       " 'clear',\n",
       " 'clearly',\n",
       " 'clicking',\n",
       " 'clinic',\n",
       " 'clock',\n",
       " 'clos',\n",
       " 'close',\n",
       " 'closed',\n",
       " 'closest',\n",
       " 'closing',\n",
       " 'cloudy',\n",
       " 'clubhouse',\n",
       " 'clue',\n",
       " 'co',\n",
       " 'coast',\n",
       " 'cobra',\n",
       " 'code',\n",
       " 'codebase',\n",
       " 'coins',\n",
       " 'cold',\n",
       " 'collapse',\n",
       " 'collect',\n",
       " 'collection',\n",
       " 'college',\n",
       " 'collision',\n",
       " 'colonies',\n",
       " 'color',\n",
       " 'colors',\n",
       " 'combat',\n",
       " 'combined',\n",
       " 'combo',\n",
       " 'combustion',\n",
       " 'come',\n",
       " 'comedy',\n",
       " 'comes',\n",
       " 'comets',\n",
       " 'coming',\n",
       " 'command',\n",
       " 'comme',\n",
       " 'comment',\n",
       " 'commenting',\n",
       " 'comments',\n",
       " 'commercial',\n",
       " 'committed',\n",
       " 'common',\n",
       " 'communication',\n",
       " 'communications',\n",
       " 'community',\n",
       " 'commutatorfree',\n",
       " 'comp',\n",
       " 'companies',\n",
       " 'company',\n",
       " 'compared',\n",
       " 'compelling',\n",
       " 'compensation',\n",
       " 'competition',\n",
       " 'competitive',\n",
       " 'compilers',\n",
       " 'complete',\n",
       " 'completed',\n",
       " 'completely',\n",
       " 'completing',\n",
       " 'complex',\n",
       " 'complicated',\n",
       " 'comprehensible',\n",
       " 'compression',\n",
       " 'compute',\n",
       " 'computer',\n",
       " 'computers',\n",
       " 'conceptual',\n",
       " 'concluded',\n",
       " 'concrete',\n",
       " 'condition',\n",
       " 'conditions',\n",
       " 'conference',\n",
       " 'confess',\n",
       " 'confident',\n",
       " 'configurator',\n",
       " 'confirmed',\n",
       " 'conflation',\n",
       " 'confusion',\n",
       " 'congrats',\n",
       " 'congratulations',\n",
       " 'connectivity',\n",
       " 'connector',\n",
       " 'consciousness',\n",
       " 'consider',\n",
       " 'considerably',\n",
       " 'considering',\n",
       " 'consistency',\n",
       " 'constant',\n",
       " 'constantly',\n",
       " 'constellation',\n",
       " 'constituents',\n",
       " 'constrained',\n",
       " 'constraints',\n",
       " 'construction',\n",
       " 'construimos',\n",
       " 'consumers',\n",
       " 'consumption',\n",
       " 'contest',\n",
       " 'context',\n",
       " 'continue',\n",
       " 'continues',\n",
       " 'continuous',\n",
       " 'contribute',\n",
       " 'control',\n",
       " 'controlled',\n",
       " 'controlling',\n",
       " 'conveniently',\n",
       " 'convers',\n",
       " 'conversations',\n",
       " 'convert',\n",
       " 'convertible',\n",
       " 'converts',\n",
       " 'cook',\n",
       " 'cookie',\n",
       " 'cooking',\n",
       " 'cool',\n",
       " 'cooling',\n",
       " 'copper',\n",
       " 'cores',\n",
       " 'corpo',\n",
       " 'corporation',\n",
       " 'correc',\n",
       " 'correct',\n",
       " 'corrosion',\n",
       " 'cortex',\n",
       " 'cost',\n",
       " 'costly',\n",
       " 'costs',\n",
       " 'cough',\n",
       " 'could',\n",
       " 'count',\n",
       " 'countdown',\n",
       " 'counterintuitive',\n",
       " 'counting',\n",
       " 'countr',\n",
       " 'countries',\n",
       " 'country',\n",
       " 'course',\n",
       " 'cousin',\n",
       " 'cov',\n",
       " 'cover',\n",
       " 'coverage',\n",
       " 'covering',\n",
       " 'covid',\n",
       " 'crane',\n",
       " 'crash',\n",
       " 'craters',\n",
       " 'crazy',\n",
       " 'cre',\n",
       " 'create',\n",
       " 'creating',\n",
       " 'creative',\n",
       " 'creatively',\n",
       " 'credibilit',\n",
       " 'crew',\n",
       " 'crewdragon',\n",
       " 'crewed',\n",
       " 'crimson',\n",
       " 'critical',\n",
       " 'cropping',\n",
       " 'cruising',\n",
       " 'crushes',\n",
       " 'cryo',\n",
       " 'cryoproof',\n",
       " 'crypto',\n",
       " 'crysis',\n",
       " 'ct',\n",
       " 'cu',\n",
       " 'cumulative',\n",
       " 'cures',\n",
       " 'curevac',\n",
       " 'curing',\n",
       " 'curious',\n",
       " 'currency',\n",
       " 'current',\n",
       " 'currently',\n",
       " 'custom',\n",
       " 'customers',\n",
       " 'customtailored',\n",
       " 'cut',\n",
       " 'cute',\n",
       " 'cutting',\n",
       " 'cyber',\n",
       " 'cyberpunk',\n",
       " 'cybertr',\n",
       " 'cybertruck',\n",
       " 'cycle',\n",
       " 'cycles',\n",
       " 'daily',\n",
       " 'damaged',\n",
       " 'damian',\n",
       " 'damn',\n",
       " 'damping',\n",
       " 'danger',\n",
       " 'dank',\n",
       " 'dankberg',\n",
       " 'dankeschön',\n",
       " 'darkest',\n",
       " 'das',\n",
       " 'data',\n",
       " 'database',\n",
       " 'day',\n",
       " 'dayquil',\n",
       " 'days',\n",
       " 'de',\n",
       " 'dead',\n",
       " 'deal',\n",
       " 'dealing',\n",
       " 'death',\n",
       " 'deaths',\n",
       " 'debate',\n",
       " 'decade',\n",
       " 'decades',\n",
       " 'december',\n",
       " 'decid',\n",
       " 'decide',\n",
       " 'decisionmakers',\n",
       " 'deck',\n",
       " 'decline',\n",
       " 'declined',\n",
       " 'decrypted',\n",
       " 'deep',\n",
       " 'def',\n",
       " 'default',\n",
       " 'definitely',\n",
       " 'deg',\n",
       " 'degree',\n",
       " 'degrees',\n",
       " 'delivered',\n",
       " 'deliveries',\n",
       " 'delivery',\n",
       " 'demand',\n",
       " 'demo',\n",
       " 'democracy',\n",
       " 'demolition',\n",
       " 'demonstrated',\n",
       " 'demonstration',\n",
       " 'dense',\n",
       " 'denser',\n",
       " 'densify',\n",
       " 'depart',\n",
       " 'departed',\n",
       " 'departure',\n",
       " 'dependent',\n",
       " 'depending',\n",
       " 'depends',\n",
       " 'deployment',\n",
       " 'depressu',\n",
       " 'depth',\n",
       " 'der',\n",
       " 'descent',\n",
       " 'describe',\n",
       " 'description',\n",
       " 'deserves',\n",
       " 'desig',\n",
       " 'design',\n",
       " 'designed',\n",
       " 'despite',\n",
       " 'destiny',\n",
       " 'destroyer',\n",
       " 'detail',\n",
       " 'details',\n",
       " 'detanking',\n",
       " 'detect',\n",
       " 'detected',\n",
       " 'detection',\n",
       " 'deus',\n",
       " 'dev',\n",
       " 'developed',\n",
       " 'developing',\n",
       " 'development',\n",
       " 'deveras',\n",
       " 'device',\n",
       " 'diameter',\n",
       " 'diamond',\n",
       " 'dicey',\n",
       " 'dichotomy',\n",
       " 'die',\n",
       " 'died',\n",
       " 'diess',\n",
       " 'differe',\n",
       " 'difference',\n",
       " 'differences',\n",
       " 'different',\n",
       " 'differential',\n",
       " 'difficult',\n",
       " 'difficulties',\n",
       " 'difficulty',\n",
       " 'dig',\n",
       " 'digits',\n",
       " 'digs',\n",
       " 'dilbert',\n",
       " 'diluted',\n",
       " 'dire',\n",
       " 'direct',\n",
       " 'direction',\n",
       " 'directly',\n",
       " 'dirt',\n",
       " 'disc',\n",
       " 'discord',\n",
       " 'discovering',\n",
       " 'discuss',\n",
       " 'disk',\n",
       " 'display',\n",
       " 'distance',\n",
       " 'distinction',\n",
       " 'distinguish',\n",
       " 'distract',\n",
       " 'distribution',\n",
       " 'diverter',\n",
       " 'divide',\n",
       " 'division',\n",
       " 'dm',\n",
       " 'dmt',\n",
       " 'dna',\n",
       " 'docked',\n",
       " 'docking',\n",
       " 'docks',\n",
       " 'dof',\n",
       " 'dog',\n",
       " 'doge',\n",
       " 'dogecake',\n",
       " 'dogecoin',\n",
       " 'dojo',\n",
       " 'dollar',\n",
       " 'domes',\n",
       " 'domino',\n",
       " 'donate',\n",
       " 'donated',\n",
       " 'donating',\n",
       " 'done',\n",
       " 'donor',\n",
       " 'dot',\n",
       " 'double',\n",
       " 'doubles',\n",
       " 'doug',\n",
       " 'dozen',\n",
       " 'dr',\n",
       " 'dra',\n",
       " 'drag',\n",
       " 'drago',\n",
       " 'dragon',\n",
       " 'dragons',\n",
       " 'dramatic',\n",
       " 'dramatically',\n",
       " 'drawing',\n",
       " 'dream',\n",
       " 'dreams',\n",
       " 'dress',\n",
       " 'drive',\n",
       " 'driven',\n",
       " 'driver',\n",
       " 'drivers',\n",
       " 'driving',\n",
       " 'drone',\n",
       " 'droneship',\n",
       " 'drop',\n",
       " 'dropped',\n",
       " 'drove',\n",
       " 'dry',\n",
       " 'dual',\n",
       " 'due',\n",
       " 'dug',\n",
       " 'dumb',\n",
       " 'dumber',\n",
       " 'duration',\n",
       " 'duri',\n",
       " 'dust',\n",
       " 'duty',\n",
       " 'dynamically',\n",
       " 'döner',\n",
       " 'döpfner',\n",
       " 'e',\n",
       " 'ear',\n",
       " 'earlier',\n",
       " 'early',\n",
       " 'earmarks',\n",
       " 'earning',\n",
       " 'earnings',\n",
       " 'earth',\n",
       " 'earthlings',\n",
       " 'ease',\n",
       " 'easier',\n",
       " 'easily',\n",
       " 'easy',\n",
       " 'eaten',\n",
       " 'eberhard',\n",
       " 'eclipse',\n",
       " 'economic',\n",
       " 'economy',\n",
       " 'edge',\n",
       " 'edison',\n",
       " 'edits',\n",
       " 'eerie',\n",
       " 'effect',\n",
       " 'efficiency',\n",
       " 'efficient',\n",
       " 'efficiently',\n",
       " 'eg',\n",
       " 'ego',\n",
       " 'egypt',\n",
       " 'eight',\n",
       " 'eighth',\n",
       " 'ein',\n",
       " 'einstein',\n",
       " 'eithe',\n",
       " 'either',\n",
       " 'elderly',\n",
       " 'electric',\n",
       " 'electrical',\n",
       " 'electricity',\n",
       " 'electronic',\n",
       " 'element',\n",
       " 'elements',\n",
       " 'elevator',\n",
       " 'ellison',\n",
       " 'elon',\n",
       " 'else',\n",
       " 'emails',\n",
       " 'embarrassing',\n",
       " 'embarrassingly',\n",
       " 'embrace',\n",
       " 'emergency',\n",
       " 'emission',\n",
       " 'emits',\n",
       " 'emphasize',\n",
       " 'employees',\n",
       " 'employers',\n",
       " 'en',\n",
       " 'enable',\n",
       " 'enables',\n",
       " 'enabling',\n",
       " 'encountering',\n",
       " 'end',\n",
       " 'endeavor',\n",
       " 'endeavour',\n",
       " 'ends',\n",
       " 'energetic',\n",
       " 'energy',\n",
       " 'engin',\n",
       " ...]"
      ]
     },
     "execution_count": 29,
     "metadata": {},
     "output_type": "execute_result"
    }
   ],
   "source": [
    "words=set()\n",
    "for i in new_df['removed stop words']:\n",
    "    words=words.union(set(i))\n",
    "words=sorted(list(words))\n",
    "words"
   ]
  },
  {
   "cell_type": "code",
   "execution_count": null,
   "metadata": {},
   "outputs": [],
   "source": []
  }
 ],
 "metadata": {
  "kernelspec": {
   "display_name": "Python 3",
   "language": "python",
   "name": "python3"
  },
  "language_info": {
   "codemirror_mode": {
    "name": "ipython",
    "version": 3
   },
   "file_extension": ".py",
   "mimetype": "text/x-python",
   "name": "python",
   "nbconvert_exporter": "python",
   "pygments_lexer": "ipython3",
   "version": "3.10.6 (main, Nov 14 2022, 16:10:14) [GCC 11.3.0]"
  },
  "orig_nbformat": 4,
  "vscode": {
   "interpreter": {
    "hash": "916dbcbb3f70747c44a77c7bcd40155683ae19c65e1c03b4aa3499c5328201f1"
   }
  }
 },
 "nbformat": 4,
 "nbformat_minor": 2
}
